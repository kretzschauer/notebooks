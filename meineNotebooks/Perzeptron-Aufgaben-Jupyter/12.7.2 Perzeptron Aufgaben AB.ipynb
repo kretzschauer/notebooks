{
 "cells": [
  {
   "cell_type": "markdown",
   "metadata": {},
   "source": [
    "# Perzeptron: Klassifikation Tiere\n",
    "Quelle: inf-schule.de, Kapitel [12.7.2](https://inf-schule.de/gesellschaft/kuenstliche-intelligenz/perzeptron_als_kuenstliches_neuron), Aufgaben 1 bis 4 <img src=\"Perzeptron_Klassifikation_Tier.png\" width=\"400\" style=\"float:right\">"
   ]
  },
  {
   "cell_type": "markdown",
   "metadata": {},
   "source": [
    "## Definiere ein Perzeptron mit Gewicht $\\vec{w}=(1,0.5)^T$ und Schwellenwert $\\Theta = 2$\n",
    "Genauer: Schreibe eine Python Funktion perceptron(a),\n",
    " welche als Paramter a einen Numpy-Vektor erhält und 1 bzw. 0 zurückgibt, je nachdem ob das Perzeptron feuert oder nicht."
   ]
  },
  {
   "cell_type": "code",
   "execution_count": 1,
   "metadata": {},
   "outputs": [],
   "source": [
    "import numpy as np\n",
    "import matplotlib.pyplot as plt"
   ]
  },
  {
   "cell_type": "code",
   "execution_count": 6,
   "metadata": {},
   "outputs": [
    {
     "name": "stdout",
     "output_type": "stream",
     "text": [
      "Tiere  [[3.  0. ]\n",
      " [0.  3. ]\n",
      " [0.5 2. ]\n",
      " [2.  0.5]\n",
      " [4.  0. ]\n",
      " [1.  1. ]\n",
      " [1.5 0.5]\n",
      " [2.  2. ]\n",
      " [1.  2. ]\n",
      " [0.5 0.7]\n",
      " [0.7 0.3]]\n",
      "Gewichte  [1.  0.5]\n",
      "Summen:  [3.   1.5  1.5  2.25 4.   1.5  1.75 3.   2.   0.85 0.85]\n"
     ]
    }
   ],
   "source": [
    "tiere= np.array([[3,0],[0,3],[0.5,2],[2,0.5],[4,0],[1,1],[1.5,0.5],[2,2],[1,2],[0.5,0.7],[0.7,0.3]])\n",
    "print(\"Tiere \",tiere)\n",
    "gewichte=np.array([1,0.5])\n",
    "schwelle=2\n",
    "print(\"Gewichte \",gewichte)\n",
    "summen=np.dot(tiere,gewichte)\n",
    "\n",
    "print(\"Summen: \",summen)\n",
    "gefahr = [1 if x>=schwelle else 0 for x in summen]\n",
    "# https://stackoverflow.com/questions/4406389/if-else-in-a-list-comprehension/4406399\n",
    "\n",
    "pts=(zip(tiere, gefahr))\n",
    "#for p in pts:    print(p)"
   ]
  },
  {
   "cell_type": "markdown",
   "metadata": {},
   "source": [
    "# Aufgabe 1:\n",
    "Klassifiziere die folgenden Tiere mit dem oben definierten Perzeptron ($w_1= 1, w_2=0,5, \\Theta=2$) nach ihrer Gefährlichkeit. Die Eingabewerte der Tiere werden jeweils in Vektorform\n",
    "$\\vec{x} = \\left(\\begin{array}{ll} x_1  \\\\ x_2 \\end{array}\\right)$\n",
    "geschrieben:\n",
    "\n",
    "\\begin{eqnarray}\n",
    "\\vec{a} = \\left(\\begin{array}{ll} 3  \\\\ 0 \\end{array}\\right)\\qquad\n",
    "\\vec{b} = \\left(\\begin{array}{ll} 0  \\\\ 3 \\end{array}\\right)\\qquad\n",
    "\\vec{c} = \\left(\\begin{array}{ll} 0,5  \\\\ 2 \\end{array}\\right)\\qquad\n",
    "\\vec{d} = \\left(\\begin{array}{ll} 2  \\\\ 0,5 \\end{array}\\right)\\qquad \\nonumber\n",
    "\\end{eqnarray}\n"
   ]
  },
  {
   "cell_type": "code",
   "execution_count": 3,
   "metadata": {},
   "outputs": [
    {
     "name": "stdout",
     "output_type": "stream",
     "text": [
      "Summen:  2.0\n"
     ]
    },
    {
     "data": {
      "text/plain": [
       "1"
      ]
     },
     "execution_count": 3,
     "metadata": {},
     "output_type": "execute_result"
    }
   ],
   "source": [
    "def klassifiziere(tier,gewichte,schwelle):\n",
    "    tier=np.array(tier)\n",
    "    summe=np.dot(tier,gewichte)\n",
    "    print(\"Summen: \",summe)\n",
    "    if summe>=schwelle:return 1\n",
    "    else: return 0\n",
    "    \n",
    "klassifiziere([1,2],gewichte,2)"
   ]
  },
  {
   "cell_type": "markdown",
   "metadata": {},
   "source": [
    "# Aufgabe 2:\n",
    "Die Punkte A, B, C, D, E, F sollen Tiere symbolisieren, die nach ihrer Gefährlichkeit klassifiziert werden sollen.  \n",
    "Klassifiziere die Tiere mit dem oben definierten Perzeptron ($w_1= 1, w_2=0,5, \\Theta=2$) nach ihrer Gefährlichkeit. Gib jeweils drei weitere Beispiele für gefährliche Tiere und für ungefährliche Tiere an.\n",
    "<img src=\"aufgabe_klassifikation_tiere_anhand_diagramm.png\" width=\"300\" style=\"float:right\">"
   ]
  },
  {
   "cell_type": "code",
   "execution_count": 7,
   "metadata": {},
   "outputs": [
    {
     "data": {
      "image/png": "[encoded data removed]",
      "text/plain": [
       "<Figure size 432x288 with 1 Axes>"
      ]
     },
     "metadata": {
      "needs_background": "light"
     },
     "output_type": "display_data"
    }
   ],
   "source": [
    "%matplotlib inline \n",
    "import matplotlib.cm as cm\n",
    "fig, ax1 = plt.subplots()\n",
    "colors = [\"green\",\"red\"]\n",
    "for y, c in zip(tiere, gefahr):\n",
    "    plt.scatter( y[0],y[1], color=colors[c])\n",
    "ax1.set_title('gefährliche Tiere')\n",
    "ax1.set_ylabel('Augengröße')  # Add an x-label to the axes.\n",
    "ax1.set_xlabel('Zahngröße')  # Add a y-label to the axes.\n",
    "\n",
    "xs=np.linspace(0, schwelle, 5, endpoint=True)\n",
    "ys= schwelle/gewichte[1]-xs*gewichte[0]/gewichte[1]\n",
    "\n",
    "ax1.plot(xs, ys, label=\"Trenngerade\",color=\"blue\")\n",
    "ax1.legend()\n",
    "ax1.grid(True)"
   ]
  },
  {
   "cell_type": "markdown",
   "metadata": {},
   "source": [
    "# Aufgabe 3\n",
    "Implementiere das oben definierte Perzepron zur Klassifikation von Tieren in Python. (Tipp: Verwende die Python-Biblithek NumPy)\n"
   ]
  },
  {
   "cell_type": "code",
   "execution_count": null,
   "metadata": {},
   "outputs": [],
   "source": []
  },
  {
   "cell_type": "markdown",
   "metadata": {},
   "source": [
    "# Aufgabe 4:\n",
    "Stelle Tiere aus Aufgabe 2 graphisch dar.\n",
    "Rot: gefährlich\n",
    "Grün: Ungefährlich\n",
    "<img src=\"aufgabe_klassifikation_tiere_anhand_diagramm.png\" width=\"300\" style=\"float:right\">"
   ]
  },
  {
   "cell_type": "code",
   "execution_count": null,
   "metadata": {
    "scrolled": false
   },
   "outputs": [],
   "source": []
  }
 ],
 "metadata": {
  "kernelspec": {
   "display_name": "Python 3",
   "language": "python",
   "name": "python3"
  },
  "language_info": {
   "codemirror_mode": {
    "name": "ipython",
    "version": 3
   },
   "file_extension": ".py",
   "mimetype": "text/x-python",
   "name": "python",
   "nbconvert_exporter": "python",
   "pygments_lexer": "ipython3",
   "version": "3.8.2"
  }
 },
 "nbformat": 4,
 "nbformat_minor": 2
}
