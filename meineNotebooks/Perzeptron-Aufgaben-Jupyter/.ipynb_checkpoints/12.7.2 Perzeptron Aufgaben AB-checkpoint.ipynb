{
 "cells": [
  {
   "cell_type": "markdown",
   "metadata": {},
   "source": [
    "# Perzeptron: Klassifikation Tiere\n",
    "Quelle: inf-schule.de, Kapitel [12.7.2](https://inf-schule.de/gesellschaft/kuenstliche-intelligenz/perzeptron_als_kuenstliches_neuron), Aufgaben 1 bis 4 <img src=\"Perzeptron_Klassifikation_Tier.png\" width=\"400\" style=\"float:right\">"
   ]
  },
  {
   "cell_type": "markdown",
   "metadata": {},
   "source": [
    "## Definiere ein Perzeptron mit Gewicht $\\vec{w}=(1,0.5)^T$ und Schwellenwert $\\Theta = 2$\n",
    "Genauer: Schreibe eine Python Funktion perceptron(a),\n",
    " welche als Paramter a einen Numpy-Vektor erhält und 1 bzw. 0 zurückgibt, je nachdem ob das Perzeptron feuert oder nicht."
   ]
  },
  {
   "cell_type": "code",
   "execution_count": 1,
   "metadata": {},
   "outputs": [],
   "source": [
    "import numpy as np"
   ]
  },
  {
   "cell_type": "code",
   "execution_count": 13,
   "metadata": {},
   "outputs": [
    {
     "name": "stdout",
     "output_type": "stream",
     "text": [
      "Tiere  [[3.  0. ]\n",
      " [0.  3. ]\n",
      " [0.5 2. ]\n",
      " [2.  0.5]]\n",
      "Gewichte  [1.  0.5]\n",
      "Summen:  [3.   1.5  1.5  2.25]\n",
      "[1, 0, 0, 1]\n"
     ]
    }
   ],
   "source": [
    "tiere= np.array([[3,0],[0,3],[0.5,2],[2,0.5]])\n",
    "print(\"Tiere \",tiere)\n",
    "gewichte=np.array([1,0.5])\n",
    "schwelle=2\n",
    "print(\"Gewichte \",gewichte)\n",
    "summen=np.dot(tiere,gewichte)\n",
    "\n",
    "print(\"Summen: \",summen)\n",
    "gefahr = [1 if x>=schwelle else 0 for x in summen]\n",
    "# https://stackoverflow.com/questions/4406389/if-else-in-a-list-comprehension/4406399\n",
    "print(gefahr)"
   ]
  },
  {
   "cell_type": "markdown",
   "metadata": {},
   "source": [
    "# Aufgabe 1:\n",
    "Klassifiziere die folgenden Tiere mit dem oben definierten Perzeptron ($w_1= 1, w_2=0,5, \\Theta=2$) nach ihrer Gefährlichkeit. Die Eingabewerte der Tiere werden jeweils in Vektorform\n",
    "$\\vec{x} = \\left(\\begin{array}{ll} x_1  \\\\ x_2 \\end{array}\\right)$\n",
    "geschrieben:\n",
    "\n",
    "\\begin{eqnarray}\n",
    "\\vec{a} = \\left(\\begin{array}{ll} 3  \\\\ 0 \\end{array}\\right)\\qquad\n",
    "\\vec{b} = \\left(\\begin{array}{ll} 0  \\\\ 3 \\end{array}\\right)\\qquad\n",
    "\\vec{c} = \\left(\\begin{array}{ll} 0,5  \\\\ 2 \\end{array}\\right)\\qquad\n",
    "\\vec{d} = \\left(\\begin{array}{ll} 2  \\\\ 0,5 \\end{array}\\right)\\qquad \\nonumber\n",
    "\\end{eqnarray}\n"
   ]
  },
  {
   "cell_type": "code",
   "execution_count": null,
   "metadata": {},
   "outputs": [],
   "source": []
  },
  {
   "cell_type": "markdown",
   "metadata": {},
   "source": [
    "# Aufgabe 2:\n",
    "Die Punkte A, B, C, D, E, F sollen Tiere symbolisieren, die nach ihrer Gefährlichkeit klassifiziert werden sollen.  \n",
    "Klassifiziere die Tiere mit dem oben definierten Perzeptron ($w_1= 1, w_2=0,5, \\Theta=2$) nach ihrer Gefährlichkeit. Gib jeweils drei weitere Beispiele für gefährliche Tiere und für ungefährliche Tiere an.\n",
    "<img src=\"aufgabe_klassifikation_tiere_anhand_diagramm.png\" width=\"300\" style=\"float:right\">"
   ]
  },
  {
   "cell_type": "code",
   "execution_count": null,
   "metadata": {},
   "outputs": [],
   "source": [
    "t2=np.array([[0,3]])"
   ]
  },
  {
   "cell_type": "markdown",
   "metadata": {},
   "source": [
    "# Aufgabe 3\n",
    "Implementiere das oben definierte Perzepron zur Klassifikation von Tieren in Python. (Tipp: Verwende die Python-Biblithek NumPy)\n"
   ]
  },
  {
   "cell_type": "code",
   "execution_count": 3,
   "metadata": {},
   "outputs": [
    {
     "ename": "SyntaxError",
     "evalue": "invalid syntax (<ipython-input-3-bd0f49649c71>, line 1)",
     "output_type": "error",
     "traceback": [
      "\u001b[1;36m  File \u001b[1;32m\"<ipython-input-3-bd0f49649c71>\"\u001b[1;36m, line \u001b[1;32m1\u001b[0m\n\u001b[1;33m    Hier bereits geschehen, siehe Aufgabe 2.\u001b[0m\n\u001b[1;37m         ^\u001b[0m\n\u001b[1;31mSyntaxError\u001b[0m\u001b[1;31m:\u001b[0m invalid syntax\n"
     ]
    }
   ],
   "source": []
  },
  {
   "cell_type": "markdown",
   "metadata": {},
   "source": [
    "<img src=\"aufgabe_klassifikation_tiere_anhand_diagramm.png\" width=\"300\" style=\"float:right\">\n",
    "# Aufgabe 4:\n",
    "Stelle Tiere aus Aufgabe 2 graphisch dar.\n",
    "Rot: gefährlich\n",
    "Grün: Ungefährlich"
   ]
  },
  {
   "cell_type": "code",
   "execution_count": null,
   "metadata": {
    "scrolled": false
   },
   "outputs": [],
   "source": []
  }
 ],
 "metadata": {
  "kernelspec": {
   "display_name": "Python 3",
   "language": "python",
   "name": "python3"
  },
  "language_info": {
   "codemirror_mode": {
    "name": "ipython",
    "version": 3
   },
   "file_extension": ".py",
   "mimetype": "text/x-python",
   "name": "python",
   "nbconvert_exporter": "python",
   "pygments_lexer": "ipython3",
   "version": "3.8.2"
  }
 },
 "nbformat": 4,
 "nbformat_minor": 2
}
