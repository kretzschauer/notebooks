{
 "cells": [
  {
   "cell_type": "markdown",
   "metadata": {
    "id": "W2TBIAmXHUES",
    "colab_type": "text"
   },
   "source": [
    "# Automated Machine Learning with Auto-Keras"
   ]
  },
  {
   "cell_type": "markdown",
   "metadata": {
    "id": "K3BcRKp4Bv2P",
    "colab_type": "text"
   },
   "source": [
    "## Imports and Version Selection"
   ]
  },
  {
   "cell_type": "code",
   "execution_count": 0,
   "metadata": {
    "colab_type": "code",
    "id": "PRNIed8V-Rry",
    "outputId": "eec587a6-be2a-4266-a802-d446323a6280",
    "colab": {
     "base_uri": "https://localhost:8080/",
     "height": 91.0
    }
   },
   "outputs": [
    {
     "name": "stdout",
     "output_type": "stream",
     "text": [
      "WARNING:tensorflow:From <ipython-input-2-ddeacd343d3d>:5: is_gpu_available (from tensorflow.python.framework.test_util) is deprecated and will be removed in a future version.\n",
      "Instructions for updating:\n",
      "Use `tf.config.list_physical_devices('GPU')` instead.\n"
     ]
    }
   ],
   "source": [
    "# TensorFlow ≥2.0 is required\n",
    "import tensorflow as tf\n",
    "from tensorflow import keras\n",
    "assert tf.__version__ >= \"2.0\"\n",
    "\n",
    "if not tf.test.is_gpu_available():\n",
    "    print(\"No GPU was detected. CNNs can be very slow without a GPU.\")\n",
    "    if IS_COLAB:\n",
    "        print(\"Go to Runtime > Change runtime and select a GPU hardware accelerator.\")\n"
   ]
  },
  {
   "cell_type": "code",
   "execution_count": 0,
   "metadata": {
    "colab_type": "code",
    "id": "ZO6p-aRv99m-",
    "outputId": "af945252-4a68-4615-ec08-7c36e44eb5d5",
    "colab": {
     "base_uri": "https://localhost:8080/",
     "height": 235.0
    }
   },
   "outputs": [
    {
     "name": "stdout",
     "output_type": "stream",
     "text": [
      "Requirement already up-to-date: deeplearning2020 in /usr/local/lib/python3.6/dist-packages (0.4.18)\n",
      "Requirement already satisfied, skipping upgrade: kerasltisubmission>=0.4.9 in /usr/local/lib/python3.6/dist-packages (from deeplearning2020) (0.4.9)\n",
      "Requirement already satisfied, skipping upgrade: numpy in /usr/local/lib/python3.6/dist-packages (from kerasltisubmission>=0.4.9->deeplearning2020) (1.18.2)\n",
      "Requirement already satisfied, skipping upgrade: requests in /usr/local/lib/python3.6/dist-packages (from kerasltisubmission>=0.4.9->deeplearning2020) (2.21.0)\n",
      "Requirement already satisfied, skipping upgrade: progressbar2 in /usr/local/lib/python3.6/dist-packages (from kerasltisubmission>=0.4.9->deeplearning2020) (3.38.0)\n",
      "Requirement already satisfied, skipping upgrade: urllib3<1.25,>=1.21.1 in /usr/local/lib/python3.6/dist-packages (from requests->kerasltisubmission>=0.4.9->deeplearning2020) (1.24.3)\n",
      "Requirement already satisfied, skipping upgrade: idna<2.9,>=2.5 in /usr/local/lib/python3.6/dist-packages (from requests->kerasltisubmission>=0.4.9->deeplearning2020) (2.8)\n",
      "Requirement already satisfied, skipping upgrade: certifi>=2017.4.17 in /usr/local/lib/python3.6/dist-packages (from requests->kerasltisubmission>=0.4.9->deeplearning2020) (2019.11.28)\n",
      "Requirement already satisfied, skipping upgrade: chardet<3.1.0,>=3.0.2 in /usr/local/lib/python3.6/dist-packages (from requests->kerasltisubmission>=0.4.9->deeplearning2020) (3.0.4)\n",
      "Requirement already satisfied, skipping upgrade: python-utils>=2.3.0 in /usr/local/lib/python3.6/dist-packages (from progressbar2->kerasltisubmission>=0.4.9->deeplearning2020) (2.4.0)\n",
      "Requirement already satisfied, skipping upgrade: six in /usr/local/lib/python3.6/dist-packages (from progressbar2->kerasltisubmission>=0.4.9->deeplearning2020) (1.12.0)\n"
     ]
    }
   ],
   "source": [
    "import numpy as np\n",
    "import matplotlib.pyplot as plt\n",
    "import tensorflow as tf\n",
    "import tensorflow_datasets as tfds\n",
    "import numpy as np\n",
    "from tensorflow.keras.datasets import mnist\n",
    "from tensorflow.keras.layers import Dense, Activation, Input, Dropout, Conv2D, MaxPooling2D, Flatten\n",
    "from tensorflow.keras.models import Model\n",
    "import matplotlib.pyplot as plt\n",
    "\n",
    "!pip install --upgrade deeplearning2020\n",
    "from deeplearning2020 import helpers\n",
    "\n",
    "# jupyters magic command\n",
    "%matplotlib inline"
   ]
  },
  {
   "cell_type": "code",
   "execution_count": 0,
   "metadata": {
    "colab_type": "code",
    "id": "cFMqXEbU99nb",
    "colab": {}
   },
   "outputs": [],
   "source": [
    ""
   ]
  },
  {
   "cell_type": "markdown",
   "metadata": {
    "id": "y_bDm2PzB-_A",
    "colab_type": "text"
   },
   "source": [
    "## Loading and Preprocessing"
   ]
  },
  {
   "cell_type": "code",
   "execution_count": 0,
   "metadata": {
    "colab_type": "code",
    "id": "3L0mN6fs99nJ",
    "outputId": "b0feb6d2-baff-4337-bfde-1c6d0291f22c",
    "colab": {
     "base_uri": "https://localhost:8080/",
     "height": 89.0
    }
   },
   "outputs": [
    {
     "name": "stdout",
     "output_type": "stream",
     "text": [
      "dataset size:  3670\n",
      "class names:  ['dandelion', 'daisy', 'tulips', 'sunflowers', 'roses']\n",
      "number of classes:  5\n",
      "<DatasetV1Adapter shapes: ((224, 224, 3), (5,)), types: (tf.float32, tf.float32)>\n"
     ]
    }
   ],
   "source": [
    "# download the dataset with labels and with information about the data\n",
    "data, info = tfds.load(\"tf_flowers\", as_supervised=True, with_info=True)\n",
    "\n",
    "# print the most important information\n",
    "dataset_size = info.splits['train'].num_examples\n",
    "print('dataset size: ', dataset_size)\n",
    "class_names = info.features['label'].names\n",
    "print('class names: ', class_names)\n",
    "n_classes = info.features['label'].num_classes\n",
    "print('number of classes: ', n_classes)\n",
    "\n",
    "# resize the images to a uniform size\n",
    "def preprocess(image, label):\n",
    "  resized_image = tf.image.resize(image, [224, 224])\n",
    "  resized_image /= 255\n",
    "\n",
    "  # one-hot encode the labels, because autokeras needs this form\n",
    "  label = tf.one_hot(label, n_classes)\n",
    "  return resized_image, label\n",
    "\n",
    "batch_size = 32\n",
    "\n",
    "try:\n",
    "  train_data = tfds.load('tf_flowers', split=\"train[:80%]\", as_supervised=True)\n",
    "  test_data = tfds.load('tf_flowers', split=\"train[80%:100%]\", as_supervised=True)\n",
    "  train_data = train_data.shuffle(1000).map(preprocess)\n",
    "  test_data = test_data.map(preprocess)\n",
    "except(Exception):\n",
    "  # split the data into train and test data with a 8:2 ratio\n",
    "  train_split, test_split = tfds.Split.TRAIN.subsplit([8, 2])\n",
    "  train_data = tfds.load('tf_flowers', split=train_split, as_supervised=True)\n",
    "  test_data = tfds.load('tf_flowers', split=test_split, as_supervised=True)\n",
    "  train_data = train_data.shuffle(1000).map(preprocess)\n",
    "  test_data = test_data.map(preprocess)\n",
    "\n",
    "print(train_data)\n",
    "# convert tf.dataset to numpy array\n",
    "# X, y, X_test, y_test = helpers.dataset_to_ndarray(train_data, test_data)\n",
    "\n",
    "# X = X/255.0\n",
    "# X_test = X_test/255.0"
   ]
  },
  {
   "cell_type": "markdown",
   "metadata": {
    "id": "PFOeGXdTCZBj",
    "colab_type": "text"
   },
   "source": [
    "## Additional necessary import"
   ]
  },
  {
   "cell_type": "code",
   "execution_count": 0,
   "metadata": {
    "colab_type": "code",
    "id": "kzPVsPlS99np",
    "outputId": "4ec4d5ec-c2de-4d88-9a3f-61add3c41d3f",
    "colab": {
     "base_uri": "https://localhost:8080/",
     "height": 433.0
    }
   },
   "outputs": [
    {
     "name": "stdout",
     "output_type": "stream",
     "text": [
      "Requirement already satisfied: autokeras in /usr/local/lib/python3.6/dist-packages (1.0.2)\n",
      "Requirement already satisfied: pandas in /usr/local/lib/python3.6/dist-packages (from autokeras) (1.0.3)\n",
      "Requirement already satisfied: numpy in /usr/local/lib/python3.6/dist-packages (from autokeras) (1.18.2)\n",
      "Requirement already satisfied: packaging in /usr/local/lib/python3.6/dist-packages (from autokeras) (20.3)\n",
      "Requirement already satisfied: keras-tuner>=1.0.1 in /usr/local/lib/python3.6/dist-packages (from autokeras) (1.0.1)\n",
      "Requirement already satisfied: scikit-learn in /usr/local/lib/python3.6/dist-packages (from autokeras) (0.22.2.post1)\n",
      "Requirement already satisfied: pytz>=2017.2 in /usr/local/lib/python3.6/dist-packages (from pandas->autokeras) (2018.9)\n",
      "Requirement already satisfied: python-dateutil>=2.6.1 in /usr/local/lib/python3.6/dist-packages (from pandas->autokeras) (2.8.1)\n",
      "Requirement already satisfied: pyparsing>=2.0.2 in /usr/local/lib/python3.6/dist-packages (from packaging->autokeras) (2.4.6)\n",
      "Requirement already satisfied: six in /usr/local/lib/python3.6/dist-packages (from packaging->autokeras) (1.12.0)\n",
      "Requirement already satisfied: terminaltables in /usr/local/lib/python3.6/dist-packages (from keras-tuner>=1.0.1->autokeras) (3.1.0)\n",
      "Requirement already satisfied: tqdm in /usr/local/lib/python3.6/dist-packages (from keras-tuner>=1.0.1->autokeras) (4.38.0)\n",
      "Requirement already satisfied: tabulate in /usr/local/lib/python3.6/dist-packages (from keras-tuner>=1.0.1->autokeras) (0.8.7)\n",
      "Requirement already satisfied: colorama in /usr/local/lib/python3.6/dist-packages (from keras-tuner>=1.0.1->autokeras) (0.4.3)\n",
      "Requirement already satisfied: requests in /usr/local/lib/python3.6/dist-packages (from keras-tuner>=1.0.1->autokeras) (2.21.0)\n",
      "Requirement already satisfied: scipy in /usr/local/lib/python3.6/dist-packages (from keras-tuner>=1.0.1->autokeras) (1.4.1)\n",
      "Requirement already satisfied: future in /usr/local/lib/python3.6/dist-packages (from keras-tuner>=1.0.1->autokeras) (0.16.0)\n",
      "Requirement already satisfied: joblib>=0.11 in /usr/local/lib/python3.6/dist-packages (from scikit-learn->autokeras) (0.14.1)\n",
      "Requirement already satisfied: idna<2.9,>=2.5 in /usr/local/lib/python3.6/dist-packages (from requests->keras-tuner>=1.0.1->autokeras) (2.8)\n",
      "Requirement already satisfied: certifi>=2017.4.17 in /usr/local/lib/python3.6/dist-packages (from requests->keras-tuner>=1.0.1->autokeras) (2019.11.28)\n",
      "Requirement already satisfied: chardet<3.1.0,>=3.0.2 in /usr/local/lib/python3.6/dist-packages (from requests->keras-tuner>=1.0.1->autokeras) (3.0.4)\n",
      "Requirement already satisfied: urllib3<1.25,>=1.21.1 in /usr/local/lib/python3.6/dist-packages (from requests->keras-tuner>=1.0.1->autokeras) (1.24.3)\n"
     ]
    }
   ],
   "source": [
    "!pip install autokeras\n",
    "import autokeras as ak"
   ]
  },
  {
   "cell_type": "markdown",
   "metadata": {
    "id": "21Mr6U7KChWj",
    "colab_type": "text"
   },
   "source": [
    "## Definition and Training"
   ]
  },
  {
   "cell_type": "code",
   "execution_count": 0,
   "metadata": {
    "colab_type": "code",
    "id": "cGgLOgDq99nv",
    "colab": {}
   },
   "outputs": [],
   "source": [
    "clf = ak.ImageClassifier(max_trials=10)"
   ]
  },
  {
   "cell_type": "code",
   "execution_count": 0,
   "metadata": {
    "colab_type": "code",
    "id": "qJlQ6jbn99nz",
    "colab": {}
   },
   "outputs": [],
   "source": [
    "# Auto-Keras often has a lot of bugs, so don't be surprised in case it doesn't work as expected\n",
    "clf.fit(train_data)"
   ]
  },
  {
   "cell_type": "markdown",
   "metadata": {
    "id": "lGIDqn2nCpQp",
    "colab_type": "text"
   },
   "source": [
    "## Validierung"
   ]
  },
  {
   "cell_type": "code",
   "execution_count": 0,
   "metadata": {
    "colab_type": "code",
    "id": "jT2AhmMU99n6",
    "colab": {}
   },
   "outputs": [],
   "source": [
    "clf.evaluate(test_data)"
   ]
  },
  {
   "cell_type": "code",
   "execution_count": 0,
   "metadata": {
    "id": "AJtPHlucHoci",
    "colab_type": "code",
    "colab": {}
   },
   "outputs": [],
   "source": [
    ""
   ]
  }
 ],
 "metadata": {
  "accelerator": "GPU",
  "colab": {
   "name": "4.8 Automated Machine Learning.ipynb",
   "provenance": [],
   "collapsed_sections": [
    "ChA9nDuqB33I"
   ],
   "machine_shape": "hm"
  },
  "kernelspec": {
   "name": "python3",
   "display_name": "Python 3"
  }
 },
 "nbformat": 4,
 "nbformat_minor": 0
}
