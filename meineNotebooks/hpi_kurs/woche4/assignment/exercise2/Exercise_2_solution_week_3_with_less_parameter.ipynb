{
  "nbformat": 4,
  "nbformat_minor": 0,
  "metadata": {
    "accelerator": "GPU",
    "colab": {
      "name": "Exercise 2 - solution week 3 with less parameter",
      "provenance": [],
      "collapsed_sections": [],
      "machine_shape": "hm"
    },
    "kernelspec": {
      "name": "python3",
      "display_name": "Python 3"
    }
  },
  "cells": [
    {
      "cell_type": "markdown",
      "metadata": {
        "id": "ntOuL-4wHtZ9",
        "colab_type": "text"
      },
      "source": [
        "# Lösung Übung 2 - Woche 3 und 4\n",
        "\n",
        "Mit dem Wissen aus Woche 3 konnte man noch keine sehr zufriedenstellenden Ergebnisse erzielen. Das Problem hierbei war das schnelle Overfitting auf die Daten, da Dropout noch nicht bekannt war und auch Batch Normalization erst in Woche 4 vorgestellt wurde.\n",
        "\n",
        "Da alle Bilder Hunde zeigen, die sich nicht so einfach voneinander unterscheiden lassen wie die Klassen im ImageNette Datensatz, war hier eine Genauigkeit von 40-50% zu erreichen.\n",
        "\n",
        "Dieses Notebook stellt keine optimale Lösung dar, soll euch aber zeigen, welches grobe Netz gewählt werden kann.\n"
      ]
    },
    {
      "cell_type": "code",
      "metadata": {
        "id": "BlNuB2X7JSK6",
        "colab_type": "code",
        "colab": {}
      },
      "source": [
        "%tensorflow_version 2.x"
      ],
      "execution_count": 0,
      "outputs": []
    },
    {
      "cell_type": "code",
      "metadata": {
        "colab_type": "code",
        "id": "PRNIed8V-Rry",
        "outputId": "94a4c760-0bfe-4378-a793-6cd8d3810308",
        "colab": {
          "base_uri": "https://localhost:8080/",
          "height": 90
        }
      },
      "source": [
        "# TensorFlow ≥2.0 is required\n",
        "import tensorflow as tf\n",
        "from tensorflow import keras\n",
        "assert tf.__version__ >= \"2.0\"\n",
        "\n",
        "if not tf.test.is_gpu_available():\n",
        "    print(\"No GPU was detected. CNNs can be very slow without a GPU.\")\n",
        "    if IS_COLAB:\n",
        "        print(\"Go to Runtime > Change runtime and select a GPU hardware accelerator.\")\n"
      ],
      "execution_count": 0,
      "outputs": [
        {
          "output_type": "stream",
          "text": [
            "WARNING:tensorflow:From <ipython-input-2-ddeacd343d3d>:5: is_gpu_available (from tensorflow.python.framework.test_util) is deprecated and will be removed in a future version.\n",
            "Instructions for updating:\n",
            "Use `tf.config.list_physical_devices('GPU')` instead.\n"
          ],
          "name": "stdout"
        }
      ]
    },
    {
      "cell_type": "code",
      "metadata": {
        "colab_type": "code",
        "id": "ZO6p-aRv99m-",
        "colab": {}
      },
      "source": [
        "import numpy as np\n",
        "import matplotlib.pyplot as plt\n",
        "import tensorflow as tf\n",
        "import tensorflow_datasets as tfds\n",
        "import numpy as np\n",
        "from tensorflow.keras.datasets import mnist\n",
        "from tensorflow.keras.layers import Dense, Activation, Input, \\\n",
        "  Dropout, Conv2D, MaxPooling2D, Flatten\n",
        "from tensorflow.keras.models import Model\n",
        "import matplotlib.pyplot as plt\n",
        "from scipy.stats import reciprocal\n",
        "from sklearn.model_selection import GridSearchCV, RandomizedSearchCV\n",
        "\n",
        "# jupyters magic command\n",
        "%matplotlib inline"
      ],
      "execution_count": 0,
      "outputs": []
    },
    {
      "cell_type": "code",
      "metadata": {
        "id": "B0de0EjqZ6i7",
        "colab_type": "code",
        "outputId": "b7dfb44d-1154-431d-c553-fee6b3594c34",
        "colab": {
          "base_uri": "https://localhost:8080/",
          "height": 464
        }
      },
      "source": [
        "!pip install --upgrade deeplearning2020"
      ],
      "execution_count": 0,
      "outputs": [
        {
          "output_type": "stream",
          "text": [
            "Collecting deeplearning2020\n",
            "  Using cached https://files.pythonhosted.org/packages/3a/7f/6fee39d7590f4ae20a976131b1920d56a3dee138c208dfcb3959cd8c5275/deeplearning2020-0.4.21.tar.gz\n",
            "Collecting kerasltisubmission>=0.4.9\n",
            "\u001b[?25l  Downloading https://files.pythonhosted.org/packages/de/56/0b6adef8e6f5d89e9daa68e03d00850509f1553ce6303c0a49d7c619dd26/kerasltisubmission-0.4.9.tar.gz (392kB)\n",
            "\u001b[K     |████████████████████████████████| 399kB 2.7MB/s \n",
            "\u001b[?25hRequirement already satisfied, skipping upgrade: numpy in /usr/local/lib/python3.6/dist-packages (from kerasltisubmission>=0.4.9->deeplearning2020) (1.18.2)\n",
            "Requirement already satisfied, skipping upgrade: progressbar2 in /usr/local/lib/python3.6/dist-packages (from kerasltisubmission>=0.4.9->deeplearning2020) (3.38.0)\n",
            "Requirement already satisfied, skipping upgrade: requests in /usr/local/lib/python3.6/dist-packages (from kerasltisubmission>=0.4.9->deeplearning2020) (2.21.0)\n",
            "Requirement already satisfied, skipping upgrade: six in /usr/local/lib/python3.6/dist-packages (from progressbar2->kerasltisubmission>=0.4.9->deeplearning2020) (1.12.0)\n",
            "Requirement already satisfied, skipping upgrade: python-utils>=2.3.0 in /usr/local/lib/python3.6/dist-packages (from progressbar2->kerasltisubmission>=0.4.9->deeplearning2020) (2.4.0)\n",
            "Requirement already satisfied, skipping upgrade: certifi>=2017.4.17 in /usr/local/lib/python3.6/dist-packages (from requests->kerasltisubmission>=0.4.9->deeplearning2020) (2020.4.5.1)\n",
            "Requirement already satisfied, skipping upgrade: idna<2.9,>=2.5 in /usr/local/lib/python3.6/dist-packages (from requests->kerasltisubmission>=0.4.9->deeplearning2020) (2.8)\n",
            "Requirement already satisfied, skipping upgrade: chardet<3.1.0,>=3.0.2 in /usr/local/lib/python3.6/dist-packages (from requests->kerasltisubmission>=0.4.9->deeplearning2020) (3.0.4)\n",
            "Requirement already satisfied, skipping upgrade: urllib3<1.25,>=1.21.1 in /usr/local/lib/python3.6/dist-packages (from requests->kerasltisubmission>=0.4.9->deeplearning2020) (1.24.3)\n",
            "Building wheels for collected packages: deeplearning2020, kerasltisubmission\n",
            "  Building wheel for deeplearning2020 (setup.py) ... \u001b[?25l\u001b[?25hdone\n",
            "  Created wheel for deeplearning2020: filename=deeplearning2020-0.4.21-py2.py3-none-any.whl size=8548 sha256=3740e5214b18b412ab1a57b565f83e587987f6be5fa3767ac37af8148ff4dd21\n",
            "  Stored in directory: /root/.cache/pip/wheels/7f/c2/8a/f9f03fc839999f1fe9d5e5a9d2c97cdd5cb8329f61f82ea2c9\n",
            "  Building wheel for kerasltisubmission (setup.py) ... \u001b[?25l\u001b[?25hdone\n",
            "  Created wheel for kerasltisubmission: filename=kerasltisubmission-0.4.9-py2.py3-none-any.whl size=8867 sha256=948fc65cf0ceb33effb8f564be7b4b3f24df80460b058083bc6a967fe4dae660\n",
            "  Stored in directory: /root/.cache/pip/wheels/fd/61/f7/09171376b25408ae21b58e98c9fbf2eb924f676bb77659f983\n",
            "Successfully built deeplearning2020 kerasltisubmission\n",
            "Installing collected packages: kerasltisubmission, deeplearning2020\n",
            "Successfully installed deeplearning2020-0.4.21 kerasltisubmission-0.4.9\n"
          ],
          "name": "stdout"
        }
      ]
    },
    {
      "cell_type": "code",
      "metadata": {
        "id": "Y4f0f8dndDUX",
        "colab_type": "code",
        "outputId": "b8eb72fc-af29-4779-e794-dd8af9d89543",
        "colab": {
          "base_uri": "https://localhost:8080/",
          "height": 124
        }
      },
      "source": [
        "from deeplearning2020.datasets import ImageWoof\n",
        "train_data, test_data, classes= ImageWoof.load_data()\n"
      ],
      "execution_count": 0,
      "outputs": [
        {
          "output_type": "stream",
          "text": [
            "Downloading data from https://s3.amazonaws.com/fast-ai-imageclas/imagewoof2-320.tgz\n",
            "328294400/328288506 [==============================] - 5s 0us/step\n",
            "/root/.keras/datasets/imagewoof2-320/train\n",
            "Loaded 9025 images\n",
            "/root/.keras/datasets/imagewoof2-320/val\n",
            "Loaded 3929 images\n"
          ],
          "name": "stdout"
        }
      ]
    },
    {
      "cell_type": "markdown",
      "metadata": {
        "id": "Fko1-mNnJ3Ji",
        "colab_type": "text"
      },
      "source": [
        "## Loading and Preprocessing the data"
      ]
    },
    {
      "cell_type": "code",
      "metadata": {
        "id": "RDxi995yRt3-",
        "colab_type": "code",
        "colab": {}
      },
      "source": [
        "# resize the images to a uniform size\n",
        "def preprocess(image, label):\n",
        "    resized_image = tf.image.resize(image, [300, 300])\n",
        "    return resized_image, label"
      ],
      "execution_count": 0,
      "outputs": []
    },
    {
      "cell_type": "code",
      "metadata": {
        "colab_type": "code",
        "id": "-aba_6yC99ni",
        "outputId": "a827cb65-918d-4948-c30f-bf072feed617",
        "colab": {
          "base_uri": "https://localhost:8080/",
          "height": 70
        }
      },
      "source": [
        "\n",
        "\n",
        "batch_size = 32\n",
        "print('shape of training data before preprocessing: ', train_data)\n",
        "train_data = train_data.shuffle(1000)\n",
        "\n",
        "\n",
        "train_data = train_data.map(preprocess) \\\n",
        "  .batch(batch_size).prefetch(1)\n",
        "test_data = test_data.map(preprocess) \\\n",
        "  .batch(batch_size).prefetch(1)\n",
        "print('shape of training data after preprocessing: ', train_data)\n",
        "print('shape of test data after preprocessing: ', test_data)"
      ],
      "execution_count": 0,
      "outputs": [
        {
          "output_type": "stream",
          "text": [
            "shape of training data before preprocessing:  <ParallelMapDataset shapes: ((None, None, 3), ()), types: (tf.float32, tf.int64)>\n",
            "shape of training data after preprocessing:  <PrefetchDataset shapes: ((None, 300, 300, 3), (None,)), types: (tf.float32, tf.int64)>\n",
            "shape of test data after preprocessing:  <PrefetchDataset shapes: ((None, 300, 300, 3), (None,)), types: (tf.float32, tf.int64)>\n"
          ],
          "name": "stdout"
        }
      ]
    },
    {
      "cell_type": "markdown",
      "metadata": {
        "id": "NnHSt3CVwrrP",
        "colab_type": "text"
      },
      "source": [
        "# Architektur des Netzes"
      ]
    },
    {
      "cell_type": "code",
      "metadata": {
        "id": "Hik8RBJpwvvC",
        "colab_type": "code",
        "outputId": "d55f547a-727a-4b6d-ebe8-d6a7ad00f588",
        "colab": {
          "base_uri": "https://localhost:8080/",
          "height": 799
        }
      },
      "source": [
        "# model\n",
        "learning_rate=0.001\n",
        "momentum=0.9\n",
        "dense_neurons=300\n",
        "n_filters=300\n",
        "first_kernel_size=(7,7)\n",
        "\n",
        "activation='elu'\n",
        "\n",
        "# input size of images must be 300x300 with RGB color\n",
        "input_layer = Input(shape=(300, 300, 3))\n",
        "\n",
        "# Convolutional Neural Network\n",
        "# It consists of 5 stacked Convolutional Layers with Max Pooling\n",
        "model = Conv2D(\n",
        "    filters=256,\n",
        "    kernel_size=(7,7),\n",
        "    activation=activation\n",
        ")(input_layer)\n",
        "model = MaxPooling2D((2,2))(model)\n",
        "\n",
        "model = Conv2D(\n",
        "    filters = 256, \n",
        "    kernel_size=(3,3), \n",
        "    activation=activation\n",
        ")(model)\n",
        "model = MaxPooling2D((2,2))(model)\n",
        "\n",
        "model = Conv2D(\n",
        "    filters = n_filters, \n",
        "    kernel_size=(3,3), \n",
        "    activation=activation\n",
        ")(model)\n",
        "model = MaxPooling2D((2,2))(model)\n",
        "\n",
        "model = Conv2D(\n",
        "    filters = n_filters, \n",
        "    kernel_size=(3,3), \n",
        "    activation=activation\n",
        ")(model)\n",
        "model = MaxPooling2D((2,2))(model)\n",
        "\n",
        "model = Conv2D(filters = n_filters, \n",
        "  kernel_size=(3,3), \n",
        "  activation=activation, \n",
        "  padding='same'\n",
        ")(model)\n",
        "model = MaxPooling2D((2,2))(model)\n",
        "\n",
        "model = Conv2D(filters = n_filters, \n",
        "  kernel_size=(3,3), \n",
        "  activation=activation, \n",
        "  padding='same'\n",
        ")(model)\n",
        "model = MaxPooling2D((2,2))(model)\n",
        "\n",
        "model = Conv2D(filters = n_filters, \n",
        "  kernel_size=(3,3), \n",
        "  activation=activation, \n",
        "  padding='same'\n",
        ")(model)\n",
        "\n",
        "# Fully-Connected-Classifier\n",
        "model = Flatten()(model)\n",
        "model = Dense(\n",
        "    dense_neurons,\n",
        "    activation=activation\n",
        ")(model)\n",
        "\n",
        "model = Dense(\n",
        "    dense_neurons / 2,\n",
        "    activation='tanh'\n",
        ")(model)\n",
        "\n",
        "# Output Layer\n",
        "output = Dense(10, activation=\"softmax\")(model)\n",
        "\n",
        "model = Model(input_layer, output)\n",
        "\n",
        "# Compiling model\n",
        "optimizer = keras.optimizers.SGD(lr=learning_rate, momentum=momentum)\n",
        "model.compile(\n",
        "    loss=\"sparse_categorical_crossentropy\",\n",
        "    optimizer=optimizer,\n",
        "    metrics=[\"accuracy\"]\n",
        ")\n",
        "model.summary()"
      ],
      "execution_count": 0,
      "outputs": [
        {
          "output_type": "stream",
          "text": [
            "Model: \"model\"\n",
            "_________________________________________________________________\n",
            "Layer (type)                 Output Shape              Param #   \n",
            "=================================================================\n",
            "input_1 (InputLayer)         [(None, 300, 300, 3)]     0         \n",
            "_________________________________________________________________\n",
            "conv2d (Conv2D)              (None, 294, 294, 256)     37888     \n",
            "_________________________________________________________________\n",
            "max_pooling2d (MaxPooling2D) (None, 147, 147, 256)     0         \n",
            "_________________________________________________________________\n",
            "conv2d_1 (Conv2D)            (None, 145, 145, 256)     590080    \n",
            "_________________________________________________________________\n",
            "max_pooling2d_1 (MaxPooling2 (None, 72, 72, 256)       0         \n",
            "_________________________________________________________________\n",
            "conv2d_2 (Conv2D)            (None, 70, 70, 300)       691500    \n",
            "_________________________________________________________________\n",
            "max_pooling2d_2 (MaxPooling2 (None, 35, 35, 300)       0         \n",
            "_________________________________________________________________\n",
            "conv2d_3 (Conv2D)            (None, 33, 33, 300)       810300    \n",
            "_________________________________________________________________\n",
            "max_pooling2d_3 (MaxPooling2 (None, 16, 16, 300)       0         \n",
            "_________________________________________________________________\n",
            "conv2d_4 (Conv2D)            (None, 16, 16, 300)       810300    \n",
            "_________________________________________________________________\n",
            "max_pooling2d_4 (MaxPooling2 (None, 8, 8, 300)         0         \n",
            "_________________________________________________________________\n",
            "conv2d_5 (Conv2D)            (None, 8, 8, 300)         810300    \n",
            "_________________________________________________________________\n",
            "max_pooling2d_5 (MaxPooling2 (None, 4, 4, 300)         0         \n",
            "_________________________________________________________________\n",
            "conv2d_6 (Conv2D)            (None, 4, 4, 300)         810300    \n",
            "_________________________________________________________________\n",
            "flatten (Flatten)            (None, 4800)              0         \n",
            "_________________________________________________________________\n",
            "dense (Dense)                (None, 300)               1440300   \n",
            "_________________________________________________________________\n",
            "dense_1 (Dense)              (None, 150)               45150     \n",
            "_________________________________________________________________\n",
            "dense_2 (Dense)              (None, 10)                1510      \n",
            "=================================================================\n",
            "Total params: 6,047,628\n",
            "Trainable params: 6,047,628\n",
            "Non-trainable params: 0\n",
            "_________________________________________________________________\n"
          ],
          "name": "stdout"
        }
      ]
    },
    {
      "cell_type": "code",
      "metadata": {
        "id": "G9J5rOK-w2qA",
        "colab_type": "code",
        "outputId": "348becf3-7f7a-4f44-8793-ae723c50ba63",
        "colab": {
          "base_uri": "https://localhost:8080/",
          "height": 551
        }
      },
      "source": [
        "# Train the model\n",
        "history = model.fit(\n",
        "    train_data,\n",
        "    epochs=15,\n",
        "    validation_data = test_data\n",
        ")"
      ],
      "execution_count": 0,
      "outputs": [
        {
          "output_type": "stream",
          "text": [
            "Epoch 1/15\n",
            "283/283 [==============================] - 113s 399ms/step - loss: 2.1682 - accuracy: 0.1942 - val_loss: 2.0215 - val_accuracy: 0.2502\n",
            "Epoch 2/15\n",
            "283/283 [==============================] - 112s 394ms/step - loss: 1.9786 - accuracy: 0.2811 - val_loss: 1.9793 - val_accuracy: 0.3016\n",
            "Epoch 3/15\n",
            "283/283 [==============================] - 112s 394ms/step - loss: 1.8698 - accuracy: 0.3341 - val_loss: 1.9048 - val_accuracy: 0.3288\n",
            "Epoch 4/15\n",
            "283/283 [==============================] - 112s 394ms/step - loss: 1.7857 - accuracy: 0.3603 - val_loss: 1.8539 - val_accuracy: 0.3439\n",
            "Epoch 5/15\n",
            "283/283 [==============================] - 112s 394ms/step - loss: 1.7294 - accuracy: 0.3921 - val_loss: 1.8808 - val_accuracy: 0.3319\n",
            "Epoch 6/15\n",
            "283/283 [==============================] - 112s 394ms/step - loss: 1.6594 - accuracy: 0.4158 - val_loss: 1.8020 - val_accuracy: 0.3645\n",
            "Epoch 7/15\n",
            "283/283 [==============================] - 112s 394ms/step - loss: 1.5652 - accuracy: 0.4545 - val_loss: 1.8003 - val_accuracy: 0.3719\n",
            "Epoch 8/15\n",
            "283/283 [==============================] - 112s 394ms/step - loss: 1.4509 - accuracy: 0.5020 - val_loss: 1.7324 - val_accuracy: 0.3968\n",
            "Epoch 9/15\n",
            "283/283 [==============================] - 112s 394ms/step - loss: 1.3172 - accuracy: 0.5496 - val_loss: 1.7248 - val_accuracy: 0.4095\n",
            "Epoch 10/15\n",
            "283/283 [==============================] - 111s 394ms/step - loss: 1.1649 - accuracy: 0.6141 - val_loss: 1.8458 - val_accuracy: 0.3808\n",
            "Epoch 11/15\n",
            "283/283 [==============================] - 111s 394ms/step - loss: 0.9949 - accuracy: 0.6633 - val_loss: 1.9777 - val_accuracy: 0.3797\n",
            "Epoch 12/15\n",
            "283/283 [==============================] - 111s 394ms/step - loss: 0.8317 - accuracy: 0.7292 - val_loss: 1.9196 - val_accuracy: 0.3876\n",
            "Epoch 13/15\n",
            "283/283 [==============================] - 111s 394ms/step - loss: 0.6560 - accuracy: 0.7927 - val_loss: 1.9906 - val_accuracy: 0.3970\n",
            "Epoch 14/15\n",
            "283/283 [==============================] - 111s 394ms/step - loss: 0.3921 - accuracy: 0.8955 - val_loss: 2.1114 - val_accuracy: 0.4085\n",
            "Epoch 15/15\n",
            "283/283 [==============================] - 112s 394ms/step - loss: 0.1657 - accuracy: 0.9733 - val_loss: 2.1912 - val_accuracy: 0.4212\n"
          ],
          "name": "stdout"
        }
      ]
    }
  ]
}