{
 "cells": [
  {
   "cell_type": "markdown",
   "metadata": {
    "colab_type": "text",
    "id": "BcaAys-RFK1H"
   },
   "source": [
    "# Praxis - Loss Functions\n",
    "\n",
    "In diesem Notebook werden verschiedene Loss Functions anhand des MNIST Datensatzes verglichen"
   ]
  },
  {
   "cell_type": "code",
   "execution_count": 0,
   "metadata": {
    "colab": {
     "base_uri": "https://localhost:8080/",
     "height": 107
    },
    "colab_type": "code",
    "id": "anAbuY1-dzbZ",
    "outputId": "defa8f5a-60b4-4718-8bf7-12c7af021434"
   },
   "outputs": [
    {
     "name": "stdout",
     "output_type": "stream",
     "text": [
      "`%tensorflow_version` only switches the major version: 1.x or 2.x.\n",
      "You set: `2.x # Command für Google Colab für Tensorflow 2`. This will be interpreted as: `2.x`.\n",
      "\n",
      "\n",
      "TensorFlow 2.x selected.\n"
     ]
    }
   ],
   "source": [
    "%tensorflow_version 2.x # Command für Google Colab für Tensorflow 2"
   ]
  },
  {
   "cell_type": "code",
   "execution_count": 1,
   "metadata": {
    "colab": {},
    "colab_type": "code",
    "id": "BYKdhdArMixR"
   },
   "outputs": [],
   "source": [
    "# TensorFlow and tf.keras\n",
    "import tensorflow as tf\n",
    "from tensorflow import keras\n",
    "import numpy as np\n",
    "import matplotlib.pyplot as plt"
   ]
  },
  {
   "cell_type": "markdown",
   "metadata": {
    "colab_type": "text",
    "id": "jVw0FcWMFWJL"
   },
   "source": [
    "## Laden des MNIST Datensatzes\n",
    "\n",
    "Wie aus der Vorwoche bekannt"
   ]
  },
  {
   "cell_type": "code",
   "execution_count": 6,
   "metadata": {
    "colab": {
     "base_uri": "https://localhost:8080/",
     "height": 53
    },
    "colab_type": "code",
    "id": "HrkKkPW2OIfB",
    "outputId": "f13d31a3-3f57-48b4-ae65-5ec0ae49ae45"
   },
   "outputs": [],
   "source": [
    "(train_images, train_labels), (test_images, test_labels) = keras \\\n",
    "  .datasets.mnist.load_data()"
   ]
  },
  {
   "cell_type": "markdown",
   "metadata": {
    "colab_type": "text",
    "id": "ko1WgcnHFc36"
   },
   "source": [
    "#### Hier werden die MNIST Daten normalisiert, dass diese nur noch als Float von 0 bis 1 gespeichert werden"
   ]
  },
  {
   "cell_type": "code",
   "execution_count": 7,
   "metadata": {
    "colab": {},
    "colab_type": "code",
    "id": "6onrRWeHOV8b"
   },
   "outputs": [],
   "source": [
    "train_images = train_images / 255.0\n",
    "test_images = test_images / 255.0"
   ]
  },
  {
   "cell_type": "markdown",
   "metadata": {
    "colab_type": "text",
    "id": "JI4GOesYFlQK"
   },
   "source": [
    "## Definition der Modelle \n",
    "\n",
    "Die Modelle können über die Funktion get_model() erzeugt werden und bestehn aus 2 Dense Layers mit Relu und Sigmoid Funktion"
   ]
  },
  {
   "cell_type": "code",
   "execution_count": 8,
   "metadata": {
    "colab": {},
    "colab_type": "code",
    "id": "EEvwJtk7Oppm"
   },
   "outputs": [],
   "source": [
    "def get_model():\n",
    "  return keras.Sequential([\n",
    "    keras.layers.Flatten(input_shape=(28, 28)),\n",
    "    keras.layers.Dense(128, activation='relu'),\n",
    "    keras.layers.Dense(10, activation='sigmoid')\n",
    "  ])\n",
    "\n",
    "model_mse = get_model() # Modell mit Mean Squared Error Loss\n",
    "model_cce =  get_model() # Modell mit Categorical Crossentropy\n",
    "model_scce = get_model() # Modell mit Sparse Categorical Crossentropy"
   ]
  },
  {
   "cell_type": "markdown",
   "metadata": {
    "colab_type": "text",
    "id": "YlusPtyTGSZJ"
   },
   "source": [
    "## Kompilieren der Modelle\n",
    "\n",
    "Für jedes der Modelle wird Stochastic Gradient Descent als Optimizer verwendet und die jeweils zum Modell passende Loss Funktion\n",
    "\n",
    "Dies wird in der `model.compile()` Funktion festgelegt"
   ]
  },
  {
   "cell_type": "code",
   "execution_count": 9,
   "metadata": {
    "colab": {},
    "colab_type": "code",
    "id": "mjC8UAqUOyZ6"
   },
   "outputs": [],
   "source": [
    "optimizer = 'sgd'\n",
    "\n",
    "model_mse.compile(\n",
    "    optimizer=optimizer,\n",
    "    loss='mean_squared_error',\n",
    "    metrics=['accuracy']\n",
    ")\n",
    "model_cce.compile(\n",
    "    optimizer=optimizer,\n",
    "    loss='categorical_crossentropy',\n",
    "    metrics=['accuracy']\n",
    ")\n",
    "model_scce.compile(\n",
    "    optimizer=optimizer,\n",
    "    loss='sparse_categorical_crossentropy',\n",
    "    metrics=['accuracy']\n",
    ")\n"
   ]
  },
  {
   "cell_type": "markdown",
   "metadata": {
    "colab_type": "text",
    "id": "B-uJ3o-hGp3V"
   },
   "source": [
    "## Trainiern der Modelle\n",
    "\n",
    "Dabei werden die Trainigsergebnisse in der history List gespeichert. \n",
    "\n",
    "Für das Training mit der Sparse Categorical Crossentropy müssen die Daten nicht geändert weden. Deswegen kann hier schon mit `model.fit()` trainiert werden. Dabei wird gleich ein Validierungsdatensatz festgelegt.\n",
    "\n",
    "Die anderen beiden Modell werden der models List hinzugefügt, um diese Trainieren zu können. "
   ]
  },
  {
   "cell_type": "code",
   "execution_count": 10,
   "metadata": {
    "colab": {
     "base_uri": "https://localhost:8080/",
     "height": 575
    },
    "colab_type": "code",
    "id": "ZKT-Fn5-GsSg",
    "outputId": "cc63b78a-40b9-44bb-a175-e57eb8baedb7"
   },
   "outputs": [
    {
     "name": "stdout",
     "output_type": "stream",
     "text": [
      "Epoch 1/15\n",
      "1875/1875 [==============================] - 5s 2ms/step - loss: 1.0137 - accuracy: 0.7362 - val_loss: 0.3525 - val_accuracy: 0.9063\n",
      "Epoch 2/15\n",
      "1875/1875 [==============================] - 3s 2ms/step - loss: 0.3519 - accuracy: 0.9032 - val_loss: 0.2868 - val_accuracy: 0.9216\n",
      "Epoch 3/15\n",
      "1875/1875 [==============================] - 5s 2ms/step - loss: 0.2941 - accuracy: 0.9162 - val_loss: 0.2570 - val_accuracy: 0.9259\n",
      "Epoch 4/15\n",
      "1875/1875 [==============================] - 3s 2ms/step - loss: 0.2586 - accuracy: 0.9270 - val_loss: 0.2336 - val_accuracy: 0.9342\n",
      "Epoch 5/15\n",
      "1875/1875 [==============================] - 3s 2ms/step - loss: 0.2337 - accuracy: 0.9336 - val_loss: 0.2127 - val_accuracy: 0.9407\n",
      "Epoch 6/15\n",
      "1875/1875 [==============================] - 3s 2ms/step - loss: 0.2119 - accuracy: 0.9409 - val_loss: 0.1985 - val_accuracy: 0.9439\n",
      "Epoch 7/15\n",
      "1875/1875 [==============================] - 3s 2ms/step - loss: 0.1955 - accuracy: 0.9447 - val_loss: 0.1868 - val_accuracy: 0.9460\n",
      "Epoch 8/15\n",
      "1875/1875 [==============================] - 4s 2ms/step - loss: 0.1791 - accuracy: 0.9498 - val_loss: 0.1756 - val_accuracy: 0.9496\n",
      "Epoch 9/15\n",
      "1875/1875 [==============================] - 4s 2ms/step - loss: 0.1738 - accuracy: 0.9507 - val_loss: 0.1685 - val_accuracy: 0.9518\n",
      "Epoch 10/15\n",
      "1875/1875 [==============================] - 3s 2ms/step - loss: 0.1680 - accuracy: 0.9523 - val_loss: 0.1598 - val_accuracy: 0.9534\n",
      "Epoch 11/15\n",
      "1875/1875 [==============================] - 4s 2ms/step - loss: 0.1520 - accuracy: 0.9571 - val_loss: 0.1526 - val_accuracy: 0.9563\n",
      "Epoch 12/15\n",
      "1875/1875 [==============================] - 4s 2ms/step - loss: 0.1482 - accuracy: 0.9575 - val_loss: 0.1467 - val_accuracy: 0.9563\n",
      "Epoch 13/15\n",
      "1875/1875 [==============================] - 3s 2ms/step - loss: 0.1407 - accuracy: 0.9601 - val_loss: 0.1418 - val_accuracy: 0.9595\n",
      "Epoch 14/15\n",
      "1875/1875 [==============================] - 3s 2ms/step - loss: 0.1370 - accuracy: 0.9617 - val_loss: 0.1364 - val_accuracy: 0.9608\n",
      "Epoch 15/15\n",
      "1875/1875 [==============================] - 5s 3ms/step - loss: 0.1266 - accuracy: 0.9657 - val_loss: 0.1328 - val_accuracy: 0.9606\n"
     ]
    }
   ],
   "source": [
    "epochs=15 # Festlegung von 15 Trainigsepochen\n",
    "history = [model_scce.fit(\n",
    "    train_images,\n",
    "    train_labels,\n",
    "    epochs=epochs,\n",
    "    validation_data=(test_images, test_labels),\n",
    "    verbose=True)\n",
    "]\n",
    "models = [model_mse, model_cce]"
   ]
  },
  {
   "cell_type": "markdown",
   "metadata": {
    "colab_type": "text",
    "id": "-FnqQk4kHQxp"
   },
   "source": [
    "### Umwandlung der Labels in Categorical Labels \n",
    "(mehr dazu am Ende des Notebooks) \n",
    "\n",
    "Diese werden für das Training mit den anderen Loss Functions benötigt\n",
    "\n"
   ]
  },
  {
   "cell_type": "code",
   "execution_count": 11,
   "metadata": {
    "colab": {},
    "colab_type": "code",
    "id": "SbkCCvu8Px1s"
   },
   "outputs": [],
   "source": [
    "_train_labels = keras.utils.to_categorical(train_labels, 10)\n",
    "_test_labels = keras.utils.to_categorical(test_labels, 10)"
   ]
  },
  {
   "cell_type": "code",
   "execution_count": 12,
   "metadata": {
    "colab": {
     "base_uri": "https://localhost:8080/",
     "height": 1000
    },
    "colab_type": "code",
    "id": "6QDK4o68O71J",
    "outputId": "bb9a7ec7-b031-4d49-f2cb-e546b0bbc0bb"
   },
   "outputs": [
    {
     "name": "stdout",
     "output_type": "stream",
     "text": [
      "Epoch 1/15\n",
      "1875/1875 [==============================] - 4s 2ms/step - loss: 0.1392 - accuracy: 0.2945 - val_loss: 0.0801 - val_accuracy: 0.5074\n",
      "Epoch 2/15\n",
      "1875/1875 [==============================] - 3s 2ms/step - loss: 0.0775 - accuracy: 0.5178 - val_loss: 0.0682 - val_accuracy: 0.5971\n",
      "Epoch 3/15\n",
      "1875/1875 [==============================] - 4s 2ms/step - loss: 0.0663 - accuracy: 0.6100 - val_loss: 0.0586 - val_accuracy: 0.6755\n",
      "Epoch 4/15\n",
      "1875/1875 [==============================] - 3s 2ms/step - loss: 0.0573 - accuracy: 0.6898 - val_loss: 0.0514 - val_accuracy: 0.7526\n",
      "Epoch 5/15\n",
      "1875/1875 [==============================] - 3s 2ms/step - loss: 0.0508 - accuracy: 0.7576 - val_loss: 0.0460 - val_accuracy: 0.8060\n",
      "Epoch 6/15\n",
      "1875/1875 [==============================] - 3s 2ms/step - loss: 0.0459 - accuracy: 0.8008 - val_loss: 0.0418 - val_accuracy: 0.8288\n",
      "Epoch 7/15\n",
      "1875/1875 [==============================] - 3s 2ms/step - loss: 0.0418 - accuracy: 0.8234 - val_loss: 0.0385 - val_accuracy: 0.8438\n",
      "Epoch 8/15\n",
      "1875/1875 [==============================] - 3s 2ms/step - loss: 0.0387 - accuracy: 0.8359 - val_loss: 0.0359 - val_accuracy: 0.8525\n",
      "Epoch 9/15\n",
      "1875/1875 [==============================] - 3s 2ms/step - loss: 0.0362 - accuracy: 0.8448 - val_loss: 0.0338 - val_accuracy: 0.8593\n",
      "Epoch 10/15\n",
      "1875/1875 [==============================] - 4s 2ms/step - loss: 0.0341 - accuracy: 0.8539 - val_loss: 0.0321 - val_accuracy: 0.8650\n",
      "Epoch 11/15\n",
      "1875/1875 [==============================] - 4s 2ms/step - loss: 0.0329 - accuracy: 0.8545 - val_loss: 0.0307 - val_accuracy: 0.8694\n",
      "Epoch 12/15\n",
      "1875/1875 [==============================] - 3s 2ms/step - loss: 0.0311 - accuracy: 0.8634 - val_loss: 0.0294 - val_accuracy: 0.8722\n",
      "Epoch 13/15\n",
      "1875/1875 [==============================] - 3s 2ms/step - loss: 0.0299 - accuracy: 0.8660 - val_loss: 0.0284 - val_accuracy: 0.8757\n",
      "Epoch 14/15\n",
      "1875/1875 [==============================] - 3s 2ms/step - loss: 0.0292 - accuracy: 0.8673 - val_loss: 0.0275 - val_accuracy: 0.8789\n",
      "Epoch 15/15\n",
      "1875/1875 [==============================] - 4s 2ms/step - loss: 0.0279 - accuracy: 0.8745 - val_loss: 0.0267 - val_accuracy: 0.8814\n",
      "Epoch 1/15\n",
      "1875/1875 [==============================] - 5s 2ms/step - loss: 1.0660 - accuracy: 0.7234 - val_loss: 0.3571 - val_accuracy: 0.9034\n",
      "Epoch 2/15\n",
      "1875/1875 [==============================] - 4s 2ms/step - loss: 0.3519 - accuracy: 0.9035 - val_loss: 0.2901 - val_accuracy: 0.9192\n",
      "Epoch 3/15\n",
      "1875/1875 [==============================] - 4s 2ms/step - loss: 0.2926 - accuracy: 0.9181 - val_loss: 0.2571 - val_accuracy: 0.9283\n",
      "Epoch 4/15\n",
      "1875/1875 [==============================] - 4s 2ms/step - loss: 0.2587 - accuracy: 0.9261 - val_loss: 0.2348 - val_accuracy: 0.9352\n",
      "Epoch 5/15\n",
      "1875/1875 [==============================] - 3s 2ms/step - loss: 0.2372 - accuracy: 0.9329 - val_loss: 0.2185 - val_accuracy: 0.9384\n",
      "Epoch 6/15\n",
      "1875/1875 [==============================] - 4s 2ms/step - loss: 0.2188 - accuracy: 0.9381 - val_loss: 0.2013 - val_accuracy: 0.9443 loss: 0.2188 - accuracy: 0.93\n",
      "Epoch 7/15\n",
      "1875/1875 [==============================] - 5s 2ms/step - loss: 0.2035 - accuracy: 0.9442 - val_loss: 0.1912 - val_accuracy: 0.9463\n",
      "Epoch 8/15\n",
      "1875/1875 [==============================] - 3s 2ms/step - loss: 0.1856 - accuracy: 0.9471 - val_loss: 0.1788 - val_accuracy: 0.9504\n",
      "Epoch 9/15\n",
      "1875/1875 [==============================] - 3s 2ms/step - loss: 0.1763 - accuracy: 0.9513 - val_loss: 0.1722 - val_accuracy: 0.9512\n",
      "Epoch 10/15\n",
      "1875/1875 [==============================] - 3s 2ms/step - loss: 0.1659 - accuracy: 0.9532 - val_loss: 0.1608 - val_accuracy: 0.9547\n",
      "Epoch 11/15\n",
      "1875/1875 [==============================] - 3s 2ms/step - loss: 0.1587 - accuracy: 0.9564 - val_loss: 0.1544 - val_accuracy: 0.9557\n",
      "Epoch 12/15\n",
      "1875/1875 [==============================] - 4s 2ms/step - loss: 0.1466 - accuracy: 0.9594 - val_loss: 0.1465 - val_accuracy: 0.9574\n",
      "Epoch 13/15\n",
      "1875/1875 [==============================] - 4s 2ms/step - loss: 0.1399 - accuracy: 0.9614 - val_loss: 0.1413 - val_accuracy: 0.9584\n",
      "Epoch 14/15\n",
      "1875/1875 [==============================] - 4s 2ms/step - loss: 0.1362 - accuracy: 0.9633 - val_loss: 0.1371 - val_accuracy: 0.9613\n",
      "Epoch 15/15\n",
      "1875/1875 [==============================] - 4s 2ms/step - loss: 0.1313 - accuracy: 0.9639 - val_loss: 0.1326 - val_accuracy: 0.9612\n"
     ]
    }
   ],
   "source": [
    "# Trainieren der anderen beiden Modelle\n",
    "history += [model.fit(train_images, _train_labels, epochs=epochs, validation_data=(test_images, _test_labels), verbose=True) for model in models]"
   ]
  },
  {
   "cell_type": "markdown",
   "metadata": {
    "colab_type": "text",
    "id": "6G3smAfhHh-z"
   },
   "source": [
    "## Plotten der Ergebnisse mit Matplotlib\n",
    "\n",
    "Über `plt.plot` werden die einzelnen Ergebnisse der Modelle in verschiedenen Farben eingebunden."
   ]
  },
  {
   "cell_type": "code",
   "execution_count": 13,
   "metadata": {
    "colab": {
     "base_uri": "https://localhost:8080/",
     "height": 313
    },
    "colab_type": "code",
    "id": "hocTWrYaWBQp",
    "outputId": "331cd12e-4e29-4b03-be23-b6a4638cff8c"
   },
   "outputs": [
    {
     "data": {
      "text/plain": [
       "<module 'matplotlib.pyplot' from 'c:\\\\program files\\\\python38\\\\lib\\\\site-packages\\\\matplotlib\\\\pyplot.py'>"
      ]
     },
     "execution_count": 13,
     "metadata": {},
     "output_type": "execute_result"
    },
    {
     "data": {
      "image/png": "[encoded data removed]",
      "text/plain": [
       "<Figure size 432x288 with 1 Axes>"
      ]
     },
     "metadata": {
      "needs_background": "light"
     },
     "output_type": "display_data"
    }
   ],
   "source": [
    "def plot_learning_curve(ylim=0.6):\n",
    "    plt.figure()\n",
    "    plt.title(\"accuracy comparison\")\n",
    "    axes = plt.gca()\n",
    "    axes.set_ylim([ylim, 1])\n",
    "    plt.xlabel(\"Epoch\")\n",
    "    plt.ylabel(\"Accuracy\")\n",
    "    train_sizes = np.arange(1, 1 + len(history[0].history['accuracy']))\n",
    "    plt.ylim((0,1))\n",
    "    plt.grid()\n",
    "    plt.plot(\n",
    "        train_sizes,\n",
    "        history[0].history['accuracy'],\n",
    "        'o-',\n",
    "        color=(177/255, 6/255, 58/255),\n",
    "        label=\"scce\"\n",
    "    )\n",
    "    plt.plot(\n",
    "        train_sizes,\n",
    "        history[1].history['accuracy'],\n",
    "        'o-',\n",
    "        color=(246/255, 168/255, 0),\n",
    "        label=\"mse\")\n",
    "    \n",
    "    plt.plot(\n",
    "        train_sizes,\n",
    "        history[2].history['accuracy'],\n",
    "        'o-',\n",
    "        color='green',\n",
    "        label=\"cce\"\n",
    "    )\n",
    "\n",
    "    plt.legend(loc=\"best\")\n",
    "    return plt\n",
    "\n",
    "plot_learning_curve()"
   ]
  },
  {
   "cell_type": "markdown",
   "metadata": {
    "colab_type": "text",
    "id": "96qK4pQhNFMG"
   },
   "source": [
    "- scce = Sparse Categorical Crossentropy\n",
    "- cce = Categorical Crossentropy\n",
    "- mse = Mean Squared Error"
   ]
  },
  {
   "cell_type": "markdown",
   "metadata": {
    "colab_type": "text",
    "id": "pvRsmWsOFb-K"
   },
   "source": [
    "# Wann sollte man CategoricalCross Entropy nutzen und wann Sparse Categorical Crossentropy?\n",
    "\n",
    "für `Categorical Cross Entropy` müssen die Labels als Array mit einer 1 am Index der zugehören Klasse vorliegen.\n",
    "\n",
    "\n",
    "für `Sparse Categorical Cross Entropy` müssen die Labels mit Bezeichnung der Ausgangsklasse vorliegen.\n",
    "\n",
    "\n"
   ]
  },
  {
   "cell_type": "code",
   "execution_count": 0,
   "metadata": {
    "colab": {
     "base_uri": "https://localhost:8080/",
     "height": 179
    },
    "colab_type": "code",
    "id": "XK5EupCgf1uP",
    "outputId": "96c6f029-0cbd-475d-ab4b-d906db2b7711"
   },
   "outputs": [
    {
     "name": "stdout",
     "output_type": "stream",
     "text": [
      "Test labels categorical:\n",
      "[[0. 0. 0. 0. 0. 0. 0. 1. 0. 0.]\n",
      " [0. 0. 1. 0. 0. 0. 0. 0. 0. 0.]]\n",
      "Verwendung der categorical_crossentropy gefordert\n",
      "\n",
      "\n",
      "Test labels non categorical:\n",
      "[7 2]\n",
      "Verwendung der sparse_categorical_crossentropy gefordert\n"
     ]
    }
   ],
   "source": [
    "_test_labels = keras.utils.to_categorical(test_labels, 10)\n",
    "\n",
    "print('Test labels categorical:')\n",
    "print(_test_labels[:2])\n",
    "print('Verwendung der categorical_crossentropy gefordert')\n",
    "print('\\n')\n",
    "print('Test labels non categorical:')\n",
    "print(test_labels[:2])\n",
    "print('Verwendung der sparse_categorical_crossentropy gefordert')"
   ]
  },
  {
   "cell_type": "markdown",
   "metadata": {
    "colab_type": "text",
    "id": "rg6Ct_aINTfB"
   },
   "source": [
    "Umwandlung in Categorical Werte:"
   ]
  },
  {
   "cell_type": "code",
   "execution_count": 0,
   "metadata": {
    "colab": {},
    "colab_type": "code",
    "id": "TCkmlbg2GMSw"
   },
   "outputs": [],
   "source": [
    "_test_labels = keras.utils.to_categorical(train_labels, 10)"
   ]
  }
 ],
 "metadata": {
  "accelerator": "GPU",
  "colab": {
   "collapsed_sections": [],
   "name": "3.6.2 - Paxis Loss Functions.ipynb",
   "provenance": []
  },
  "kernelspec": {
   "display_name": "Python 3",
   "language": "python",
   "name": "python3"
  },
  "language_info": {
   "codemirror_mode": {
    "name": "ipython",
    "version": 3
   },
   "file_extension": ".py",
   "mimetype": "text/x-python",
   "name": "python",
   "nbconvert_exporter": "python",
   "pygments_lexer": "ipython3",
   "version": "3.8.2"
  }
 },
 "nbformat": 4,
 "nbformat_minor": 1
}
