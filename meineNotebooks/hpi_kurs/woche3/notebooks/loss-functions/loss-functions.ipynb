{
  "nbformat": 4,
  "nbformat_minor": 0,
  "metadata": {
    "colab": {
      "name": "3.6.2 - Paxis Loss Functions.ipynb",
      "provenance": [],
      "collapsed_sections": []
    },
    "kernelspec": {
      "name": "python3",
      "display_name": "Python 3"
    },
    "accelerator": "GPU"
  },
  "cells": [
    {
      "cell_type": "markdown",
      "metadata": {
        "id": "BcaAys-RFK1H",
        "colab_type": "text"
      },
      "source": [
        "# Praxis - Loss Functions\n",
        "\n",
        "In diesem Notebook werden verschiedene Loss Functions anhand des MNIST Datensatzes verglichen"
      ]
    },
    {
      "cell_type": "code",
      "metadata": {
        "id": "anAbuY1-dzbZ",
        "colab_type": "code",
        "outputId": "defa8f5a-60b4-4718-8bf7-12c7af021434",
        "colab": {
          "base_uri": "https://localhost:8080/",
          "height": 107
        }
      },
      "source": [
        "%tensorflow_version 2.x # Command für Google Colab für Tensorflow 2"
      ],
      "execution_count": 0,
      "outputs": [
        {
          "output_type": "stream",
          "text": [
            "`%tensorflow_version` only switches the major version: 1.x or 2.x.\n",
            "You set: `2.x # Command für Google Colab für Tensorflow 2`. This will be interpreted as: `2.x`.\n",
            "\n",
            "\n",
            "TensorFlow 2.x selected.\n"
          ],
          "name": "stdout"
        }
      ]
    },
    {
      "cell_type": "code",
      "metadata": {
        "id": "BYKdhdArMixR",
        "colab_type": "code",
        "colab": {}
      },
      "source": [
        "# TensorFlow and tf.keras\n",
        "import tensorflow as tf\n",
        "from tensorflow import keras\n",
        "import numpy as np\n",
        "import matplotlib.pyplot as plt"
      ],
      "execution_count": 0,
      "outputs": []
    },
    {
      "cell_type": "markdown",
      "metadata": {
        "id": "jVw0FcWMFWJL",
        "colab_type": "text"
      },
      "source": [
        "## Laden des MNIST Datensatzes\n",
        "\n",
        "Wie aus der Vorwoche bekannt"
      ]
    },
    {
      "cell_type": "code",
      "metadata": {
        "id": "HrkKkPW2OIfB",
        "colab_type": "code",
        "outputId": "f13d31a3-3f57-48b4-ae65-5ec0ae49ae45",
        "colab": {
          "base_uri": "https://localhost:8080/",
          "height": 53
        }
      },
      "source": [
        "(train_images, train_labels), (test_images, test_labels) = keras \\\n",
        "  .datasets.mnist.load_data()"
      ],
      "execution_count": 0,
      "outputs": [
        {
          "output_type": "stream",
          "text": [
            "Downloading data from https://storage.googleapis.com/tensorflow/tf-keras-datasets/mnist.npz\n",
            "11493376/11490434 [==============================] - 0s 0us/step\n"
          ],
          "name": "stdout"
        }
      ]
    },
    {
      "cell_type": "markdown",
      "metadata": {
        "id": "ko1WgcnHFc36",
        "colab_type": "text"
      },
      "source": [
        "#### Hier werden die MNIST Daten normalisiert, dass diese nur noch als Float von 0 bis 1 gespeichert werden"
      ]
    },
    {
      "cell_type": "code",
      "metadata": {
        "id": "6onrRWeHOV8b",
        "colab_type": "code",
        "colab": {}
      },
      "source": [
        "train_images = train_images / 255.0\n",
        "test_images = test_images / 255.0"
      ],
      "execution_count": 0,
      "outputs": []
    },
    {
      "cell_type": "markdown",
      "metadata": {
        "id": "JI4GOesYFlQK",
        "colab_type": "text"
      },
      "source": [
        "## Definition der Modelle \n",
        "\n",
        "Die Modelle können über die Funktion get_model() erzeugt werden und bestehn aus 2 Dense Layers mit Relu und Sigmoid Funktion"
      ]
    },
    {
      "cell_type": "code",
      "metadata": {
        "id": "EEvwJtk7Oppm",
        "colab_type": "code",
        "colab": {}
      },
      "source": [
        "def get_model():\n",
        "  return keras.Sequential([\n",
        "    keras.layers.Flatten(input_shape=(28, 28)),\n",
        "    keras.layers.Dense(128, activation='relu'),\n",
        "    keras.layers.Dense(10, activation='sigmoid')\n",
        "  ])\n",
        "\n",
        "model_mse = get_model() # Modell mit Mean Squared Error Loss\n",
        "model_cce =  get_model() # Modell mit Categorical Crossentropy\n",
        "model_scce = get_model() # Modell mit Sparse Categorical Crossentropy"
      ],
      "execution_count": 0,
      "outputs": []
    },
    {
      "cell_type": "markdown",
      "metadata": {
        "id": "YlusPtyTGSZJ",
        "colab_type": "text"
      },
      "source": [
        "## Kompilieren der Modelle\n",
        "\n",
        "Für jedes der Modelle wird Stochastic Gradient Descent als Optimizer verwendet und die jeweils zum Modell passende Loss Funktion\n",
        "\n",
        "Dies wird in der `model.compile()` Funktion festgelegt"
      ]
    },
    {
      "cell_type": "code",
      "metadata": {
        "id": "mjC8UAqUOyZ6",
        "colab_type": "code",
        "colab": {}
      },
      "source": [
        "optimizer = 'sgd'\n",
        "\n",
        "model_mse.compile(\n",
        "    optimizer=optimizer,\n",
        "    loss='mean_squared_error',\n",
        "    metrics=['accuracy']\n",
        ")\n",
        "model_cce.compile(\n",
        "    optimizer=optimizer,\n",
        "    loss='categorical_crossentropy',\n",
        "    metrics=['accuracy']\n",
        ")\n",
        "model_scce.compile(\n",
        "    optimizer=optimizer,\n",
        "    loss='sparse_categorical_crossentropy',\n",
        "    metrics=['accuracy']\n",
        ")\n"
      ],
      "execution_count": 0,
      "outputs": []
    },
    {
      "cell_type": "markdown",
      "metadata": {
        "id": "B-uJ3o-hGp3V",
        "colab_type": "text"
      },
      "source": [
        "## Trainiern der Modelle\n",
        "\n",
        "Dabei werden die Trainigsergebnisse in der history List gespeichert. \n",
        "\n",
        "Für das Training mit der Sparse Categorical Crossentropy müssen die Daten nicht geändert weden. Deswegen kann hier schon mit `model.fit()` trainiert werden. Dabei wird gleich ein Validierungsdatensatz festgelegt.\n",
        "\n",
        "Die anderen beiden Modell werden der models List hinzugefügt, um diese Trainieren zu können. "
      ]
    },
    {
      "cell_type": "code",
      "metadata": {
        "id": "ZKT-Fn5-GsSg",
        "colab_type": "code",
        "outputId": "cc63b78a-40b9-44bb-a175-e57eb8baedb7",
        "colab": {
          "base_uri": "https://localhost:8080/",
          "height": 575
        }
      },
      "source": [
        "epochs=15 # Festlegung von 15 Trainigsepochen\n",
        "history = [model_scce.fit(\n",
        "    train_images,\n",
        "    train_labels,\n",
        "    epochs=epochs,\n",
        "    validation_data=(test_images, test_labels),\n",
        "    verbose=True)\n",
        "]\n",
        "models = [model_mse, model_cce]"
      ],
      "execution_count": 0,
      "outputs": [
        {
          "output_type": "stream",
          "text": [
            "Train on 60000 samples, validate on 10000 samples\n",
            "Epoch 1/15\n",
            "60000/60000 [==============================] - 7s 110us/sample - loss: 0.8422 - accuracy: 0.7997 - val_loss: 0.3740 - val_accuracy: 0.9018\n",
            "Epoch 2/15\n",
            "60000/60000 [==============================] - 5s 77us/sample - loss: 0.3540 - accuracy: 0.9020 - val_loss: 0.3033 - val_accuracy: 0.9161\n",
            "Epoch 3/15\n",
            "60000/60000 [==============================] - 5s 78us/sample - loss: 0.3019 - accuracy: 0.9147 - val_loss: 0.2689 - val_accuracy: 0.9235\n",
            "Epoch 4/15\n",
            "60000/60000 [==============================] - 5s 77us/sample - loss: 0.2725 - accuracy: 0.9233 - val_loss: 0.2495 - val_accuracy: 0.9300\n",
            "Epoch 5/15\n",
            "60000/60000 [==============================] - 5s 76us/sample - loss: 0.2513 - accuracy: 0.9287 - val_loss: 0.2290 - val_accuracy: 0.9346\n",
            "Epoch 6/15\n",
            "60000/60000 [==============================] - 5s 78us/sample - loss: 0.2338 - accuracy: 0.9338 - val_loss: 0.2187 - val_accuracy: 0.9366\n",
            "Epoch 7/15\n",
            "60000/60000 [==============================] - 5s 80us/sample - loss: 0.2190 - accuracy: 0.9378 - val_loss: 0.2040 - val_accuracy: 0.9423\n",
            "Epoch 8/15\n",
            "60000/60000 [==============================] - 5s 77us/sample - loss: 0.2057 - accuracy: 0.9417 - val_loss: 0.1947 - val_accuracy: 0.9437\n",
            "Epoch 9/15\n",
            "60000/60000 [==============================] - 5s 78us/sample - loss: 0.1940 - accuracy: 0.9452 - val_loss: 0.1861 - val_accuracy: 0.9467\n",
            "Epoch 10/15\n",
            "60000/60000 [==============================] - 5s 78us/sample - loss: 0.1834 - accuracy: 0.9486 - val_loss: 0.1758 - val_accuracy: 0.9480\n",
            "Epoch 11/15\n",
            "60000/60000 [==============================] - 5s 77us/sample - loss: 0.1739 - accuracy: 0.9505 - val_loss: 0.1666 - val_accuracy: 0.9505\n",
            "Epoch 12/15\n",
            "60000/60000 [==============================] - 5s 77us/sample - loss: 0.1654 - accuracy: 0.9533 - val_loss: 0.1643 - val_accuracy: 0.9512\n",
            "Epoch 13/15\n",
            "60000/60000 [==============================] - 5s 78us/sample - loss: 0.1576 - accuracy: 0.9552 - val_loss: 0.1558 - val_accuracy: 0.9536\n",
            "Epoch 14/15\n",
            "60000/60000 [==============================] - 5s 79us/sample - loss: 0.1504 - accuracy: 0.9576 - val_loss: 0.1513 - val_accuracy: 0.9549\n",
            "Epoch 15/15\n",
            "60000/60000 [==============================] - 5s 77us/sample - loss: 0.1439 - accuracy: 0.9597 - val_loss: 0.1445 - val_accuracy: 0.9573\n"
          ],
          "name": "stdout"
        }
      ]
    },
    {
      "cell_type": "markdown",
      "metadata": {
        "id": "-FnqQk4kHQxp",
        "colab_type": "text"
      },
      "source": [
        "### Umwandlung der Labels in Categorical Labels \n",
        "(mehr dazu am Ende des Notebooks) \n",
        "\n",
        "Diese werden für das Training mit den anderen Loss Functions benötigt\n",
        "\n"
      ]
    },
    {
      "cell_type": "code",
      "metadata": {
        "id": "SbkCCvu8Px1s",
        "colab_type": "code",
        "colab": {}
      },
      "source": [
        "_train_labels = keras.utils.to_categorical(train_labels, 10)\n",
        "_test_labels = keras.utils.to_categorical(test_labels, 10)"
      ],
      "execution_count": 0,
      "outputs": []
    },
    {
      "cell_type": "code",
      "metadata": {
        "id": "6QDK4o68O71J",
        "colab_type": "code",
        "outputId": "bb9a7ec7-b031-4d49-f2cb-e546b0bbc0bb",
        "colab": {
          "base_uri": "https://localhost:8080/",
          "height": 1000
        }
      },
      "source": [
        "# Trainieren der anderen beiden Modelle\n",
        "history += [model.fit(train_images, _train_labels, epochs=epochs, validation_data=(test_images, _test_labels), verbose=True) for model in models]"
      ],
      "execution_count": 0,
      "outputs": [
        {
          "output_type": "stream",
          "text": [
            "Train on 60000 samples, validate on 10000 samples\n",
            "Epoch 1/15\n",
            "60000/60000 [==============================] - 5s 81us/sample - loss: 0.0998 - accuracy: 0.3932 - val_loss: 0.0796 - val_accuracy: 0.5636\n",
            "Epoch 2/15\n",
            "60000/60000 [==============================] - 5s 77us/sample - loss: 0.0729 - accuracy: 0.6006 - val_loss: 0.0654 - val_accuracy: 0.6545\n",
            "Epoch 3/15\n",
            "60000/60000 [==============================] - 5s 76us/sample - loss: 0.0608 - accuracy: 0.6780 - val_loss: 0.0552 - val_accuracy: 0.7118\n",
            "Epoch 4/15\n",
            "60000/60000 [==============================] - 5s 77us/sample - loss: 0.0526 - accuracy: 0.7393 - val_loss: 0.0484 - val_accuracy: 0.7775\n",
            "Epoch 5/15\n",
            "60000/60000 [==============================] - 5s 80us/sample - loss: 0.0467 - accuracy: 0.7936 - val_loss: 0.0433 - val_accuracy: 0.8209\n",
            "Epoch 6/15\n",
            "60000/60000 [==============================] - 5s 80us/sample - loss: 0.0423 - accuracy: 0.8205 - val_loss: 0.0394 - val_accuracy: 0.8396\n",
            "Epoch 7/15\n",
            "60000/60000 [==============================] - 5s 77us/sample - loss: 0.0388 - accuracy: 0.8339 - val_loss: 0.0363 - val_accuracy: 0.8530\n",
            "Epoch 8/15\n",
            "60000/60000 [==============================] - 5s 76us/sample - loss: 0.0361 - accuracy: 0.8435 - val_loss: 0.0340 - val_accuracy: 0.8621\n",
            "Epoch 9/15\n",
            "60000/60000 [==============================] - 4s 75us/sample - loss: 0.0340 - accuracy: 0.8509 - val_loss: 0.0320 - val_accuracy: 0.8669\n",
            "Epoch 10/15\n",
            "60000/60000 [==============================] - 4s 74us/sample - loss: 0.0323 - accuracy: 0.8567 - val_loss: 0.0305 - val_accuracy: 0.8718\n",
            "Epoch 11/15\n",
            "60000/60000 [==============================] - 4s 74us/sample - loss: 0.0308 - accuracy: 0.8612 - val_loss: 0.0291 - val_accuracy: 0.8743\n",
            "Epoch 12/15\n",
            "60000/60000 [==============================] - 4s 75us/sample - loss: 0.0296 - accuracy: 0.8651 - val_loss: 0.0280 - val_accuracy: 0.8772\n",
            "Epoch 13/15\n",
            "60000/60000 [==============================] - 5s 75us/sample - loss: 0.0286 - accuracy: 0.8685 - val_loss: 0.0270 - val_accuracy: 0.8800\n",
            "Epoch 14/15\n",
            "60000/60000 [==============================] - 5s 75us/sample - loss: 0.0277 - accuracy: 0.8712 - val_loss: 0.0262 - val_accuracy: 0.8816\n",
            "Epoch 15/15\n",
            "60000/60000 [==============================] - 5s 75us/sample - loss: 0.0269 - accuracy: 0.8738 - val_loss: 0.0254 - val_accuracy: 0.8837\n",
            "Train on 60000 samples, validate on 10000 samples\n",
            "Epoch 1/15\n",
            "60000/60000 [==============================] - 5s 82us/sample - loss: 0.8769 - accuracy: 0.7818 - val_loss: 0.3862 - val_accuracy: 0.8966\n",
            "Epoch 2/15\n",
            "60000/60000 [==============================] - 5s 79us/sample - loss: 0.3586 - accuracy: 0.9016 - val_loss: 0.3081 - val_accuracy: 0.9121\n",
            "Epoch 3/15\n",
            "60000/60000 [==============================] - 5s 82us/sample - loss: 0.3068 - accuracy: 0.9144 - val_loss: 0.2816 - val_accuracy: 0.9213\n",
            "Epoch 4/15\n",
            "60000/60000 [==============================] - 5s 80us/sample - loss: 0.2766 - accuracy: 0.9225 - val_loss: 0.2557 - val_accuracy: 0.9279\n",
            "Epoch 5/15\n",
            "60000/60000 [==============================] - 5s 86us/sample - loss: 0.2541 - accuracy: 0.9291 - val_loss: 0.2375 - val_accuracy: 0.9333\n",
            "Epoch 6/15\n",
            "60000/60000 [==============================] - 5s 81us/sample - loss: 0.2352 - accuracy: 0.9336 - val_loss: 0.2194 - val_accuracy: 0.9371\n",
            "Epoch 7/15\n",
            "60000/60000 [==============================] - 5s 79us/sample - loss: 0.2187 - accuracy: 0.9389 - val_loss: 0.2102 - val_accuracy: 0.9396\n",
            "Epoch 8/15\n",
            "60000/60000 [==============================] - 5s 79us/sample - loss: 0.2041 - accuracy: 0.9433 - val_loss: 0.1986 - val_accuracy: 0.9452\n",
            "Epoch 9/15\n",
            "60000/60000 [==============================] - 5s 77us/sample - loss: 0.1914 - accuracy: 0.9463 - val_loss: 0.1857 - val_accuracy: 0.9478\n",
            "Epoch 10/15\n",
            "60000/60000 [==============================] - 5s 77us/sample - loss: 0.1798 - accuracy: 0.9501 - val_loss: 0.1742 - val_accuracy: 0.9501\n",
            "Epoch 11/15\n",
            "60000/60000 [==============================] - 5s 78us/sample - loss: 0.1694 - accuracy: 0.9529 - val_loss: 0.1711 - val_accuracy: 0.9515\n",
            "Epoch 12/15\n",
            "60000/60000 [==============================] - 5s 79us/sample - loss: 0.1604 - accuracy: 0.9548 - val_loss: 0.1619 - val_accuracy: 0.9546\n",
            "Epoch 13/15\n",
            "60000/60000 [==============================] - 5s 76us/sample - loss: 0.1518 - accuracy: 0.9576 - val_loss: 0.1526 - val_accuracy: 0.9556\n",
            "Epoch 14/15\n",
            "60000/60000 [==============================] - 5s 76us/sample - loss: 0.1444 - accuracy: 0.9598 - val_loss: 0.1448 - val_accuracy: 0.9599\n",
            "Epoch 15/15\n",
            "60000/60000 [==============================] - 5s 77us/sample - loss: 0.1374 - accuracy: 0.9622 - val_loss: 0.1404 - val_accuracy: 0.9606\n"
          ],
          "name": "stdout"
        }
      ]
    },
    {
      "cell_type": "markdown",
      "metadata": {
        "id": "6G3smAfhHh-z",
        "colab_type": "text"
      },
      "source": [
        "## Plotten der Ergebnisse mit Matplotlib\n",
        "\n",
        "Über `plt.plot` werden die einzelnen Ergebnisse der Modelle in verschiedenen Farben eingebunden."
      ]
    },
    {
      "cell_type": "code",
      "metadata": {
        "id": "hocTWrYaWBQp",
        "colab_type": "code",
        "outputId": "331cd12e-4e29-4b03-be23-b6a4638cff8c",
        "colab": {
          "base_uri": "https://localhost:8080/",
          "height": 313
        }
      },
      "source": [
        "def plot_learning_curve(ylim=0.6):\n",
        "    plt.figure()\n",
        "    plt.title(\"accuracy comparison\")\n",
        "    axes = plt.gca()\n",
        "    axes.set_ylim([ylim, 1])\n",
        "    plt.xlabel(\"Epoch\")\n",
        "    plt.ylabel(\"Accuracy\")\n",
        "    train_sizes = np.arange(1, 1 + len(history[0].history['accuracy']))\n",
        "    plt.ylim((0,1))\n",
        "    plt.grid()\n",
        "    plt.plot(\n",
        "        train_sizes,\n",
        "        history[0].history['accuracy'],\n",
        "        'o-',\n",
        "        color=(177/255, 6/255, 58/255),\n",
        "        label=\"scce\"\n",
        "    )\n",
        "    plt.plot(\n",
        "        train_sizes,\n",
        "        history[1].history['accuracy'],\n",
        "        'o-',\n",
        "        color=(246/255, 168/255, 0),\n",
        "        label=\"mse\")\n",
        "    \n",
        "    plt.plot(\n",
        "        train_sizes,\n",
        "        history[2].history['accuracy'],\n",
        "        'o-',\n",
        "        color='green',\n",
        "        label=\"cce\"\n",
        "    )\n",
        "\n",
        "    plt.legend(loc=\"best\")\n",
        "    return plt\n",
        "\n",
        "plot_learning_curve()"
      ],
      "execution_count": 0,
      "outputs": [
        {
          "output_type": "execute_result",
          "data": {
            "text/plain": [
              "<module 'matplotlib.pyplot' from '/usr/local/lib/python3.6/dist-packages/matplotlib/pyplot.py'>"
            ]
          },
          "metadata": {
            "tags": []
          },
          "execution_count": 12
        },
        {
          "output_type": "display_data",
          "data": {
            "image/png": "[encoded data removed]",
            "text/plain": [
              "<Figure size 432x288 with 1 Axes>"
            ]
          },
          "metadata": {
            "tags": []
          }
        }
      ]
    },
    {
      "cell_type": "markdown",
      "metadata": {
        "id": "96qK4pQhNFMG",
        "colab_type": "text"
      },
      "source": [
        "- scce = Sparse Categorical Crossentropy\n",
        "- cce = Categorical Crossentropy\n",
        "- mse = Mean Squared Error"
      ]
    },
    {
      "cell_type": "markdown",
      "metadata": {
        "id": "pvRsmWsOFb-K",
        "colab_type": "text"
      },
      "source": [
        "# Wann sollte man CategoricalCross Entropy nutzen und wann Sparse Categorical Crossentropy?\n",
        "\n",
        "für `Categorical Cross Entropy` müssen die Labels als Array mit einer 1 am Index der zugehören Klasse vorliegen.\n",
        "\n",
        "\n",
        "für `Sparse Categorical Cross Entropy` müssen die Labels mit Bezeichnung der Ausgangsklasse vorliegen.\n",
        "\n",
        "\n"
      ]
    },
    {
      "cell_type": "code",
      "metadata": {
        "id": "XK5EupCgf1uP",
        "colab_type": "code",
        "outputId": "96c6f029-0cbd-475d-ab4b-d906db2b7711",
        "colab": {
          "base_uri": "https://localhost:8080/",
          "height": 179
        }
      },
      "source": [
        "_test_labels = keras.utils.to_categorical(test_labels, 10)\n",
        "\n",
        "print('Test labels categorical:')\n",
        "print(_test_labels[:2])\n",
        "print('Verwendung der categorical_crossentropy gefordert')\n",
        "print('\\n')\n",
        "print('Test labels non categorical:')\n",
        "print(test_labels[:2])\n",
        "print('Verwendung der sparse_categorical_crossentropy gefordert')"
      ],
      "execution_count": 0,
      "outputs": [
        {
          "output_type": "stream",
          "text": [
            "Test labels categorical:\n",
            "[[0. 0. 0. 0. 0. 0. 0. 1. 0. 0.]\n",
            " [0. 0. 1. 0. 0. 0. 0. 0. 0. 0.]]\n",
            "Verwendung der categorical_crossentropy gefordert\n",
            "\n",
            "\n",
            "Test labels non categorical:\n",
            "[7 2]\n",
            "Verwendung der sparse_categorical_crossentropy gefordert\n"
          ],
          "name": "stdout"
        }
      ]
    },
    {
      "cell_type": "markdown",
      "metadata": {
        "id": "rg6Ct_aINTfB",
        "colab_type": "text"
      },
      "source": [
        "Umwandlung in Categorical Werte:"
      ]
    },
    {
      "cell_type": "code",
      "metadata": {
        "id": "TCkmlbg2GMSw",
        "colab_type": "code",
        "colab": {}
      },
      "source": [
        "_test_labels = keras.utils.to_categorical(train_labels, 10)"
      ],
      "execution_count": 0,
      "outputs": []
    }
  ]
}