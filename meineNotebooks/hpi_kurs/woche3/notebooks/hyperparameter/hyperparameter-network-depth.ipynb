{
  "nbformat": 4,
  "nbformat_minor": 0,
  "metadata": {
    "kernelspec": {
      "display_name": "Python [conda env:MOOC] *",
      "language": "python",
      "name": "conda-env-MOOC-py"
    },
    "colab": {
      "name": "3.8.3 Hyperparameter - Tiefe des Netzwerks.ipynb",
      "provenance": [],
      "collapsed_sections": []
    }
  },
  "cells": [
    {
      "cell_type": "markdown",
      "metadata": {
        "id": "TTI_T9M1lY7A",
        "colab_type": "text"
      },
      "source": [
        "# Praxis - Hyperparameter - Tiefe des Netzes\n",
        "\n",
        "Hier wird wieder auf den MNIST Datensatz zurückgegriffen, um den Einfluss der Learning Rate auf die Performance des Netzes zu zeigen"
      ]
    },
    {
      "cell_type": "markdown",
      "metadata": {
        "id": "IOdXv8kLljYP",
        "colab_type": "text"
      },
      "source": [
        "## Import der benötigten Bibliotheken und Klassen"
      ]
    },
    {
      "cell_type": "code",
      "metadata": {
        "id": "00YpulELl1JG",
        "colab_type": "code",
        "outputId": "f9336912-4f4c-4759-eb0e-95eb56f242e3",
        "colab": {
          "base_uri": "https://localhost:8080/",
          "height": 35
        }
      },
      "source": [
        "# magic command for Colab Notebooks\n",
        "%tensorflow_version 2.x"
      ],
      "execution_count": 0,
      "outputs": [
        {
          "output_type": "stream",
          "text": [
            "TensorFlow 2.x selected.\n"
          ],
          "name": "stdout"
        }
      ]
    },
    {
      "cell_type": "code",
      "metadata": {
        "id": "vbaxgN2-VJ6f",
        "colab_type": "code",
        "colab": {}
      },
      "source": [
        "import tensorflow as tf\n",
        "import numpy as np\n",
        "from tensorflow.keras.datasets import mnist\n",
        "from tensorflow.keras.layers import Dense, Activation, Input, Dropout, Conv2D, MaxPooling2D, Flatten\n",
        "from tensorflow.keras.models import Model\n",
        "\n",
        "# jupyters magic command\n",
        "%matplotlib inline"
      ],
      "execution_count": 0,
      "outputs": []
    },
    {
      "cell_type": "markdown",
      "metadata": {
        "id": "zwwx6yPtmawW",
        "colab_type": "text"
      },
      "source": [
        "## Laden des MNIST Datensatzes"
      ]
    },
    {
      "cell_type": "code",
      "metadata": {
        "id": "b9wQ3k5RVJ6u",
        "colab_type": "code",
        "outputId": "149ebd74-f343-4cb3-e75c-e3c2fc8b8d71",
        "colab": {
          "base_uri": "https://localhost:8080/",
          "height": 89
        }
      },
      "source": [
        "(x_train, y_train), (x_test, y_test) = mnist.load_data()\n",
        "print(len(x_train), ' train images found')\n",
        "print(len(x_test), ' test images found')\n"
      ],
      "execution_count": 0,
      "outputs": [
        {
          "output_type": "stream",
          "text": [
            "Downloading data from https://storage.googleapis.com/tensorflow/tf-keras-datasets/mnist.npz\n",
            "11493376/11490434 [==============================] - 0s 0us/step\n",
            "60000  train images found\n",
            "10000  test images found\n"
          ],
          "name": "stdout"
        }
      ]
    },
    {
      "cell_type": "markdown",
      "metadata": {
        "id": "2E-oN8Zdmc7N",
        "colab_type": "text"
      },
      "source": [
        "## Anpassung des MNIST Datensatzes\n",
        "\n",
        "Hier werden für das Training nur 1/7 der Trainingsdaten verwendet"
      ]
    },
    {
      "cell_type": "code",
      "metadata": {
        "id": "RzwEzIn-VJ7U",
        "colab_type": "code",
        "outputId": "d62e49dc-d3fe-4354-d8bb-2bdce9719d1c",
        "colab": {
          "base_uri": "https://localhost:8080/",
          "height": 53
        }
      },
      "source": [
        "# specify count of used images, e.g. if you want to train with less data\n",
        "NUM_PICTURES = len(x_train)//70\n",
        "NUM_TEST_PICTURES = len(y_train)\n",
        "x_train = x_train / 255.0\n",
        "x_test = x_test / 255.0\n",
        "x_train = x_train[:NUM_PICTURES]\n",
        "y_train = y_train[:NUM_PICTURES]\n",
        "x_test = x_test[:NUM_TEST_PICTURES]\n",
        "y_test = y_test[:NUM_TEST_PICTURES]\n",
        "print(len(x_train), ' train images used')\n",
        "print(len(x_test), ' test images used')"
      ],
      "execution_count": 0,
      "outputs": [
        {
          "output_type": "stream",
          "text": [
            "857  train images used\n",
            "10000  test images used\n"
          ],
          "name": "stdout"
        }
      ]
    },
    {
      "cell_type": "markdown",
      "metadata": {
        "id": "krYY5DoWmgGe",
        "colab_type": "text"
      },
      "source": [
        "Da Keras 4D Tensoren für die Verarbeitung erwartet, werden hier die Daten reshaped"
      ]
    },
    {
      "cell_type": "code",
      "metadata": {
        "id": "36uMgie5VJ7e",
        "colab_type": "code",
        "outputId": "27876188-5e83-4afb-c043-14724df57f6b",
        "colab": {
          "base_uri": "https://localhost:8080/",
          "height": 35
        }
      },
      "source": [
        "x_train = np.reshape(x_train, [len(x_train), 28, 28, 1])\n",
        "x_test = np.reshape(x_test, [len(x_test), 28, 28, 1])\n",
        "print('shape: ', x_train.shape)"
      ],
      "execution_count": 0,
      "outputs": [
        {
          "output_type": "stream",
          "text": [
            "shape:  (857, 28, 28, 1)\n"
          ],
          "name": "stdout"
        }
      ]
    },
    {
      "cell_type": "markdown",
      "metadata": {
        "id": "gTL9Ma0tmkU4",
        "colab_type": "text"
      },
      "source": [
        "Um mit der Categorical Crossentropy Funktion zu arbeiten werden die Labels in `categorical` labels umgewandelt"
      ]
    },
    {
      "cell_type": "code",
      "metadata": {
        "id": "fzRX0O8TVJ7o",
        "colab_type": "code",
        "colab": {}
      },
      "source": [
        "# convert class vectors to one-hot-encodings\n",
        "y_train = tf.keras.utils.to_categorical(y_train, 10)\n",
        "y_test = tf.keras.utils.to_categorical(y_test, 10)"
      ],
      "execution_count": 0,
      "outputs": []
    },
    {
      "cell_type": "markdown",
      "metadata": {
        "id": "tdCNNDPWmntF",
        "colab_type": "text"
      },
      "source": [
        "## Helpers\n",
        "\n",
        "## Über das `deeplearning2020` python package stellen wir euch folgende helper Funktionen zur Verfügung:\n",
        "\n",
        "- def plot_learning_curve(title, x, y, y_test, ylim=0.6)\n",
        "- def plot_history(title, history, ylim=0.6)\n",
        "- def plot_images(images, labels)\n",
        "\n",
        "## Zur Nutzung der Funktionen geht ihr folgendermaßen vor:\n"
      ]
    },
    {
      "cell_type": "code",
      "metadata": {
        "id": "6omUuzXDmrqs",
        "colab_type": "code",
        "outputId": "2ce9733f-1937-4154-a532-b1058c89991c",
        "colab": {
          "base_uri": "https://localhost:8080/",
          "height": 449
        }
      },
      "source": [
        "# Importieren der Helper Function\n",
        "!pip install --upgrade deeplearning2020\n",
        "\n",
        "from deeplearning2020 import helpers\n",
        "\n",
        "#helpers.plot_images(image, labels)"
      ],
      "execution_count": 0,
      "outputs": [
        {
          "output_type": "stream",
          "text": [
            "Collecting deeplearning2020\n",
            "  Downloading https://files.pythonhosted.org/packages/ba/fa/67183ce2067c3eaae779cc75b373a52208c74f59a401341593bfb0ec0d08/deeplearning2020-0.4.8.tar.gz\n",
            "Collecting kerasltisubmission>=0.4.5\n",
            "\u001b[?25l  Downloading https://files.pythonhosted.org/packages/56/57/f12f36704127d4a966446a32760f6481df9367b4f4b6a9fea3e9eeac5a04/kerasltisubmission-0.4.5.tar.gz (391kB)\n",
            "\u001b[K     |████████████████████████████████| 399kB 3.8MB/s \n",
            "\u001b[?25hRequirement already satisfied, skipping upgrade: numpy in /usr/local/lib/python3.6/dist-packages (from kerasltisubmission>=0.4.5->deeplearning2020) (1.18.2)\n",
            "Requirement already satisfied, skipping upgrade: progressbar2 in /usr/local/lib/python3.6/dist-packages (from kerasltisubmission>=0.4.5->deeplearning2020) (3.38.0)\n",
            "Requirement already satisfied, skipping upgrade: requests in /usr/local/lib/python3.6/dist-packages (from kerasltisubmission>=0.4.5->deeplearning2020) (2.21.0)\n",
            "Requirement already satisfied, skipping upgrade: python-utils>=2.3.0 in /usr/local/lib/python3.6/dist-packages (from progressbar2->kerasltisubmission>=0.4.5->deeplearning2020) (2.4.0)\n",
            "Requirement already satisfied, skipping upgrade: six in /usr/local/lib/python3.6/dist-packages (from progressbar2->kerasltisubmission>=0.4.5->deeplearning2020) (1.12.0)\n",
            "Requirement already satisfied, skipping upgrade: urllib3<1.25,>=1.21.1 in /usr/local/lib/python3.6/dist-packages (from requests->kerasltisubmission>=0.4.5->deeplearning2020) (1.24.3)\n",
            "Requirement already satisfied, skipping upgrade: idna<2.9,>=2.5 in /usr/local/lib/python3.6/dist-packages (from requests->kerasltisubmission>=0.4.5->deeplearning2020) (2.8)\n",
            "Requirement already satisfied, skipping upgrade: certifi>=2017.4.17 in /usr/local/lib/python3.6/dist-packages (from requests->kerasltisubmission>=0.4.5->deeplearning2020) (2019.11.28)\n",
            "Requirement already satisfied, skipping upgrade: chardet<3.1.0,>=3.0.2 in /usr/local/lib/python3.6/dist-packages (from requests->kerasltisubmission>=0.4.5->deeplearning2020) (3.0.4)\n",
            "Building wheels for collected packages: deeplearning2020, kerasltisubmission\n",
            "  Building wheel for deeplearning2020 (setup.py) ... \u001b[?25l\u001b[?25hdone\n",
            "  Created wheel for deeplearning2020: filename=deeplearning2020-0.4.8-py2.py3-none-any.whl size=6424 sha256=2995b18a578c1eebf51064ee6d2cf454ff0a371c9e1cf41486fb7d915e19e427\n",
            "  Stored in directory: /root/.cache/pip/wheels/e3/b0/4a/8a76f8d4841cbb93d270edd2a88685d7209aef0a08d0af2fc6\n",
            "  Building wheel for kerasltisubmission (setup.py) ... \u001b[?25l\u001b[?25hdone\n",
            "  Created wheel for kerasltisubmission: filename=kerasltisubmission-0.4.5-py2.py3-none-any.whl size=7532 sha256=e1166d2d61924526cd92b088048363f073e32cc3038c9f53195963f048981a0e\n",
            "  Stored in directory: /root/.cache/pip/wheels/17/0e/e3/6022cb4bec452a01b8629e91249cdb917c7c509270bf314a0b\n",
            "Successfully built deeplearning2020 kerasltisubmission\n",
            "Installing collected packages: kerasltisubmission, deeplearning2020\n",
            "Successfully installed deeplearning2020-0.4.8 kerasltisubmission-0.4.5\n"
          ],
          "name": "stdout"
        }
      ]
    },
    {
      "cell_type": "markdown",
      "metadata": {
        "id": "ZEx5cPtrmtnp",
        "colab_type": "text"
      },
      "source": [
        "## Hier wird das Model definiert"
      ]
    },
    {
      "cell_type": "code",
      "metadata": {
        "id": "72JpWCmEVJ7y",
        "colab_type": "code",
        "colab": {}
      },
      "source": [
        "def get_untrained_model(number_filters, number_dense_neurons):\n",
        "    input_layer = Input(shape=(28, 28, 1))\n",
        "\n",
        "    model = Conv2D(filters=number_filters, kernel_size=(3,3), activation=\"relu\")(input_layer)\n",
        "    model = MaxPooling2D((2,2))(model)\n",
        "    model = Conv2D(filters = number_filters, kernel_size=(3,3), activation=\"relu\")(model)\n",
        "    model = MaxPooling2D((2,2))(model)\n",
        "    # model = Dropout(0.25)(model)\n",
        "    model = Flatten()(model)\n",
        "    model = Dense(number_dense_neurons, activation=\"relu\")(model)\n",
        "    # model = Dropout(0.5)(model)\n",
        "\n",
        "    output = Dense(10, activation=\"sigmoid\")(model)\n",
        "    \n",
        "    return Model(input_layer, output)"
      ],
      "execution_count": 0,
      "outputs": []
    },
    {
      "cell_type": "markdown",
      "metadata": {
        "id": "N5fsgVbQmw4f",
        "colab_type": "text"
      },
      "source": [
        "## Hier werden die Models mit verschiedenen Konfigurationen trainiert\n",
        "\n",
        "Dabei werden sowohl die filter_size, als auch die Anzahl der Dense Neuronen geändert\n",
        "\n",
        "Folgende Konfigurationen werden verglichen:\n",
        "- filter_size=32, number_dense_neurons=100\n",
        "- filter_size=2, number_dense_neurons=20\n",
        "- filter_size=1000, number_dense_neurons=1000"
      ]
    },
    {
      "cell_type": "code",
      "metadata": {
        "id": "KnZy6p8EVJ75",
        "colab_type": "code",
        "outputId": "1f36c9dd-ee50-496a-8be3-db13a3fa1f0e",
        "colab": {
          "base_uri": "https://localhost:8080/",
          "height": 449
        }
      },
      "source": [
        "mnist_model = get_untrained_model(32, 100)\n",
        "\n",
        "mnist_model.compile(\n",
        "  optimizer = tf.keras.optimizers.Adam(0.0001), \n",
        "  loss = 'categorical_crossentropy', \n",
        "  metrics = ['accuracy']\n",
        ")\n",
        "\n",
        "\n",
        "mnist_model.summary()"
      ],
      "execution_count": 0,
      "outputs": [
        {
          "output_type": "stream",
          "text": [
            "Model: \"model\"\n",
            "_________________________________________________________________\n",
            "Layer (type)                 Output Shape              Param #   \n",
            "=================================================================\n",
            "input_1 (InputLayer)         [(None, 28, 28, 1)]       0         \n",
            "_________________________________________________________________\n",
            "conv2d (Conv2D)              (None, 26, 26, 32)        320       \n",
            "_________________________________________________________________\n",
            "max_pooling2d (MaxPooling2D) (None, 13, 13, 32)        0         \n",
            "_________________________________________________________________\n",
            "conv2d_1 (Conv2D)            (None, 11, 11, 32)        9248      \n",
            "_________________________________________________________________\n",
            "max_pooling2d_1 (MaxPooling2 (None, 5, 5, 32)          0         \n",
            "_________________________________________________________________\n",
            "flatten (Flatten)            (None, 800)               0         \n",
            "_________________________________________________________________\n",
            "dense (Dense)                (None, 100)               80100     \n",
            "_________________________________________________________________\n",
            "dense_1 (Dense)              (None, 10)                1010      \n",
            "=================================================================\n",
            "Total params: 90,678\n",
            "Trainable params: 90,678\n",
            "Non-trainable params: 0\n",
            "_________________________________________________________________\n"
          ],
          "name": "stdout"
        }
      ]
    },
    {
      "cell_type": "code",
      "metadata": {
        "id": "cTJSWQJeVJ8L",
        "colab_type": "code",
        "outputId": "662dfdd7-3b56-4883-d879-628d75ae3d79",
        "colab": {
          "base_uri": "https://localhost:8080/",
          "height": 395
        }
      },
      "source": [
        "history = mnist_model.fit(x_train, y_train, batch_size = 32, epochs = 10, validation_data = (x_test, y_test))"
      ],
      "execution_count": 0,
      "outputs": [
        {
          "output_type": "stream",
          "text": [
            "Train on 857 samples, validate on 10000 samples\n",
            "Epoch 1/10\n",
            "857/857 [==============================] - 4s 4ms/sample - loss: 2.2853 - accuracy: 0.2112 - val_loss: 2.2640 - val_accuracy: 0.2620\n",
            "Epoch 2/10\n",
            "857/857 [==============================] - 3s 3ms/sample - loss: 2.2443 - accuracy: 0.2835 - val_loss: 2.2190 - val_accuracy: 0.3135\n",
            "Epoch 3/10\n",
            "857/857 [==============================] - 3s 3ms/sample - loss: 2.1841 - accuracy: 0.4002 - val_loss: 2.1418 - val_accuracy: 0.4678\n",
            "Epoch 4/10\n",
            "857/857 [==============================] - 3s 3ms/sample - loss: 2.0781 - accuracy: 0.4959 - val_loss: 2.0074 - val_accuracy: 0.5433\n",
            "Epoch 5/10\n",
            "857/857 [==============================] - 3s 3ms/sample - loss: 1.8862 - accuracy: 0.6149 - val_loss: 1.7462 - val_accuracy: 0.6780\n",
            "Epoch 6/10\n",
            "857/857 [==============================] - 3s 3ms/sample - loss: 1.5090 - accuracy: 0.7690 - val_loss: 1.2878 - val_accuracy: 0.7406\n",
            "Epoch 7/10\n",
            "857/857 [==============================] - 3s 3ms/sample - loss: 1.0435 - accuracy: 0.7993 - val_loss: 0.9320 - val_accuracy: 0.7651\n",
            "Epoch 8/10\n",
            "857/857 [==============================] - 3s 3ms/sample - loss: 0.7583 - accuracy: 0.8390 - val_loss: 0.7212 - val_accuracy: 0.8202\n",
            "Epoch 9/10\n",
            "857/857 [==============================] - 3s 3ms/sample - loss: 0.6112 - accuracy: 0.8436 - val_loss: 0.6318 - val_accuracy: 0.8378\n",
            "Epoch 10/10\n",
            "857/857 [==============================] - 3s 3ms/sample - loss: 0.5352 - accuracy: 0.8623 - val_loss: 0.5693 - val_accuracy: 0.8412\n"
          ],
          "name": "stdout"
        }
      ]
    },
    {
      "cell_type": "code",
      "metadata": {
        "id": "ybih7U0uVJ8T",
        "colab_type": "code",
        "colab": {}
      },
      "source": [
        ""
      ],
      "execution_count": 0,
      "outputs": []
    },
    {
      "cell_type": "code",
      "metadata": {
        "id": "IO1BAltKVJ8a",
        "colab_type": "code",
        "outputId": "1648cd61-c723-44ba-9279-16ce67f46a00",
        "colab": {
          "base_uri": "https://localhost:8080/",
          "height": 395
        }
      },
      "source": [
        "mnist_model_little = get_untrained_model(2, 20)\n",
        "mnist_model_little.compile(optimizer = tf.keras.optimizers.Adam(lr=0.0001), loss = 'categorical_crossentropy', metrics = ['accuracy'])\n",
        "history_little = mnist_model_little.fit(x_train, y_train, batch_size = 32, epochs = 10, validation_data = (x_test, y_test))"
      ],
      "execution_count": 0,
      "outputs": [
        {
          "output_type": "stream",
          "text": [
            "Train on 857 samples, validate on 10000 samples\n",
            "Epoch 1/10\n",
            "857/857 [==============================] - 2s 3ms/sample - loss: 2.3101 - accuracy: 0.0642 - val_loss: 2.3094 - val_accuracy: 0.0619\n",
            "Epoch 2/10\n",
            "857/857 [==============================] - 2s 2ms/sample - loss: 2.3081 - accuracy: 0.0747 - val_loss: 2.3077 - val_accuracy: 0.0729\n",
            "Epoch 3/10\n",
            "857/857 [==============================] - 2s 2ms/sample - loss: 2.3064 - accuracy: 0.0887 - val_loss: 2.3063 - val_accuracy: 0.0830\n",
            "Epoch 4/10\n",
            "857/857 [==============================] - 2s 2ms/sample - loss: 2.3048 - accuracy: 0.0992 - val_loss: 2.3049 - val_accuracy: 0.0957\n",
            "Epoch 5/10\n",
            "857/857 [==============================] - 2s 2ms/sample - loss: 2.3032 - accuracy: 0.1074 - val_loss: 2.3037 - val_accuracy: 0.1047\n",
            "Epoch 6/10\n",
            "857/857 [==============================] - 2s 2ms/sample - loss: 2.3019 - accuracy: 0.1237 - val_loss: 2.3026 - val_accuracy: 0.1145\n",
            "Epoch 7/10\n",
            "857/857 [==============================] - 2s 2ms/sample - loss: 2.3006 - accuracy: 0.1342 - val_loss: 2.3015 - val_accuracy: 0.1248\n",
            "Epoch 8/10\n",
            "857/857 [==============================] - 2s 2ms/sample - loss: 2.2993 - accuracy: 0.1447 - val_loss: 2.3005 - val_accuracy: 0.1313\n",
            "Epoch 9/10\n",
            "857/857 [==============================] - 2s 2ms/sample - loss: 2.2981 - accuracy: 0.1575 - val_loss: 2.2995 - val_accuracy: 0.1398\n",
            "Epoch 10/10\n",
            "857/857 [==============================] - 2s 2ms/sample - loss: 2.2969 - accuracy: 0.1657 - val_loss: 2.2984 - val_accuracy: 0.1492\n"
          ],
          "name": "stdout"
        }
      ]
    },
    {
      "cell_type": "code",
      "metadata": {
        "id": "AoJVOVeWVJ8i",
        "colab_type": "code",
        "outputId": "eb7117c0-7677-4f7a-b385-b2389aba848d",
        "colab": {
          "base_uri": "https://localhost:8080/",
          "height": 395
        }
      },
      "source": [
        "mnist_model_big = get_untrained_model(1000, 1000)\n",
        "mnist_model_big.compile(optimizer = tf.keras.optimizers.Adam(0.0001), loss = 'categorical_crossentropy', metrics = ['accuracy'])\n",
        "history_big = mnist_model_big.fit(x_train, y_train, batch_size = 32, epochs = 10, validation_data = (x_test, y_test))"
      ],
      "execution_count": 0,
      "outputs": [
        {
          "output_type": "stream",
          "text": [
            "Train on 857 samples, validate on 10000 samples\n",
            "Epoch 1/10\n",
            "857/857 [==============================] - 507s 591ms/sample - loss: 1.6682 - accuracy: 0.5146 - val_loss: 0.7197 - val_accuracy: 0.7682\n",
            "Epoch 2/10\n",
            "857/857 [==============================] - 496s 579ms/sample - loss: 0.5481 - accuracy: 0.8401 - val_loss: 0.4660 - val_accuracy: 0.8509\n",
            "Epoch 3/10\n",
            "857/857 [==============================] - 504s 589ms/sample - loss: 0.3411 - accuracy: 0.9067 - val_loss: 0.3092 - val_accuracy: 0.9080\n",
            "Epoch 4/10\n",
            "857/857 [==============================] - 502s 585ms/sample - loss: 0.2006 - accuracy: 0.9428 - val_loss: 0.2650 - val_accuracy: 0.9182\n",
            "Epoch 5/10\n",
            "857/857 [==============================] - 504s 588ms/sample - loss: 0.1336 - accuracy: 0.9627 - val_loss: 0.2300 - val_accuracy: 0.9288\n",
            "Epoch 6/10\n",
            "857/857 [==============================] - 504s 588ms/sample - loss: 0.1133 - accuracy: 0.9673 - val_loss: 0.2462 - val_accuracy: 0.9225\n",
            "Epoch 7/10\n",
            "857/857 [==============================] - 510s 595ms/sample - loss: 0.0659 - accuracy: 0.9860 - val_loss: 0.2435 - val_accuracy: 0.9245\n",
            "Epoch 8/10\n",
            "857/857 [==============================] - 509s 594ms/sample - loss: 0.0402 - accuracy: 0.9942 - val_loss: 0.2097 - val_accuracy: 0.9383\n",
            "Epoch 9/10\n",
            "857/857 [==============================] - 502s 585ms/sample - loss: 0.0214 - accuracy: 0.9965 - val_loss: 0.2159 - val_accuracy: 0.9355\n",
            "Epoch 10/10\n",
            "857/857 [==============================] - 504s 588ms/sample - loss: 0.0124 - accuracy: 1.0000 - val_loss: 0.2128 - val_accuracy: 0.9397\n"
          ],
          "name": "stdout"
        }
      ]
    },
    {
      "cell_type": "markdown",
      "metadata": {
        "id": "I125BXRLnmnr",
        "colab_type": "text"
      },
      "source": [
        "## Auswertung der Ergebnisse:\n",
        "\n",
        "Im ersten Diagramm ist Underfitting zu erkennen, da das Netz zu klein ist\n",
        "\n",
        "Im zweiten Diagramm ist Overfitting zu erkennen, da da Netz zu komplex ist\n",
        "\n",
        "Im dritten Diagramm ist ein schöner Trainingsverlauf zu erkennen"
      ]
    },
    {
      "cell_type": "code",
      "metadata": {
        "id": "IdtC3dkrVJ8r",
        "colab_type": "code",
        "outputId": "2bec99e4-72f7-400d-8992-a707fe223212",
        "colab": {
          "base_uri": "https://localhost:8080/",
          "height": 295
        }
      },
      "source": [
        "helpers.plot_history('MNIST, 32 filters, 100 dense neurons', history, 0.3)"
      ],
      "execution_count": 0,
      "outputs": [
        {
          "output_type": "display_data",
          "data": {
            "image/png": "[encoded data removed]",
            "text/plain": [
              "<Figure size 432x288 with 1 Axes>"
            ]
          },
          "metadata": {
            "tags": []
          }
        }
      ]
    },
    {
      "cell_type": "code",
      "metadata": {
        "id": "9XLHjJWLnZtD",
        "colab_type": "code",
        "outputId": "b1ec959a-c9a6-4383-b5b7-17f7fd07807c",
        "colab": {
          "base_uri": "https://localhost:8080/",
          "height": 295
        }
      },
      "source": [
        "helpers.plot_history('MNIST, 2 filters, 10 dense neurons', history_little, 0.1)"
      ],
      "execution_count": 0,
      "outputs": [
        {
          "output_type": "display_data",
          "data": {
            "image/png": "[encoded data removed]",
            "text/plain": [
              "<Figure size 432x288 with 1 Axes>"
            ]
          },
          "metadata": {
            "tags": []
          }
        }
      ]
    },
    {
      "cell_type": "code",
      "metadata": {
        "id": "jdGMSi-UVJ8y",
        "colab_type": "code",
        "outputId": "308f64d3-e439-4f77-b7ef-34e01872056e",
        "colab": {
          "base_uri": "https://localhost:8080/",
          "height": 295
        }
      },
      "source": [
        "helpers.plot_history('MNIST, 1000 filters, 1000 dense neurons, 850 train images', history_big, 0.5)"
      ],
      "execution_count": 0,
      "outputs": [
        {
          "output_type": "display_data",
          "data": {
            "image/png": "[encoded data removed]",
            "text/plain": [
              "<Figure size 432x288 with 1 Axes>"
            ]
          },
          "metadata": {
            "tags": []
          }
        }
      ]
    }
  ]
}