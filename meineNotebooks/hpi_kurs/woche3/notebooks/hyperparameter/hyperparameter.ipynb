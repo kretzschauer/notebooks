{
  "nbformat": 4,
  "nbformat_minor": 0,
  "metadata": {
    "kernelspec": {
      "display_name": "Python [conda env:MOOC] *",
      "language": "python",
      "name": "conda-env-MOOC-py"
    },
    "language_info": {
      "codemirror_mode": {
        "name": "ipython",
        "version": 3
      },
      "file_extension": ".py",
      "mimetype": "text/x-python",
      "name": "python",
      "nbconvert_exporter": "python",
      "pygments_lexer": "ipython3",
      "version": "3.6.9"
    },
    "colab": {
      "name": "3.8.2 - Praxis Hyperparameter.ipynb",
      "provenance": [],
      "collapsed_sections": []
    },
    "accelerator": "GPU"
  },
  "cells": [
    {
      "cell_type": "markdown",
      "metadata": {
        "id": "2g1GYdJJcXRW",
        "colab_type": "text"
      },
      "source": [
        "# Praxis - Hyperparameter\n",
        "\n",
        "Hier wird wieder auf den MNIST Datensatz zurückgegriffen, um den Einfluss der Learning Rate auf die Performance des Netzes zu zeigen"
      ]
    },
    {
      "cell_type": "markdown",
      "metadata": {
        "id": "Jk0B4F8hi_ec",
        "colab_type": "text"
      },
      "source": [
        "## Import der benötigten Bibliotheken und Klassen"
      ]
    },
    {
      "cell_type": "code",
      "metadata": {
        "id": "p59tJXBdZ2JA",
        "colab_type": "code",
        "outputId": "cf37089e-b3a6-4196-c97c-63b8a13e3576",
        "colab": {
          "base_uri": "https://localhost:8080/",
          "height": 35
        }
      },
      "source": [
        "# magic command for Colab Notebooks\n",
        "%tensorflow_version 2.x\n",
        "\n",
        "import tensorflow as tf\n",
        "import numpy as np\n",
        "from tensorflow.keras.datasets import mnist\n",
        "from tensorflow.keras.layers import Dense, Activation, Input, Dropout, Conv2D, MaxPooling2D, Flatten\n",
        "from tensorflow.keras.models import Model\n",
        "\n",
        "import matplotlib.pyplot as plt\n",
        "\n",
        "# jupyters magic command\n",
        "%matplotlib inline"
      ],
      "execution_count": 0,
      "outputs": [
        {
          "output_type": "stream",
          "text": [
            "TensorFlow 2.x selected.\n"
          ],
          "name": "stdout"
        }
      ]
    },
    {
      "cell_type": "markdown",
      "metadata": {
        "id": "IceuuPUGjL8l",
        "colab_type": "text"
      },
      "source": [
        "## Laden des MNIST Datensatzes"
      ]
    },
    {
      "cell_type": "code",
      "metadata": {
        "id": "ZZtlT-YjZ2JL",
        "colab_type": "code",
        "outputId": "3f2663f9-2bed-4b1e-f843-29ce9aaa2c2c",
        "colab": {
          "base_uri": "https://localhost:8080/",
          "height": 89
        }
      },
      "source": [
        "(x_train, y_train), (x_test, y_test) = mnist.load_data()\n",
        "print(len(x_train), ' train images found')\n",
        "print(len(x_test), ' test images found')\n"
      ],
      "execution_count": 0,
      "outputs": [
        {
          "output_type": "stream",
          "text": [
            "Downloading data from https://storage.googleapis.com/tensorflow/tf-keras-datasets/mnist.npz\n",
            "11493376/11490434 [==============================] - 0s 0us/step\n",
            "60000  train images found\n",
            "10000  test images found\n"
          ],
          "name": "stdout"
        }
      ]
    },
    {
      "cell_type": "markdown",
      "metadata": {
        "id": "SXjzOIxnjTUm",
        "colab_type": "text"
      },
      "source": [
        "## Anpassung des MNIST Datensatzes\n",
        "\n",
        "Hier werden für das Training nur 1/7 der Trainingsdaten verwendet"
      ]
    },
    {
      "cell_type": "code",
      "metadata": {
        "id": "A9fbLAyYZ2JS",
        "colab_type": "code",
        "outputId": "ff3caf90-05c7-4ce5-a1cd-ed9e75cb80ed",
        "colab": {
          "base_uri": "https://localhost:8080/",
          "height": 53
        }
      },
      "source": [
        "NUM_PICTURES = len(x_train)//7\n",
        "NUM_TEST_PICTURES = len(y_train)\n",
        "x_train = x_train / 255.0\n",
        "x_test = x_test / 255.0\n",
        "x_train = x_train[:NUM_PICTURES]\n",
        "y_train = y_train[:NUM_PICTURES]\n",
        "x_test = x_test[:NUM_TEST_PICTURES]\n",
        "y_test = y_test[:NUM_TEST_PICTURES]\n",
        "print(len(x_train), ' train images used')\n",
        "print(len(x_test), ' test images used')"
      ],
      "execution_count": 0,
      "outputs": [
        {
          "output_type": "stream",
          "text": [
            "8571  train images used\n",
            "10000  test images used\n"
          ],
          "name": "stdout"
        }
      ]
    },
    {
      "cell_type": "markdown",
      "metadata": {
        "id": "IjigJ1tXjnDg",
        "colab_type": "text"
      },
      "source": [
        "Da Keras 4D Tensoren für die Verarbeitung erwartet, werden hier die Daten reshaped"
      ]
    },
    {
      "cell_type": "code",
      "metadata": {
        "id": "hK5CRoCNZ2JZ",
        "colab_type": "code",
        "outputId": "c5e8c055-0997-4a1d-a5ca-5569f3d71894",
        "colab": {
          "base_uri": "https://localhost:8080/",
          "height": 35
        }
      },
      "source": [
        "x_train = np.reshape(x_train, [len(x_train), 28, 28, 1])\n",
        "x_test = np.reshape(x_test, [len(x_test), 28, 28, 1])\n",
        "print('shape: ', x_train.shape)"
      ],
      "execution_count": 0,
      "outputs": [
        {
          "output_type": "stream",
          "text": [
            "shape:  (8571, 28, 28, 1)\n"
          ],
          "name": "stdout"
        }
      ]
    },
    {
      "cell_type": "markdown",
      "metadata": {
        "id": "m3A6I__mju_k",
        "colab_type": "text"
      },
      "source": [
        "Um mit der Categorical Crossentropy Funktion zu arbeiten werden die Labels in `categorical` labels umgewandelt"
      ]
    },
    {
      "cell_type": "code",
      "metadata": {
        "id": "wvIXwceuZ2Je",
        "colab_type": "code",
        "colab": {}
      },
      "source": [
        "# convert class vectors to one-hot-encodings\n",
        "y_train = tf.keras.utils.to_categorical(y_train, 10)\n",
        "y_test = tf.keras.utils.to_categorical(y_test, 10)"
      ],
      "execution_count": 0,
      "outputs": []
    },
    {
      "cell_type": "markdown",
      "metadata": {
        "id": "qP3DAa5Le8TA",
        "colab_type": "text"
      },
      "source": [
        "## Helpers\n",
        "\n",
        "## Über das `deeplearning2020` python package stellen wir euch folgende helper Funktionen zur Verfügung:\n",
        "\n",
        "- def plot_learning_curve(title, x, y, y_test, ylim=0.6)\n",
        "- def plot_history(title, history, ylim=0.6)\n",
        "- def plot_images(images, labels)\n",
        "\n",
        "## Zur Nutzung der Funktionen geht ihr folgendermaßen vor:"
      ]
    },
    {
      "cell_type": "code",
      "metadata": {
        "id": "XexAzx-ke_Ul",
        "colab_type": "code",
        "outputId": "bbd6536c-1144-4d43-dfa1-b6f0c074c669",
        "colab": {
          "base_uri": "https://localhost:8080/",
          "height": 449
        }
      },
      "source": [
        "# Importieren der Helper Function\n",
        "!pip install --upgrade deeplearning2020\n",
        "\n",
        "from deeplearning2020 import helpers\n",
        "\n",
        "#helpers.plot_images(image, labels)"
      ],
      "execution_count": 0,
      "outputs": [
        {
          "output_type": "stream",
          "text": [
            "Collecting deeplearning2020\n",
            "  Downloading https://files.pythonhosted.org/packages/ba/fa/67183ce2067c3eaae779cc75b373a52208c74f59a401341593bfb0ec0d08/deeplearning2020-0.4.8.tar.gz\n",
            "Collecting kerasltisubmission>=0.4.5\n",
            "\u001b[?25l  Downloading https://files.pythonhosted.org/packages/56/57/f12f36704127d4a966446a32760f6481df9367b4f4b6a9fea3e9eeac5a04/kerasltisubmission-0.4.5.tar.gz (391kB)\n",
            "\u001b[K     |████████████████████████████████| 399kB 55.6MB/s \n",
            "\u001b[?25hRequirement already satisfied, skipping upgrade: numpy in /usr/local/lib/python3.6/dist-packages (from kerasltisubmission>=0.4.5->deeplearning2020) (1.18.2)\n",
            "Requirement already satisfied, skipping upgrade: progressbar2 in /usr/local/lib/python3.6/dist-packages (from kerasltisubmission>=0.4.5->deeplearning2020) (3.38.0)\n",
            "Requirement already satisfied, skipping upgrade: requests in /usr/local/lib/python3.6/dist-packages (from kerasltisubmission>=0.4.5->deeplearning2020) (2.21.0)\n",
            "Requirement already satisfied, skipping upgrade: python-utils>=2.3.0 in /usr/local/lib/python3.6/dist-packages (from progressbar2->kerasltisubmission>=0.4.5->deeplearning2020) (2.4.0)\n",
            "Requirement already satisfied, skipping upgrade: six in /usr/local/lib/python3.6/dist-packages (from progressbar2->kerasltisubmission>=0.4.5->deeplearning2020) (1.12.0)\n",
            "Requirement already satisfied, skipping upgrade: idna<2.9,>=2.5 in /usr/local/lib/python3.6/dist-packages (from requests->kerasltisubmission>=0.4.5->deeplearning2020) (2.8)\n",
            "Requirement already satisfied, skipping upgrade: urllib3<1.25,>=1.21.1 in /usr/local/lib/python3.6/dist-packages (from requests->kerasltisubmission>=0.4.5->deeplearning2020) (1.24.3)\n",
            "Requirement already satisfied, skipping upgrade: chardet<3.1.0,>=3.0.2 in /usr/local/lib/python3.6/dist-packages (from requests->kerasltisubmission>=0.4.5->deeplearning2020) (3.0.4)\n",
            "Requirement already satisfied, skipping upgrade: certifi>=2017.4.17 in /usr/local/lib/python3.6/dist-packages (from requests->kerasltisubmission>=0.4.5->deeplearning2020) (2019.11.28)\n",
            "Building wheels for collected packages: deeplearning2020, kerasltisubmission\n",
            "  Building wheel for deeplearning2020 (setup.py) ... \u001b[?25l\u001b[?25hdone\n",
            "  Created wheel for deeplearning2020: filename=deeplearning2020-0.4.8-py2.py3-none-any.whl size=6424 sha256=251f66b5788389752705e3dfbe49d92c627e1e7f244fd5264e68d75d0fb3032d\n",
            "  Stored in directory: /root/.cache/pip/wheels/e3/b0/4a/8a76f8d4841cbb93d270edd2a88685d7209aef0a08d0af2fc6\n",
            "  Building wheel for kerasltisubmission (setup.py) ... \u001b[?25l\u001b[?25hdone\n",
            "  Created wheel for kerasltisubmission: filename=kerasltisubmission-0.4.5-py2.py3-none-any.whl size=7532 sha256=8c619c6ee8352cb21e7ce795641e0ae1cc460c64bc0fe494897fe4375c6ebe08\n",
            "  Stored in directory: /root/.cache/pip/wheels/17/0e/e3/6022cb4bec452a01b8629e91249cdb917c7c509270bf314a0b\n",
            "Successfully built deeplearning2020 kerasltisubmission\n",
            "Installing collected packages: kerasltisubmission, deeplearning2020\n",
            "Successfully installed deeplearning2020-0.4.8 kerasltisubmission-0.4.5\n"
          ],
          "name": "stdout"
        }
      ]
    },
    {
      "cell_type": "markdown",
      "metadata": {
        "id": "Ut2qpiF3chiw",
        "colab_type": "text"
      },
      "source": [
        "## Hier wird das Model definiert"
      ]
    },
    {
      "cell_type": "code",
      "metadata": {
        "id": "Hp3fOOKrZ2Jj",
        "colab_type": "code",
        "colab": {}
      },
      "source": [
        "def get_untrained_model():\n",
        "    # input images must have size 28x28px\n",
        "    input_layer = Input(shape=(28, 28, 1))\n",
        "\n",
        "    # Convolutional neural network\n",
        "    model = Conv2D(filters=16, kernel_size=(3, 3), activation='relu')(input_layer)\n",
        "    model = MaxPooling2D((2, 2))(model)\n",
        "    model = Conv2D(filters=32, kernel_size=(3, 3), activation='relu')(model)\n",
        "    model = MaxPooling2D((2, 2))(model)\n",
        "\n",
        "    # Fully-Connected-Classifier\n",
        "    model = Flatten()(model)\n",
        "    model = Dense(100, activation='relu')(model)\n",
        "\n",
        "    # Output Layer\n",
        "    output_layer = Dense(10, activation='sigmoid')(model)\n",
        "    \n",
        "    return Model(input_layer, output_layer)"
      ],
      "execution_count": 0,
      "outputs": []
    },
    {
      "cell_type": "code",
      "metadata": {
        "id": "VfRvYi-mZ2Jo",
        "colab_type": "code",
        "outputId": "4b5208b4-b854-45a2-9e9d-29f2052e2944",
        "colab": {
          "base_uri": "https://localhost:8080/",
          "height": 449
        }
      },
      "source": [
        "mnist_model = get_untrained_model()\n",
        "\n",
        "mnist_model.compile(optimizer = tf.keras.optimizers.Adam(), loss = 'categorical_crossentropy', metrics = ['accuracy'])\n",
        "mnist_model.summary()"
      ],
      "execution_count": 0,
      "outputs": [
        {
          "output_type": "stream",
          "text": [
            "Model: \"model\"\n",
            "_________________________________________________________________\n",
            "Layer (type)                 Output Shape              Param #   \n",
            "=================================================================\n",
            "input_3 (InputLayer)         [(None, 28, 28, 1)]       0         \n",
            "_________________________________________________________________\n",
            "conv2d_4 (Conv2D)            (None, 26, 26, 16)        160       \n",
            "_________________________________________________________________\n",
            "max_pooling2d_4 (MaxPooling2 (None, 13, 13, 16)        0         \n",
            "_________________________________________________________________\n",
            "conv2d_5 (Conv2D)            (None, 11, 11, 32)        4640      \n",
            "_________________________________________________________________\n",
            "max_pooling2d_5 (MaxPooling2 (None, 5, 5, 32)          0         \n",
            "_________________________________________________________________\n",
            "flatten_2 (Flatten)          (None, 800)               0         \n",
            "_________________________________________________________________\n",
            "dense_4 (Dense)              (None, 100)               80100     \n",
            "_________________________________________________________________\n",
            "dense_5 (Dense)              (None, 10)                1010      \n",
            "=================================================================\n",
            "Total params: 85,910\n",
            "Trainable params: 85,910\n",
            "Non-trainable params: 0\n",
            "_________________________________________________________________\n"
          ],
          "name": "stdout"
        }
      ]
    },
    {
      "cell_type": "markdown",
      "metadata": {
        "id": "fJzFIPNbkoLe",
        "colab_type": "text"
      },
      "source": [
        "## Hier werden die Models mit verschiedener Learnig Rate trainiert\n",
        "\n",
        "Folgende Learning Rates wurden genutzt\n",
        "-  learning_rate=0.001\n",
        "- learning_rate=0.00001\n",
        "- learning_rate=10"
      ]
    },
    {
      "cell_type": "code",
      "metadata": {
        "id": "YuSiwt4G9wGW",
        "colab_type": "code",
        "outputId": "58e263a9-132c-4c42-9a0d-d11915b2961d",
        "colab": {
          "base_uri": "https://localhost:8080/",
          "height": 395
        }
      },
      "source": [
        "# compile model\n",
        "model = get_untrained_model()\n",
        "model.compile(\n",
        "    optimizer = tf.keras.optimizers.Adam(lr=0.001),\n",
        "    loss='categorical_crossentropy',\n",
        "    metrics=['accuracy']\n",
        ")\n",
        "\n",
        "# train model\n",
        "history = model.fit(\n",
        "    x_train,\n",
        "    y_train,\n",
        "    batch_size=32,\n",
        "    epochs=10,\n",
        "    validation_data=(x_test, y_test)\n",
        ")\n"
      ],
      "execution_count": 0,
      "outputs": [
        {
          "output_type": "stream",
          "text": [
            "Train on 8571 samples, validate on 10000 samples\n",
            "Epoch 1/10\n",
            "8571/8571 [==============================] - 2s 220us/sample - loss: 0.5619 - accuracy: 0.8270 - val_loss: 0.2061 - val_accuracy: 0.9364\n",
            "Epoch 2/10\n",
            "8571/8571 [==============================] - 1s 174us/sample - loss: 0.1669 - accuracy: 0.9525 - val_loss: 0.1412 - val_accuracy: 0.9553\n",
            "Epoch 3/10\n",
            "8571/8571 [==============================] - 2s 177us/sample - loss: 0.1222 - accuracy: 0.9635 - val_loss: 0.1461 - val_accuracy: 0.9586\n",
            "Epoch 4/10\n",
            "8571/8571 [==============================] - 2s 175us/sample - loss: 0.0955 - accuracy: 0.9704 - val_loss: 0.0844 - val_accuracy: 0.9744\n",
            "Epoch 5/10\n",
            "8571/8571 [==============================] - 2s 182us/sample - loss: 0.0714 - accuracy: 0.9786 - val_loss: 0.0948 - val_accuracy: 0.9722\n",
            "Epoch 6/10\n",
            "8571/8571 [==============================] - 2s 179us/sample - loss: 0.0532 - accuracy: 0.9840 - val_loss: 0.1043 - val_accuracy: 0.9696\n",
            "Epoch 7/10\n",
            "8571/8571 [==============================] - 2s 177us/sample - loss: 0.0450 - accuracy: 0.9866 - val_loss: 0.1006 - val_accuracy: 0.9727\n",
            "Epoch 8/10\n",
            "8571/8571 [==============================] - 2s 178us/sample - loss: 0.0382 - accuracy: 0.9877 - val_loss: 0.0814 - val_accuracy: 0.9749\n",
            "Epoch 9/10\n",
            "8571/8571 [==============================] - 1s 172us/sample - loss: 0.0337 - accuracy: 0.9896 - val_loss: 0.0789 - val_accuracy: 0.9751\n",
            "Epoch 10/10\n",
            "8571/8571 [==============================] - 2s 179us/sample - loss: 0.0257 - accuracy: 0.9910 - val_loss: 0.0819 - val_accuracy: 0.9763\n"
          ],
          "name": "stdout"
        }
      ]
    },
    {
      "cell_type": "code",
      "metadata": {
        "id": "hxs6k4dOZ2J3",
        "colab_type": "code",
        "outputId": "52c4131c-f4b6-43ae-bd4b-1ae725ed38df",
        "colab": {
          "base_uri": "https://localhost:8080/",
          "height": 395
        }
      },
      "source": [
        "mnist_model_low_lr = get_untrained_model()\n",
        "mnist_model_low_lr.compile(\n",
        "    optimizer = tf.keras.optimizers.Adam(lr=0.00001), \n",
        "    loss = 'categorical_crossentropy', \n",
        "    metrics = ['accuracy']\n",
        "    )\n",
        "history_low_lr = mnist_model_low_lr.fit(\n",
        "    x_train, \n",
        "    y_train, \n",
        "    batch_size = 32, \n",
        "    epochs = 10, \n",
        "    validation_data = (x_test, y_test)\n",
        "    )"
      ],
      "execution_count": 0,
      "outputs": [
        {
          "output_type": "stream",
          "text": [
            "Train on 8571 samples, validate on 10000 samples\n",
            "Epoch 1/10\n",
            "8571/8571 [==============================] - 2s 216us/sample - loss: 2.2838 - accuracy: 0.1376 - val_loss: 2.2656 - val_accuracy: 0.1629\n",
            "Epoch 2/10\n",
            "8571/8571 [==============================] - 1s 174us/sample - loss: 2.2426 - accuracy: 0.1792 - val_loss: 2.2200 - val_accuracy: 0.2467\n",
            "Epoch 3/10\n",
            "8571/8571 [==============================] - 2s 177us/sample - loss: 2.1878 - accuracy: 0.3073 - val_loss: 2.1539 - val_accuracy: 0.3727\n",
            "Epoch 4/10\n",
            "8571/8571 [==============================] - 2s 180us/sample - loss: 2.1014 - accuracy: 0.4280 - val_loss: 2.0424 - val_accuracy: 0.5042\n",
            "Epoch 5/10\n",
            "8571/8571 [==============================] - 2s 177us/sample - loss: 1.9485 - accuracy: 0.5573 - val_loss: 1.8372 - val_accuracy: 0.6576\n",
            "Epoch 6/10\n",
            "8571/8571 [==============================] - 2s 178us/sample - loss: 1.6691 - accuracy: 0.7185 - val_loss: 1.5010 - val_accuracy: 0.7506\n",
            "Epoch 7/10\n",
            "8571/8571 [==============================] - 1s 174us/sample - loss: 1.3300 - accuracy: 0.7769 - val_loss: 1.1907 - val_accuracy: 0.7818\n",
            "Epoch 8/10\n",
            "8571/8571 [==============================] - 1s 172us/sample - loss: 1.0671 - accuracy: 0.7996 - val_loss: 0.9792 - val_accuracy: 0.8042\n",
            "Epoch 9/10\n",
            "8571/8571 [==============================] - 2s 177us/sample - loss: 0.8917 - accuracy: 0.8160 - val_loss: 0.8370 - val_accuracy: 0.8180\n",
            "Epoch 10/10\n",
            "8571/8571 [==============================] - 1s 172us/sample - loss: 0.7736 - accuracy: 0.8291 - val_loss: 0.7362 - val_accuracy: 0.8356\n"
          ],
          "name": "stdout"
        }
      ]
    },
    {
      "cell_type": "code",
      "metadata": {
        "id": "PwwERwelZ2J9",
        "colab_type": "code",
        "outputId": "a4bbfc87-4518-4c96-e0c2-30a99958be3c",
        "colab": {
          "base_uri": "https://localhost:8080/",
          "height": 395
        }
      },
      "source": [
        "mnist_model_high_lr = get_untrained_model()\n",
        "mnist_model_high_lr.compile(\n",
        "    optimizer = tf.keras.optimizers.Adam(lr=10), \n",
        "    loss = 'categorical_crossentropy', \n",
        "    metrics = ['accuracy']\n",
        "    )\n",
        "history_high_lr = mnist_model_low_lr.fit(\n",
        "    x_train, \n",
        "    y_train, \n",
        "    batch_size = 32, \n",
        "    epochs = 10, \n",
        "    validation_data = (x_test, y_test)\n",
        "    )"
      ],
      "execution_count": 0,
      "outputs": [
        {
          "output_type": "stream",
          "text": [
            "Train on 8571 samples, validate on 10000 samples\n",
            "Epoch 1/10\n",
            "8571/8571 [==============================] - 2s 177us/sample - loss: 0.6888 - accuracy: 0.8434 - val_loss: 0.6637 - val_accuracy: 0.8441\n",
            "Epoch 2/10\n",
            "8571/8571 [==============================] - 2s 183us/sample - loss: 0.6261 - accuracy: 0.8523 - val_loss: 0.6116 - val_accuracy: 0.8547\n",
            "Epoch 3/10\n",
            "8571/8571 [==============================] - 1s 173us/sample - loss: 0.5779 - accuracy: 0.8584 - val_loss: 0.5686 - val_accuracy: 0.8575\n",
            "Epoch 4/10\n",
            "8571/8571 [==============================] - 2s 182us/sample - loss: 0.5397 - accuracy: 0.8640 - val_loss: 0.5340 - val_accuracy: 0.8659\n",
            "Epoch 5/10\n",
            "8571/8571 [==============================] - 2s 176us/sample - loss: 0.5083 - accuracy: 0.8689 - val_loss: 0.5044 - val_accuracy: 0.8686\n",
            "Epoch 6/10\n",
            "8571/8571 [==============================] - 2s 179us/sample - loss: 0.4823 - accuracy: 0.8741 - val_loss: 0.4804 - val_accuracy: 0.8758\n",
            "Epoch 7/10\n",
            "8571/8571 [==============================] - 2s 182us/sample - loss: 0.4602 - accuracy: 0.8782 - val_loss: 0.4631 - val_accuracy: 0.8771\n",
            "Epoch 8/10\n",
            "8571/8571 [==============================] - 2s 181us/sample - loss: 0.4411 - accuracy: 0.8824 - val_loss: 0.4438 - val_accuracy: 0.8819\n",
            "Epoch 9/10\n",
            "8571/8571 [==============================] - 1s 174us/sample - loss: 0.4252 - accuracy: 0.8864 - val_loss: 0.4297 - val_accuracy: 0.8848\n",
            "Epoch 10/10\n",
            "8571/8571 [==============================] - 1s 172us/sample - loss: 0.4104 - accuracy: 0.8866 - val_loss: 0.4178 - val_accuracy: 0.8868\n"
          ],
          "name": "stdout"
        }
      ]
    },
    {
      "cell_type": "markdown",
      "metadata": {
        "id": "428TakM5k8Gy",
        "colab_type": "text"
      },
      "source": [
        "## Auswertung\n",
        "\n",
        "In den Diagrammen können nur die einzelnen Learning Rates verglichen werden.\n",
        "\n",
        "Dabei ist zu beachten, dass diese als wichtigster Hyperparamter einen sehr bedeutenden Einfluss auf den Trainingserfolg hat"
      ]
    },
    {
      "cell_type": "code",
      "metadata": {
        "id": "WdjiVESOZ2KE",
        "colab_type": "code",
        "outputId": "30c27e09-20f4-4513-b91b-4ae0a704512d",
        "colab": {
          "base_uri": "https://localhost:8080/",
          "height": 295
        }
      },
      "source": [
        "helpers.plot_history('MNIST, lr = 0.001', history, 0)"
      ],
      "execution_count": 0,
      "outputs": [
        {
          "output_type": "display_data",
          "data": {
            "image/png": "[encoded data removed]",
            "text/plain": [
              "<Figure size 432x288 with 1 Axes>"
            ]
          },
          "metadata": {
            "tags": []
          }
        }
      ]
    },
    {
      "cell_type": "code",
      "metadata": {
        "id": "G6Zu_baCZ2KI",
        "colab_type": "code",
        "outputId": "68c7126f-e06f-4e2d-ee2c-c0c5510b480b",
        "colab": {
          "base_uri": "https://localhost:8080/",
          "height": 295
        }
      },
      "source": [
        "helpers.plot_history('MNIST, lr = 0.00001', history_low_lr, 0)"
      ],
      "execution_count": 0,
      "outputs": [
        {
          "output_type": "display_data",
          "data": {
            "image/png": "[encoded data removed]",
            "text/plain": [
              "<Figure size 432x288 with 1 Axes>"
            ]
          },
          "metadata": {
            "tags": []
          }
        }
      ]
    },
    {
      "cell_type": "code",
      "metadata": {
        "id": "g23kNtyXetNw",
        "colab_type": "code",
        "outputId": "1e329654-f1ac-438f-de6b-f2a824894d6e",
        "colab": {
          "base_uri": "https://localhost:8080/",
          "height": 295
        }
      },
      "source": [
        "helpers.plot_history('MNIST, lr = 10', history_high_lr, 0)"
      ],
      "execution_count": 0,
      "outputs": [
        {
          "output_type": "display_data",
          "data": {
            "image/png": "[encoded data removed]",
            "text/plain": [
              "<Figure size 432x288 with 1 Axes>"
            ]
          },
          "metadata": {
            "tags": []
          }
        }
      ]
    },
    {
      "cell_type": "code",
      "metadata": {
        "id": "y_kojI4XfJ5h",
        "colab_type": "code",
        "colab": {}
      },
      "source": [
        ""
      ],
      "execution_count": 0,
      "outputs": []
    }
  ]
}