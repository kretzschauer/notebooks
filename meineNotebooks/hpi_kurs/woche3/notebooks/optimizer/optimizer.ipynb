{
  "nbformat": 4,
  "nbformat_minor": 0,
  "metadata": {
    "colab": {
      "name": "3.7.2 - Praxis Optimizer.ipynb",
      "provenance": [],
      "collapsed_sections": []
    },
    "kernelspec": {
      "name": "python3",
      "display_name": "Python 3"
    },
    "accelerator": "GPU"
  },
  "cells": [
    {
      "cell_type": "markdown",
      "metadata": {
        "id": "DXark2TSQIPA",
        "colab_type": "text"
      },
      "source": [
        "# Praxis - Optimizer\n",
        "\n",
        "In diesem Notebook werden verschiedene Optimizer anhand des MNIST Datensatzes verglichen"
      ]
    },
    {
      "cell_type": "code",
      "metadata": {
        "id": "anAbuY1-dzbZ",
        "colab_type": "code",
        "outputId": "8e945a7e-4683-4faa-f1d2-43d0eeb62aeb",
        "colab": {
          "base_uri": "https://localhost:8080/",
          "height": 107
        }
      },
      "source": [
        "%tensorflow_version 2.x # Command für Google Colab für Tensorflow 2"
      ],
      "execution_count": 0,
      "outputs": [
        {
          "output_type": "stream",
          "text": [
            "`%tensorflow_version` only switches the major version: 1.x or 2.x.\n",
            "You set: `2.x # Command für Google Colab für Tensorflow 2`. This will be interpreted as: `2.x`.\n",
            "\n",
            "\n",
            "TensorFlow 2.x selected.\n"
          ],
          "name": "stdout"
        }
      ]
    },
    {
      "cell_type": "code",
      "metadata": {
        "id": "BYKdhdArMixR",
        "colab_type": "code",
        "colab": {}
      },
      "source": [
        "# TensorFlow and tf.keras\n",
        "import tensorflow as tf\n",
        "from tensorflow import keras\n",
        "import numpy as np\n",
        "import matplotlib.pyplot as plt"
      ],
      "execution_count": 0,
      "outputs": []
    },
    {
      "cell_type": "markdown",
      "metadata": {
        "id": "Wcv5M4AjQijK",
        "colab_type": "text"
      },
      "source": [
        "## Laden des MNIST Datensatzes\n",
        "\n",
        "Wie aus der Vorwoche bekannt"
      ]
    },
    {
      "cell_type": "code",
      "metadata": {
        "id": "HrkKkPW2OIfB",
        "colab_type": "code",
        "outputId": "61872e62-d5e3-4736-8e3a-eff22540b5ad",
        "colab": {
          "base_uri": "https://localhost:8080/",
          "height": 53
        }
      },
      "source": [
        "(train_images, train_labels), (test_images, test_labels) = keras \\\n",
        "  .datasets.mnist.load_data()"
      ],
      "execution_count": 0,
      "outputs": [
        {
          "output_type": "stream",
          "text": [
            "Downloading data from https://storage.googleapis.com/tensorflow/tf-keras-datasets/mnist.npz\n",
            "11493376/11490434 [==============================] - 0s 0us/step\n"
          ],
          "name": "stdout"
        }
      ]
    },
    {
      "cell_type": "markdown",
      "metadata": {
        "id": "UWPPydtqQmC_",
        "colab_type": "text"
      },
      "source": [
        "#### Hier werden die MNIST Daten normalisiert, dass diese nur noch als Float von 0 bis 1 gespeichert werden"
      ]
    },
    {
      "cell_type": "code",
      "metadata": {
        "id": "6onrRWeHOV8b",
        "colab_type": "code",
        "colab": {}
      },
      "source": [
        "train_images = train_images / 255.0\n",
        "test_images = test_images / 255.0"
      ],
      "execution_count": 0,
      "outputs": []
    },
    {
      "cell_type": "markdown",
      "metadata": {
        "id": "DOuJcGzURDjd",
        "colab_type": "text"
      },
      "source": [
        "## Definition der Modelle \n",
        "\n",
        "Die Modelle können über die Funktion get_model() erzeugt werden und bestehn aus 2 Dense Layers mit Relu und Sigmoid Funktion"
      ]
    },
    {
      "cell_type": "code",
      "metadata": {
        "id": "EEvwJtk7Oppm",
        "colab_type": "code",
        "colab": {}
      },
      "source": [
        "def get_model():\n",
        "  return keras.Sequential([\n",
        "    keras.layers.Flatten(input_shape=(28, 28)),\n",
        "    keras.layers.Dense(128, activation='relu'),\n",
        "    keras.layers.Dense(10, activation='sigmoid')\n",
        "  ])\n",
        "\n",
        "model_sgd = get_model() # Modell mit Stochastic Gradient Descent Optimizer\n",
        "model_adam = get_model() # Modell mit Adam Optimizer\n",
        "model_rmsprop = get_model() # Modell mit RMSProp Optimizer"
      ],
      "execution_count": 0,
      "outputs": []
    },
    {
      "cell_type": "markdown",
      "metadata": {
        "id": "Sfpowh5pRFyA",
        "colab_type": "text"
      },
      "source": [
        "## Kompilieren der Modelle\n",
        "\n",
        "Für jedes der Modelle wird Stochastic Gradient Descent als Optimizer verwendet und die jeweils zum Modell passende Loss Funktion\n",
        "\n",
        "Dies wird in der `model.compile()` Funktion festgelegt"
      ]
    },
    {
      "cell_type": "code",
      "metadata": {
        "id": "mjC8UAqUOyZ6",
        "colab_type": "code",
        "colab": {}
      },
      "source": [
        "model_adam.compile(\n",
        "    optimizer='adam',\n",
        "    loss='mean_squared_error',\n",
        "    metrics=['accuracy']\n",
        ")\n",
        "model_rmsprop.compile(\n",
        "    optimizer='rmsprop',\n",
        "    loss='mean_squared_error',\n",
        "    metrics=['accuracy']\n",
        ")\n",
        "model_sgd.compile(\n",
        "    optimizer='sgd',\n",
        "    loss='mean_squared_error',\n",
        "    metrics=['accuracy']\n",
        ")\n",
        "\n",
        "models = [model_adam, model_rmsprop, model_sgd]"
      ],
      "execution_count": 0,
      "outputs": []
    },
    {
      "cell_type": "markdown",
      "metadata": {
        "id": "A9uENjXYRWLb",
        "colab_type": "text"
      },
      "source": [
        "### Umwandlung der Labels in Categorical Labels \n",
        "(Erklärung im Video / Notebook zu Loss Functions) "
      ]
    },
    {
      "cell_type": "code",
      "metadata": {
        "id": "SbkCCvu8Px1s",
        "colab_type": "code",
        "colab": {}
      },
      "source": [
        "_train_labels = keras.utils.to_categorical(train_labels, 10)\n",
        "_test_labels = keras.utils.to_categorical(test_labels, 10)"
      ],
      "execution_count": 0,
      "outputs": []
    },
    {
      "cell_type": "markdown",
      "metadata": {
        "id": "F82P6BsVRgNb",
        "colab_type": "text"
      },
      "source": [
        "## Trainiern der Modelle\n",
        "\n",
        "Dabei werden die Trainigsergebnisse in der history List gespeichert. \n",
        "\n",
        "Hier werden alle Modell trainiert und die Trainingsergebnisse in der history Liste gespeichert"
      ]
    },
    {
      "cell_type": "code",
      "metadata": {
        "id": "6QDK4o68O71J",
        "colab_type": "code",
        "outputId": "459e7653-8eab-4e24-f9d8-6925e7f05513",
        "colab": {
          "base_uri": "https://localhost:8080/",
          "height": 1000
        }
      },
      "source": [
        "epochs=15\n",
        "history = [model.fit(train_images, _train_labels, epochs=epochs, validation_data=(test_images, _test_labels), verbose=True) for model in models]"
      ],
      "execution_count": 0,
      "outputs": [
        {
          "output_type": "stream",
          "text": [
            "Train on 60000 samples, validate on 10000 samples\n",
            "Epoch 1/15\n",
            "60000/60000 [==============================] - 7s 112us/sample - loss: 0.0169 - accuracy: 0.9078 - val_loss: 0.0085 - val_accuracy: 0.9537\n",
            "Epoch 2/15\n",
            "60000/60000 [==============================] - 5s 78us/sample - loss: 0.0072 - accuracy: 0.9595 - val_loss: 0.0064 - val_accuracy: 0.9644\n",
            "Epoch 3/15\n",
            "60000/60000 [==============================] - 5s 78us/sample - loss: 0.0053 - accuracy: 0.9718 - val_loss: 0.0058 - val_accuracy: 0.9679\n",
            "Epoch 4/15\n",
            "60000/60000 [==============================] - 5s 79us/sample - loss: 0.0042 - accuracy: 0.9786 - val_loss: 0.0048 - val_accuracy: 0.9745\n",
            "Epoch 5/15\n",
            "60000/60000 [==============================] - 5s 80us/sample - loss: 0.0035 - accuracy: 0.9822 - val_loss: 0.0043 - val_accuracy: 0.9766\n",
            "Epoch 6/15\n",
            "60000/60000 [==============================] - 5s 78us/sample - loss: 0.0030 - accuracy: 0.9856 - val_loss: 0.0044 - val_accuracy: 0.9768\n",
            "Epoch 7/15\n",
            "60000/60000 [==============================] - 5s 78us/sample - loss: 0.0026 - accuracy: 0.9874 - val_loss: 0.0041 - val_accuracy: 0.9765\n",
            "Epoch 8/15\n",
            "60000/60000 [==============================] - 5s 79us/sample - loss: 0.0023 - accuracy: 0.9892 - val_loss: 0.0039 - val_accuracy: 0.9786\n",
            "Epoch 9/15\n",
            "60000/60000 [==============================] - 5s 78us/sample - loss: 0.0021 - accuracy: 0.9901 - val_loss: 0.0040 - val_accuracy: 0.9784\n",
            "Epoch 10/15\n",
            "60000/60000 [==============================] - 5s 78us/sample - loss: 0.0018 - accuracy: 0.9911 - val_loss: 0.0040 - val_accuracy: 0.9788\n",
            "Epoch 11/15\n",
            "60000/60000 [==============================] - 5s 77us/sample - loss: 0.0017 - accuracy: 0.9919 - val_loss: 0.0038 - val_accuracy: 0.9813\n",
            "Epoch 12/15\n",
            "60000/60000 [==============================] - 5s 79us/sample - loss: 0.0015 - accuracy: 0.9925 - val_loss: 0.0043 - val_accuracy: 0.9795\n",
            "Epoch 13/15\n",
            "60000/60000 [==============================] - 5s 81us/sample - loss: 0.0014 - accuracy: 0.9932 - val_loss: 0.0040 - val_accuracy: 0.9811\n",
            "Epoch 14/15\n",
            "60000/60000 [==============================] - 5s 82us/sample - loss: 0.0013 - accuracy: 0.9936 - val_loss: 0.0039 - val_accuracy: 0.9791\n",
            "Epoch 15/15\n",
            "60000/60000 [==============================] - 5s 80us/sample - loss: 0.0012 - accuracy: 0.9942 - val_loss: 0.0039 - val_accuracy: 0.9803\n",
            "Train on 60000 samples, validate on 10000 samples\n",
            "Epoch 1/15\n",
            "60000/60000 [==============================] - 5s 90us/sample - loss: 0.0149 - accuracy: 0.9197 - val_loss: 0.0080 - val_accuracy: 0.9552\n",
            "Epoch 2/15\n",
            "60000/60000 [==============================] - 5s 83us/sample - loss: 0.0069 - accuracy: 0.9614 - val_loss: 0.0061 - val_accuracy: 0.9651\n",
            "Epoch 3/15\n",
            "60000/60000 [==============================] - 5s 83us/sample - loss: 0.0052 - accuracy: 0.9709 - val_loss: 0.0051 - val_accuracy: 0.9707\n",
            "Epoch 4/15\n",
            "60000/60000 [==============================] - 5s 83us/sample - loss: 0.0043 - accuracy: 0.9769 - val_loss: 0.0056 - val_accuracy: 0.9705\n",
            "Epoch 5/15\n",
            "60000/60000 [==============================] - 5s 85us/sample - loss: 0.0038 - accuracy: 0.9800 - val_loss: 0.0047 - val_accuracy: 0.9743\n",
            "Epoch 6/15\n",
            "60000/60000 [==============================] - 5s 90us/sample - loss: 0.0033 - accuracy: 0.9823 - val_loss: 0.0043 - val_accuracy: 0.9765\n",
            "Epoch 7/15\n",
            "60000/60000 [==============================] - 5s 91us/sample - loss: 0.0030 - accuracy: 0.9843 - val_loss: 0.0047 - val_accuracy: 0.9751\n",
            "Epoch 8/15\n",
            "60000/60000 [==============================] - 5s 86us/sample - loss: 0.0027 - accuracy: 0.9851 - val_loss: 0.0045 - val_accuracy: 0.9759\n",
            "Epoch 9/15\n",
            "60000/60000 [==============================] - 5s 85us/sample - loss: 0.0025 - accuracy: 0.9870 - val_loss: 0.0040 - val_accuracy: 0.9775\n",
            "Epoch 10/15\n",
            "60000/60000 [==============================] - 5s 85us/sample - loss: 0.0023 - accuracy: 0.9876 - val_loss: 0.0042 - val_accuracy: 0.9773\n",
            "Epoch 11/15\n",
            "60000/60000 [==============================] - 5s 85us/sample - loss: 0.0022 - accuracy: 0.9883 - val_loss: 0.0041 - val_accuracy: 0.9771\n",
            "Epoch 12/15\n",
            "60000/60000 [==============================] - 5s 84us/sample - loss: 0.0020 - accuracy: 0.9891 - val_loss: 0.0042 - val_accuracy: 0.9779\n",
            "Epoch 13/15\n",
            "60000/60000 [==============================] - 5s 83us/sample - loss: 0.0018 - accuracy: 0.9899 - val_loss: 0.0041 - val_accuracy: 0.9782\n",
            "Epoch 14/15\n",
            "60000/60000 [==============================] - 5s 84us/sample - loss: 0.0018 - accuracy: 0.9902 - val_loss: 0.0040 - val_accuracy: 0.9791\n",
            "Epoch 15/15\n",
            "60000/60000 [==============================] - 5s 84us/sample - loss: 0.0016 - accuracy: 0.9908 - val_loss: 0.0040 - val_accuracy: 0.9791\n",
            "Train on 60000 samples, validate on 10000 samples\n",
            "Epoch 1/15\n",
            "60000/60000 [==============================] - 5s 81us/sample - loss: 0.0979 - accuracy: 0.3460 - val_loss: 0.0814 - val_accuracy: 0.4851\n",
            "Epoch 2/15\n",
            "60000/60000 [==============================] - 5s 77us/sample - loss: 0.0753 - accuracy: 0.5452 - val_loss: 0.0689 - val_accuracy: 0.5913\n",
            "Epoch 3/15\n",
            "60000/60000 [==============================] - 5s 77us/sample - loss: 0.0641 - accuracy: 0.6231 - val_loss: 0.0589 - val_accuracy: 0.6495\n",
            "Epoch 4/15\n",
            "60000/60000 [==============================] - 5s 77us/sample - loss: 0.0558 - accuracy: 0.6782 - val_loss: 0.0520 - val_accuracy: 0.7201\n",
            "Epoch 5/15\n",
            "60000/60000 [==============================] - 5s 77us/sample - loss: 0.0499 - accuracy: 0.7406 - val_loss: 0.0468 - val_accuracy: 0.7801\n",
            "Epoch 6/15\n",
            "60000/60000 [==============================] - 5s 76us/sample - loss: 0.0454 - accuracy: 0.7872 - val_loss: 0.0427 - val_accuracy: 0.8177\n",
            "Epoch 7/15\n",
            "60000/60000 [==============================] - 5s 77us/sample - loss: 0.0418 - accuracy: 0.8132 - val_loss: 0.0393 - val_accuracy: 0.8356\n",
            "Epoch 8/15\n",
            "60000/60000 [==============================] - 5s 76us/sample - loss: 0.0388 - accuracy: 0.8283 - val_loss: 0.0366 - val_accuracy: 0.8460\n",
            "Epoch 9/15\n",
            "60000/60000 [==============================] - 5s 76us/sample - loss: 0.0364 - accuracy: 0.8396 - val_loss: 0.0344 - val_accuracy: 0.8572\n",
            "Epoch 10/15\n",
            "60000/60000 [==============================] - 5s 75us/sample - loss: 0.0344 - accuracy: 0.8473 - val_loss: 0.0326 - val_accuracy: 0.8649\n",
            "Epoch 11/15\n",
            "60000/60000 [==============================] - 5s 76us/sample - loss: 0.0327 - accuracy: 0.8533 - val_loss: 0.0310 - val_accuracy: 0.8692\n",
            "Epoch 12/15\n",
            "60000/60000 [==============================] - 5s 77us/sample - loss: 0.0313 - accuracy: 0.8589 - val_loss: 0.0297 - val_accuracy: 0.8733\n",
            "Epoch 13/15\n",
            "60000/60000 [==============================] - 5s 76us/sample - loss: 0.0301 - accuracy: 0.8637 - val_loss: 0.0286 - val_accuracy: 0.8765\n",
            "Epoch 14/15\n",
            "60000/60000 [==============================] - 5s 75us/sample - loss: 0.0290 - accuracy: 0.8669 - val_loss: 0.0276 - val_accuracy: 0.8795\n",
            "Epoch 15/15\n",
            "60000/60000 [==============================] - 5s 76us/sample - loss: 0.0281 - accuracy: 0.8703 - val_loss: 0.0267 - val_accuracy: 0.8817\n"
          ],
          "name": "stdout"
        }
      ]
    },
    {
      "cell_type": "markdown",
      "metadata": {
        "id": "sdxnmCsMRkcK",
        "colab_type": "text"
      },
      "source": [
        "## Plotten der Ergebnisse mit Matplotlib\n",
        "\n",
        "Über `plt.plot` werden die einzelnen Ergebnisse der Modelle in verschiedenen Farben eingebunden."
      ]
    },
    {
      "cell_type": "code",
      "metadata": {
        "id": "hocTWrYaWBQp",
        "colab_type": "code",
        "outputId": "360c957d-0bd3-4039-fdad-671210ad8aa4",
        "colab": {
          "base_uri": "https://localhost:8080/",
          "height": 313
        }
      },
      "source": [
        "def plot_learning_curve(ylim=0.6):\n",
        "    plt.figure()\n",
        "    plt.title(\"accuracy comparison\")\n",
        "    axes = plt.gca()\n",
        "    axes.set_ylim([ylim, 1])\n",
        "    plt.xlabel(\"Epoch\")\n",
        "    plt.ylabel(\"Accuracy\")\n",
        "    train_sizes = np.arange(1, 1 + len(history[0].history['accuracy']))\n",
        "\n",
        "    plt.grid()\n",
        "\n",
        "    plt.plot(\n",
        "        train_sizes,\n",
        "        history[0].history['accuracy'],\n",
        "        'o-',\n",
        "        color=(177/255, 6/255, 58/255),\n",
        "        label=\"Adam\"\n",
        "    )\n",
        "    plt.plot(\n",
        "        train_sizes,\n",
        "        history[1].history['accuracy'],\n",
        "        'o-',\n",
        "        color=(246/255, 168/255, 0),\n",
        "        label=\"RmsProp\"\n",
        "    )\n",
        "    \n",
        "    plt.plot(\n",
        "        train_sizes,\n",
        "        history[2].history['accuracy'],\n",
        "        'o-',\n",
        "        color='green',\n",
        "        label=\"Sgd\"\n",
        "    )\n",
        "\n",
        "    plt.legend(loc=\"best\")\n",
        "    return plt\n",
        "\n",
        "plot_learning_curve()\n"
      ],
      "execution_count": 0,
      "outputs": [
        {
          "output_type": "execute_result",
          "data": {
            "text/plain": [
              "<module 'matplotlib.pyplot' from '/usr/local/lib/python3.6/dist-packages/matplotlib/pyplot.py'>"
            ]
          },
          "metadata": {
            "tags": []
          },
          "execution_count": 11
        },
        {
          "output_type": "display_data",
          "data": {
            "image/png": "[encoded data removed]",
            "text/plain": [
              "<Figure size 432x288 with 1 Axes>"
            ]
          },
          "metadata": {
            "tags": []
          }
        }
      ]
    },
    {
      "cell_type": "markdown",
      "metadata": {
        "id": "xfHjZ05Ugt6U",
        "colab_type": "text"
      },
      "source": [
        "## Abschluss\n",
        "\n",
        "- Stochastic Gradient Descent\n",
        "führt immer zur optimalen Lösung, auch wenn das ganze ein wenig langsamer sein kann.\n",
        "\n",
        "- Bei seltsamen Datensets kann\n",
        "das Momentum Probleme bereiten\n",
        "und man erhält mit SGD die korrekte Lösung. Die Wahl des Optimizers bleibt Problemabhängig"
      ]
    },
    {
      "cell_type": "code",
      "metadata": {
        "id": "yMUoNsX2uyjw",
        "colab_type": "code",
        "colab": {}
      },
      "source": [
        ""
      ],
      "execution_count": 0,
      "outputs": []
    }
  ]
}