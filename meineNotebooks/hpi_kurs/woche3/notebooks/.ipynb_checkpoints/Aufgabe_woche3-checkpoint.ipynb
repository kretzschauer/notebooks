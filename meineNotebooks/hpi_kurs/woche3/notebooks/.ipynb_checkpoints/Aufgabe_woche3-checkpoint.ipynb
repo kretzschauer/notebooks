{
 "cells": [
  {
   "cell_type": "code",
   "execution_count": 31,
   "metadata": {},
   "outputs": [
    {
     "name": "stdout",
     "output_type": "stream",
     "text": [
      "C:\\Users\\jan\\.keras\\datasets\\imagewoof2-320\\train\n",
      "Loaded 9025 images\n",
      "C:\\Users\\jan\\.keras\\datasets\\imagewoof2-320\\val\n",
      "Loaded 3929 images\n"
     ]
    }
   ],
   "source": [
    "import numpy as np\n",
    "import matplotlib.pyplot as plt\n",
    "import tensorflow as tf\n",
    "import numpy as np\n",
    "\n",
    "from tensorflow.keras.layers import Dense, Activation, Input, \\\n",
    "  Conv2D, MaxPooling2D, Flatten\n",
    "from tensorflow.keras.models import Model\n",
    "import matplotlib.pyplot as plt\n",
    "from deeplearning2020 import helpers\n",
    "from deeplearning2020.datasets import ImageWoof\n",
    "\n",
    "train_data, test_data, classes = ImageWoof.load_data()"
   ]
  },
  {
   "cell_type": "code",
   "execution_count": null,
   "metadata": {},
   "outputs": [],
   "source": [
    "helpers.plot_images(train_data.take(9), classes)"
   ]
  },
  {
   "cell_type": "code",
   "execution_count": 34,
   "metadata": {},
   "outputs": [
    {
     "name": "stdout",
     "output_type": "stream",
     "text": [
      "['Shih-Tzu' 'Rhodesian ridgeback' 'Beagle' 'English foxhound'\n",
      " 'Border terrier' 'Australian terrier' 'Golden retriever'\n",
      " 'Old English sheepdog' 'Samoyed' 'Dingo'] 10\n"
     ]
    }
   ],
   "source": [
    "# Größe des Trainingsdatensatzes\n",
    "n_classes=len(classes)\n",
    "print(classes,n_classes)\n",
    "\n",
    "\n",
    "\n",
    "def preprocess(image, label): \n",
    "    resized_image = tf.image.resize(image, [300, 300]) \n",
    "    return resized_image, label \n"
   ]
  },
  {
   "cell_type": "code",
   "execution_count": null,
   "metadata": {},
   "outputs": [],
   "source": [
    "from tensorflow import keras\n",
    "# Festlegung der Batch Größe für die Datenvorbereitung\n",
    "batch_size = 32 \n",
    "\n",
    "# Durchmischen der Trainingsdaten, dass nicht mit sortierten Bildern trainiert wird \n",
    "\n",
    "train_data = train_data.shuffle(1000) \n",
    "\n",
    "print('shape des Trainigsdatensatzes vor dem preprocessing: ', train_data)\n",
    "\n",
    "train_data = train_data.map(preprocess) \\\n",
    "  .batch(batch_size).prefetch(1)          \n",
    "test_data = test_data.map(preprocess) \\\n",
    "  .batch(batch_size).prefetch(1)\n",
    "\n",
    "print('shape des Traingingsdatensatzes nach dem preprocessing: ', train_data)"
   ]
  },
  {
   "cell_type": "code",
   "execution_count": null,
   "metadata": {},
   "outputs": [],
   "source": [
    "# Parameter des Modells\n",
    "learning_rate=0.0001\n",
    "momentum=0.9\n",
    "dense_neurons=500\n",
    "n_filters=32\n",
    "first_kernel_size=(7,7)\n",
    "\n",
    "activation='elu'\n",
    "\n",
    "# Inputgröße muss 300x300 Pixel mit 3 RGB Farben betragen\n",
    "input_layer = Input(shape=(300, 300, 3))\n",
    "\n",
    "# Convolutional Neural Network\n",
    "# 6 Convolutional Layers mit jeweils einer Max Pooling Layer\n",
    "model = Conv2D(\n",
    "    filters=n_filters,\n",
    "    kernel_size=(7,7),\n",
    "    activation=activation\n",
    ")(input_layer)\n",
    "model = MaxPooling2D((2,2))(model)\n",
    "\n",
    "model = Conv2D(\n",
    "    filters = 32, \n",
    "    kernel_size=(3,3), \n",
    "    activation=activation\n",
    "  )(model)\n",
    "model = MaxPooling2D((2,2))(model)\n",
    "\n",
    "model = Conv2D(\n",
    "    filters = 32, \n",
    "    kernel_size=(3,3), \n",
    "    activation=activation\n",
    "  )(model)\n",
    "model = MaxPooling2D((2,2))(model)\n",
    "\n",
    "model = Conv2D(\n",
    "    filters = 32, \n",
    "    kernel_size=(3,3), \n",
    "    activation=activation\n",
    "  )(model)\n",
    "model = MaxPooling2D((2,2))(model)\n",
    "\n",
    "model = Conv2D(\n",
    "    filters = 32, \n",
    "    kernel_size=(3,3), \n",
    "    activation=activation\n",
    "  )(model)\n",
    "model = MaxPooling2D((2,2))(model)\n",
    "\n",
    "model = Conv2D(filters = 32, \n",
    "  kernel_size=(3,3), \n",
    "  activation=activation, \n",
    "  padding='same'\n",
    ")(model)\n",
    "model = MaxPooling2D((2,2))(model)\n",
    "\n",
    "# Fully-Connected-Classifier\n",
    "model = Flatten()(model)\n",
    "model = Dense(\n",
    "    dense_neurons,\n",
    "    activation=activation\n",
    ")(model)\n",
    "\n",
    "model = Dense(\n",
    "    dense_neurons / 2,\n",
    "    activation='tanh'\n",
    ")(model)\n",
    "\n",
    "# Output Layer\n",
    "output = Dense(\n",
    "    n_classes,\n",
    "   activation=\"softmax\"\n",
    ")(model)\n",
    "\n",
    "CNN_model = Model(input_layer, output)\n",
    "\n",
    "# Kompilieren des Modells\n",
    "optimizer = keras.optimizers.SGD(\n",
    "    lr=learning_rate,\n",
    "    momentum=momentum\n",
    ")\n",
    "CNN_model.compile(\n",
    "    loss=\"sparse_categorical_crossentropy\",\n",
    "    optimizer=optimizer,\n",
    "    metrics=[\"accuracy\"]\n",
    ")"
   ]
  },
  {
   "cell_type": "code",
   "execution_count": null,
   "metadata": {},
   "outputs": [],
   "source": []
  }
 ],
 "metadata": {
  "kernelspec": {
   "display_name": "Python 3",
   "language": "python",
   "name": "python3"
  },
  "language_info": {
   "codemirror_mode": {
    "name": "ipython",
    "version": 3
   },
   "file_extension": ".py",
   "mimetype": "text/x-python",
   "name": "python",
   "nbconvert_exporter": "python",
   "pygments_lexer": "ipython3",
   "version": "3.8.2"
  }
 },
 "nbformat": 4,
 "nbformat_minor": 4
}
