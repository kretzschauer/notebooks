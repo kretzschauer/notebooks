{
  "nbformat": 4,
  "nbformat_minor": 0,
  "metadata": {
    "colab": {
      "name": "Fashion MNIST - simple solution.ipynb",
      "provenance": [],
      "collapsed_sections": []
    },
    "kernelspec": {
      "name": "python3",
      "display_name": "Python 3"
    }
  },
  "cells": [
    {
      "cell_type": "code",
      "metadata": {
        "id": "NIBPydt50FD0",
        "colab_type": "code",
        "outputId": "f47dee9c-6a1e-4916-8aad-811f23374ad5",
        "colab": {
          "base_uri": "https://localhost:8080/",
          "height": 64
        }
      },
      "source": [
        "import tensorflow as tf\n",
        "from tensorflow import keras\n",
        "import numpy as np\n",
        "import matplotlib.pyplot as plt"
      ],
      "execution_count": 0,
      "outputs": [
        {
          "output_type": "display_data",
          "data": {
            "text/html": [
              "<p style=\"color: red;\">\n",
              "The default version of TensorFlow in Colab will soon switch to TensorFlow 2.x.<br>\n",
              "We recommend you <a href=\"https://www.tensorflow.org/guide/migrate\" target=\"_blank\">upgrade</a> now \n",
              "or ensure your notebook will continue to use TensorFlow 1.x via the <code>%tensorflow_version 1.x</code> magic:\n",
              "<a href=\"https://colab.research.google.com/notebooks/tensorflow_version.ipynb\" target=\"_blank\">more info</a>.</p>\n"
            ],
            "text/plain": [
              "<IPython.core.display.HTML object>"
            ]
          },
          "metadata": {
            "tags": []
          }
        }
      ]
    },
    {
      "cell_type": "code",
      "metadata": {
        "id": "wxeA-jpb0Hir",
        "colab_type": "code",
        "outputId": "ae4e028d-da8c-4dcc-bc95-96e28ea80c11",
        "colab": {
          "base_uri": "https://localhost:8080/",
          "height": 159
        }
      },
      "source": [
        "fashion_mnist = keras.datasets.fashion_mnist\n",
        "\n",
        "(train_images, train_labels), (test_images, test_labels) = fashion_mnist.load_data()\n",
        "\n",
        "class_names = ['T-shirt/top', 'Trouser', 'Pullover', 'Dress', 'Coat',\n",
        "               'Sandal', 'Shirt', 'Sneaker', 'Bag', 'Ankle boot']\n",
        "\n",
        "train_images = train_images / 255.0\n",
        "test_images = test_images / 255.0\n",
        "train_vector_labels = keras.utils.to_categorical(train_labels, len(class_names))\n",
        "test_vector_labels = keras.utils.to_categorical(test_labels, len(class_names))"
      ],
      "execution_count": 0,
      "outputs": [
        {
          "output_type": "stream",
          "text": [
            "Downloading data from https://storage.googleapis.com/tensorflow/tf-keras-datasets/train-labels-idx1-ubyte.gz\n",
            "32768/29515 [=================================] - 0s 0us/step\n",
            "Downloading data from https://storage.googleapis.com/tensorflow/tf-keras-datasets/train-images-idx3-ubyte.gz\n",
            "26427392/26421880 [==============================] - 0s 0us/step\n",
            "Downloading data from https://storage.googleapis.com/tensorflow/tf-keras-datasets/t10k-labels-idx1-ubyte.gz\n",
            "8192/5148 [===============================================] - 0s 0us/step\n",
            "Downloading data from https://storage.googleapis.com/tensorflow/tf-keras-datasets/t10k-images-idx3-ubyte.gz\n",
            "4423680/4422102 [==============================] - 0s 0us/step\n"
          ],
          "name": "stdout"
        }
      ]
    },
    {
      "cell_type": "code",
      "metadata": {
        "id": "soy8oIyt0KY0",
        "colab_type": "code",
        "outputId": "fedf55e8-85b7-4db6-9d05-bd0434366fe2",
        "colab": {
          "base_uri": "https://localhost:8080/",
          "height": 90
        }
      },
      "source": [
        "model = keras.Sequential([\n",
        "    keras.layers.Flatten(input_shape=(28, 28)),\n",
        "    keras.layers.Dense(128, activation=\"relu\"),   # oder sigmoid\n",
        "    keras.layers.Dense(10, activation=\"softmax\") \n",
        "])"
      ],
      "execution_count": 0,
      "outputs": [
        {
          "output_type": "stream",
          "text": [
            "WARNING:tensorflow:From /tensorflow-1.15.0/python3.6/tensorflow_core/python/ops/resource_variable_ops.py:1630: calling BaseResourceVariable.__init__ (from tensorflow.python.ops.resource_variable_ops) with constraint is deprecated and will be removed in a future version.\n",
            "Instructions for updating:\n",
            "If using Keras pass *_constraint arguments to layers.\n"
          ],
          "name": "stdout"
        }
      ]
    },
    {
      "cell_type": "code",
      "metadata": {
        "id": "MYrwdf340MKE",
        "colab_type": "code",
        "colab": {}
      },
      "source": [
        "model.compile(optimizer='sgd',  # oder adam\n",
        "              loss='mean_squared_error', # oder sparse_categorical_crossentropy\n",
        "              metrics=['accuracy'])"
      ],
      "execution_count": 0,
      "outputs": []
    },
    {
      "cell_type": "code",
      "metadata": {
        "id": "IuenZI2I0N6M",
        "colab_type": "code",
        "outputId": "791286ea-de29-4280-9b9c-2f4f6b871533",
        "colab": {
          "base_uri": "https://localhost:8080/",
          "height": 1000
        }
      },
      "source": [
        "model.fit(train_images, train_vector_labels, epochs=40)"
      ],
      "execution_count": 0,
      "outputs": [
        {
          "output_type": "stream",
          "text": [
            "Train on 60000 samples\n",
            "Epoch 1/40\n",
            "60000/60000 [==============================] - 4s 70us/sample - loss: 0.0828 - acc: 0.3432\n",
            "Epoch 2/40\n",
            "60000/60000 [==============================] - 4s 66us/sample - loss: 0.0609 - acc: 0.6065\n",
            "Epoch 3/40\n",
            "60000/60000 [==============================] - 4s 62us/sample - loss: 0.0498 - acc: 0.6657\n",
            "Epoch 4/40\n",
            "60000/60000 [==============================] - 4s 63us/sample - loss: 0.0448 - acc: 0.6871\n",
            "Epoch 5/40\n",
            "60000/60000 [==============================] - 4s 61us/sample - loss: 0.0416 - acc: 0.7139\n",
            "Epoch 6/40\n",
            "60000/60000 [==============================] - 4s 62us/sample - loss: 0.0392 - acc: 0.7397\n",
            "Epoch 7/40\n",
            "60000/60000 [==============================] - 4s 63us/sample - loss: 0.0372 - acc: 0.7611\n",
            "Epoch 8/40\n",
            "60000/60000 [==============================] - 4s 62us/sample - loss: 0.0356 - acc: 0.7737\n",
            "Epoch 9/40\n",
            "60000/60000 [==============================] - 4s 61us/sample - loss: 0.0342 - acc: 0.7832\n",
            "Epoch 10/40\n",
            "60000/60000 [==============================] - 4s 62us/sample - loss: 0.0331 - acc: 0.7899\n",
            "Epoch 11/40\n",
            "60000/60000 [==============================] - 4s 63us/sample - loss: 0.0321 - acc: 0.7950\n",
            "Epoch 12/40\n",
            "60000/60000 [==============================] - 4s 64us/sample - loss: 0.0313 - acc: 0.7995\n",
            "Epoch 13/40\n",
            "60000/60000 [==============================] - 4s 65us/sample - loss: 0.0306 - acc: 0.8031\n",
            "Epoch 14/40\n",
            "60000/60000 [==============================] - 4s 62us/sample - loss: 0.0300 - acc: 0.8061\n",
            "Epoch 15/40\n",
            "60000/60000 [==============================] - 4s 63us/sample - loss: 0.0294 - acc: 0.8091\n",
            "Epoch 16/40\n",
            "60000/60000 [==============================] - 4s 66us/sample - loss: 0.0289 - acc: 0.8120\n",
            "Epoch 17/40\n",
            "60000/60000 [==============================] - 4s 63us/sample - loss: 0.0285 - acc: 0.8152\n",
            "Epoch 18/40\n",
            "60000/60000 [==============================] - 4s 62us/sample - loss: 0.0281 - acc: 0.8168\n",
            "Epoch 19/40\n",
            "60000/60000 [==============================] - 4s 62us/sample - loss: 0.0277 - acc: 0.8191\n",
            "Epoch 20/40\n",
            "60000/60000 [==============================] - 4s 61us/sample - loss: 0.0274 - acc: 0.8208\n",
            "Epoch 21/40\n",
            "60000/60000 [==============================] - 4s 64us/sample - loss: 0.0271 - acc: 0.8228\n",
            "Epoch 22/40\n",
            "60000/60000 [==============================] - 4s 64us/sample - loss: 0.0268 - acc: 0.8244\n",
            "Epoch 23/40\n",
            "60000/60000 [==============================] - 4s 63us/sample - loss: 0.0265 - acc: 0.8257\n",
            "Epoch 24/40\n",
            "60000/60000 [==============================] - 4s 64us/sample - loss: 0.0263 - acc: 0.8275\n",
            "Epoch 25/40\n",
            "60000/60000 [==============================] - 4s 62us/sample - loss: 0.0260 - acc: 0.8286\n",
            "Epoch 26/40\n",
            "60000/60000 [==============================] - 4s 60us/sample - loss: 0.0258 - acc: 0.8305\n",
            "Epoch 27/40\n",
            "60000/60000 [==============================] - 4s 61us/sample - loss: 0.0256 - acc: 0.8318\n",
            "Epoch 28/40\n",
            "60000/60000 [==============================] - 4s 62us/sample - loss: 0.0254 - acc: 0.8326\n",
            "Epoch 29/40\n",
            "60000/60000 [==============================] - 4s 63us/sample - loss: 0.0252 - acc: 0.8339\n",
            "Epoch 30/40\n",
            "60000/60000 [==============================] - 4s 63us/sample - loss: 0.0250 - acc: 0.8347\n",
            "Epoch 31/40\n",
            "60000/60000 [==============================] - 4s 64us/sample - loss: 0.0248 - acc: 0.8357\n",
            "Epoch 32/40\n",
            "60000/60000 [==============================] - 4s 63us/sample - loss: 0.0247 - acc: 0.8364\n",
            "Epoch 33/40\n",
            "60000/60000 [==============================] - 4s 64us/sample - loss: 0.0245 - acc: 0.8376\n",
            "Epoch 34/40\n",
            "60000/60000 [==============================] - 4s 64us/sample - loss: 0.0244 - acc: 0.8382\n",
            "Epoch 35/40\n",
            "60000/60000 [==============================] - 4s 60us/sample - loss: 0.0242 - acc: 0.8396\n",
            "Epoch 36/40\n",
            "60000/60000 [==============================] - 4s 65us/sample - loss: 0.0241 - acc: 0.8405\n",
            "Epoch 37/40\n",
            "60000/60000 [==============================] - 4s 63us/sample - loss: 0.0240 - acc: 0.8408\n",
            "Epoch 38/40\n",
            "60000/60000 [==============================] - 4s 67us/sample - loss: 0.0238 - acc: 0.8419\n",
            "Epoch 39/40\n",
            "60000/60000 [==============================] - 4s 61us/sample - loss: 0.0237 - acc: 0.8429\n",
            "Epoch 40/40\n",
            "60000/60000 [==============================] - 4s 61us/sample - loss: 0.0236 - acc: 0.8429\n"
          ],
          "name": "stdout"
        },
        {
          "output_type": "execute_result",
          "data": {
            "text/plain": [
              "<tensorflow.python.keras.callbacks.History at 0x7f79f1a83390>"
            ]
          },
          "metadata": {
            "tags": []
          },
          "execution_count": 5
        }
      ]
    },
    {
      "cell_type": "code",
      "metadata": {
        "id": "KVFiTpIE0Qes",
        "colab_type": "code",
        "outputId": "017ddac5-8f56-4bb6-8069-b5f3370d4996",
        "colab": {
          "base_uri": "https://localhost:8080/",
          "height": 53
        }
      },
      "source": [
        "test_loss, test_acc = model.evaluate(test_images,  test_vector_labels, verbose=2)\n",
        "print(\"Test accuracy:\", test_acc)"
      ],
      "execution_count": 0,
      "outputs": [
        {
          "output_type": "stream",
          "text": [
            "10000/10000 - 0s - loss: 0.0250 - acc: 0.8303\n",
            "Test accuracy: 0.8303\n"
          ],
          "name": "stdout"
        }
      ]
    }
  ]
}