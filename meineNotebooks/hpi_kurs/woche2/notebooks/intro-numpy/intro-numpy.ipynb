{
  "nbformat": 4,
  "nbformat_minor": 0,
  "metadata": {
    "colab": {
      "name": "intro-numpy.ipynb",
      "provenance": [],
      "collapsed_sections": [
        "j0YevGv1boFP"
      ]
    },
    "kernelspec": {
      "name": "python3",
      "display_name": "Python 3"
    }
  },
  "cells": [
    {
      "cell_type": "markdown",
      "metadata": {
        "id": "xw2krrn8bnVg",
        "colab_type": "text"
      },
      "source": [
        "## Notebook begleitend zum Video \"Einführug Numpy\"\n"
      ]
    },
    {
      "cell_type": "markdown",
      "metadata": {
        "id": "fpe31TYjaKDR",
        "colab_type": "text"
      },
      "source": [
        "### Numpy importieren"
      ]
    },
    {
      "cell_type": "markdown",
      "metadata": {
        "id": "jn1E2ATCgGYA",
        "colab_type": "text"
      },
      "source": [
        "Bevor wir die volle Funktionalität von NumPy nutzen können, müssen wir als aller erstes die Bibliothek importieren. Mit dem Kürzel \"as\" geben wir numpy einen \"Spitznamen\" und können für alle Funktionen von Numpy ab jetzt schreiben np.some_function()."
      ]
    },
    {
      "cell_type": "code",
      "metadata": {
        "id": "gZABmMcyZwAh",
        "colab_type": "code",
        "colab": {}
      },
      "source": [
        "import numpy as np"
      ],
      "execution_count": 0,
      "outputs": []
    },
    {
      "cell_type": "markdown",
      "metadata": {
        "id": "_BRKWjpqgQvP",
        "colab_type": "text"
      },
      "source": [
        "### Numpy Funktionalitäten"
      ]
    },
    {
      "cell_type": "markdown",
      "metadata": {
        "id": "cJMNS0BUaRKP",
        "colab_type": "text"
      },
      "source": [
        "#### Erstellen eines Vektors\n",
        "\n",
        "Ein Vektor in Numpy wird als Array representiert. Hierbei ist ein horizontaler Vektor ein 1-dimensionaler und ein vertikaler Vektor ein 2-dimensionaler Vektor.\n",
        "\n",
        "Die Funktion `np.array()` erzeugt dieses mehrdimensionale Numpy Array (ndarray)."
      ]
    },
    {
      "cell_type": "code",
      "metadata": {
        "id": "Evwz2S9ZaTju",
        "colab_type": "code",
        "outputId": "8d5a8f84-9ce7-4f9f-ee5f-5f9eae3e1bee",
        "colab": {
          "base_uri": "https://localhost:8080/",
          "height": 85
        }
      },
      "source": [
        "vector_row = np.array([1,2,3]) # Horizontaler Vektor (1D)\n",
        "vector_column = np.array([[1],[2],[3]]) # Vertikaler Vektor (2D und somit n x 1 Matrix)\n",
        "print(vector_row)\n",
        "print(vector_column)"
      ],
      "execution_count": 0,
      "outputs": [
        {
          "output_type": "stream",
          "text": [
            "[1 2 3]\n",
            "[[1]\n",
            " [2]\n",
            " [3]]\n"
          ],
          "name": "stdout"
        }
      ]
    },
    {
      "cell_type": "markdown",
      "metadata": {
        "id": "s34p4I6-aV5e",
        "colab_type": "text"
      },
      "source": [
        "#### Erstellen einer Matrix\n",
        "\n",
        "Eine Matrix ist ebenfalls ein mehrdimensionales Array.\n",
        "\n",
        "Auch hier wird dieses mit der Funktion `np.array()` erzeugt, wobei die Anzahl der Verschachtelungen (Array in einem Array) die Dimension der Matrix darstellt."
      ]
    },
    {
      "cell_type": "code",
      "metadata": {
        "id": "UE3CB7y0aYZf",
        "colab_type": "code",
        "outputId": "4acb86df-eb03-474f-adb1-8d52a0c78954",
        "colab": {
          "base_uri": "https://localhost:8080/",
          "height": 51
        }
      },
      "source": [
        "matrix = np.array([[1,2,3],[4,5,6]])\n",
        "print(matrix)"
      ],
      "execution_count": 0,
      "outputs": [
        {
          "output_type": "stream",
          "text": [
            "[[1 2 3]\n",
            " [4 5 6]]\n"
          ],
          "name": "stdout"
        }
      ]
    },
    {
      "cell_type": "markdown",
      "metadata": {
        "id": "P2CdK2V1abqf",
        "colab_type": "text"
      },
      "source": [
        "#### Hilfreiche Initialisierungen eines Arrays"
      ]
    },
    {
      "cell_type": "markdown",
      "metadata": {
        "id": "8oPfviIIoJR-",
        "colab_type": "text"
      },
      "source": [
        "Mittels einiger Funktionen lassen sich die Arrays unkompliziert mit Daten befüllen.\n",
        "\n",
        "Hierbei bietet `np.arrange()` und `np.linspace()` mit unterschiedlichen Ansätzen die Möglichkeit ein Array mit einem bestimmten Intervall zu erzeugen."
      ]
    },
    {
      "cell_type": "code",
      "metadata": {
        "id": "xyGHC4qMakdX",
        "colab_type": "code",
        "outputId": "4408a617-b7a3-45ee-e62a-59bbe84c3749",
        "colab": {
          "base_uri": "https://localhost:8080/",
          "height": 119
        }
      },
      "source": [
        "# Werte von 0 bis 30 (exklusiv) mit Schrittgröße 2\n",
        "range_with_fixed_interval = np.arange(0, 30, 2)\n",
        "print(f\"Vektor mit arange:\\n{range_with_fixed_interval} \\n\")\n",
        "\n",
        "# 9 gleichmäßig verteilte Werte zwischen 0 und 4\n",
        "equally_spaced_range = np.linspace(0, 4, 9)\n",
        "print(f\"Vektor mit linspace:\\n{equally_spaced_range} \\n\")"
      ],
      "execution_count": 0,
      "outputs": [
        {
          "output_type": "stream",
          "text": [
            "Vektor mit arange:\n",
            "[ 0  2  4  6  8 10 12 14 16 18 20 22 24 26 28] \n",
            "\n",
            "Vektor mit linspace:\n",
            "[0.  0.5 1.  1.5 2.  2.5 3.  3.5 4. ] \n",
            "\n"
          ],
          "name": "stdout"
        }
      ]
    },
    {
      "cell_type": "markdown",
      "metadata": {
        "id": "aGahon6kap3G",
        "colab_type": "text"
      },
      "source": [
        "#### Hilfreiche Initialisierungen einer Matrix"
      ]
    },
    {
      "cell_type": "markdown",
      "metadata": {
        "id": "5x-0_4WjR19l",
        "colab_type": "text"
      },
      "source": [
        "Ebenso gibt es fest definierte Funktionen um spezielle Matrizen zu erstellen. \n",
        "\n",
        "Es kann dabei ganz einfach eine Identitätsmatrix oder eine Matrix mit beliebiger Größe, welche ausschließlich aus Einsen oder Nullen besteht, erstellt werden. "
      ]
    },
    {
      "cell_type": "code",
      "metadata": {
        "id": "scFSN5Abas3P",
        "colab_type": "code",
        "outputId": "544cc68f-d4f9-44af-bfb0-a931fccb1f4d",
        "colab": {
          "base_uri": "https://localhost:8080/",
          "height": 272
        }
      },
      "source": [
        "matrix_id = np.eye(3)           # 3 x 3 Identitätsmatrix\n",
        "matrix_ones = np.ones((3, 2))   # Matrix aus Einsen\n",
        "matrix_zeros = np.zeros((3, 2)) # Matrix aus Nullen\n",
        "print(f\"Identitätsmatrix:\\n{matrix_id} \\n\")\n",
        "print(f\"Einermatrix:\\n{matrix_ones} \\n\")\n",
        "print(f\"Nullermatrix:\\n{matrix_zeros} \\n\")"
      ],
      "execution_count": 0,
      "outputs": [
        {
          "output_type": "stream",
          "text": [
            "Identitätsmatrix:\n",
            "[[1. 0. 0.]\n",
            " [0. 1. 0.]\n",
            " [0. 0. 1.]] \n",
            "\n",
            "Einermatrix:\n",
            "[[1. 1.]\n",
            " [1. 1.]\n",
            " [1. 1.]] \n",
            "\n",
            "Nullermatrix:\n",
            "[[0. 0.]\n",
            " [0. 0.]\n",
            " [0. 0.]] \n",
            "\n"
          ],
          "name": "stdout"
        }
      ]
    },
    {
      "cell_type": "markdown",
      "metadata": {
        "id": "Jz2wc9ywau5u",
        "colab_type": "text"
      },
      "source": [
        "#### Zugriff auf Elemente eines mehrdimensionalen Array"
      ]
    },
    {
      "cell_type": "markdown",
      "metadata": {
        "id": "Ta99PPMBUjUp",
        "colab_type": "text"
      },
      "source": [
        "Der Zugriff auf die einzelnen Elemente funktioniert wie folgend gezeigt und wahrscheinlich auch aus anderen Programmiersprachen bekannt. \n",
        "\n",
        "Mit der :-Schreibweise kann ganz einfach ein bestimmter Bereich des Arrays abgefragt werden, in dem man einen Start- und Endindex angibt.\n",
        "Beim Index mit negativen Zahlen geht das Array in umgedrehter Reihenfolge durch seine Werte."
      ]
    },
    {
      "cell_type": "code",
      "metadata": {
        "id": "ppVNVWzca0Ef",
        "colab_type": "code",
        "outputId": "8ee7fd4c-aacc-4406-bcb2-43dd1fa8ca43",
        "colab": {
          "base_uri": "https://localhost:8080/",
          "height": 289
        }
      },
      "source": [
        "vector = np.array([1,2,3])\n",
        "matrix = np.array([[1,2,3],[4,5,6]])\n",
        "print(f\"Vektor: {vector}\")\n",
        "print(f\"Matrix:\\n{matrix}\")\n",
        "\n",
        "# Das 3. Element des Vektors\n",
        "print(f\"\\nDas 3. Element des Vektors: {vector[2]}\")\n",
        "\n",
        "# Das 2. Element in der 2. Zeile der Matrix\n",
        "print(f\"\\nDas 2. Element in der 2. Zeile der Matrix: {matrix[1,1]}\")\n",
        "\n",
        "# Alle Elemente bis zum und exklusive dem Element am Index 2\n",
        "print(f\"\\nAlle Elemente bis zum und exklusive dem Element am Index 2: {vector[:2]}\")\n",
        "\n",
        "# Alles Elemente ab und inklusive dem Element am Index 2\n",
        "print(f\"\\nAlles Elemente ab und inklusive dem Element am Index 2: {vector[2:]}\")\n",
        "\n",
        "# Alle Elemente des Vektors\n",
        "print(f\"\\nAlle Elemente des Vektors: {vector[:]}\")\n",
        "\n",
        "# Das letzte Element (gleiche Ergebnis wie vector[len(vector)-1])\n",
        "print(f\"\\nDas letzte Element des Vektors: {vector[-1]}\")"
      ],
      "execution_count": 0,
      "outputs": [
        {
          "output_type": "stream",
          "text": [
            "Vektor: [1 2 3]\n",
            "Matrix:\n",
            "[[1 2 3]\n",
            " [4 5 6]]\n",
            "\n",
            "Das 3. Element des Vektors: 3\n",
            "\n",
            "Das 2. Element in der 2. Zeile der Matrix: 5\n",
            "\n",
            "Alle Elemente bis zum und exklusive dem Element am Index 2: [1 2]\n",
            "\n",
            "Alles ab und inklusive dem Element am Index 2: [3]\n",
            "\n",
            "Alle Elemente des Vektors: [1 2 3]\n",
            "\n",
            "Das letzte Element des Vektors: 3\n"
          ],
          "name": "stdout"
        }
      ]
    },
    {
      "cell_type": "markdown",
      "metadata": {
        "id": "6xPS5dUWa1t2",
        "colab_type": "text"
      },
      "source": [
        "#### Eigenschaften einer Matrix"
      ]
    },
    {
      "cell_type": "code",
      "metadata": {
        "id": "tDNB8fd3a4tO",
        "colab_type": "code",
        "outputId": "deca0655-3935-45ca-d6b9-378be45893fe",
        "colab": {
          "base_uri": "https://localhost:8080/",
          "height": 170
        }
      },
      "source": [
        "matrix = np.array([[1,2,3],[4,5,6]])\n",
        "print(f\"Matrix:\\n{matrix}\")\n",
        "\n",
        "# Anzahl von Reihen und Spalten\n",
        "print(f\"\\nForm der Matrix (Anzahl von Reihen und Spalten): {matrix.shape}\")\n",
        "\n",
        "# Anzahl der Elemente (Reihen * Spalten)\n",
        "print(f\"\\nAnzahl der Elemente (Reihen * Spalten): {matrix.size}\")\n",
        "\n",
        "# Anzahl der Dimensionen\n",
        "print(f\"\\nDimension der Matrix: {matrix.ndim}\")"
      ],
      "execution_count": 0,
      "outputs": [
        {
          "output_type": "stream",
          "text": [
            "Matrix:\n",
            "[[1 2 3]\n",
            " [4 5 6]]\n",
            "\n",
            "Form der Matrix (Anzahl von Reihen und Spalten): (2, 3)\n",
            "\n",
            "Anzahl der Elemente (Reihen * Spalten): 6\n",
            "\n",
            "Dimension der Matrix: 2\n"
          ],
          "name": "stdout"
        }
      ]
    },
    {
      "cell_type": "markdown",
      "metadata": {
        "id": "QWgranIWa7f3",
        "colab_type": "text"
      },
      "source": [
        "#### Transformationen auf Matrizen"
      ]
    },
    {
      "cell_type": "markdown",
      "metadata": {
        "id": "5Tc8XLC4VMb1",
        "colab_type": "text"
      },
      "source": [
        "Wie in der nächsten Zeile an einigen Beispielen gezeigt, lassen sich Numpy Arrays relativ einfach in eine andere Form (unterschidliches shape) verwandeln.\n",
        "\n",
        "Hierbei muss ausschließlich darauf geachtet werden, dass die Elemente der neuen Form immernoch die gleiche Anzahl an Elementen besitzt wie die alte Form.\n",
        "\n",
        "Die Matrix speichert die neue Form nicht, sondern dies muss mit einer neuen Variablenzuweisung geschehen.\n",
        "\n",
        "`matrix.T` ist eine besondere Art der Umformung und spiegelt die Werte an der Diagonalen (Transponierte Matrix)"
      ]
    },
    {
      "cell_type": "code",
      "metadata": {
        "id": "nd1cGsIZbB_H",
        "colab_type": "code",
        "outputId": "e92d6913-5e66-423e-8b36-1eea7cf2ab62",
        "colab": {
          "base_uri": "https://localhost:8080/",
          "height": 731
        }
      },
      "source": [
        "matrix = np.array([[1,2,3,4],[5,6,7,8],[9,10,11,12]])\n",
        "print(f\"Matrix:\\n{matrix}\")\n",
        "\n",
        "print(f\"\\nReshaped (12x1):\\n{matrix.reshape(12,1)}\")\n",
        "\n",
        "print(f\"\\nReshaped (1x12):\\n{matrix.reshape(1,12)}\")\n",
        "\n",
        "print(f\"\\nReshaped (2x6):\\n{matrix.reshape(2,6)}\")\n",
        "\n",
        "print(f\"\\nReshaped (1 Zeile mit so vielen Spalten wie nötig (-1)):\\n{matrix.reshape(1,-1)}\")\n",
        "\n",
        "print(f\"\\nFlattened (Umwandlung in ein unverschachteltes 1D Array):\\n{matrix.flatten()}\")\n",
        "\n",
        "print(f\"\\nTransponiert (Spiegelung an der Diagonalen):\\n{matrix.T}\")"
      ],
      "execution_count": 0,
      "outputs": [
        {
          "output_type": "stream",
          "text": [
            "Matrix:\n",
            "[[ 1  2  3  4]\n",
            " [ 5  6  7  8]\n",
            " [ 9 10 11 12]]\n",
            "\n",
            "Reshaped (12x1):\n",
            "[[ 1]\n",
            " [ 2]\n",
            " [ 3]\n",
            " [ 4]\n",
            " [ 5]\n",
            " [ 6]\n",
            " [ 7]\n",
            " [ 8]\n",
            " [ 9]\n",
            " [10]\n",
            " [11]\n",
            " [12]]\n",
            "\n",
            "Reshaped (1x12):\n",
            "[[ 1  2  3  4  5  6  7  8  9 10 11 12]]\n",
            "\n",
            "Reshaped (2x6):\n",
            "[[ 1  2  3  4  5  6]\n",
            " [ 7  8  9 10 11 12]]\n",
            "\n",
            "Reshaped (2x6):\n",
            "[[ 1  2  3  4]\n",
            " [ 5  6  7  8]\n",
            " [ 9 10 11 12]]\n",
            "\n",
            "Reshaped (1 Zeile mit so vielen Spalten wie nötig (-1)):\n",
            "[[ 1  2  3  4  5  6  7  8  9 10 11 12]]\n",
            "\n",
            "Flattened (Umwandlung in ein unverschachteltes 1D Array):\n",
            "[ 1  2  3  4  5  6  7  8  9 10 11 12]\n",
            "\n",
            "Transponiert (Spiegelung an der Diagonalen):\n",
            "[[ 1  5  9]\n",
            " [ 2  6 10]\n",
            " [ 3  7 11]\n",
            " [ 4  8 12]]\n"
          ],
          "name": "stdout"
        }
      ]
    },
    {
      "cell_type": "markdown",
      "metadata": {
        "id": "zTQFxYd_bQ_H",
        "colab_type": "text"
      },
      "source": [
        "#### Punktprodukt"
      ]
    },
    {
      "cell_type": "markdown",
      "metadata": {
        "id": "7yZtejohaqFF",
        "colab_type": "text"
      },
      "source": [
        "Der dot-Operator (oder @) bildet das bekannte Punktprodukt von 2 Vektoren. "
      ]
    },
    {
      "cell_type": "code",
      "metadata": {
        "id": "WfZVXuDPbS7v",
        "colab_type": "code",
        "outputId": "eddef214-13f5-4ef9-deec-c247166bfa78",
        "colab": {
          "base_uri": "https://localhost:8080/",
          "height": 88
        }
      },
      "source": [
        "vector1 = np.array([1,2,3])\n",
        "vector2 = np.array([1,1,1])\n",
        "print(f\"Vector1: {vector1}\")\n",
        "print(f\"Vector2: {vector2}\")\n",
        "\n",
        "# Punktprodukt\n",
        "print(f\"\\nPunktprodukt = {np.dot(vector1,vector2)}\")\n",
        "\n",
        "# Punktprodukt kann auch mit dem @ Operator geschrieben werden\n",
        "# vector1 @ vector2"
      ],
      "execution_count": 0,
      "outputs": [
        {
          "output_type": "stream",
          "text": [
            "Vector1: [1 2 3]\n",
            "Vector2: [1 1 1]\n",
            "\n",
            "Punktprodukt = 6\n"
          ],
          "name": "stdout"
        }
      ]
    },
    {
      "cell_type": "markdown",
      "metadata": {
        "id": "mGYiuvgabD5X",
        "colab_type": "text"
      },
      "source": [
        "\n",
        "#### Rechenoperationen von Matrizen"
      ]
    },
    {
      "cell_type": "markdown",
      "metadata": {
        "id": "HSc1zpl0XtHf",
        "colab_type": "text"
      },
      "source": [
        "Die Elementbasierten Operationen funktionieren, wie der Name schon sagt auf den einzelnen Elementen. So wird das 1. Element der einen Matrix mit dem 1. Element der anderen Matrix verrechnet usw.\n",
        "\n",
        "Die klassische Matrixmultiplikation funktioniert mit dem dot-Operator, welcher normalerweise das Punktprodukt von 2 Vektoren bildet.\n",
        "Hierfür müssen die verrechneten Matrizen nur in die richtige Form gebracht werden, sodass die Spalten der ersten Matrix mit den Reihen der zweiten Matrix über einstimmen. "
      ]
    },
    {
      "cell_type": "code",
      "metadata": {
        "id": "A7jwryfHbOW3",
        "colab_type": "code",
        "outputId": "a7529ad8-e6a3-4f88-9669-0151eb856622",
        "colab": {
          "base_uri": "https://localhost:8080/",
          "height": 595
        }
      },
      "source": [
        "matrix1 = np.array([[1,2,3],[4,5,6]])\n",
        "matrix2 = np.array([[2,2,2],[2,2,2]])\n",
        "print(f\"Matrix1:\\n{matrix1}\")\n",
        "print(f\"\\nMatrix2:\\n{matrix2}\")\n",
        "\n",
        "# Elementweise Addition\n",
        "print(f\"\\nmatrix1 + matrix2 =\\n{matrix1 + matrix2}\")\n",
        "\n",
        "# Elementweise Subtraktion\n",
        "print(f\"\\nmatrix1 - matrix2 =\\n{matrix1 - matrix2}\")\n",
        "\n",
        "# Elementweise Multiplikation\n",
        "print(f\"\\nmatrix1 * matrix2 =\\n{matrix1 * matrix2}\")\n",
        "\n",
        "# Elementweise Division\n",
        "print(f\"\\nmatrix1 / matrix2 =\\n{matrix1 / matrix2}\")\n",
        "\n",
        "# Matrixmultiplikation (nur möglich für (n x m)-Matrix * (m x l)-Matrix)\n",
        "# Reshape muss in diesem Fall vorgenommen werden\n",
        "dot = np.dot(matrix1.reshape(3,2),matrix2)\n",
        "# Die transponierte Matrix vertauscht genau die Zeilen und Spalten, wie von uns gewollt. \n",
        "# Somit wird das Transponieren in den meisten Fällen eher das gewünschte Ergebnis erzielen, da reshape() die Reihenfolge der Elemente anders betrachtet. \n",
        "# dot = np.dot(matrix1.T,matrix2)\n",
        "print(f\"\\nMatrixmultiplikation =\\n{dot}\")"
      ],
      "execution_count": 3,
      "outputs": [
        {
          "output_type": "stream",
          "text": [
            "Matrix1:\n",
            "[[1 2 3]\n",
            " [4 5 6]]\n",
            "\n",
            "Matrix2:\n",
            "[[2 2 2]\n",
            " [2 2 2]]\n",
            "\n",
            "matrix1 + matrix2 =\n",
            "[[3 4 5]\n",
            " [6 7 8]]\n",
            "\n",
            "matrix1 - matrix2 =\n",
            "[[-1  0  1]\n",
            " [ 2  3  4]]\n",
            "\n",
            "matrix1 * matrix2 =\n",
            "[[ 2  4  6]\n",
            " [ 8 10 12]]\n",
            "\n",
            "matrix1 / matrix2 =\n",
            "[[0.5 1.  1.5]\n",
            " [2.  2.5 3. ]]\n",
            "[[1 2]\n",
            " [3 4]\n",
            " [5 6]]\n",
            "[[1 4]\n",
            " [2 5]\n",
            " [3 6]]\n",
            "\n",
            "Matrixmultiplikation =\n",
            "[[10 10 10]\n",
            " [14 14 14]\n",
            " [18 18 18]]\n"
          ],
          "name": "stdout"
        }
      ]
    },
    {
      "cell_type": "markdown",
      "metadata": {
        "id": "I5bKMRAhbdVw",
        "colab_type": "text"
      },
      "source": [
        "#### Anwenden von Funktionen auf mehrere Elemente\n",
        "\n",
        "Mit Hilfe des `lambda`-Operators können anonyme Funktionen, d.h. Funktionen ohne Namen erzeugt werden. Sie haben eine beliebige Anzahl von Parametern, führen einen Ausdruck aus und liefern den Wert dieses Ausdrucks als Rückgabewert zurück.\n",
        "\n",
        "Bekommt die Funktion ein mehrdimensionales Numpy Array operiert es auf allen Elementen seperat. "
      ]
    },
    {
      "cell_type": "code",
      "metadata": {
        "id": "wWVu37dJbgrI",
        "colab_type": "code",
        "outputId": "a7c0f429-9bef-4b40-ae6a-1e8e04c5b742",
        "colab": {
          "base_uri": "https://localhost:8080/",
          "height": 68
        }
      },
      "source": [
        "matrix = np.array([[1,2,3],[4,5,6],[7,8,9]])\n",
        "\n",
        "# Ein lambda Ausdruck der die Eingabe mit 100 addiert und implizit returned\n",
        "add_100 = lambda i: i+100\n",
        "\n",
        "# Funktionsanwendung auf alle Elemente der Matrix\n",
        "matrix = add_100(matrix)\n",
        "print(matrix)"
      ],
      "execution_count": 0,
      "outputs": [
        {
          "output_type": "stream",
          "text": [
            "[[101 102 103]\n",
            " [104 105 106]\n",
            " [107 108 109]]\n"
          ],
          "name": "stdout"
        }
      ]
    },
    {
      "cell_type": "markdown",
      "metadata": {
        "id": "j0YevGv1boFP",
        "colab_type": "text"
      },
      "source": [
        "#### Berechnen von Durchschnitt, Standardabweichung und Varianz"
      ]
    },
    {
      "cell_type": "markdown",
      "metadata": {
        "id": "r8o31HjTcKnM",
        "colab_type": "text"
      },
      "source": [
        "Numpy bietet ebenso einige statistische Funktionalitäten, welche für unsere Zwecke erstmal nicht von Relevanz sind. "
      ]
    },
    {
      "cell_type": "code",
      "metadata": {
        "id": "OU0ouqp-bter",
        "colab_type": "code",
        "outputId": "3287cc73-0be3-4e7e-80aa-5b66518cec67",
        "colab": {
          "base_uri": "https://localhost:8080/",
          "height": 68
        }
      },
      "source": [
        "matrix = np.array([[1,2,3],[4,5,6],[7,8,9]])\n",
        "\n",
        "# Statistisches Mittel\n",
        "print(np.mean(matrix))\n",
        "\n",
        "# Standardabweichung\n",
        "print(np.std(matrix))\n",
        "\n",
        "# Varianz\n",
        "print(np.var(matrix))"
      ],
      "execution_count": 0,
      "outputs": [
        {
          "output_type": "stream",
          "text": [
            "5.0\n",
            "2.581988897471611\n",
            "6.666666666666667\n"
          ],
          "name": "stdout"
        }
      ]
    },
    {
      "cell_type": "markdown",
      "metadata": {
        "id": "VqcRDd2HbjBv",
        "colab_type": "text"
      },
      "source": [
        "#### Berechnung von Zufallswerten\n",
        "\n",
        "Wir wollen immer die gleiche pseudozufällige Folge an Werten erhalten, woraufhin wir den Zufallsgenerator \"seeden\".\n",
        "Die mehrfache Ausführung der Zelle gibt somit die immer gleichen Elemente zurück, was ohne `np.random.seed(1)` nicht der Fall wäre. \n",
        "\n",
        "Versucht es gerne aus!!"
      ]
    },
    {
      "cell_type": "code",
      "metadata": {
        "id": "X47xFEMHblT3",
        "colab_type": "code",
        "outputId": "f8ae9d25-f2c0-4073-bdd4-7562fa83a37f",
        "colab": {
          "base_uri": "https://localhost:8080/",
          "height": 85
        }
      },
      "source": [
        "# Generator seeden um reproduzierbare Ausgaben zu erhalten\n",
        " np.random.seed(1)\n",
        "\n",
        "# Generiert 3 zufällige Integer zwischen 0 und 10\n",
        "print(np.random.randint(0,11,3))\n",
        "\n",
        "# Generiert eine zufällige 2x2 Matrix\n",
        "# Die Werte der Matrix sind floats einer Normalverteilung mit Mittelwert 0 und Varianz 1\n",
        "print(np.random.randn(2, 2))\n",
        "\n",
        "# Generiert 5 zufällige Gleitkommazahlen in dem Inertvall 0-1 (exklusive der 1)\n",
        "# numpy.random.random(5)\n",
        "\n",
        "# 3 Zahlen aus einer Normalverteilung mit Mittelwert 1 und Varianz 2\n",
        "print(np.random.normal(1.0, 2.0, 3))"
      ],
      "execution_count": 0,
      "outputs": [
        {
          "output_type": "stream",
          "text": [
            "[5 8 9]\n",
            "[[-0.80217284 -0.44887781]\n",
            " [-1.10593508 -1.65451545]]\n",
            "[-3.72693721  3.2706907  -1.03402827]\n"
          ],
          "name": "stdout"
        }
      ]
    },
    {
      "cell_type": "markdown",
      "metadata": {
        "id": "ECDfqyAvb8Yg",
        "colab_type": "text"
      },
      "source": [
        "#### Datentyp ändern"
      ]
    },
    {
      "cell_type": "code",
      "metadata": {
        "id": "jh3dLXHAdd4W",
        "colab_type": "code",
        "outputId": "6369ea1f-9ee7-44a9-a09f-da2703b15f0f",
        "colab": {
          "base_uri": "https://localhost:8080/",
          "height": 68
        }
      },
      "source": [
        "matrix = np.array([[1,2,3],[4,5,6],[7,8,9]])\n",
        "\n",
        "# Ändert Datentyp der Elemente zu floats\n",
        "print(matrix.astype(float))"
      ],
      "execution_count": 0,
      "outputs": [
        {
          "output_type": "stream",
          "text": [
            "[[1. 2. 3.]\n",
            " [4. 5. 6.]\n",
            " [7. 8. 9.]]\n"
          ],
          "name": "stdout"
        }
      ]
    },
    {
      "cell_type": "markdown",
      "metadata": {
        "id": "BSniIDhid8bm",
        "colab_type": "text"
      },
      "source": [
        "#### Arrays verketten"
      ]
    },
    {
      "cell_type": "markdown",
      "metadata": {
        "id": "D2sHvwynfiKO",
        "colab_type": "text"
      },
      "source": [
        "Mittels der `append()` Funktion lassen sich Vektoren mit einander verketten. Sollten die Arrays von einem unterschiedlichen Datentyp sein, werden die Werte in den größeren Datentyp konvertiert (z.B. int -> float -> strings)"
      ]
    },
    {
      "cell_type": "code",
      "metadata": {
        "id": "YEVLhmE5d_01",
        "colab_type": "code",
        "outputId": "a32e1683-f62a-4fe1-f7f3-eabe65699bbd",
        "colab": {
          "base_uri": "https://localhost:8080/",
          "height": 34
        }
      },
      "source": [
        "vector1 = np.array([1,2,3])\n",
        "vector2 = np.array([4,5,6])\n",
        "\n",
        "# Vektoren verketten\n",
        "print(np.append(vector1, vector2))\n",
        "\n",
        "# Alternativ concatenate\n",
        "# np.concatenate((vector1, vector2))"
      ],
      "execution_count": 0,
      "outputs": [
        {
          "output_type": "stream",
          "text": [
            "[list([4, 5, 6]) 2 3 1 2 3 4 5 6]\n"
          ],
          "name": "stdout"
        }
      ]
    },
    {
      "cell_type": "markdown",
      "metadata": {
        "id": "ii7KL7COby3Y",
        "colab_type": "text"
      },
      "source": [
        "#### Finden von Minimum und Maximum"
      ]
    },
    {
      "cell_type": "markdown",
      "metadata": {
        "id": "5mRWfo68iDuU",
        "colab_type": "text"
      },
      "source": [
        "Die Funktionen `min()` und `max()` sind in ihrer Bezeichnung recht eindeutig, wohingegen `argmax()` bzw `argmin()` für die Indizes dieser Elemente steht.\n",
        "\n",
        "Durch die Angabe einer Achse werden die entsprechenden Elemente entlang dieser Achse beschrieben (mit 0 werden die maximalen Elemente in den Spalten und mit 1 die maximalen Elemente in den Reihen angegeben)."
      ]
    },
    {
      "cell_type": "code",
      "metadata": {
        "id": "shMPGf4kb1sY",
        "colab_type": "code",
        "outputId": "6f6b9669-c9f2-44e8-84a0-e4d7f9714db5",
        "colab": {
          "base_uri": "https://localhost:8080/",
          "height": 153
        }
      },
      "source": [
        "matrix = np.array([[1,4,3],[34,7,6],[27,18,9]])\n",
        "print(matrix)\n",
        "\n",
        "# Maximales Element\n",
        "print(f\"\\nMax: {np.max(matrix)}\")\n",
        "\n",
        "# Minimales Element\n",
        "print(f\"Min: {np.min(matrix)}\")\n",
        "\n",
        "# Die Indizes der maximalen Elemente entlang einer Achse\n",
        "print(f\"Indizes der maximalen Elemente aus Achse 0: {np.argmax(matrix, axis=0)}\")\n",
        "\n",
        "# Das maximale Element entlang einer Achse zurückgeben\n",
        "print(f\"Maximale Elemente der Achse 0: {np.max(matrix,axis=0)}\")"
      ],
      "execution_count": 0,
      "outputs": [
        {
          "output_type": "stream",
          "text": [
            "[[ 1  4  3]\n",
            " [34  7  6]\n",
            " [27 18  9]]\n",
            "\n",
            "Max: 34\n",
            "Min: 34\n",
            "Indizes der maximalen Elemente aus Achse 0: [1 2 2]\n",
            "Maximale Elemente der Achse 0: [34 18  9]\n"
          ],
          "name": "stdout"
        }
      ]
    },
    {
      "cell_type": "markdown",
      "metadata": {
        "id": "iAULXUGzb4SI",
        "colab_type": "text"
      },
      "source": [
        "#### Matrixdiagonale, Spur"
      ]
    },
    {
      "cell_type": "markdown",
      "metadata": {
        "id": "qQbE0Z9KhMCe",
        "colab_type": "text"
      },
      "source": [
        "Auch auf diese Funktionalitäten wollten wir nicht weiter eingehen, da sie für unsere Zwecke keine große Bedeutung haben. Sie sind hier eher der vollständigkeitshalber mit aufgeführt. "
      ]
    },
    {
      "cell_type": "code",
      "metadata": {
        "id": "H419PMwKb6Lw",
        "colab_type": "code",
        "outputId": "5ab32621-3d9c-49ff-d2ed-4e895ae20119",
        "colab": {
          "base_uri": "https://localhost:8080/",
          "height": 136
        }
      },
      "source": [
        "matrix = np.array([[1,4,3],[34,7,6],[27,18,9]])\n",
        "print(matrix)\n",
        "\n",
        "# Hauptdiagonale\n",
        "print(f\"\\nHauptdiagonale: {matrix.diagonal()}\")\n",
        "\n",
        "# Diagonale direkt über der Hauptdiagonalen\n",
        "print(f\"Diagonale über der Hauptdiagonalen: {matrix.diagonal(offset=1)}\")\n",
        "\n",
        "# Spur der Matrix (Summe der Elemente der Hauptdiagonalen)\n",
        "print(f\"Spur: {matrix.trace()}\")"
      ],
      "execution_count": 0,
      "outputs": [
        {
          "output_type": "stream",
          "text": [
            "[[ 1  4  3]\n",
            " [34  7  6]\n",
            " [27 18  9]]\n",
            "\n",
            "Hauptdiagonale: [1 7 9]\n",
            "Diagonale über der Hauptdiagonalen: [4 6]\n",
            "Spur: 17\n"
          ],
          "name": "stdout"
        }
      ]
    }
  ]
}