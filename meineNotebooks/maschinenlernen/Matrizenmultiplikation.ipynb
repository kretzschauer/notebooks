{
 "cells": [
  {
   "cell_type": "markdown",
   "metadata": {},
   "source": [
    "# Übung Vektoroperationen und Matrizenmultiplikation\n",
    "\n",
    "Mit der Bibliothek numpy und den darin verfügbaren numpy-Arrays kann man die Operationen mit Vektoren und Matrizen einfach und übersichtlich darstellen. Dazu muss man eine Python-Liste in ein Array umwandeln. Eine eindimensionale Liste wird zu einem Vektor, eine zweidimensionale Liste zu einer Matrix.   \n",
    "Siehe auch https://www.python-kurs.eu/matrix_arithmetik.php\n",
    "## 1. Vektoroperationen:\n"
   ]
  },
  {
   "cell_type": "code",
   "execution_count": 3,
   "metadata": {},
   "outputs": [
    {
     "name": "stdout",
     "output_type": "stream",
     "text": [
      "v1+v2:\n",
      " [1 5 5]\n",
      "v1-v2:\n",
      " [ 1 -1  1]\n",
      "v1*v2:\n",
      " [0 6 6]\n",
      "12\n",
      "12\n",
      "[-5 -2  3]\n",
      "[ 5  2 -3]\n"
     ]
    }
   ],
   "source": [
    "import numpy\n",
    "v1=numpy.array([1,2,3])\n",
    "v2=numpy.array([0,3,2])\n",
    "print(\"v1+v2:\\n\",v1+v2)\n",
    "print(\"v1-v2:\\n\",v1-v2)\n",
    "print(\"v1*v2:\\n\",v1*v2)\n",
    "print(numpy.dot(v1,v2))   #Skalarprodukt\n",
    "print(numpy.dot(v2,v1))\n",
    "print(numpy.cross(v1,v2)) #Kreuzprodukt, nur für zwei- bzw. dreidimensionale Vektoren\n",
    "print(numpy.cross(v2,v1))"
   ]
  },
  {
   "cell_type": "markdown",
   "metadata": {},
   "source": [
    "## 2. Matrixoperationen\n",
    "Die Regel ist immer die gleiche: \n",
    "Man definiert eine Matrix, indem man alle Elemente einer Zeile als Liste, die Listen zeilenweise als Liste von Listen definiert.   \n",
    "Quelle: https://de.wikipedia.org/wiki/Matrizenmultiplikation  \n",
    "Gegeben seien die beiden reellen Matrizen \n",
    "\n",
    "<math>A = \\begin{pmatrix} 3 & 2 & 1 \\\\ 1 & 0 & 2 \\end{pmatrix}\n",
    "    <math>B = \\begin{pmatrix} 1 & 2 \\\\ 0 & 1 \\\\ 4 & 0 \\end{pmatrix}</math>  \n",
    "Da die Matrix <math>A</math> ebenso viele Spalten wie die Matrix <math>B</math> Zeilen besitzt, ist die Matrizenmultiplikation <math>A * B</math> durchführbar. Nachdem <math>A</math> zwei Zeilen und <math>B</math> zwei Spalten hat, wird das Matrizenprodukt ebenfalls zwei Zeilen und Spalten aufweisen. Zur Berechnung des ersten Matrixelements der Ergebnismatrix werden die Produkte der entsprechenden Einträge der ersten Zeile von <math>A</math> und der ersten Spalte von <math>B</math> aufsummiert (die Sternchen stehen für noch nicht berechnete Elemente):\n",
    "$$\\begin{pmatrix} 3 &  2 &  1 \\\\ 1 & 0 & 2 \\end{pmatrix} * \\begin{pmatrix} 1 & 2 \\\\ 0 & 1 \\\\ \\color{BrickRed} 4 & 0 \\end{pmatrix}= \\begin{pmatrix}  3 * 1 +  2 * 0 + 1 * 4  & \\ast \\\\ \\ast & \\ast \\end{pmatrix} = \\begin{pmatrix} {\\color{Blue} 7} & \\ast \\\\ \\ast & \\ast \\end{pmatrix}$$\n",
    "\n",
    "### Das Ganze wird so programmiert:"
   ]
  },
  {
   "cell_type": "code",
   "execution_count": 2,
   "metadata": {},
   "outputs": [
    {
     "name": "stdout",
     "output_type": "stream",
     "text": [
      "m1= \n",
      " [[ 1 -2  3  4]]\n",
      "m2= \n",
      " [[ 2]\n",
      " [ 3]\n",
      " [ 0]\n",
      " [-2]]\n",
      "m3= dot(m1,m2)\n",
      " [[-12]]\n",
      "m4= dot(m2,m1)\n",
      " [[ 2 -4  6  8]\n",
      " [ 3 -6  9 12]\n",
      " [ 0  0  0  0]\n",
      " [-2  4 -6 -8]]\n",
      "5+m4=\n",
      " [[ 7  1 11 13]\n",
      " [ 8 -1 14 17]\n",
      " [ 5  5  5  5]\n",
      " [ 3  9 -1 -3]]\n",
      "2*m4=\n",
      " [[  4  -8  12  16]\n",
      " [  6 -12  18  24]\n",
      " [  0   0   0   0]\n",
      " [ -4   8 -12 -16]]\n",
      "m2+m4=\n",
      " [[  4  -2   8  10]\n",
      " [  6  -3  12  15]\n",
      " [  0   0   0   0]\n",
      " [ -4   2  -8 -10]]\n",
      "m1+m4=\n",
      " [[ 3 -6  9 12]\n",
      " [ 4 -8 12 16]\n",
      " [ 1 -2  3  4]\n",
      " [-1  2 -3 -4]]\n",
      "m2*m4=\n",
      " [[  4  -8  12  16]\n",
      " [  9 -18  27  36]\n",
      " [  0   0   0   0]\n",
      " [  4  -8  12  16]]\n",
      "m1*m4=\n",
      " [[  2   8  18  32]\n",
      " [  3  12  27  48]\n",
      " [  0   0   0   0]\n",
      " [ -2  -8 -18 -32]]\n"
     ]
    }
   ],
   "source": [
    "import numpy                         # diese Bibliothek ist für die Funktionen zuständig\n",
    "m1 = numpy.array([[1,-2,3,4]])        #eine Zeile, vier Spalte\n",
    "m2 = numpy.array([[2],[3],[0],[-2]])  #vier Zeilen, eine Spalte\n",
    "m3 = numpy.dot(m1,m2)                # dot ist die Funktion zur Matrizenmultiplikation\n",
    "m4 = numpy.dot(m2,m1)\n",
    "print(\"m1= \\n\",m1)\n",
    "print(\"m2= \\n\",m2)\n",
    "print(\"m3= dot(m1,m2)\\n\",m3)\n",
    "print(\"m4= dot(m2,m1)\\n\",m4)\n",
    "print(\"5+m4=\\n\",5+m4)\n",
    "print(\"2*m4=\\n\",2*m4)\n",
    "print(\"m2+m4=\\n\",m2+m4)\n",
    "print(\"m1+m4=\\n\",m1+m4)\n",
    "print(\"m2*m4=\\n\",m2*m4)\n",
    "print(\"m1*m4=\\n\",m1*m4)"
   ]
  },
  {
   "cell_type": "raw",
   "metadata": {},
   "source": [
    "Aufgabe: Berechne das Produkt der oben angegebenen Matrizen A*B sowie B*A und teste dein Ergebnis, indem du die Multiplikation programmierst."
   ]
  },
  {
   "cell_type": "markdown",
   "metadata": {},
   "source": [
    "## 3. Die transponierte Matrix\n",
    "https://de.wikipedia.org/wiki/Transponierte_Matrix  \n",
    "Die transponierte Matrix, gespiegelte Matrix oder gestürzte Matrix ist in der Mathematik diejenige Matrix, die durch Vertauschen der Rollen von Zeilen und Spalten einer gegebenen Matrix entsteht. Die erste Zeile der transponierten Matrix entspricht der ersten Spalte der Ausgangsmatrix, die zweite Zeile der zweiten Spalte und so weiter. Anschaulich entsteht die transponierte Matrix durch Spiegelung der Ausgangsmatrix an ihrer Hauptdiagonale. Die Umwandlung einer Matrix in ihre transponierte Matrix wird Transponierung, Transposition oder Stürzen der Matrix genannt. "
   ]
  },
  {
   "cell_type": "code",
   "execution_count": 1,
   "metadata": {},
   "outputs": [
    {
     "ename": "NameError",
     "evalue": "name 'm4' is not defined",
     "output_type": "error",
     "traceback": [
      "\u001b[1;31m---------------------------------------------------------------------------\u001b[0m",
      "\u001b[1;31mNameError\u001b[0m                                 Traceback (most recent call last)",
      "\u001b[1;32m<ipython-input-1-73adff300c6c>\u001b[0m in \u001b[0;36m<module>\u001b[1;34m\u001b[0m\n\u001b[0;32m      1\u001b[0m \u001b[1;32mimport\u001b[0m \u001b[0mnumpy\u001b[0m \u001b[1;32mas\u001b[0m \u001b[0mnp\u001b[0m\u001b[1;33m\u001b[0m\u001b[0m\n\u001b[1;32m----> 2\u001b[1;33m \u001b[0mprint\u001b[0m\u001b[1;33m(\u001b[0m\u001b[1;34m\"m4= \\n\"\u001b[0m\u001b[1;33m,\u001b[0m\u001b[0mm4\u001b[0m\u001b[1;33m)\u001b[0m\u001b[1;33m\u001b[0m\u001b[0m\n\u001b[0m\u001b[0;32m      3\u001b[0m \u001b[0mprint\u001b[0m\u001b[1;33m(\u001b[0m\u001b[1;34m\"m4 transponiert \\n\"\u001b[0m\u001b[1;33m,\u001b[0m\u001b[0mm4\u001b[0m\u001b[1;33m.\u001b[0m\u001b[0mT\u001b[0m\u001b[1;33m)\u001b[0m\u001b[1;33m\u001b[0m\u001b[0m\n\u001b[0;32m      4\u001b[0m \u001b[0mprint\u001b[0m\u001b[1;33m(\u001b[0m\u001b[1;34m\"m1= \\n\"\u001b[0m\u001b[1;33m,\u001b[0m\u001b[0mm1\u001b[0m\u001b[1;33m)\u001b[0m\u001b[1;33m\u001b[0m\u001b[0m\n\u001b[0;32m      5\u001b[0m \u001b[0mprint\u001b[0m\u001b[1;33m(\u001b[0m\u001b[1;34m\"m1 transponiert \\n\"\u001b[0m\u001b[1;33m,\u001b[0m\u001b[0mm1\u001b[0m\u001b[1;33m.\u001b[0m\u001b[0mT\u001b[0m\u001b[1;33m)\u001b[0m\u001b[1;33m\u001b[0m\u001b[0m\n",
      "\u001b[1;31mNameError\u001b[0m: name 'm4' is not defined"
     ]
    }
   ],
   "source": [
    "import numpy as np\n",
    "print(\"m4= \\n\",m4)\n",
    "print(\"m4 transponiert \\n\",m4.T)\n",
    "print(\"m1= \\n\",m1)\n",
    "print(\"m1 transponiert \\n\",m1.T)\n",
    "print(\"m1 *m1.T \\n\",np.dot (m1,m1.T))\n",
    "print(\"m1 *m1.T \\n\",np.dot (m1.T,m1))"
   ]
  },
  {
   "cell_type": "code",
   "execution_count": null,
   "metadata": {},
   "outputs": [],
   "source": []
  }
 ],
 "metadata": {
  "kernelspec": {
   "display_name": "Python 3",
   "language": "python",
   "name": "python3"
  },
  "language_info": {
   "codemirror_mode": {
    "name": "ipython",
    "version": 3
   },
   "file_extension": ".py",
   "mimetype": "text/x-python",
   "name": "python",
   "nbconvert_exporter": "python",
   "pygments_lexer": "ipython3",
   "version": "3.8.2"
  }
 },
 "nbformat": 4,
 "nbformat_minor": 2
}
