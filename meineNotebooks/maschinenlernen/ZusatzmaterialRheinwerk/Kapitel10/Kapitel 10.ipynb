{
 "cells": [
  {
   "cell_type": "markdown",
   "metadata": {},
   "source": [
    "# Kapitel 10"
   ]
  },
  {
   "cell_type": "markdown",
   "metadata": {},
   "source": [
    "## Hopfield Netzwerk"
   ]
  },
  {
   "cell_type": "markdown",
   "metadata": {},
   "source": [
    "### Matrixmultiplikation 1"
   ]
  },
  {
   "cell_type": "code",
   "execution_count": 5,
   "metadata": {},
   "outputs": [
    {
     "name": "stdout",
     "output_type": "stream",
     "text": [
      "[[ 1  1  1 -1  1 -1 -1  1 -1]\n",
      " [ 1  1  1 -1  1 -1 -1  1 -1]\n",
      " [ 1  1  1 -1  1 -1 -1  1 -1]\n",
      " [-1 -1 -1  1 -1  1  1 -1  1]\n",
      " [ 1  1  1 -1  1 -1 -1  1 -1]\n",
      " [-1 -1 -1  1 -1  1  1 -1  1]\n",
      " [-1 -1 -1  1 -1  1  1 -1  1]\n",
      " [ 1  1  1 -1  1 -1 -1  1 -1]\n",
      " [-1 -1 -1  1 -1  1  1 -1  1]]\n"
     ]
    }
   ],
   "source": [
    "import numpy as np\n",
    "# T\n",
    "x1 = np.matrix([+1,+1,+1,-1,+1,-1,-1,+1,-1])\n",
    "W1 = np.matmul(x1.T,x1)\n",
    "print(W1)\n"
   ]
  },
  {
   "cell_type": "markdown",
   "metadata": {},
   "source": [
    "### Marixmultiplikation 2"
   ]
  },
  {
   "cell_type": "code",
   "execution_count": 6,
   "metadata": {},
   "outputs": [
    {
     "name": "stdout",
     "output_type": "stream",
     "text": [
      "[[ 1 -1  1  1 -1  1  1  1  1]\n",
      " [-1  1 -1 -1  1 -1 -1 -1 -1]\n",
      " [ 1 -1  1  1 -1  1  1  1  1]\n",
      " [ 1 -1  1  1 -1  1  1  1  1]\n",
      " [-1  1 -1 -1  1 -1 -1 -1 -1]\n",
      " [ 1 -1  1  1 -1  1  1  1  1]\n",
      " [ 1 -1  1  1 -1  1  1  1  1]\n",
      " [ 1 -1  1  1 -1  1  1  1  1]\n",
      " [ 1 -1  1  1 -1  1  1  1  1]]\n"
     ]
    }
   ],
   "source": [
    "import numpy as np\n",
    "# U\n",
    "x2 = np.matrix([+1,-1,+1,+1,-1,+1,+1,+1,+1])\n",
    "W2 = np.matmul(x2.T,x2)\n",
    "print(W2)"
   ]
  },
  {
   "cell_type": "markdown",
   "metadata": {},
   "source": [
    "### Matrixaddition"
   ]
  },
  {
   "cell_type": "code",
   "execution_count": 8,
   "metadata": {},
   "outputs": [
    {
     "name": "stdout",
     "output_type": "stream",
     "text": [
      "[[ 2  0  2  0  0  0  0  2  0]\n",
      " [ 0  2  0 -2  2 -2 -2  0 -2]\n",
      " [ 2  0  2  0  0  0  0  2  0]\n",
      " [ 0 -2  0  2 -2  2  2  0  2]\n",
      " [ 0  2  0 -2  2 -2 -2  0 -2]\n",
      " [ 0 -2  0  2 -2  2  2  0  2]\n",
      " [ 0 -2  0  2 -2  2  2  0  2]\n",
      " [ 2  0  2  0  0  0  0  2  0]\n",
      " [ 0 -2  0  2 -2  2  2  0  2]]\n"
     ]
    }
   ],
   "source": [
    "import numpy as np\n",
    "# T + U\n",
    "W = W1 + W2\n",
    "print(W)"
   ]
  },
  {
   "cell_type": "markdown",
   "metadata": {},
   "source": [
    "### Lernen und Auswertung "
   ]
  },
  {
   "cell_type": "code",
   "execution_count": 98,
   "metadata": {},
   "outputs": [
    {
     "name": "stdout",
     "output_type": "stream",
     "text": [
      "T - Muster\n"
     ]
    },
    {
     "data": {
      "image/png": "[encoded data removed]",
      "text/plain": [
       "<matplotlib.figure.Figure at 0x10b1304e0>"
      ]
     },
     "metadata": {},
     "output_type": "display_data"
    },
    {
     "name": "stdout",
     "output_type": "stream",
     "text": [
      "T - Matrix minus Einheitsmatrix\n",
      "[[ 0.  1.  1. -1.  1. -1. -1.  1. -1.]\n",
      " [ 1.  0.  1. -1.  1. -1. -1.  1. -1.]\n",
      " [ 1.  1.  0. -1.  1. -1. -1.  1. -1.]\n",
      " [-1. -1. -1.  0. -1.  1.  1. -1.  1.]\n",
      " [ 1.  1.  1. -1.  0. -1. -1.  1. -1.]\n",
      " [-1. -1. -1.  1. -1.  0.  1. -1.  1.]\n",
      " [-1. -1. -1.  1. -1.  1.  0. -1.  1.]\n",
      " [ 1.  1.  1. -1.  1. -1. -1.  0. -1.]\n",
      " [-1. -1. -1.  1. -1.  1.  1. -1.  0.]]\n",
      "U - Muster\n"
     ]
    },
    {
     "data": {
      "image/png": "[encoded data removed]",
      "text/plain": [
       "<matplotlib.figure.Figure at 0x10c5ad2e8>"
      ]
     },
     "metadata": {},
     "output_type": "display_data"
    },
    {
     "name": "stdout",
     "output_type": "stream",
     "text": [
      "U - Matrix minus Einheitsmatrix\n",
      "[[ 0. -1.  1.  1. -1.  1.  1.  1.  1.]\n",
      " [-1.  0. -1. -1.  1. -1. -1. -1. -1.]\n",
      " [ 1. -1.  0.  1. -1.  1.  1.  1.  1.]\n",
      " [ 1. -1.  1.  0. -1.  1.  1.  1.  1.]\n",
      " [-1.  1. -1. -1.  0. -1. -1. -1. -1.]\n",
      " [ 1. -1.  1.  1. -1.  0.  1.  1.  1.]\n",
      " [ 1. -1.  1.  1. -1.  1.  0.  1.  1.]\n",
      " [ 1. -1.  1.  1. -1.  1.  1.  0.  1.]\n",
      " [ 1. -1.  1.  1. -1.  1.  1.  1.  0.]]\n",
      "T + U - Matrix\n",
      "[[ 0.  0.  2.  0.  0.  0.  0.  2.  0.]\n",
      " [ 0.  0.  0. -2.  2. -2. -2.  0. -2.]\n",
      " [ 2.  0.  0.  0.  0.  0.  0.  2.  0.]\n",
      " [ 0. -2.  0.  0. -2.  2.  2.  0.  2.]\n",
      " [ 0.  2.  0. -2.  0. -2. -2.  0. -2.]\n",
      " [ 0. -2.  0.  2. -2.  0.  2.  0.  2.]\n",
      " [ 0. -2.  0.  2. -2.  2.  0.  0.  2.]\n",
      " [ 2.  0.  2.  0.  0.  0.  0.  0.  0.]\n",
      " [ 0. -2.  0.  2. -2.  2.  2.  0.  0.]]\n",
      "Inputvektor\n"
     ]
    },
    {
     "data": {
      "image/png": "[encoded data removed]",
      "text/plain": [
       "<matplotlib.figure.Figure at 0x10c171780>"
      ]
     },
     "metadata": {},
     "output_type": "display_data"
    },
    {
     "name": "stdout",
     "output_type": "stream",
     "text": [
      "Schritt 0\n"
     ]
    },
    {
     "data": {
      "image/png": "[encoded data removed]",
      "text/plain": [
       "<matplotlib.figure.Figure at 0x10c3fc470>"
      ]
     },
     "metadata": {},
     "output_type": "display_data"
    },
    {
     "name": "stdout",
     "output_type": "stream",
     "text": [
      "Schritt 1\n"
     ]
    },
    {
     "data": {
      "image/png": "[encoded data removed]",
      "text/plain": [
       "<matplotlib.figure.Figure at 0x10c8f6fd0>"
      ]
     },
     "metadata": {},
     "output_type": "display_data"
    }
   ],
   "source": [
    "# Matrix und Vektoroperationen\n",
    "import numpy as np\n",
    "# Zeichnen\n",
    "import matplotlib.pyplot as plt\n",
    "%matplotlib inline\n",
    "\n",
    "# Zeilendimension der Matrix\n",
    "rowDim = 3\n",
    "# Eine Matrix in einer Zeile \n",
    "lineDim = rowDim * rowDim\n",
    "\n",
    "# Zeichnen eines Buchstabens\n",
    "def drawLetter(letter):\n",
    "    global rowDim\n",
    "    fig = plt.figure(111)\n",
    "    ax1 = fig.add_subplot(111)\n",
    "    # Ausgabe der Matrix in schwarz/weiss, cm = Colormap, interpolation: diskrete Farben\n",
    "    ax1.imshow(letter.reshape(rowDim,rowDim),cmap=plt.cm.binary, interpolation='nearest')\n",
    "    plt.show() \n",
    "    \n",
    "# Lambda für Stufenfunktion\n",
    "f_step = lambda w: 1 if w >= 0 else -1\n",
    "# Lambda vektorisieren \n",
    "vectorized_step = np.vectorize(f_step)\n",
    "\n",
    "# Lernen\n",
    "# Identity\n",
    "Wi = np.identity(lineDim)\n",
    "# T\n",
    "xT = np.matrix([+1,+1,+1,-1,+1,-1,-1,+1,-1])\n",
    "WT = np.matmul(xT.T,xT) - Wi\n",
    "print('T - Muster')\n",
    "drawLetter(xT)\n",
    "print('T - Matrix minus Einheitsmatrix')\n",
    "print(WT)\n",
    "\n",
    "# U\n",
    "xU = np.matrix([+1,-1,+1,+1,-1,+1,+1,+1,+1])\n",
    "WU = np.matmul(xU.T,xU) - Wi\n",
    "print('U - Muster')\n",
    "drawLetter(xU)\n",
    "print('U - Matrix minus Einheitsmatrix')\n",
    "print(WU)\n",
    "\n",
    "# Summe der Muster Matrizen\n",
    "W = WT + WU\n",
    "print('T + U - Matrix')\n",
    "print(W)\n",
    "\n",
    "### Auswertung\n",
    "x0 = np.matrix([-1,-1,-1,+1,-1,+1,+1,+1,+1])\n",
    "print('Inputvektor')\n",
    "drawLetter(xX)\n",
    "vt = x0.T\n",
    "\n",
    "# Attraktor suchen\n",
    "for t in range(2):\n",
    "    vt1 = vectorized_act(W * vt)\n",
    "    print('Schritt {}'.format(t))\n",
    "    Wt1 = vt1.reshape(rowDim,rowDim)\n",
    "    drawLetter(vt1)\n",
    "    vt = vt1 "
   ]
  },
  {
   "cell_type": "markdown",
   "metadata": {},
   "source": [
    "### Lernen und Auswertung GROß"
   ]
  },
  {
   "cell_type": "code",
   "execution_count": 94,
   "metadata": {},
   "outputs": [
    {
     "name": "stdout",
     "output_type": "stream",
     "text": [
      "T - Muster\n"
     ]
    },
    {
     "data": {
      "image/png": "[encoded data removed]",
      "text/plain": [
       "<matplotlib.figure.Figure at 0x10c6d0898>"
      ]
     },
     "metadata": {},
     "output_type": "display_data"
    },
    {
     "name": "stdout",
     "output_type": "stream",
     "text": [
      "T - Matrix minus Einheitsmatrix\n",
      "[[ 0.  1.  1.  1.  1. -1. -1.  1. -1. -1. -1. -1.  1. -1. -1. -1. -1.  1.\n",
      "  -1. -1. -1. -1.  1. -1. -1.]\n",
      " [ 1.  0.  1.  1.  1. -1. -1.  1. -1. -1. -1. -1.  1. -1. -1. -1. -1.  1.\n",
      "  -1. -1. -1. -1.  1. -1. -1.]\n",
      " [ 1.  1.  0.  1.  1. -1. -1.  1. -1. -1. -1. -1.  1. -1. -1. -1. -1.  1.\n",
      "  -1. -1. -1. -1.  1. -1. -1.]\n",
      " [ 1.  1.  1.  0.  1. -1. -1.  1. -1. -1. -1. -1.  1. -1. -1. -1. -1.  1.\n",
      "  -1. -1. -1. -1.  1. -1. -1.]\n",
      " [ 1.  1.  1.  1.  0. -1. -1.  1. -1. -1. -1. -1.  1. -1. -1. -1. -1.  1.\n",
      "  -1. -1. -1. -1.  1. -1. -1.]\n",
      " [-1. -1. -1. -1. -1.  0.  1. -1.  1.  1.  1.  1. -1.  1.  1.  1.  1. -1.\n",
      "   1.  1.  1.  1. -1.  1.  1.]\n",
      " [-1. -1. -1. -1. -1.  1.  0. -1.  1.  1.  1.  1. -1.  1.  1.  1.  1. -1.\n",
      "   1.  1.  1.  1. -1.  1.  1.]\n",
      " [ 1.  1.  1.  1.  1. -1. -1.  0. -1. -1. -1. -1.  1. -1. -1. -1. -1.  1.\n",
      "  -1. -1. -1. -1.  1. -1. -1.]\n",
      " [-1. -1. -1. -1. -1.  1.  1. -1.  0.  1.  1.  1. -1.  1.  1.  1.  1. -1.\n",
      "   1.  1.  1.  1. -1.  1.  1.]\n",
      " [-1. -1. -1. -1. -1.  1.  1. -1.  1.  0.  1.  1. -1.  1.  1.  1.  1. -1.\n",
      "   1.  1.  1.  1. -1.  1.  1.]\n",
      " [-1. -1. -1. -1. -1.  1.  1. -1.  1.  1.  0.  1. -1.  1.  1.  1.  1. -1.\n",
      "   1.  1.  1.  1. -1.  1.  1.]\n",
      " [-1. -1. -1. -1. -1.  1.  1. -1.  1.  1.  1.  0. -1.  1.  1.  1.  1. -1.\n",
      "   1.  1.  1.  1. -1.  1.  1.]\n",
      " [ 1.  1.  1.  1.  1. -1. -1.  1. -1. -1. -1. -1.  0. -1. -1. -1. -1.  1.\n",
      "  -1. -1. -1. -1.  1. -1. -1.]\n",
      " [-1. -1. -1. -1. -1.  1.  1. -1.  1.  1.  1.  1. -1.  0.  1.  1.  1. -1.\n",
      "   1.  1.  1.  1. -1.  1.  1.]\n",
      " [-1. -1. -1. -1. -1.  1.  1. -1.  1.  1.  1.  1. -1.  1.  0.  1.  1. -1.\n",
      "   1.  1.  1.  1. -1.  1.  1.]\n",
      " [-1. -1. -1. -1. -1.  1.  1. -1.  1.  1.  1.  1. -1.  1.  1.  0.  1. -1.\n",
      "   1.  1.  1.  1. -1.  1.  1.]\n",
      " [-1. -1. -1. -1. -1.  1.  1. -1.  1.  1.  1.  1. -1.  1.  1.  1.  0. -1.\n",
      "   1.  1.  1.  1. -1.  1.  1.]\n",
      " [ 1.  1.  1.  1.  1. -1. -1.  1. -1. -1. -1. -1.  1. -1. -1. -1. -1.  0.\n",
      "  -1. -1. -1. -1.  1. -1. -1.]\n",
      " [-1. -1. -1. -1. -1.  1.  1. -1.  1.  1.  1.  1. -1.  1.  1.  1.  1. -1.\n",
      "   0.  1.  1.  1. -1.  1.  1.]\n",
      " [-1. -1. -1. -1. -1.  1.  1. -1.  1.  1.  1.  1. -1.  1.  1.  1.  1. -1.\n",
      "   1.  0.  1.  1. -1.  1.  1.]\n",
      " [-1. -1. -1. -1. -1.  1.  1. -1.  1.  1.  1.  1. -1.  1.  1.  1.  1. -1.\n",
      "   1.  1.  0.  1. -1.  1.  1.]\n",
      " [-1. -1. -1. -1. -1.  1.  1. -1.  1.  1.  1.  1. -1.  1.  1.  1.  1. -1.\n",
      "   1.  1.  1.  0. -1.  1.  1.]\n",
      " [ 1.  1.  1.  1.  1. -1. -1.  1. -1. -1. -1. -1.  1. -1. -1. -1. -1.  1.\n",
      "  -1. -1. -1. -1.  0. -1. -1.]\n",
      " [-1. -1. -1. -1. -1.  1.  1. -1.  1.  1.  1.  1. -1.  1.  1.  1.  1. -1.\n",
      "   1.  1.  1.  1. -1.  0.  1.]\n",
      " [-1. -1. -1. -1. -1.  1.  1. -1.  1.  1.  1.  1. -1.  1.  1.  1.  1. -1.\n",
      "   1.  1.  1.  1. -1.  1.  0.]]\n",
      "U - Muster\n"
     ]
    },
    {
     "data": {
      "image/png": "[encoded data removed]",
      "text/plain": [
       "<matplotlib.figure.Figure at 0x10c6765f8>"
      ]
     },
     "metadata": {},
     "output_type": "display_data"
    },
    {
     "name": "stdout",
     "output_type": "stream",
     "text": [
      "U - Matrix minus Einheitsmatrix\n",
      "[[ 0. -1. -1. -1.  1.  1. -1. -1. -1.  1.  1. -1. -1. -1.  1.  1. -1. -1.\n",
      "  -1.  1.  1.  1.  1.  1.  1.]\n",
      " [-1.  0.  1.  1. -1. -1.  1.  1.  1. -1. -1.  1.  1.  1. -1. -1.  1.  1.\n",
      "   1. -1. -1. -1. -1. -1. -1.]\n",
      " [-1.  1.  0.  1. -1. -1.  1.  1.  1. -1. -1.  1.  1.  1. -1. -1.  1.  1.\n",
      "   1. -1. -1. -1. -1. -1. -1.]\n",
      " [-1.  1.  1.  0. -1. -1.  1.  1.  1. -1. -1.  1.  1.  1. -1. -1.  1.  1.\n",
      "   1. -1. -1. -1. -1. -1. -1.]\n",
      " [ 1. -1. -1. -1.  0.  1. -1. -1. -1.  1.  1. -1. -1. -1.  1.  1. -1. -1.\n",
      "  -1.  1.  1.  1.  1.  1.  1.]\n",
      " [ 1. -1. -1. -1.  1.  0. -1. -1. -1.  1.  1. -1. -1. -1.  1.  1. -1. -1.\n",
      "  -1.  1.  1.  1.  1.  1.  1.]\n",
      " [-1.  1.  1.  1. -1. -1.  0.  1.  1. -1. -1.  1.  1.  1. -1. -1.  1.  1.\n",
      "   1. -1. -1. -1. -1. -1. -1.]\n",
      " [-1.  1.  1.  1. -1. -1.  1.  0.  1. -1. -1.  1.  1.  1. -1. -1.  1.  1.\n",
      "   1. -1. -1. -1. -1. -1. -1.]\n",
      " [-1.  1.  1.  1. -1. -1.  1.  1.  0. -1. -1.  1.  1.  1. -1. -1.  1.  1.\n",
      "   1. -1. -1. -1. -1. -1. -1.]\n",
      " [ 1. -1. -1. -1.  1.  1. -1. -1. -1.  0.  1. -1. -1. -1.  1.  1. -1. -1.\n",
      "  -1.  1.  1.  1.  1.  1.  1.]\n",
      " [ 1. -1. -1. -1.  1.  1. -1. -1. -1.  1.  0. -1. -1. -1.  1.  1. -1. -1.\n",
      "  -1.  1.  1.  1.  1.  1.  1.]\n",
      " [-1.  1.  1.  1. -1. -1.  1.  1.  1. -1. -1.  0.  1.  1. -1. -1.  1.  1.\n",
      "   1. -1. -1. -1. -1. -1. -1.]\n",
      " [-1.  1.  1.  1. -1. -1.  1.  1.  1. -1. -1.  1.  0.  1. -1. -1.  1.  1.\n",
      "   1. -1. -1. -1. -1. -1. -1.]\n",
      " [-1.  1.  1.  1. -1. -1.  1.  1.  1. -1. -1.  1.  1.  0. -1. -1.  1.  1.\n",
      "   1. -1. -1. -1. -1. -1. -1.]\n",
      " [ 1. -1. -1. -1.  1.  1. -1. -1. -1.  1.  1. -1. -1. -1.  0.  1. -1. -1.\n",
      "  -1.  1.  1.  1.  1.  1.  1.]\n",
      " [ 1. -1. -1. -1.  1.  1. -1. -1. -1.  1.  1. -1. -1. -1.  1.  0. -1. -1.\n",
      "  -1.  1.  1.  1.  1.  1.  1.]\n",
      " [-1.  1.  1.  1. -1. -1.  1.  1.  1. -1. -1.  1.  1.  1. -1. -1.  0.  1.\n",
      "   1. -1. -1. -1. -1. -1. -1.]\n",
      " [-1.  1.  1.  1. -1. -1.  1.  1.  1. -1. -1.  1.  1.  1. -1. -1.  1.  0.\n",
      "   1. -1. -1. -1. -1. -1. -1.]\n",
      " [-1.  1.  1.  1. -1. -1.  1.  1.  1. -1. -1.  1.  1.  1. -1. -1.  1.  1.\n",
      "   0. -1. -1. -1. -1. -1. -1.]\n",
      " [ 1. -1. -1. -1.  1.  1. -1. -1. -1.  1.  1. -1. -1. -1.  1.  1. -1. -1.\n",
      "  -1.  0.  1.  1.  1.  1.  1.]\n",
      " [ 1. -1. -1. -1.  1.  1. -1. -1. -1.  1.  1. -1. -1. -1.  1.  1. -1. -1.\n",
      "  -1.  1.  0.  1.  1.  1.  1.]\n",
      " [ 1. -1. -1. -1.  1.  1. -1. -1. -1.  1.  1. -1. -1. -1.  1.  1. -1. -1.\n",
      "  -1.  1.  1.  0.  1.  1.  1.]\n",
      " [ 1. -1. -1. -1.  1.  1. -1. -1. -1.  1.  1. -1. -1. -1.  1.  1. -1. -1.\n",
      "  -1.  1.  1.  1.  0.  1.  1.]\n",
      " [ 1. -1. -1. -1.  1.  1. -1. -1. -1.  1.  1. -1. -1. -1.  1.  1. -1. -1.\n",
      "  -1.  1.  1.  1.  1.  0.  1.]\n",
      " [ 1. -1. -1. -1.  1.  1. -1. -1. -1.  1.  1. -1. -1. -1.  1.  1. -1. -1.\n",
      "  -1.  1.  1.  1.  1.  1.  0.]]\n",
      "T + U - Matrix\n",
      "[[ 0.  0.  0.  0.  2.  0. -2.  0. -2.  0.  0. -2.  0. -2.  0.  0. -2.  0.\n",
      "  -2.  0.  0.  0.  2.  0.  0.]\n",
      " [ 0.  0.  2.  2.  0. -2.  0.  2.  0. -2. -2.  0.  2.  0. -2. -2.  0.  2.\n",
      "   0. -2. -2. -2.  0. -2. -2.]\n",
      " [ 0.  2.  0.  2.  0. -2.  0.  2.  0. -2. -2.  0.  2.  0. -2. -2.  0.  2.\n",
      "   0. -2. -2. -2.  0. -2. -2.]\n",
      " [ 0.  2.  2.  0.  0. -2.  0.  2.  0. -2. -2.  0.  2.  0. -2. -2.  0.  2.\n",
      "   0. -2. -2. -2.  0. -2. -2.]\n",
      " [ 2.  0.  0.  0.  0.  0. -2.  0. -2.  0.  0. -2.  0. -2.  0.  0. -2.  0.\n",
      "  -2.  0.  0.  0.  2.  0.  0.]\n",
      " [ 0. -2. -2. -2.  0.  0.  0. -2.  0.  2.  2.  0. -2.  0.  2.  2.  0. -2.\n",
      "   0.  2.  2.  2.  0.  2.  2.]\n",
      " [-2.  0.  0.  0. -2.  0.  0.  0.  2.  0.  0.  2.  0.  2.  0.  0.  2.  0.\n",
      "   2.  0.  0.  0. -2.  0.  0.]\n",
      " [ 0.  2.  2.  2.  0. -2.  0.  0.  0. -2. -2.  0.  2.  0. -2. -2.  0.  2.\n",
      "   0. -2. -2. -2.  0. -2. -2.]\n",
      " [-2.  0.  0.  0. -2.  0.  2.  0.  0.  0.  0.  2.  0.  2.  0.  0.  2.  0.\n",
      "   2.  0.  0.  0. -2.  0.  0.]\n",
      " [ 0. -2. -2. -2.  0.  2.  0. -2.  0.  0.  2.  0. -2.  0.  2.  2.  0. -2.\n",
      "   0.  2.  2.  2.  0.  2.  2.]\n",
      " [ 0. -2. -2. -2.  0.  2.  0. -2.  0.  2.  0.  0. -2.  0.  2.  2.  0. -2.\n",
      "   0.  2.  2.  2.  0.  2.  2.]\n",
      " [-2.  0.  0.  0. -2.  0.  2.  0.  2.  0.  0.  0.  0.  2.  0.  0.  2.  0.\n",
      "   2.  0.  0.  0. -2.  0.  0.]\n",
      " [ 0.  2.  2.  2.  0. -2.  0.  2.  0. -2. -2.  0.  0.  0. -2. -2.  0.  2.\n",
      "   0. -2. -2. -2.  0. -2. -2.]\n",
      " [-2.  0.  0.  0. -2.  0.  2.  0.  2.  0.  0.  2.  0.  0.  0.  0.  2.  0.\n",
      "   2.  0.  0.  0. -2.  0.  0.]\n",
      " [ 0. -2. -2. -2.  0.  2.  0. -2.  0.  2.  2.  0. -2.  0.  0.  2.  0. -2.\n",
      "   0.  2.  2.  2.  0.  2.  2.]\n",
      " [ 0. -2. -2. -2.  0.  2.  0. -2.  0.  2.  2.  0. -2.  0.  2.  0.  0. -2.\n",
      "   0.  2.  2.  2.  0.  2.  2.]\n",
      " [-2.  0.  0.  0. -2.  0.  2.  0.  2.  0.  0.  2.  0.  2.  0.  0.  0.  0.\n",
      "   2.  0.  0.  0. -2.  0.  0.]\n",
      " [ 0.  2.  2.  2.  0. -2.  0.  2.  0. -2. -2.  0.  2.  0. -2. -2.  0.  0.\n",
      "   0. -2. -2. -2.  0. -2. -2.]\n",
      " [-2.  0.  0.  0. -2.  0.  2.  0.  2.  0.  0.  2.  0.  2.  0.  0.  2.  0.\n",
      "   0.  0.  0.  0. -2.  0.  0.]\n",
      " [ 0. -2. -2. -2.  0.  2.  0. -2.  0.  2.  2.  0. -2.  0.  2.  2.  0. -2.\n",
      "   0.  0.  2.  2.  0.  2.  2.]\n",
      " [ 0. -2. -2. -2.  0.  2.  0. -2.  0.  2.  2.  0. -2.  0.  2.  2.  0. -2.\n",
      "   0.  2.  0.  2.  0.  2.  2.]\n",
      " [ 0. -2. -2. -2.  0.  2.  0. -2.  0.  2.  2.  0. -2.  0.  2.  2.  0. -2.\n",
      "   0.  2.  2.  0.  0.  2.  2.]\n",
      " [ 2.  0.  0.  0.  2.  0. -2.  0. -2.  0.  0. -2.  0. -2.  0.  0. -2.  0.\n",
      "  -2.  0.  0.  0.  0.  0.  0.]\n",
      " [ 0. -2. -2. -2.  0.  2.  0. -2.  0.  2.  2.  0. -2.  0.  2.  2.  0. -2.\n",
      "   0.  2.  2.  2.  0.  0.  2.]\n",
      " [ 0. -2. -2. -2.  0.  2.  0. -2.  0.  2.  2.  0. -2.  0.  2.  2.  0. -2.\n",
      "   0.  2.  2.  2.  0.  2.  0.]]\n",
      "Inputvektor\n"
     ]
    },
    {
     "data": {
      "image/png": "[encoded data removed]",
      "text/plain": [
       "<matplotlib.figure.Figure at 0x10c2eac18>"
      ]
     },
     "metadata": {},
     "output_type": "display_data"
    },
    {
     "name": "stdout",
     "output_type": "stream",
     "text": [
      "Schritt 0\n"
     ]
    },
    {
     "data": {
      "image/png": "[encoded data removed]",
      "text/plain": [
       "<matplotlib.figure.Figure at 0x10c565940>"
      ]
     },
     "metadata": {},
     "output_type": "display_data"
    },
    {
     "name": "stdout",
     "output_type": "stream",
     "text": [
      "Schritt 1\n"
     ]
    },
    {
     "data": {
      "image/png": "[encoded data removed]",
      "text/plain": [
       "<matplotlib.figure.Figure at 0x10bfe4cf8>"
      ]
     },
     "metadata": {},
     "output_type": "display_data"
    }
   ],
   "source": [
    "# Matrix und Vektoroperationen\n",
    "import numpy as np\n",
    "\n",
    "#import matplotlib.cm as cm\n",
    "import matplotlib.pyplot as plt\n",
    "%matplotlib inline\n",
    "\n",
    "# Zeilendimension der Matrix\n",
    "rowDim = 5\n",
    "# Eine Matrix in einer Zeile \n",
    "lineDim = rowDim * rowDim\n",
    "\n",
    "# Zeichnen eines Buchstabens\n",
    "def drawLetter(letter):\n",
    "    global rowDim\n",
    "    fig = plt.figure(111)\n",
    "    ax1 = fig.add_subplot(111)\n",
    "    # Ausgabe der Matrix in schwarz/weiss, cm = Colormap, interpolation: diskrete Farben\n",
    "    ax1.imshow(letter.reshape(rowDim,rowDim),cmap=plt.cm.binary, interpolation='nearest')\n",
    "    plt.show() \n",
    "    \n",
    "# Lambda für Stufenfunktion\n",
    "f_step = lambda w: 1 if w >= 0 else -1\n",
    "# Lambda vektorisieren \n",
    "vectorized_step = np.vectorize(f_step)\n",
    "\n",
    "# Lernen\n",
    "# Identity\n",
    "Wi = np.identity(lineDim)\n",
    "# T\n",
    "xT = np.matrix([1,1,1,1,1,-1,-1,1,-1,-1,-1,-1,1,-1,-1,-1,-1,1,-1,-1,-1,-1,1,-1,-1])\n",
    "WT = np.matmul(xT.T,xT) - Wi\n",
    "print('T - Muster')\n",
    "drawLetter(xT)\n",
    "print('T - Matrix minus Einheitsmatrix')\n",
    "print(WT)\n",
    "\n",
    "# U\n",
    "xU = np.matrix([1,-1,-1,-1,1,1,-1,-1,-1,1,1,-1,-1,-1,1,1,-1,-1,-1,1,1,1,1,1,1])\n",
    "WU = np.matmul(xU.T,xU) - Wi\n",
    "print('U - Muster')\n",
    "drawLetter(xU)\n",
    "print('U - Matrix minus Einheitsmatrix')\n",
    "print(WU)\n",
    "\n",
    "# Summe der Muster Matrizen\n",
    "W = WT + WU\n",
    "print('T + U - Matrix')\n",
    "print(W)\n",
    "\n",
    "### Auswertung\n",
    "xX = np.matrix([1,1,1,1,1,-1,-1,-1,1,1,1,1,1,1,1,1,-1,-1,-1,1,1,-1,-1,-1,1])\n",
    "print('Inputvektor')\n",
    "drawLetter(xX)\n",
    "vt = xX.T\n",
    "\n",
    "# Attraktor suchen\n",
    "for t in range(2):\n",
    "    vt1 = vectorized_act(W * vt)\n",
    "    print('Schritt {}'.format(t))\n",
    "    Wt1 = vt1.reshape(rowDim,rowDim)\n",
    "    drawLetter(vt1)\n",
    "    vt = vt1 "
   ]
  },
  {
   "cell_type": "code",
   "execution_count": null,
   "metadata": {
    "collapsed": true
   },
   "outputs": [],
   "source": []
  }
 ],
 "metadata": {
  "kernelspec": {
   "display_name": "Python 3",
   "language": "python",
   "name": "python3"
  },
  "language_info": {
   "codemirror_mode": {
    "name": "ipython",
    "version": 3
   },
   "file_extension": ".py",
   "mimetype": "text/x-python",
   "name": "python",
   "nbconvert_exporter": "python",
   "pygments_lexer": "ipython3",
   "version": "3.6.2"
  }
 },
 "nbformat": 4,
 "nbformat_minor": 2
}
