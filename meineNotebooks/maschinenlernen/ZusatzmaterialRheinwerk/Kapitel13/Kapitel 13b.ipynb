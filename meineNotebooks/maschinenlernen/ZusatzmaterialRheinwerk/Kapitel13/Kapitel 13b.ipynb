{
 "cells": [
  {
   "cell_type": "code",
   "execution_count": 1,
   "metadata": {
    "scrolled": false
   },
   "outputs": [],
   "source": [
    "import pandas as pd\n",
    "import requests\n",
    "import os\n",
    "import shutil\n",
    "import numpy as np\n"
   ]
  },
  {
   "cell_type": "code",
   "execution_count": 33,
   "metadata": {},
   "outputs": [],
   "source": [
    "basedir = r'/storage/bee_bumble'\n",
    "dir_dict = {\n",
    "    'download': os.path.join(basedir,'Download'),\n",
    "    'train':  os.path.join(basedir,'train'),\n",
    "    'test':  os.path.join(basedir,'test','testdata'),\n",
    "    'valid': os.path.join(basedir,'valid'),\n",
    "    'train_bee': os.path.join(basedir,'train','biene'),\n",
    "    'train_bumble': os.path.join(basedir,'train','hummel'),\n",
    "    'valid_bee': os.path.join(basedir,'valid','biene'),\n",
    "    'valid_bumble': os.path.join(basedir,'valid','hummel')\n",
    "           }"
   ]
  },
  {
   "cell_type": "code",
   "execution_count": null,
   "metadata": {},
   "outputs": [],
   "source": [
    "url = 'https://raw.githubusercontent.com/dionhagan/naive-bees/master/train_labels.csv'\n",
    "urlretrieve(url, os.path.join(dir_dict['download'],'train_labels.csv'))\n"
   ]
  },
  {
   "cell_type": "code",
   "execution_count": 13,
   "metadata": {
    "scrolled": true
   },
   "outputs": [
    {
     "name": "stdout",
     "output_type": "stream",
     "text": [
      "<class 'pandas.core.frame.DataFrame'>\n",
      "RangeIndex: 3969 entries, 0 to 3968\n",
      "Data columns (total 2 columns):\n",
      "id       3969 non-null int64\n",
      "genus    3969 non-null float64\n",
      "dtypes: float64(1), int64(1)\n",
      "memory usage: 62.1 KB\n",
      "   id  genus\n",
      "0   1    1.0\n",
      "1   2    1.0\n",
      "2   3    1.0\n",
      "3   4    0.0\n",
      "4   5    0.0\n"
     ]
    }
   ],
   "source": [
    "df = pd.read_csv(os.path.join(dir_dict['download'],'train_labels.csv')).sort_values(['id'])\n",
    "df = df.reset_index(drop=True)\n",
    "df.info()\n",
    "print(df.head(5))"
   ]
  },
  {
   "cell_type": "code",
   "execution_count": 14,
   "metadata": {
    "scrolled": true
   },
   "outputs": [
    {
     "name": "stdout",
     "output_type": "stream",
     "text": [
      "C:\\Users\\stjo1\\Google Drive\\001_Neuronale Netze\\101 Buch\\213 Kapitel_13\\Code\\Biene_Hummel\\train\\hummel\n",
      "1\n",
      "1\n"
     ]
    }
   ],
   "source": [
    "print(dir_dict['train_bumble'])\n",
    "print(len(os.listdir(dir_dict['train_bumble'])))\n",
    "print(len(os.listdir(dir_dict['train_bee'])))"
   ]
  },
  {
   "cell_type": "code",
   "execution_count": null,
   "metadata": {},
   "outputs": [],
   "source": [
    "\n",
    "from urllib.request import urlretrieve\n",
    "for index, row in df.iterrows():\n",
    "    fname = \"{:.0f}.jpg\".format(row['id'])\n",
    "    url = 'https://raw.githubusercontent.com/dionhagan/naive-bees/master/images/train/'+fname\n",
    "    print(url)   \n",
    "    urlretrieve(url, os.path.join(dir_dict['download'],fname))\n"
   ]
  },
  {
   "cell_type": "code",
   "execution_count": 16,
   "metadata": {},
   "outputs": [
    {
     "data": {
      "text/html": [
       "<div>\n",
       "<style>\n",
       "    .dataframe thead tr:only-child th {\n",
       "        text-align: right;\n",
       "    }\n",
       "\n",
       "    .dataframe thead th {\n",
       "        text-align: left;\n",
       "    }\n",
       "\n",
       "    .dataframe tbody tr th {\n",
       "        vertical-align: top;\n",
       "    }\n",
       "</style>\n",
       "<table border=\"1\" class=\"dataframe\">\n",
       "  <thead>\n",
       "    <tr style=\"text-align: right;\">\n",
       "      <th></th>\n",
       "      <th>id</th>\n",
       "      <th>genus</th>\n",
       "      <th>class</th>\n",
       "    </tr>\n",
       "  </thead>\n",
       "  <tbody>\n",
       "    <tr>\n",
       "      <th>0</th>\n",
       "      <td>1</td>\n",
       "      <td>1.0</td>\n",
       "      <td>bumble</td>\n",
       "    </tr>\n",
       "    <tr>\n",
       "      <th>1</th>\n",
       "      <td>2</td>\n",
       "      <td>1.0</td>\n",
       "      <td>bumble</td>\n",
       "    </tr>\n",
       "    <tr>\n",
       "      <th>2</th>\n",
       "      <td>3</td>\n",
       "      <td>1.0</td>\n",
       "      <td>bumble</td>\n",
       "    </tr>\n",
       "    <tr>\n",
       "      <th>3</th>\n",
       "      <td>4</td>\n",
       "      <td>0.0</td>\n",
       "      <td>bee</td>\n",
       "    </tr>\n",
       "    <tr>\n",
       "      <th>4</th>\n",
       "      <td>5</td>\n",
       "      <td>0.0</td>\n",
       "      <td>bee</td>\n",
       "    </tr>\n",
       "  </tbody>\n",
       "</table>\n",
       "</div>"
      ],
      "text/plain": [
       "   id  genus   class\n",
       "0   1    1.0  bumble\n",
       "1   2    1.0  bumble\n",
       "2   3    1.0  bumble\n",
       "3   4    0.0     bee\n",
       "4   5    0.0     bee"
      ]
     },
     "execution_count": 16,
     "metadata": {},
     "output_type": "execute_result"
    }
   ],
   "source": [
    "df_class = df\n",
    "df_class['class'] = np.where(df['genus']==1,'bumble','bee')\n",
    "df_class.head(5)"
   ]
  },
  {
   "cell_type": "code",
   "execution_count": 17,
   "metadata": {},
   "outputs": [],
   "source": [
    "\n",
    "for index, row in df.iterrows():\n",
    "    fname = \"{:.0f}.jpg\".format(row['id'])\n",
    "    \n",
    "    classname = row['class']\n",
    "    if index<2750:\n",
    "        dest_dir = os.path.join(dir_dict['train_'+classname])\n",
    "    elif index<3250:\n",
    "        dest_dir = os.path.join(dir_dict['valid_'+classname])\n",
    "    else:\n",
    "        dest_dir = os.path.join(dir_dict['test'])\n",
    "        \n",
    "    src = os.path.join(dir_dict['download'],fname)\n",
    "    dest = os.path.join(dest_dir,classname+fname)\n",
    "    shutil.copyfile(src, dest)\n"
   ]
  },
  {
   "cell_type": "code",
   "execution_count": 30,
   "metadata": {
    "scrolled": true
   },
   "outputs": [
    {
     "data": {
      "image/jpeg": "[encoded data removed]",
      "text/plain": [
       "<IPython.core.display.Image object>"
      ]
     },
     "execution_count": 30,
     "metadata": {},
     "output_type": "execute_result"
    }
   ],
   "source": [
    "from IPython.display import Image\n",
    "Image(os.path.join(dir_dict['download'],'9.jpg'))"
   ]
  },
  {
   "cell_type": "code",
   "execution_count": 31,
   "metadata": {},
   "outputs": [],
   "source": [
    "from tensorflow.keras import layers\n",
    "from tensorflow.keras import models\n",
    "\n",
    "model = models.Sequential()\n",
    "model.add(layers.Conv2D(32, (3, 3), activation='relu',\n",
    "                        input_shape=(200, 200, 3)))\n",
    "model.add(layers.MaxPooling2D((2, 2)))\n",
    "model.add(layers.Conv2D(64, (3, 3), activation='relu'))\n",
    "model.add(layers.MaxPooling2D((2, 2)))\n",
    "model.add(layers.Conv2D(128, (3, 3), activation='relu'))\n",
    "model.add(layers.MaxPooling2D((2, 2)))\n",
    "model.add(layers.Conv2D(128, (3, 3), activation='relu'))\n",
    "model.add(layers.MaxPooling2D((2, 2)))\n",
    "model.add(layers.Flatten())\n",
    "model.add(layers.Dense(512, activation='relu'))\n",
    "model.add(layers.Dense(1, activation='sigmoid'))"
   ]
  },
  {
   "cell_type": "code",
   "execution_count": 32,
   "metadata": {},
   "outputs": [
    {
     "name": "stdout",
     "output_type": "stream",
     "text": [
      "_________________________________________________________________\n",
      "Layer (type)                 Output Shape              Param #   \n",
      "=================================================================\n",
      "conv2d (Conv2D)              (None, 198, 198, 32)      896       \n",
      "_________________________________________________________________\n",
      "max_pooling2d (MaxPooling2D) (None, 99, 99, 32)        0         \n",
      "_________________________________________________________________\n",
      "conv2d_1 (Conv2D)            (None, 97, 97, 64)        18496     \n",
      "_________________________________________________________________\n",
      "max_pooling2d_1 (MaxPooling2 (None, 48, 48, 64)        0         \n",
      "_________________________________________________________________\n",
      "conv2d_2 (Conv2D)            (None, 46, 46, 128)       73856     \n",
      "_________________________________________________________________\n",
      "max_pooling2d_2 (MaxPooling2 (None, 23, 23, 128)       0         \n",
      "_________________________________________________________________\n",
      "conv2d_3 (Conv2D)            (None, 21, 21, 128)       147584    \n",
      "_________________________________________________________________\n",
      "max_pooling2d_3 (MaxPooling2 (None, 10, 10, 128)       0         \n",
      "_________________________________________________________________\n",
      "flatten (Flatten)            (None, 12800)             0         \n",
      "_________________________________________________________________\n",
      "dense (Dense)                (None, 512)               6554112   \n",
      "_________________________________________________________________\n",
      "dense_1 (Dense)              (None, 1)                 513       \n",
      "=================================================================\n",
      "Total params: 6,795,457\n",
      "Trainable params: 6,795,457\n",
      "Non-trainable params: 0\n",
      "_________________________________________________________________\n"
     ]
    }
   ],
   "source": [
    "model.summary()"
   ]
  },
  {
   "cell_type": "code",
   "execution_count": 34,
   "metadata": {},
   "outputs": [],
   "source": [
    "from tensorflow.keras import optimizers\n",
    "\n",
    "model.compile(loss='binary_crossentropy',\n",
    "              optimizer=optimizers.RMSprop(lr=1e-4),\n",
    "              metrics=['acc'])"
   ]
  },
  {
   "cell_type": "code",
   "execution_count": 35,
   "metadata": {},
   "outputs": [
    {
     "name": "stdout",
     "output_type": "stream",
     "text": [
      "Found 2750 images belonging to 2 classes.\n",
      "Found 500 images belonging to 2 classes.\n"
     ]
    }
   ],
   "source": [
    "from tensorflow.keras.preprocessing.image import ImageDataGenerator\n",
    "\n",
    "# All images will be rescaled by 1./255\n",
    "train_datagen = ImageDataGenerator(\n",
    "    rescale=1./255,\n",
    "    rotation_range=40,\n",
    "    width_shift_range=0.2,\n",
    "    height_shift_range=0.2,\n",
    "    shear_range=0.2,\n",
    "    zoom_range=0.2,\n",
    "    horizontal_flip=True,)\n",
    "\n",
    "test_datagen = ImageDataGenerator(rescale=1./255)\n",
    "\n",
    "train_generator = train_datagen.flow_from_directory(        \n",
    "        dir_dict['train'],      \n",
    "        target_size=(200, 200),\n",
    "        batch_size=20,        \n",
    "        class_mode='binary')\n",
    "\n",
    "validation_generator = test_datagen.flow_from_directory(\n",
    "        dir_dict['valid'],\n",
    "        target_size=(200, 200),\n",
    "        batch_size=20,\n",
    "        class_mode='binary')"
   ]
  },
  {
   "cell_type": "code",
   "execution_count": null,
   "metadata": {},
   "outputs": [],
   "source": [
    "from sklearn.utils import class_weight\n",
    "import numpy as np\n",
    "\n",
    "class_weights = class_weight.compute_class_weight(\n",
    "               'balanced',\n",
    "                np.unique(train_generator.classes), \n",
    "                train_generator.classes)\n",
    "\n",
    "print(class_weights)"
   ]
  },
  {
   "cell_type": "code",
   "execution_count": 37,
   "metadata": {},
   "outputs": [
    {
     "name": "stdout",
     "output_type": "stream",
     "text": [
      "Epoch 1/30\n",
      "100/100 [==============================] - 383s 4s/step - loss: 0.5229 - acc: 0.7985 - val_loss: 0.5580 - val_acc: 0.7620\n",
      "Epoch 2/30\n",
      "100/100 [==============================] - 371s 4s/step - loss: 0.4996 - acc: 0.7980 - val_loss: 0.5088 - val_acc: 0.7620\n",
      "Epoch 3/30\n",
      "100/100 [==============================] - 363s 4s/step - loss: 0.4771 - acc: 0.7990 - val_loss: 0.4853 - val_acc: 0.7600\n",
      "Epoch 4/30\n",
      "100/100 [==============================] - 348s 3s/step - loss: 0.4544 - acc: 0.8000 - val_loss: 0.4683 - val_acc: 0.7620\n",
      "Epoch 5/30\n",
      "100/100 [==============================] - 327s 3s/step - loss: 0.4455 - acc: 0.8065 - val_loss: 0.4704 - val_acc: 0.7620\n",
      "Epoch 6/30\n",
      "100/100 [==============================] - 322s 3s/step - loss: 0.4194 - acc: 0.8130 - val_loss: 0.4980 - val_acc: 0.7660\n",
      "Epoch 7/30\n",
      "100/100 [==============================] - 306s 3s/step - loss: 0.4345 - acc: 0.8045 - val_loss: 0.4447 - val_acc: 0.7660\n",
      "Epoch 8/30\n",
      "100/100 [==============================] - 298s 3s/step - loss: 0.4261 - acc: 0.7960 - val_loss: 0.4336 - val_acc: 0.7680\n",
      "Epoch 9/30\n",
      "100/100 [==============================] - 297s 3s/step - loss: 0.4107 - acc: 0.8045 - val_loss: 0.4351 - val_acc: 0.7660\n",
      "Epoch 10/30\n",
      "100/100 [==============================] - 298s 3s/step - loss: 0.4017 - acc: 0.8085 - val_loss: 0.5256 - val_acc: 0.7800\n",
      "Epoch 11/30\n",
      "100/100 [==============================] - 300s 3s/step - loss: 0.3964 - acc: 0.8195 - val_loss: 0.4405 - val_acc: 0.7680\n",
      "Epoch 12/30\n",
      "100/100 [==============================] - 298s 3s/step - loss: 0.3963 - acc: 0.8095 - val_loss: 0.4212 - val_acc: 0.8040\n",
      "Epoch 13/30\n",
      "100/100 [==============================] - 298s 3s/step - loss: 0.3774 - acc: 0.8295 - val_loss: 0.4126 - val_acc: 0.7960\n",
      "Epoch 14/30\n",
      "100/100 [==============================] - 307s 3s/step - loss: 0.3838 - acc: 0.8205 - val_loss: 0.4064 - val_acc: 0.7860\n",
      "Epoch 15/30\n",
      "100/100 [==============================] - 298s 3s/step - loss: 0.3874 - acc: 0.8240 - val_loss: 0.3815 - val_acc: 0.8120\n",
      "Epoch 16/30\n",
      "100/100 [==============================] - 325s 3s/step - loss: 0.3702 - acc: 0.8245 - val_loss: 0.3709 - val_acc: 0.8060\n",
      "Epoch 17/30\n",
      "100/100 [==============================] - 298s 3s/step - loss: 0.3655 - acc: 0.8270 - val_loss: 0.3657 - val_acc: 0.8080\n",
      "Epoch 18/30\n",
      "100/100 [==============================] - 298s 3s/step - loss: 0.3700 - acc: 0.8340 - val_loss: 0.3759 - val_acc: 0.8100\n",
      "Epoch 19/30\n",
      "100/100 [==============================] - 297s 3s/step - loss: 0.3489 - acc: 0.8410 - val_loss: 0.4139 - val_acc: 0.8040\n",
      "Epoch 20/30\n",
      "100/100 [==============================] - 300s 3s/step - loss: 0.3629 - acc: 0.8300 - val_loss: 0.3625 - val_acc: 0.8100\n",
      "Epoch 21/30\n",
      "100/100 [==============================] - 297s 3s/step - loss: 0.3385 - acc: 0.8485 - val_loss: 0.3722 - val_acc: 0.8180\n",
      "Epoch 22/30\n",
      "100/100 [==============================] - 297s 3s/step - loss: 0.3521 - acc: 0.8430 - val_loss: 0.3501 - val_acc: 0.8200\n",
      "Epoch 23/30\n",
      "100/100 [==============================] - 298s 3s/step - loss: 0.3470 - acc: 0.8535 - val_loss: 0.3758 - val_acc: 0.8160\n",
      "Epoch 24/30\n",
      "100/100 [==============================] - 297s 3s/step - loss: 0.3190 - acc: 0.8550 - val_loss: 0.4393 - val_acc: 0.7720\n",
      "Epoch 25/30\n",
      "100/100 [==============================] - 298s 3s/step - loss: 0.3165 - acc: 0.8655 - val_loss: 0.3790 - val_acc: 0.8060\n",
      "Epoch 26/30\n",
      "100/100 [==============================] - 302s 3s/step - loss: 0.3308 - acc: 0.8470 - val_loss: 0.3616 - val_acc: 0.8180\n",
      "Epoch 27/30\n",
      "100/100 [==============================] - 297s 3s/step - loss: 0.3281 - acc: 0.8520 - val_loss: 0.3505 - val_acc: 0.8480\n",
      "Epoch 28/30\n",
      "100/100 [==============================] - 299s 3s/step - loss: 0.3208 - acc: 0.8590 - val_loss: 0.3549 - val_acc: 0.8100\n",
      "Epoch 29/30\n",
      "100/100 [==============================] - 297s 3s/step - loss: 0.3154 - acc: 0.8630 - val_loss: 0.3730 - val_acc: 0.8000\n",
      "Epoch 30/30\n",
      "100/100 [==============================] - 298s 3s/step - loss: 0.3182 - acc: 0.8550 - val_loss: 0.3699 - val_acc: 0.8060\n"
     ]
    }
   ],
   "source": [
    "history = model.fit_generator(\n",
    "      train_generator,\n",
    "      steps_per_epoch=100,\n",
    "      epochs=30,\n",
    "      validation_data=validation_generator,\n",
    "      validation_steps=50)"
   ]
  },
  {
   "cell_type": "code",
   "execution_count": null,
   "metadata": {},
   "outputs": [],
   "source": [
    "history = model.fit_generator(\n",
    "      train_generator,\n",
    "      steps_per_epoch=100,\n",
    "      epochs=30,\n",
    "      validation_data=validation_generator,\n",
    "      validation_steps=50,\n",
    "      class_weight = class_weights)"
   ]
  },
  {
   "cell_type": "code",
   "execution_count": null,
   "metadata": {},
   "outputs": [],
   "source": [
    "model.save(os.path.join(basedir,'bee_bumble_1.h5'))"
   ]
  },
  {
   "cell_type": "code",
   "execution_count": null,
   "metadata": {
    "scrolled": true
   },
   "outputs": [],
   "source": [
    "import matplotlib.pyplot as plt\n",
    "acc = history.history['acc']\n",
    "val_acc = history.history['val_acc']\n",
    "loss = history.history['loss']\n",
    "val_loss = history.history['val_loss']\n",
    "\n",
    "epochs = range(len(acc))\n",
    "\n",
    "plt.plot(epochs, acc, 'bo', label='Training Genauigkeit')\n",
    "plt.plot(epochs, val_acc, 'b', label='Validierung Genauigkeit')\n",
    "plt.title('Training und Validierung Genauigkeit')\n",
    "plt.legend()\n",
    "\n",
    "plt.figure()\n",
    "\n",
    "plt.plot(epochs, loss, 'bo', label='Training loss')\n",
    "plt.plot(epochs, val_loss, 'b', label='Validierung loss')\n",
    "plt.title('Training und Validierung Loss')\n",
    "plt.legend()\n",
    "\n",
    "plt.show()"
   ]
  },
  {
   "cell_type": "code",
   "execution_count": null,
   "metadata": {},
   "outputs": [],
   "source": [
    "validation_generator.reset()\n",
    "prediction = model.predict_generator(validation_generator, verbose=1)\n",
    "\n",
    "predicted_class_indices = np.argmax(prediction,axis=1)\n",
    "labels = (train_generator.class_indices)\n",
    "labels = dict((v,k) for k,v in labels.items())\n",
    "predictions = [labels[k] for k in predicted_class_indices]\n",
    "\n",
    "#decoded = decode_predictions(prediction, top=3)[0]\n"
   ]
  },
  {
   "cell_type": "code",
   "execution_count": null,
   "metadata": {},
   "outputs": [],
   "source": [
    "filenames=validation_generator.filenames\n",
    "results = pd.DataFrame({\"Filename\":filenames,\n",
    "                       \"Predictions\":predictions})"
   ]
  },
  {
   "cell_type": "code",
   "execution_count": null,
   "metadata": {},
   "outputs": [],
   "source": [
    "results.head(1000)"
   ]
  },
  {
   "cell_type": "code",
   "execution_count": null,
   "metadata": {},
   "outputs": [],
   "source": [
    "test_generator.reset()"
   ]
  },
  {
   "cell_type": "code",
   "execution_count": null,
   "metadata": {},
   "outputs": [],
   "source": []
  }
 ],
 "metadata": {
  "kernelspec": {
   "display_name": "Python 3",
   "language": "python",
   "name": "python3"
  },
  "language_info": {
   "codemirror_mode": {
    "name": "ipython",
    "version": 3
   },
   "file_extension": ".py",
   "mimetype": "text/x-python",
   "name": "python",
   "nbconvert_exporter": "python",
   "pygments_lexer": "ipython3",
   "version": "3.6.2"
  }
 },
 "nbformat": 4,
 "nbformat_minor": 2
}
