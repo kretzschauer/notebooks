{
 "cells": [
  {
   "cell_type": "markdown",
   "metadata": {},
   "source": [
    "# Kapitel 3\n",
    "## Die Entscheidung"
   ]
  },
  {
   "cell_type": "code",
   "execution_count": 3,
   "metadata": {},
   "outputs": [
    {
     "name": "stdout",
     "output_type": "stream",
     "text": [
      "1\n"
     ]
    }
   ],
   "source": [
    "def entscheidung( summe ):\n",
    "    \"\"\"Berechnung der Entscheidung zum Wert summe\n",
    "        Input:  summe\n",
    "        Output: 1, falls summe >= 1, \n",
    "                0 sonst \n",
    "    \"\"\"\n",
    "    if summe >= 1: \n",
    "        return 1\n",
    "    else:\n",
    "        return 0\n",
    "#-----------------------------\n",
    "# Berechnung der entscheidung\n",
    "ergebnis = entscheidung(1)\n",
    "# Ausgabe in Zelle\n",
    "print(ergebnis)\n"
   ]
  },
  {
   "cell_type": "markdown",
   "metadata": {},
   "source": [
    "## Dokumentationsstring"
   ]
  },
  {
   "cell_type": "code",
   "execution_count": 4,
   "metadata": {},
   "outputs": [
    {
     "name": "stdout",
     "output_type": "stream",
     "text": [
      "Berechnung der Entscheidung zum Wert summe\n",
      "        Input:  summe\n",
      "        Output: 1, falls summe >= 1, \n",
      "                0 sonst \n",
      "    \n"
     ]
    }
   ],
   "source": [
    "print(entscheidung.__doc__)"
   ]
  },
  {
   "cell_type": "markdown",
   "metadata": {},
   "source": [
    "## Stufenfunktion"
   ]
  },
  {
   "cell_type": "code",
   "execution_count": 5,
   "metadata": {},
   "outputs": [
    {
     "data": {
      "image/png": "[encoded data removed]",
      "text/plain": [
       "<matplotlib.figure.Figure at 0x11056d9b0>"
      ]
     },
     "metadata": {},
     "output_type": "display_data"
    }
   ],
   "source": [
    "# Import der Module \n",
    "import matplotlib.pyplot as plt\n",
    "# Ganz wichtig, sonst wird der Plot nicht angezeigt\n",
    "%matplotlib inline\n",
    "\n",
    "# x/y Werte des Graphen\n",
    "x = [-1,0,0.999,1,2]\n",
    "# y Werte mit der Funktion entscheidung berechnen\n",
    "y = [ entscheidung(i) for i in x ]\n",
    "# Erzeugen des Graphen, mit einer blauen Stufe und Bezeichnung step\n",
    "plt.step(x, y, '-b', label='step')\n",
    "\n",
    "# Die Achsen setzen\n",
    "plt.grid(True)\n",
    "# Die horizontale und vertikale 0 Achse etwas dicker in schwarz zeichnen\n",
    "plt.axhline(0, color='black', lw=1)\n",
    "plt.axvline(0, color='black', lw=1)\n",
    "\n",
    "# Achsenbeschriftung und Titel\n",
    "plt.xlabel('Summe')\n",
    "plt.ylabel('Ergebnis')\n",
    "plt.title('Stufenfunktion')\n",
    "\n",
    "# Legenden Platzierung festlegen\n",
    "plt.legend(loc='lower right')\n",
    "\n",
    "# Den Graph anzeigen\n",
    "plt.show()\n"
   ]
  },
  {
   "cell_type": "markdown",
   "metadata": {},
   "source": [
    "## (1) Planung mit Scatter-Plot"
   ]
  },
  {
   "cell_type": "code",
   "execution_count": 44,
   "metadata": {},
   "outputs": [
    {
     "name": "stdout",
     "output_type": "stream",
     "text": [
      "Der Vektor x1:  [0 0 1 1]\n"
     ]
    },
    {
     "data": {
      "image/png": "[encoded data removed]",
      "text/plain": [
       "<matplotlib.figure.Figure at 0x1135be0f0>"
      ]
     },
     "metadata": {},
     "output_type": "display_data"
    }
   ],
   "source": [
    "# Scatter Plot\n",
    "import matplotlib.pyplot as plt\n",
    "# Ganz wichtig, sonst wird der Plot nicht angezeigt\n",
    "%matplotlib inline\n",
    "\n",
    "import numpy as np\n",
    "# Die Funkion array wandelt eine Python Liste in ein numpy Array um\n",
    "# Die x1 = x Koordinaten\n",
    "x1    = np.array([0, 0, 1, 1]) \n",
    "# Die x2 = y Koordinaten\n",
    "x2    = np.array([0, 1, 0, 1]) \n",
    "# Die Farben für die Punkte\n",
    "color = np.array(['black', 'black', 'red', 'black']) \n",
    "# Die Punktgröße für jeden Punkt\n",
    "size  = np.array([100, 100, 500, 100]) \n",
    "\n",
    "# Den Vektor x1 mit allen x1 Koordinaten ausgeben\n",
    "print('Der Vektor x1: ', x1)\n",
    "\n",
    "# Die Achsen setzen\n",
    "plt.grid(True)\n",
    "\n",
    "# Den plot zeichnen für die x1 und x2 Koordinaten, Farbe und Größe\n",
    "plt.scatter(x1, x2, c=color, s=size)\n",
    "\n",
    "# Die Achsen setzen\n",
    "plt.xlabel('x1')\n",
    "plt.ylabel('x2')\n",
    "\n",
    "# Die Achseneinteilungen setzen\n",
    "plt.xticks([0.0,1.0])\n",
    "plt.yticks([0.0,1.0])\n",
    "\n",
    "# Endlich die figure ausgeben\n",
    "plt.show()"
   ]
  },
  {
   "cell_type": "markdown",
   "metadata": {},
   "source": [
    "## Scatter Plot Iris Datensatz"
   ]
  },
  {
   "cell_type": "code",
   "execution_count": 22,
   "metadata": {},
   "outputs": [
    {
     "data": {
      "text/plain": [
       "<matplotlib.collections.PathCollection at 0x1132a6f28>"
      ]
     },
     "execution_count": 22,
     "metadata": {},
     "output_type": "execute_result"
    },
    {
     "data": {
      "image/png": "[encoded data removed]",
      "text/plain": [
       "<matplotlib.figure.Figure at 0x1132ff0b8>"
      ]
     },
     "metadata": {},
     "output_type": "display_data"
    }
   ],
   "source": [
    "# Die benötigten Module importieren\n",
    "import matplotlib.pyplot as plt\n",
    "import numpy as np\n",
    "# Ganz wichtig, sonst wird der Plot nicht angezeigt\n",
    "%matplotlib inline\n",
    "\n",
    "# File einlesen \n",
    "fobj = open(\"iris.csv\", \"r\")\n",
    "# x1 sind die Koordinaten der x-Achse, x2 die der y-Achse\n",
    "x1    = []\n",
    "x2    = []\n",
    "# Farben für die Datenpunkte\n",
    "colors = []\n",
    "# Mapping der Schwertlilien zu Farben mit \n",
    "# einem python dictionary \n",
    "iris_colors = { 'Iris-setosa' : 'red',\n",
    "           'Iris-versicolor' : 'green',\n",
    "           'Iris-virginica' : 'blue'}\n",
    "# Den Datensatz zeilenweise verarbeiten\n",
    "for line in fobj:\n",
    "#   Split        \n",
    "    words = line.rstrip().split(\",\")\n",
    "#   Leerzeilen auslassen  \n",
    "    if len(words) != 5:\n",
    "        continue\n",
    "#   SepalLength    \n",
    "    x1.append(words[0])\n",
    "#   SepalWidth    \n",
    "    x2.append(words[1])\n",
    "#   Farbe    \n",
    "    colors.append(iris_colors[words[4]])\n",
    "# Schließen der File Handle\n",
    "fobj.close()\n",
    "#-------------------------------------\n",
    "# Gitter im scatter plot zeichnen\n",
    "plt.style.use('seaborn-whitegrid')  \n",
    "# Achsenbeschriftung und Titel\n",
    "plt.xlabel('Sepal Length')\n",
    "plt.ylabel('Sepal Width')\n",
    "plt.title('Scatter Plot')\n",
    "# Den Plot ausgeben\n",
    "plt.scatter(np.array(x1), np.array(x2), color=colors )\n"
   ]
  },
  {
   "cell_type": "markdown",
   "metadata": {},
   "source": [
    " ## Dot Product mit Python"
   ]
  },
  {
   "cell_type": "code",
   "execution_count": 45,
   "metadata": {},
   "outputs": [
    {
     "name": "stdout",
     "output_type": "stream",
     "text": [
      "x = [0 1]\n",
      "w = [ 0.5  0.7]\n",
      "w*x = [ 0.   0.7]\n",
      "np.dot(w,x) = 0.7\n",
      "w.dot(x) = 0.7\n"
     ]
    }
   ],
   "source": [
    "# Die Multiplikation von Vektoren mit numpy\n",
    "#  Dot Product, Skalarprodukt, Inneres Produkt, \n",
    "#   macht aus zwei Sequenzen von Zahlen eine Zahl (algebraisch)\n",
    "#  Es ist der Cosinus des Winkels zwischen zwei Vektoren (geometrisch)\n",
    "#   multipliziert mit deren Längen\n",
    "import numpy as np\n",
    "\n",
    "# numpy array erzeugen\n",
    "x = np.array([0,1])\n",
    "# numpy array erzeugen\n",
    "w = np.array([0.5,0.7])\n",
    "\n",
    "# Vektor x ausgeben\n",
    "print(\"x =\", x)\n",
    "# Vektor w ausgeben\n",
    "print(\"w =\", w)\n",
    "# numpy arrays sind keine Matrizen und \n",
    "# die Operatoren *, +, -, / funktionieren Element für Element\n",
    "print(\"w*x =\",w*x)\n",
    "# Inneres Produkt. Man muss den Vektor nicht transponieren, \n",
    "# das erledigt numpy für uns\n",
    "print(\"np.dot(w,x) =\", np.dot(w,x))\n",
    "# Alternative Syntax zum Dot Product\n",
    "print(\"w.dot(x) =\", w.dot(x)) "
   ]
  },
  {
   "cell_type": "markdown",
   "metadata": {},
   "source": [
    "## Perceptron Forward Path"
   ]
  },
  {
   "cell_type": "code",
   "execution_count": 93,
   "metadata": {},
   "outputs": [
    {
     "name": "stdout",
     "output_type": "stream",
     "text": [
      "Fr. Karotte = 0, Hr. Lauch = 0, Ergebnis = 0, Fehler = 0\n",
      "Fr. Karotte = 0, Hr. Lauch = 1, Ergebnis = 1, Fehler = 0\n",
      "Fr. Karotte = 1, Hr. Lauch = 0, Ergebnis = 1, Fehler = 0\n",
      "Fr. Karotte = 1, Hr. Lauch = 1, Ergebnis = 1, Fehler = 0\n",
      "Gesamtfehler = 0\n"
     ]
    }
   ],
   "source": [
    "# Perceptron Forward Path\n",
    "import matplotlib.pyplot as plt\n",
    "import numpy as np\n",
    "# 3 dimensionaler Input = Bias Neuron, Fr. Karotte, Hr. Lauch  \n",
    "# 4 Inputvektoren\n",
    "X = np.array([\n",
    "    [1,0,0],\n",
    "    [1,0,1],\n",
    "    [1,1,0],\n",
    "    [1,1,1]])\n",
    "# Die 4 gewünschten Ergebniswerte\n",
    "y = np.array([0,1,1,1])\n",
    "# Heaviside Funktion\n",
    "def heaviside( summe ):\n",
    "    \"\"\"Berechnung der Entscheidung zum Wert summe\n",
    "        Input:  summe\n",
    "        Output: 1, falls summe >= 0, \n",
    "                0 sonst \n",
    "    \"\"\"\n",
    "    if summe >= 0: \n",
    "        return 1\n",
    "    else:\n",
    "        return 0\n",
    "# Perceptron Berechnung (Forward Path)\n",
    "def perceptron_eval(X,y):\n",
    "#   Der Gesamtfehler\n",
    "    gesamtfehler = 0;\n",
    "#   Die Gewichte so wählen, dass das OR Problem gelöst werden kann\n",
    "    w = np.array([-1,1,1])    \n",
    "#   Index i und Element x Ermittlung vom Array X       \n",
    "    for i, x in enumerate(X):\n",
    "#   x = Zeile für Zeile verwenden   \n",
    "#   Inneres Produkt zwischen x und w\n",
    "        summe = np.dot(w,x)\n",
    "        ergebnis = heaviside(summe)\n",
    "#       Fehler\n",
    "        fehler = np.abs(ergebnis - y[i])\n",
    "#.      Gesamtfehler\n",
    "        gesamtfehler += fehler\n",
    "#       Ausgabe\n",
    "        print(\"Fr. Karotte = {}, Hr. Lauch = {}, Ergebnis = {}, Fehler = {}\".\n",
    "              format(x[1], x[2], y[i],fehler))\n",
    "#   Gesamtfehler pro Epoche über ganzen Trainingsdatensatz    \n",
    "    return gesamtfehler\n",
    "#----------------------------------------\n",
    "# Core Function zum Auswerten des Inputs\n",
    "gesamtfehler = perceptron_eval(X,y)\n",
    "print(\"Gesamtfehler = %1d\" % (gesamtfehler))"
   ]
  },
  {
   "cell_type": "markdown",
   "metadata": {
    "collapsed": true
   },
   "source": [
    "## Roboterschutz"
   ]
  },
  {
   "cell_type": "code",
   "execution_count": 96,
   "metadata": {},
   "outputs": [
    {
     "name": "stdout",
     "output_type": "stream",
     "text": [
      "Sensor L = 0, Sensor R = 0, Ergebnis = 0, Fehler = 0\n",
      "Sensor L = 0, Sensor R = 1, Ergebnis = 0, Fehler = 0\n",
      "Sensor L = 1, Sensor R = 0, Ergebnis = 0, Fehler = 0\n",
      "Sensor L = 1, Sensor R = 1, Ergebnis = 1, Fehler = 0\n",
      "Gesamtfehler = 0\n"
     ]
    }
   ],
   "source": [
    "# Perceptron Forward Path\n",
    "import matplotlib.pyplot as plt\n",
    "import numpy as np\n",
    "# 3 dimensionaler Input = Bias Neuron, Sensor links, Sensor rechts  \n",
    "# 4 Inputvektoren\n",
    "X = np.array([\n",
    "    [1,0,0],\n",
    "    [1,0,1],\n",
    "    [1,1,0],\n",
    "    [1,1,1]])\n",
    "# Die 4 gewünschten Ergebniswerte\n",
    "y = np.array([0,0,0,1])\n",
    "# Heaviside Funktion\n",
    "def heaviside( summe ):\n",
    "    \"\"\"Berechnung der Entscheidung zum Wert summe\n",
    "        Input:  summe\n",
    "        Output: 1, falls summe >= 0, \n",
    "                0 sonst \n",
    "    \"\"\"\n",
    "    if summe >= 0: \n",
    "        return 1\n",
    "    else:\n",
    "        return 0\n",
    "# Perceptron Berechnung (Forward Path)\n",
    "def perceptron_eval(X,y):\n",
    "#   Der Gesamtfehler\n",
    "    gesamtfehler = 0;\n",
    "#   Die Gewichte so wählen, dass das Roboter Problem gelöst werden kann\n",
    "    w = np.array([-2,1,1])    \n",
    "#   Index i und Element x Ermittlung vom Array X       \n",
    "    for i, x in enumerate(X):\n",
    "#   x = Zeile für Zeile verwenden   \n",
    "#   Inneres Produkt zwischen x und w\n",
    "        summe = np.dot(w,x)\n",
    "        ergebnis = heaviside(summe)\n",
    "#       Fehler\n",
    "        fehler = np.abs(ergebnis - y[i])\n",
    "#.      Gesamtfehler\n",
    "        gesamtfehler += fehler\n",
    "#       Ausgabe\n",
    "        print(\"Sensor L = {}, Sensor R = {}, Ergebnis = {}, Fehler = {}\".\n",
    "              format(x[1], x[2], y[i],fehler))\n",
    "#   Gesamtfehler pro Epoche über ganzen Trainingsdatensatz    \n",
    "    return gesamtfehler\n",
    "#----------------------------------------\n",
    "# Core Function zum Auswerten des Inputs\n",
    "gesamtfehler = perceptron_eval(X,y)\n",
    "print(\"Gesamtfehler = %1d\" % (gesamtfehler))"
   ]
  }
 ],
 "metadata": {
  "kernelspec": {
   "display_name": "Python 3",
   "language": "python",
   "name": "python3"
  },
  "language_info": {
   "codemirror_mode": {
    "name": "ipython",
    "version": 3
   },
   "file_extension": ".py",
   "mimetype": "text/x-python",
   "name": "python",
   "nbconvert_exporter": "python",
   "pygments_lexer": "ipython3",
   "version": "3.7.0"
  }
 },
 "nbformat": 4,
 "nbformat_minor": 2
}
