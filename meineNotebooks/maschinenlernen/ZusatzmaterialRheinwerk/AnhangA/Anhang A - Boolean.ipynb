{
 "cells": [
  {
   "cell_type": "code",
   "execution_count": 1,
   "metadata": {},
   "outputs": [
    {
     "data": {
      "text/plain": [
       "True"
      ]
     },
     "execution_count": 1,
     "metadata": {},
     "output_type": "execute_result"
    }
   ],
   "source": [
    "# Bool´sche Werte\n",
    "True   # bedeutet ja, 1, on ... True hat auch den Wert 1\n",
    "False  # bedeutet nein, 0, off ... False hat auch den Wert 0\n",
    "\n",
    "# man kann die Bool´schen Werte auch negieren\n",
    "not True  # entspricht also False\n",
    "not False # entsprich also True\n",
    "\n",
    "# Sehr wichtig sind Bool´sche Operatoren wie\n",
    "# Abfrage auf Gleichheit  ==\n",
    "0 == 1  # ergibt False\n",
    "2 == 2  # ergibt True\n",
    "\n",
    "# Abfrage auf Ungleichheit != \n",
    "0 != 1  # ergibt True\n",
    "2 != 2  # ergibt False\n",
    "\n",
    "# noch mehr Vergleiche kleiner als <, grösser als >, \n",
    "# kleiner gleich <= , größer gleich >=\n",
    "1 < 100  # ergibt True\n",
    "20 < 10  # ergibt False\n",
    "3 <= 8   # ergibt True\n",
    "11 >= 11 # ergibt True\n"
   ]
  },
  {
   "cell_type": "markdown",
   "metadata": {},
   "source": [
    "___"
   ]
  },
  {
   "cell_type": "code",
   "execution_count": 2,
   "metadata": {},
   "outputs": [
    {
     "name": "stdout",
     "output_type": "stream",
     "text": [
      "False\n"
     ]
    }
   ],
   "source": [
    "print(2!=2)"
   ]
  },
  {
   "cell_type": "code",
   "execution_count": 4,
   "metadata": {},
   "outputs": [
    {
     "name": "stdout",
     "output_type": "stream",
     "text": [
      "°C: 0.0  : °F: 32.0\n",
      "°C: 36.0  : °F: 96.8\n",
      "°C: 100.0  : °F: 212.0\n",
      "°C: -273  : °F: -459.4\n"
     ]
    }
   ],
   "source": [
    "# jetzt eine Funktion mit Zahlen, die einen Wert zurückgibt\n",
    "def rechneCelsiusInFahrenheit(Temp_in_Celsius):\n",
    "   return (Temp_in_Celsius *9 / 5) + 32\n",
    "\n",
    "# jetzt mischen wir eine for-Schleife mit dem Funktionsaufruf\n",
    "for temp in [0.0, 36.0, 100.0, -273]:\n",
    "   print(\"°C: {}  : °F: {}\".format(temp,rechneCelsiusInFahrenheit(temp)))\n",
    "\n"
   ]
  },
  {
   "cell_type": "code",
   "execution_count": 16,
   "metadata": {},
   "outputs": [],
   "source": [
    "import numpy as np   # Funktionen zum sortieren der Distanzen\n",
    "import numpy.linalg as nl   # Funktionen zur Distanzberechnung\n",
    "from collections import Counter # Zählen und bestimmen der häufigsten Klassen\n",
    "\n",
    "# unsere kNN-Klassifikator Klasse\n",
    "class myKNN:\n",
    "   \"\"\"k-Nächste-Nachbarn-Klassifikator\"\"\"\n",
    "\n",
    "   def __init__(self, k_neighbours=3):\n",
    "      \"\"\"\n",
    "      Wird zur Initialisierung des Klassifikators aufgerufen\n",
    "      Standardwert für k_neighbours = 3\n",
    "      \"\"\"\n",
    "      self.k_neighbours = k_neighbours\n",
    "      \n",
    "   # Trainingsphase des Klassifikators\n",
    "   # Der kNN-Klassifikator braucht eigentlich kein Training, da\n",
    "   # da Klassenzugehörigkeit aufgrund der nächsten Nachbarn bestimmt wird\n",
    "   # wir übernehmen nur die Liste Xb der bekannten Objekte in die Klasse\n",
    "   def fit(self, Xb, y=None):\n",
    "      \"\"\"\n",
    "      Training des Klassifikators mit List der bekannten Objekte Xb\n",
    "      \"\"\"\n",
    "      self.Xb = Xb\n",
    "      self.y = y\n",
    "      \n",
    "      return self\n",
    "\n",
    "   def predict(self, Xu, y=None):\n",
    "      \"\"\"\n",
    "      Klassifizierung der Liste der unbekannten Objekte Xu\n",
    "      \"\"\"\n",
    "      # zuerst bereiten wir den Resultatsvektor vor\n",
    "      self.classindices = []\n",
    "      \n",
    "      for i in Xu:\n",
    "         # diese Anweisung bestimmt die Distanzen des unbekannten Objekts\n",
    "         # zu allen bekannten Objekten unserer Liste\n",
    "         distances = nl.norm(np.transpose(i - self.Xb), axis=0)\n",
    "\n",
    "         # Sortierung der Distanzen und Liste der ersten k_neighbours Indizes\n",
    "         indicesSortedDistances = np.argsort(distances)[:self.k_neighbours]\n",
    "\n",
    "         # Bestimme die Häufigkeiten der Klassen und gib die häufigste zurück\n",
    "         mostfrequentClass = Counter(self.y[indicesSortedDistances]).most_common(1)[0][0]\n",
    "         \n",
    "         # Füge das Ergebnis dem Resultatsvektor hinzu\n",
    "         self.classindices.append(mostfrequentClass)\n",
    "      return self.classindices\n"
   ]
  },
  {
   "cell_type": "code",
   "execution_count": 17,
   "metadata": {},
   "outputs": [],
   "source": [
    "classificator1 = myKNN(k_neighbours=3)\n",
    "classificator2 = myKNN(k_neighbours=5)\n"
   ]
  },
  {
   "cell_type": "code",
   "execution_count": 18,
   "metadata": {},
   "outputs": [
    {
     "data": {
      "text/plain": [
       "<__main__.myKNN at 0x59b70b8>"
      ]
     },
     "execution_count": 18,
     "metadata": {},
     "output_type": "execute_result"
    }
   ],
   "source": [
    "# Hier nun unsere x-y Koordinaten unserer roten und blauen Objekte\n",
    "# und die dazugehörige Klasse\n",
    "Xb = np.array([[1, 8.8], [1, 11], [1.2, 15.9], [3.7, 11], [6.1, 8.8], [9.8, 14.5], [7, 17], [10, 8.1], [11, 10.5], [11.8, 17.5], [16.4, 15.8]])\n",
    "y = np.array([1, 1, 1, 1, 1, 1, 0, 0, 0, 0, 0])\n",
    "\n",
    "# dann das trainieren\n",
    "classificator1.fit(Xb,y)\n",
    "classificator2.fit(Xb,y)\n"
   ]
  },
  {
   "cell_type": "code",
   "execution_count": 19,
   "metadata": {},
   "outputs": [],
   "source": [
    "Xu = np.array([[9, 9]])"
   ]
  },
  {
   "cell_type": "code",
   "execution_count": 20,
   "metadata": {},
   "outputs": [
    {
     "data": {
      "text/plain": [
       "[0]"
      ]
     },
     "execution_count": 20,
     "metadata": {},
     "output_type": "execute_result"
    }
   ],
   "source": [
    "classificator1.predict(Xu)"
   ]
  },
  {
   "cell_type": "code",
   "execution_count": 21,
   "metadata": {},
   "outputs": [
    {
     "data": {
      "text/plain": [
       "[1]"
      ]
     },
     "execution_count": 21,
     "metadata": {},
     "output_type": "execute_result"
    }
   ],
   "source": [
    "classificator2.predict(Xu)"
   ]
  },
  {
   "cell_type": "code",
   "execution_count": null,
   "metadata": {},
   "outputs": [],
   "source": []
  }
 ],
 "metadata": {
  "kernelspec": {
   "display_name": "Python 3",
   "language": "python",
   "name": "python3"
  },
  "language_info": {
   "codemirror_mode": {
    "name": "ipython",
    "version": 3
   },
   "file_extension": ".py",
   "mimetype": "text/x-python",
   "name": "python",
   "nbconvert_exporter": "python",
   "pygments_lexer": "ipython3",
   "version": "3.6.2"
  }
 },
 "nbformat": 4,
 "nbformat_minor": 2
}
