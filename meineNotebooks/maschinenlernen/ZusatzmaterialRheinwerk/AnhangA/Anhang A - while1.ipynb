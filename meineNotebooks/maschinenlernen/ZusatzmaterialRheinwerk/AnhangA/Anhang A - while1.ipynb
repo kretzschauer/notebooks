{
 "cells": [
  {
   "cell_type": "code",
   "execution_count": 1,
   "metadata": {},
   "outputs": [
    {
     "name": "stdout",
     "output_type": "stream",
     "text": [
      "Die Summe ist: 55\n"
     ]
    }
   ],
   "source": [
    "# eine einfaches Beispiel\n",
    "anzahlDurchlaeufe = 10\n",
    "i = 1\n",
    "summe = 0\n",
    "\n",
    "while i <= anzahlDurchlaeufe:   # diese Bedingung ergibt True oder False\n",
    "    summe = summe + i\n",
    "    i = i + 1\n",
    "    \n",
    "print(\"Die Summe ist:\", summe)"
   ]
  },
  {
   "cell_type": "code",
   "execution_count": 2,
   "metadata": {},
   "outputs": [
    {
     "name": "stdout",
     "output_type": "stream",
     "text": [
      "Das Produkt ist:  87178291200\n"
     ]
    }
   ],
   "source": [
    "# man kann die Abbruchbedingung auch an das Ende der Schleife setzen\n",
    "# mit dem befehl break kann man aus einer Schleife \"springen\"\n",
    "anzahlDurchlaeufe = 15\n",
    "i = 1\n",
    "produkt = 1\n",
    "\n",
    "while True:\n",
    "    produkt = produkt * i\n",
    "    i = i + 1\n",
    "    if i >= anzahlDurchlaeufe:\n",
    "        break\n",
    "\n",
    "print(\"Das Produkt ist: \", produkt)"
   ]
  },
  {
   "cell_type": "markdown",
   "metadata": {},
   "source": [
    "___"
   ]
  },
  {
   "cell_type": "code",
   "execution_count": null,
   "metadata": {
    "collapsed": true
   },
   "outputs": [],
   "source": []
  }
 ],
 "metadata": {
  "kernelspec": {
   "display_name": "Python 3",
   "language": "python",
   "name": "python3"
  },
  "language_info": {
   "codemirror_mode": {
    "name": "ipython",
    "version": 3
   },
   "file_extension": ".py",
   "mimetype": "text/x-python",
   "name": "python",
   "nbconvert_exporter": "python",
   "pygments_lexer": "ipython3",
   "version": "3.6.2"
  }
 },
 "nbformat": 4,
 "nbformat_minor": 2
}
