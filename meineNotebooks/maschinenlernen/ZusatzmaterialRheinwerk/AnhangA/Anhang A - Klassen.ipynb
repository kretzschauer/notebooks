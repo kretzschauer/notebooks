{
 "cells": [
  {
   "cell_type": "code",
   "execution_count": 28,
   "metadata": {},
   "outputs": [],
   "source": [
    "# Wir verwenden das \"class\" statement um eine Klasse zu erstellen\n",
    "class Mensch:\n",
    "\n",
    "    # Drei Klassenattribute, die alle Instanzen dieser Klasse teilen\n",
    "    spezies = \"Homo sapiens\"\n",
    "    geschlecht = \"\"\n",
    "\n",
    "    # Jede Klasse braucht eine Initialisierung, wenn mittels dieser \n",
    "    # Klassendefinition ein Objekt bzw. Instanz erzeugt wird.\n",
    "    # Python ist das eine spezielle Methode __init__ die es für alle \n",
    "    # Klassen geben muss\n",
    "    def __init__(self, name):\n",
    "        # In der Initialisierung werden die Attribute mit Werten belegt\n",
    "        # das macht man mit einer speziellen Variable self\n",
    "        self.name = name\n",
    "        # die Variable _alter ist \"gekapselt\", d.h. nur innerhalb \n",
    "        # der Klasse bekannt\n",
    "        # um diese Variable zu belegen bzw. auszugeben braucht es eigene\n",
    "        self._alter = 0\n",
    "\n",
    "    # Eine erste Methode dieser Klasse\n",
    "    # Jede Methode braucht zwingend als erstes Argument \"self\"!\n",
    "    \n",
    "    def gruessen(self, person):\n",
    "        print(\"ich, {gruesser}, grüsse {begruesser}!\".format(gruesser=self.name, begruesser=person))\n",
    "\n",
    "    # Eine Klasseneigenschaft, die uns die gekapselte Variable alter ausgibt\n",
    "    @property\n",
    "    def alter(self):\n",
    "        return self._alter\n",
    "\n",
    "    # Diese Klasseneigenschaft belegt den Wert der Klassenvariable _alter\n",
    "    @alter.setter\n",
    "    def alter(self, alterInJahren):\n",
    "        self._alter = alterInJahren\n"
   ]
  },
  {
   "cell_type": "code",
   "execution_count": 20,
   "metadata": {
    "collapsed": true
   },
   "outputs": [],
   "source": [
    "person1 = Mensch(\"Jasmin\")\n",
    "person2 = Mensch(\"Ottokar\")"
   ]
  },
  {
   "cell_type": "code",
   "execution_count": 27,
   "metadata": {},
   "outputs": [
    {
     "name": "stdout",
     "output_type": "stream",
     "text": [
      "ich, Joachim grüsse Julia!\n"
     ]
    }
   ],
   "source": [
    "person1.gruessen(person2.name)"
   ]
  },
  {
   "cell_type": "code",
   "execution_count": 22,
   "metadata": {},
   "outputs": [
    {
     "data": {
      "text/plain": [
       "0"
      ]
     },
     "execution_count": 22,
     "metadata": {},
     "output_type": "execute_result"
    }
   ],
   "source": [
    "person1.alter"
   ]
  },
  {
   "cell_type": "code",
   "execution_count": 23,
   "metadata": {},
   "outputs": [],
   "source": [
    "person1.alter = 50"
   ]
  },
  {
   "cell_type": "code",
   "execution_count": 29,
   "metadata": {},
   "outputs": [
    {
     "name": "stdout",
     "output_type": "stream",
     "text": [
      "50\n"
     ]
    }
   ],
   "source": [
    "print(person1.alter)"
   ]
  },
  {
   "cell_type": "code",
   "execution_count": 25,
   "metadata": {
    "collapsed": true
   },
   "outputs": [],
   "source": [
    "person1.geschlecht = \"m\""
   ]
  },
  {
   "cell_type": "code",
   "execution_count": 26,
   "metadata": {},
   "outputs": [
    {
     "name": "stdout",
     "output_type": "stream",
     "text": [
      "m\n"
     ]
    }
   ],
   "source": [
    "print(person1.geschlecht)"
   ]
  },
  {
   "cell_type": "code",
   "execution_count": null,
   "metadata": {
    "collapsed": true
   },
   "outputs": [],
   "source": []
  }
 ],
 "metadata": {
  "kernelspec": {
   "display_name": "Python 3",
   "language": "python",
   "name": "python3"
  },
  "language_info": {
   "codemirror_mode": {
    "name": "ipython",
    "version": 3
   },
   "file_extension": ".py",
   "mimetype": "text/x-python",
   "name": "python",
   "nbconvert_exporter": "python",
   "pygments_lexer": "ipython3",
   "version": "3.6.2"
  }
 },
 "nbformat": 4,
 "nbformat_minor": 2
}
