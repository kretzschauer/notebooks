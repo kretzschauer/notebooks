{
 "cells": [
  {
   "cell_type": "markdown",
   "metadata": {},
   "source": [
    "# Eigene Implementation eines K-Nearest-Neighbor Algorithmus"
   ]
  },
  {
   "cell_type": "markdown",
   "metadata": {},
   "source": [
    "Ziel:\n",
    "* Entwicklung eines eigenen KNN Algorithmus\n",
    "* möglichst gute Performance --> wenige Schlaufen-Iterationen --> O(n) Laufzeit\n",
    "* Kompatibilität mit Scikit Features"
   ]
  },
  {
   "cell_type": "code",
   "execution_count": 3,
   "metadata": {
    "collapsed": true
   },
   "outputs": [],
   "source": [
    "import numpy as np\n",
    "import numpy.linalg as nl\n",
    "from collections import Counter"
   ]
  },
  {
   "cell_type": "markdown",
   "metadata": {},
   "source": [
    "## Create a SciKit compatible Class of MyKNN\n",
    "In order to use all the nice features of scikit like cross_val_score and GridSearchCV, etc. let's see if we can subklass from SciKit Estimators and create our own MyKNN Classifier"
   ]
  },
  {
   "cell_type": "code",
   "execution_count": 4,
   "metadata": {
    "collapsed": true
   },
   "outputs": [],
   "source": [
    "from sklearn.base import BaseEstimator, ClassifierMixin\n",
    "\n",
    "class MyKNN(BaseEstimator, ClassifierMixin):  \n",
    "    \"\"\"An example of a KNN classifier, compatible with scikit-learn\"\"\"\n",
    "    \n",
    "    def __init__(self, n_neighbors=5, debug=False):\n",
    "        \"\"\"\n",
    "        Called when initializing the classifier\n",
    "        Default kNeighbors Value is 5\n",
    "        \"\"\"\n",
    "        self.n_neighbors = n_neighbors\n",
    "        self.debug = debug\n",
    "        \n",
    "    def fit(self, X, y=None):\n",
    "        \"\"\"\n",
    "        This should fit classifier. \n",
    "        \n",
    "        Since in KNN the Algorigthm needs no training,\n",
    "        we just assign X and y values.\n",
    "        \"\"\"\n",
    "        self.X = X\n",
    "        self.y = y\n",
    "        \n",
    "        if (len(self.X) < self.n_neighbors):\n",
    "            print(\"Initialized n_neighbors is larger than available samples in X.\")\n",
    "            print(\"Setting n_neighbors to length of samples: {}\".format(len(self.X)))\n",
    "            self.n_neighbors = len(self.X)\n",
    "        \n",
    "        return self\n",
    "    \n",
    "    def predict(self, X, y=None):\n",
    "        try:\n",
    "            getattr(self, \"X\")\n",
    "        except AttributeError:\n",
    "            raise RuntimeError(\"You must train classifer before predicting data!\")\n",
    "    \n",
    "        # prepare result vector\n",
    "        self.classindexes = []\n",
    "        for i in X:\n",
    "            dist = nl.norm(np.transpose(i-self.X), axis=0)        \n",
    "            self.classindexes.append(Counter(self.y[np.argsort(dist)[:self.n_neighbors]]).most_common(1)[0][0])\n",
    "            if (self.debug):\n",
    "                print(\"current i:\")\n",
    "                print(i)\n",
    "                print(\"current dist:\")\n",
    "                print(dist)\n",
    "                print(\"indexes of sorted shorted distances:\")\n",
    "                print(np.argsort(dist))\n",
    "                print(\"k nearest indexes:\")\n",
    "                print(np.argsort(dist)[:self.n_neighbors])\n",
    "                print(\"classes of these k nearest indexes:\")\n",
    "                print(self.y[np.argsort(dist)[:self.n_neighbors]])\n",
    "                print(\"most common class:\")\n",
    "                print(Counter(self.y[np.argsort(dist)[:self.n_neighbors]]).most_common(1)[0][0])\n",
    "        return(self.classindexes)"
   ]
  },
  {
   "cell_type": "markdown",
   "metadata": {},
   "source": [
    "## Create some test classes"
   ]
  },
  {
   "cell_type": "code",
   "execution_count": 42,
   "metadata": {},
   "outputs": [],
   "source": [
    "Xb = np.array([[1, 1, 1.2, 3.7, 6.1, 9.8, 7, 10, 11.8, 16.4], [8.8, 11, 15.9, 11, 8.8, 14.5, 17, 8.1, 17.5, 15.8]])\n",
    "y = np.array([1, 1, 1, 1, 1, 1, 0, 0, 0, 0])"
   ]
  },
  {
   "cell_type": "code",
   "execution_count": 70,
   "metadata": {
    "collapsed": true
   },
   "outputs": [],
   "source": [
    "Xb = np.array([[1, 8.8], [1, 11], [1.2, 15.9], [3.7, 11], [6.1, 8.8], [9.8, 14.5], [7, 17], [10, 8.1], [11.8, 17.5], [16.4, 15.8], [11,10]])"
   ]
  },
  {
   "cell_type": "code",
   "execution_count": 71,
   "metadata": {
    "collapsed": true
   },
   "outputs": [],
   "source": [
    "y = np.array([1, 1, 1, 1, 1, 1, 0, 0, 0, 0, 0])"
   ]
  },
  {
   "cell_type": "code",
   "execution_count": 68,
   "metadata": {},
   "outputs": [
    {
     "data": {
      "text/plain": [
       "array([1, 1, 1, 1, 1, 1, 0, 0, 0, 0])"
      ]
     },
     "execution_count": 68,
     "metadata": {},
     "output_type": "execute_result"
    }
   ],
   "source": [
    "y"
   ]
  },
  {
   "cell_type": "code",
   "execution_count": 43,
   "metadata": {
    "collapsed": true
   },
   "outputs": [],
   "source": [
    "Xu = np.array([[9, 5], [9, 5]])"
   ]
  },
  {
   "cell_type": "code",
   "execution_count": 56,
   "metadata": {},
   "outputs": [
    {
     "data": {
      "text/plain": [
       "(10, 2)"
      ]
     },
     "execution_count": 56,
     "metadata": {},
     "output_type": "execute_result"
    }
   ],
   "source": [
    "Xb.shape"
   ]
  },
  {
   "cell_type": "code",
   "execution_count": 64,
   "metadata": {},
   "outputs": [
    {
     "data": {
      "text/plain": [
       "array([[  1. ,   8.8],\n",
       "       [  1. ,  11. ],\n",
       "       [  1.2,  15.9],\n",
       "       [  3.7,  11. ],\n",
       "       [  6.1,   8.8],\n",
       "       [  9.8,  14.5],\n",
       "       [  7. ,  17. ],\n",
       "       [ 10. ,   8.1],\n",
       "       [ 11.8,  17.5],\n",
       "       [ 16.4,  15.8]])"
      ]
     },
     "execution_count": 64,
     "metadata": {},
     "output_type": "execute_result"
    }
   ],
   "source": [
    "Xb"
   ]
  },
  {
   "cell_type": "code",
   "execution_count": 65,
   "metadata": {},
   "outputs": [
    {
     "data": {
      "text/plain": [
       "array([0, 0, 0, 0, 0, 0, 0, 0, 0, 0, 0, 0, 0, 0, 0, 0, 0, 0, 0, 0, 0, 0, 0,\n",
       "       0, 0, 0, 0, 0, 0, 0, 0, 0, 0, 0, 0, 0, 0, 0, 0, 0, 0, 0, 0, 0, 0, 0,\n",
       "       0, 0, 0, 0, 1, 1, 1, 1, 1, 1, 1, 1, 1, 1, 1, 1, 1, 1, 1, 1, 1, 1, 1,\n",
       "       1, 1, 1, 1, 1, 1, 1, 1, 1, 1, 1, 1, 1, 1, 1, 1, 1, 1, 1, 1, 1, 1, 1,\n",
       "       1, 1, 1, 1, 1, 1, 1, 1, 2, 2, 2, 2, 2, 2, 2, 2, 2, 2, 2, 2, 2, 2, 2,\n",
       "       2, 2, 2, 2, 2, 2, 2, 2, 2, 2, 2, 2, 2, 2, 2, 2, 2, 2, 2, 2, 2, 2, 2,\n",
       "       2, 2, 2, 2, 2, 2, 2, 2, 2, 2, 2, 2])"
      ]
     },
     "execution_count": 65,
     "metadata": {},
     "output_type": "execute_result"
    }
   ],
   "source": [
    "y"
   ]
  },
  {
   "cell_type": "code",
   "execution_count": 45,
   "metadata": {},
   "outputs": [
    {
     "data": {
      "text/plain": [
       "(10,)"
      ]
     },
     "execution_count": 45,
     "metadata": {},
     "output_type": "execute_result"
    }
   ],
   "source": [
    "y.shape"
   ]
  },
  {
   "cell_type": "code",
   "execution_count": 72,
   "metadata": {
    "collapsed": true
   },
   "outputs": [],
   "source": [
    "test = MyKNN()"
   ]
  },
  {
   "cell_type": "code",
   "execution_count": 73,
   "metadata": {
    "collapsed": true
   },
   "outputs": [],
   "source": [
    "clf = MyKNN(n_neighbors=3, debug=False)"
   ]
  },
  {
   "cell_type": "code",
   "execution_count": 74,
   "metadata": {
    "collapsed": true
   },
   "outputs": [],
   "source": [
    "clf2 = MyKNN(n_neighbors=5, debug=True)"
   ]
  },
  {
   "cell_type": "code",
   "execution_count": 59,
   "metadata": {
    "collapsed": true
   },
   "outputs": [],
   "source": [
    "# predict some iris data\n",
    "from sklearn import datasets\n",
    "iris = datasets.load_iris()\n",
    "iris.data.shape\n",
    "X = iris.data[:, :]\n",
    "y= iris.target"
   ]
  },
  {
   "cell_type": "code",
   "execution_count": 60,
   "metadata": {},
   "outputs": [
    {
     "data": {
      "text/plain": [
       "(150, 4)"
      ]
     },
     "execution_count": 60,
     "metadata": {},
     "output_type": "execute_result"
    }
   ],
   "source": [
    "iris.data.shape"
   ]
  },
  {
   "cell_type": "code",
   "execution_count": 61,
   "metadata": {},
   "outputs": [
    {
     "data": {
      "text/plain": [
       "(150, 4)"
      ]
     },
     "execution_count": 61,
     "metadata": {},
     "output_type": "execute_result"
    }
   ],
   "source": [
    "X.shape"
   ]
  },
  {
   "cell_type": "code",
   "execution_count": null,
   "metadata": {
    "collapsed": true
   },
   "outputs": [],
   "source": []
  },
  {
   "cell_type": "code",
   "execution_count": 62,
   "metadata": {},
   "outputs": [
    {
     "data": {
      "text/plain": [
       "(150,)"
      ]
     },
     "execution_count": 62,
     "metadata": {},
     "output_type": "execute_result"
    }
   ],
   "source": [
    "y.shape"
   ]
  },
  {
   "cell_type": "code",
   "execution_count": 63,
   "metadata": {},
   "outputs": [
    {
     "data": {
      "text/plain": [
       "array([0, 0, 0, 0, 0, 0, 0, 0, 0, 0, 0, 0, 0, 0, 0, 0, 0, 0, 0, 0, 0, 0, 0,\n",
       "       0, 0, 0, 0, 0, 0, 0, 0, 0, 0, 0, 0, 0, 0, 0, 0, 0, 0, 0, 0, 0, 0, 0,\n",
       "       0, 0, 0, 0, 1, 1, 1, 1, 1, 1, 1, 1, 1, 1, 1, 1, 1, 1, 1, 1, 1, 1, 1,\n",
       "       1, 1, 1, 1, 1, 1, 1, 1, 1, 1, 1, 1, 1, 1, 1, 1, 1, 1, 1, 1, 1, 1, 1,\n",
       "       1, 1, 1, 1, 1, 1, 1, 1, 2, 2, 2, 2, 2, 2, 2, 2, 2, 2, 2, 2, 2, 2, 2,\n",
       "       2, 2, 2, 2, 2, 2, 2, 2, 2, 2, 2, 2, 2, 2, 2, 2, 2, 2, 2, 2, 2, 2, 2,\n",
       "       2, 2, 2, 2, 2, 2, 2, 2, 2, 2, 2, 2])"
      ]
     },
     "execution_count": 63,
     "metadata": {},
     "output_type": "execute_result"
    }
   ],
   "source": [
    "y"
   ]
  },
  {
   "cell_type": "code",
   "execution_count": 10,
   "metadata": {},
   "outputs": [
    {
     "data": {
      "text/plain": [
       "array([[ 5.1,  3.5,  1.4,  0.2],\n",
       "       [ 4.9,  3. ,  1.4,  0.2],\n",
       "       [ 4.7,  3.2,  1.3,  0.2],\n",
       "       [ 4.6,  3.1,  1.5,  0.2],\n",
       "       [ 5. ,  3.6,  1.4,  0.2],\n",
       "       [ 5.4,  3.9,  1.7,  0.4],\n",
       "       [ 4.6,  3.4,  1.4,  0.3],\n",
       "       [ 5. ,  3.4,  1.5,  0.2],\n",
       "       [ 4.4,  2.9,  1.4,  0.2],\n",
       "       [ 4.9,  3.1,  1.5,  0.1],\n",
       "       [ 5.4,  3.7,  1.5,  0.2],\n",
       "       [ 4.8,  3.4,  1.6,  0.2],\n",
       "       [ 4.8,  3. ,  1.4,  0.1],\n",
       "       [ 4.3,  3. ,  1.1,  0.1],\n",
       "       [ 5.8,  4. ,  1.2,  0.2],\n",
       "       [ 5.7,  4.4,  1.5,  0.4],\n",
       "       [ 5.4,  3.9,  1.3,  0.4],\n",
       "       [ 5.1,  3.5,  1.4,  0.3],\n",
       "       [ 5.7,  3.8,  1.7,  0.3],\n",
       "       [ 5.1,  3.8,  1.5,  0.3],\n",
       "       [ 5.4,  3.4,  1.7,  0.2],\n",
       "       [ 5.1,  3.7,  1.5,  0.4],\n",
       "       [ 4.6,  3.6,  1. ,  0.2],\n",
       "       [ 5.1,  3.3,  1.7,  0.5],\n",
       "       [ 4.8,  3.4,  1.9,  0.2],\n",
       "       [ 5. ,  3. ,  1.6,  0.2],\n",
       "       [ 5. ,  3.4,  1.6,  0.4],\n",
       "       [ 5.2,  3.5,  1.5,  0.2],\n",
       "       [ 5.2,  3.4,  1.4,  0.2],\n",
       "       [ 4.7,  3.2,  1.6,  0.2],\n",
       "       [ 4.8,  3.1,  1.6,  0.2],\n",
       "       [ 5.4,  3.4,  1.5,  0.4],\n",
       "       [ 5.2,  4.1,  1.5,  0.1],\n",
       "       [ 5.5,  4.2,  1.4,  0.2],\n",
       "       [ 4.9,  3.1,  1.5,  0.1],\n",
       "       [ 5. ,  3.2,  1.2,  0.2],\n",
       "       [ 5.5,  3.5,  1.3,  0.2],\n",
       "       [ 4.9,  3.1,  1.5,  0.1],\n",
       "       [ 4.4,  3. ,  1.3,  0.2],\n",
       "       [ 5.1,  3.4,  1.5,  0.2],\n",
       "       [ 5. ,  3.5,  1.3,  0.3],\n",
       "       [ 4.5,  2.3,  1.3,  0.3],\n",
       "       [ 4.4,  3.2,  1.3,  0.2],\n",
       "       [ 5. ,  3.5,  1.6,  0.6],\n",
       "       [ 5.1,  3.8,  1.9,  0.4],\n",
       "       [ 4.8,  3. ,  1.4,  0.3],\n",
       "       [ 5.1,  3.8,  1.6,  0.2],\n",
       "       [ 4.6,  3.2,  1.4,  0.2],\n",
       "       [ 5.3,  3.7,  1.5,  0.2],\n",
       "       [ 5. ,  3.3,  1.4,  0.2],\n",
       "       [ 7. ,  3.2,  4.7,  1.4],\n",
       "       [ 6.4,  3.2,  4.5,  1.5],\n",
       "       [ 6.9,  3.1,  4.9,  1.5],\n",
       "       [ 5.5,  2.3,  4. ,  1.3],\n",
       "       [ 6.5,  2.8,  4.6,  1.5],\n",
       "       [ 5.7,  2.8,  4.5,  1.3],\n",
       "       [ 6.3,  3.3,  4.7,  1.6],\n",
       "       [ 4.9,  2.4,  3.3,  1. ],\n",
       "       [ 6.6,  2.9,  4.6,  1.3],\n",
       "       [ 5.2,  2.7,  3.9,  1.4],\n",
       "       [ 5. ,  2. ,  3.5,  1. ],\n",
       "       [ 5.9,  3. ,  4.2,  1.5],\n",
       "       [ 6. ,  2.2,  4. ,  1. ],\n",
       "       [ 6.1,  2.9,  4.7,  1.4],\n",
       "       [ 5.6,  2.9,  3.6,  1.3],\n",
       "       [ 6.7,  3.1,  4.4,  1.4],\n",
       "       [ 5.6,  3. ,  4.5,  1.5],\n",
       "       [ 5.8,  2.7,  4.1,  1. ],\n",
       "       [ 6.2,  2.2,  4.5,  1.5],\n",
       "       [ 5.6,  2.5,  3.9,  1.1],\n",
       "       [ 5.9,  3.2,  4.8,  1.8],\n",
       "       [ 6.1,  2.8,  4. ,  1.3],\n",
       "       [ 6.3,  2.5,  4.9,  1.5],\n",
       "       [ 6.1,  2.8,  4.7,  1.2],\n",
       "       [ 6.4,  2.9,  4.3,  1.3],\n",
       "       [ 6.6,  3. ,  4.4,  1.4],\n",
       "       [ 6.8,  2.8,  4.8,  1.4],\n",
       "       [ 6.7,  3. ,  5. ,  1.7],\n",
       "       [ 6. ,  2.9,  4.5,  1.5],\n",
       "       [ 5.7,  2.6,  3.5,  1. ],\n",
       "       [ 5.5,  2.4,  3.8,  1.1],\n",
       "       [ 5.5,  2.4,  3.7,  1. ],\n",
       "       [ 5.8,  2.7,  3.9,  1.2],\n",
       "       [ 6. ,  2.7,  5.1,  1.6],\n",
       "       [ 5.4,  3. ,  4.5,  1.5],\n",
       "       [ 6. ,  3.4,  4.5,  1.6],\n",
       "       [ 6.7,  3.1,  4.7,  1.5],\n",
       "       [ 6.3,  2.3,  4.4,  1.3],\n",
       "       [ 5.6,  3. ,  4.1,  1.3],\n",
       "       [ 5.5,  2.5,  4. ,  1.3],\n",
       "       [ 5.5,  2.6,  4.4,  1.2],\n",
       "       [ 6.1,  3. ,  4.6,  1.4],\n",
       "       [ 5.8,  2.6,  4. ,  1.2],\n",
       "       [ 5. ,  2.3,  3.3,  1. ],\n",
       "       [ 5.6,  2.7,  4.2,  1.3],\n",
       "       [ 5.7,  3. ,  4.2,  1.2],\n",
       "       [ 5.7,  2.9,  4.2,  1.3],\n",
       "       [ 6.2,  2.9,  4.3,  1.3],\n",
       "       [ 5.1,  2.5,  3. ,  1.1],\n",
       "       [ 5.7,  2.8,  4.1,  1.3],\n",
       "       [ 6.3,  3.3,  6. ,  2.5],\n",
       "       [ 5.8,  2.7,  5.1,  1.9],\n",
       "       [ 7.1,  3. ,  5.9,  2.1],\n",
       "       [ 6.3,  2.9,  5.6,  1.8],\n",
       "       [ 6.5,  3. ,  5.8,  2.2],\n",
       "       [ 7.6,  3. ,  6.6,  2.1],\n",
       "       [ 4.9,  2.5,  4.5,  1.7],\n",
       "       [ 7.3,  2.9,  6.3,  1.8],\n",
       "       [ 6.7,  2.5,  5.8,  1.8],\n",
       "       [ 7.2,  3.6,  6.1,  2.5],\n",
       "       [ 6.5,  3.2,  5.1,  2. ],\n",
       "       [ 6.4,  2.7,  5.3,  1.9],\n",
       "       [ 6.8,  3. ,  5.5,  2.1],\n",
       "       [ 5.7,  2.5,  5. ,  2. ],\n",
       "       [ 5.8,  2.8,  5.1,  2.4],\n",
       "       [ 6.4,  3.2,  5.3,  2.3],\n",
       "       [ 6.5,  3. ,  5.5,  1.8],\n",
       "       [ 7.7,  3.8,  6.7,  2.2],\n",
       "       [ 7.7,  2.6,  6.9,  2.3],\n",
       "       [ 6. ,  2.2,  5. ,  1.5],\n",
       "       [ 6.9,  3.2,  5.7,  2.3],\n",
       "       [ 5.6,  2.8,  4.9,  2. ],\n",
       "       [ 7.7,  2.8,  6.7,  2. ],\n",
       "       [ 6.3,  2.7,  4.9,  1.8],\n",
       "       [ 6.7,  3.3,  5.7,  2.1],\n",
       "       [ 7.2,  3.2,  6. ,  1.8],\n",
       "       [ 6.2,  2.8,  4.8,  1.8],\n",
       "       [ 6.1,  3. ,  4.9,  1.8],\n",
       "       [ 6.4,  2.8,  5.6,  2.1],\n",
       "       [ 7.2,  3. ,  5.8,  1.6],\n",
       "       [ 7.4,  2.8,  6.1,  1.9],\n",
       "       [ 7.9,  3.8,  6.4,  2. ],\n",
       "       [ 6.4,  2.8,  5.6,  2.2],\n",
       "       [ 6.3,  2.8,  5.1,  1.5],\n",
       "       [ 6.1,  2.6,  5.6,  1.4],\n",
       "       [ 7.7,  3. ,  6.1,  2.3],\n",
       "       [ 6.3,  3.4,  5.6,  2.4],\n",
       "       [ 6.4,  3.1,  5.5,  1.8],\n",
       "       [ 6. ,  3. ,  4.8,  1.8],\n",
       "       [ 6.9,  3.1,  5.4,  2.1],\n",
       "       [ 6.7,  3.1,  5.6,  2.4],\n",
       "       [ 6.9,  3.1,  5.1,  2.3],\n",
       "       [ 5.8,  2.7,  5.1,  1.9],\n",
       "       [ 6.8,  3.2,  5.9,  2.3],\n",
       "       [ 6.7,  3.3,  5.7,  2.5],\n",
       "       [ 6.7,  3. ,  5.2,  2.3],\n",
       "       [ 6.3,  2.5,  5. ,  1.9],\n",
       "       [ 6.5,  3. ,  5.2,  2. ],\n",
       "       [ 6.2,  3.4,  5.4,  2.3],\n",
       "       [ 5.9,  3. ,  5.1,  1.8]])"
      ]
     },
     "execution_count": 10,
     "metadata": {},
     "output_type": "execute_result"
    }
   ],
   "source": [
    "X"
   ]
  },
  {
   "cell_type": "code",
   "execution_count": 75,
   "metadata": {},
   "outputs": [
    {
     "data": {
      "text/plain": [
       "MyKNN(debug=False, n_neighbors=5)"
      ]
     },
     "execution_count": 75,
     "metadata": {},
     "output_type": "execute_result"
    }
   ],
   "source": [
    "# test should be initialized with default values from _init_\n",
    "test.fit(Xb, y)"
   ]
  },
  {
   "cell_type": "code",
   "execution_count": 76,
   "metadata": {},
   "outputs": [
    {
     "data": {
      "text/plain": [
       "MyKNN(debug=False, n_neighbors=3)"
      ]
     },
     "execution_count": 76,
     "metadata": {},
     "output_type": "execute_result"
    }
   ],
   "source": [
    "clf.fit(Xb, y)"
   ]
  },
  {
   "cell_type": "code",
   "execution_count": 77,
   "metadata": {},
   "outputs": [
    {
     "data": {
      "text/plain": [
       "MyKNN(debug=True, n_neighbors=5)"
      ]
     },
     "execution_count": 77,
     "metadata": {},
     "output_type": "execute_result"
    }
   ],
   "source": [
    "clf2.fit(Xb, y)"
   ]
  },
  {
   "cell_type": "markdown",
   "metadata": {},
   "source": [
    "## Test predictions \n",
    "Let's do some first predictions with clf and clf2"
   ]
  },
  {
   "cell_type": "code",
   "execution_count": 79,
   "metadata": {},
   "outputs": [],
   "source": [
    "Xu = np.array([[9, 9],[5, 5]])"
   ]
  },
  {
   "cell_type": "code",
   "execution_count": 80,
   "metadata": {},
   "outputs": [
    {
     "name": "stdout",
     "output_type": "stream",
     "text": [
      "current i:\n",
      "[9 9]\n",
      "current dist:\n",
      "[  8.00249961   8.24621125  10.41393297   5.66480362   2.90688837\n",
      "   5.55787729   8.24621125   1.3453624    8.94930165  10.04987562\n",
      "   2.23606798]\n",
      "indexes of sorted shorted distances:\n",
      "[ 7 10  4  5  3  0  1  6  8  9  2]\n",
      "k nearest indexes:\n",
      "[ 7 10  4  5  3]\n",
      "classes of these k nearest indexes:\n",
      "[0 0 1 1 1]\n",
      "most common class:\n",
      "1\n",
      "current i:\n",
      "[5 5]\n",
      "current dist:\n",
      "[  5.51724569   7.21110255  11.54339638   6.13921819   3.95600809\n",
      "  10.64377752  12.16552506   5.88302643  14.2298981   15.70350279\n",
      "   7.81024968]\n",
      "indexes of sorted shorted distances:\n",
      "[ 4  0  7  3  1 10  5  2  6  8  9]\n",
      "k nearest indexes:\n",
      "[4 0 7 3 1]\n",
      "classes of these k nearest indexes:\n",
      "[1 1 0 1 1]\n",
      "most common class:\n",
      "1\n"
     ]
    },
    {
     "data": {
      "text/plain": [
       "[1, 1]"
      ]
     },
     "execution_count": 80,
     "metadata": {},
     "output_type": "execute_result"
    }
   ],
   "source": [
    "clf2.predict(Xu)"
   ]
  },
  {
   "cell_type": "code",
   "execution_count": 81,
   "metadata": {},
   "outputs": [
    {
     "data": {
      "text/plain": [
       "[0, 1]"
      ]
     },
     "execution_count": 81,
     "metadata": {},
     "output_type": "execute_result"
    }
   ],
   "source": [
    "clf.predict(Xu)"
   ]
  },
  {
   "cell_type": "code",
   "execution_count": 10,
   "metadata": {
    "collapsed": true
   },
   "outputs": [],
   "source": [
    "new_iris_values = np.array([[3, 5, 4, 2], [5, 4, 3, 2]])"
   ]
  },
  {
   "cell_type": "code",
   "execution_count": 11,
   "metadata": {
    "collapsed": true
   },
   "outputs": [],
   "source": [
    "meine_iris_values = np.array([[3.0, 4.9, 3.8, 2.2], [6.0,  3.6,  5.2,  2.4]])"
   ]
  },
  {
   "cell_type": "code",
   "execution_count": 40,
   "metadata": {},
   "outputs": [
    {
     "ename": "NameError",
     "evalue": "name 'new_iris_values' is not defined",
     "output_type": "error",
     "traceback": [
      "\u001b[1;31m---------------------------------------------------------------------------\u001b[0m",
      "\u001b[1;31mNameError\u001b[0m                                 Traceback (most recent call last)",
      "\u001b[1;32m<ipython-input-40-af7f3b822a39>\u001b[0m in \u001b[0;36m<module>\u001b[1;34m()\u001b[0m\n\u001b[1;32m----> 1\u001b[1;33m \u001b[0mclf\u001b[0m\u001b[1;33m.\u001b[0m\u001b[0mpredict\u001b[0m\u001b[1;33m(\u001b[0m\u001b[0mnew_iris_values\u001b[0m\u001b[1;33m)\u001b[0m\u001b[1;33m\u001b[0m\u001b[0m\n\u001b[0m",
      "\u001b[1;31mNameError\u001b[0m: name 'new_iris_values' is not defined"
     ]
    }
   ],
   "source": [
    "clf.predict(new_iris_values)"
   ]
  },
  {
   "cell_type": "code",
   "execution_count": 13,
   "metadata": {},
   "outputs": [
    {
     "data": {
      "text/plain": [
       "[1, 2]"
      ]
     },
     "execution_count": 13,
     "metadata": {},
     "output_type": "execute_result"
    }
   ],
   "source": [
    "clf.predict(meine_iris_values)"
   ]
  },
  {
   "cell_type": "code",
   "execution_count": 16,
   "metadata": {},
   "outputs": [
    {
     "name": "stdout",
     "output_type": "stream",
     "text": [
      "current i:\n",
      "[ 3.   4.9  3.8  2.2]\n",
      "current dist:\n",
      "[ 4.01621713  4.12067956  4.00374824  3.88458492  3.9306488   3.79605058\n",
      "  3.76563408  3.94208067  3.96484552  4.06816912  4.0607881   3.78549865\n",
      "  4.12553027  4.12310563  4.40567815  4.00874045  4.03112887  3.96736688\n",
      "  4.06448029  3.81051178  4.05215992  3.79209705  4.01123422  3.77756535\n",
      "  3.61939221  4.05585996  3.78549865  4.01123422  4.10487515  3.82361086\n",
      "  3.91407716  4.06693988  3.89615195  4.0620192   4.06816912  4.20119031\n",
      "  4.29651021  4.06816912  3.97743636  3.99374511  3.97743636  4.34396133\n",
      "  3.88587185  3.65513338  3.53128872  4.02740611  3.80263067  3.9\n",
      "  4.00249922  4.03980198  4.50998891  3.92810387  4.48887514  3.72290209\n",
      "  4.21781934  3.60555128  3.82361086  3.39852909  4.29068759  3.21403174\n",
      "  3.73363094  3.55949435  4.21544778  3.88072158  3.40734501  4.23438307\n",
      "  3.36897611  3.76961536  4.30232495  3.7067506   3.52987252  3.8561639\n",
      "  4.28369     3.97869325  4.07676342  4.19165838  4.52658812  4.35775171\n",
      "  3.73898382  3.75632799  3.70270172  3.73496988  3.7         3.98622629\n",
      "  3.21714159  3.47850543  4.26966041  4.33820239  3.35708207  3.58608422\n",
      "  3.591657    3.80788655  3.76430604  3.52845575  3.54541958  3.47275107\n",
      "  3.50142828  3.91152144  3.46698716  3.54964787  4.28719022  3.80263067\n",
      "  4.98397432  4.27668096  4.45645599  5.71139212  3.17962262  5.37587202\n",
      "  4.85901225  4.97091541  4.10731056  4.32897216  4.577117    3.81182371\n",
      "  3.73898382  4.08778669  4.34856298  5.63116329  6.08276253  4.26848919\n",
      "  4.66047208  3.52420204  5.9118525   4.13521463  4.45757782  5.05272204\n",
      "  3.97617907  3.81968585  4.38406204  5.06063237  5.39907399  5.65862174\n",
      "  4.3829214   4.18090899  4.33358974  5.56776436  4.05215992  4.22492603\n",
      "  3.71079506  4.58475735  4.49555336  4.48887514  3.80263067  4.66368953\n",
      "  4.46654229  4.38976081  4.26380112  4.22610932  3.88072158  3.72424489]\n",
      "indexes of sorted shorted distances:\n",
      "[106  59  84  88  66  57  64  98  95  85  96 121  93  70  44  94  99  61\n",
      "  89  90  55  24  43  82  80  69 138  53 149  60  81 114  78  79  92   6\n",
      "  67  23  11  26  21   5  46 142 101  91  19 113 127  29  56  71  63 148\n",
      "   3  42  32  47  97  30  51   4   7   8  17 126  40  38  73  83  39  48\n",
      "   2  15  27  22   0  45  16  49 136  20  25  10  33  18  31   9  34  37\n",
      "  74 115  28 110   1  13  12 123 133  75  35  62  54 137 147  65 146 119\n",
      "  86 103  72 100  58  36  68 111 134  87  41 116  77 132 128 145  14 104\n",
      " 124 144  52 141 140  50  76 112 139 120 143 108 109 102 125 129 107 130\n",
      " 135 117 131 105 122 118]\n",
      "k nearest indexes:\n",
      "[106  59  84  88  66  57  64]\n",
      "classes of these k nearest indexes:\n",
      "[2 1 1 1 1 1 1]\n",
      "most common class:\n",
      "1\n",
      "current i:\n",
      "[ 6.   3.6  5.2  2.4]\n",
      "current dist:\n",
      "[ 4.48330235  4.56618002  4.67974358  4.55411901  4.5033321   4.08656335\n",
      "  4.56618002  4.42379927  4.72546294  4.52106182  4.34741302  4.39089968\n",
      "  4.6400431   5.03487835  4.58693798  4.29185275  4.43395986  4.43508737\n",
      "  4.09756025  4.35315977  4.18210473  4.30232495  4.94368284  4.0938979\n",
      "  4.1484937   4.37721373  4.24264069  4.37949769  4.46766158  4.43283205\n",
      "  4.41474801  4.25323406  4.45757782  4.45982062  4.52106182  4.69041576\n",
      "  4.50666174  4.52106182  4.79270279  4.40227214  4.54202598  4.85386444\n",
      "  4.77179212  4.1484937   3.96736688  4.54422711  4.31856458  4.6260134\n",
      "  4.36233882  4.51331364  1.55241747  1.27279221  1.4         2.14242853\n",
      "  1.43527001  1.55884573  1.03440804  2.86705424  1.55563492  2.03469899\n",
      "  2.9         1.47648231  2.31516738  1.32287566  2.1023796   1.54272486\n",
      "  1.34907376  2.00499377  1.81659021  2.17944947  0.83066239  1.81659021\n",
      "  1.4832397   1.52970585  1.63401346  1.53622915  1.56204994  1.17473401\n",
      "  1.33790882  2.43721152  2.310844    2.42899156  1.99499373  1.2083046\n",
      "  1.42126704  1.08166538  1.34164079  1.90525589  1.71464282  2.02731349\n",
      "  1.82482876  1.31529464  1.97989899  2.87402157  1.78325545  1.7\n",
      "  1.67032931  1.59687194  2.9240383   1.77482393  0.91104336  1.05356538\n",
      "  1.46628783  1.04880885  1.00498756  2.22934968  1.84390889  1.93649167\n",
      "  1.55563492  1.50332964  0.76157731  1.10905365  1.08627805  1.22474487\n",
      "  0.83066239  0.58309519  1.02956301  2.28473193  2.60576284  1.67630546\n",
      "  1.10905365  1.02469508  2.43721152  1.161895    0.9591663   1.61245155\n",
      "  1.09544512  0.90553851  1.02469508  1.67332005  1.91311265  2.29128785\n",
      "  1.          1.24498996  1.47309199  2.0174241   0.53851648  0.92736185\n",
      "  0.93808315  1.09087121  0.9486833   1.03923048  1.05356538  1.14017543\n",
      "  0.91651514  0.92736185  1.26095202  0.87749644  0.36055513  0.86023253]\n",
      "indexes of sorted shorted distances:\n",
      "[148 136 115 110  70 114 149 147 127 100 144 137 145 138 140 124 132 104\n",
      " 128 121 116  56 141 103 101 142  85 112 139 126 111 120 143 123  77  83\n",
      " 113 133 146  51  91  63  78  86  66  52  84  54 102 134  61  72 109  73\n",
      "  75  65  50 108  58  55  76  97 125  74  96 129 119  95  88  99  94  68\n",
      "  71  90 106  87 130 107  92  82  67 135  89  59  64  53  69 105 117 131\n",
      "  80  62  81  79 122 118  57  93  60  98  44   5  23  18  24  43  20  26\n",
      "  31  15  21  46  10  19  48  25  27  11  39  30   7  29  16  17  32  33\n",
      "  28   0   4  36  49  34  37   9  40  45   3   6   1  14  47  12   2  35\n",
      "   8  42  38  41  22  13]\n",
      "k nearest indexes:\n",
      "[148 136 115 110  70 114 149]\n",
      "classes of these k nearest indexes:\n",
      "[2 2 2 2 1 2 2]\n",
      "most common class:\n",
      "2\n"
     ]
    },
    {
     "data": {
      "text/plain": [
       "[1, 2]"
      ]
     },
     "execution_count": 16,
     "metadata": {},
     "output_type": "execute_result"
    }
   ],
   "source": [
    "clf2.predict(meine_iris_values)"
   ]
  },
  {
   "cell_type": "code",
   "execution_count": 12,
   "metadata": {},
   "outputs": [
    {
     "name": "stdout",
     "output_type": "stream",
     "text": [
      "current i:\n",
      "[3 5 4 2]\n",
      "current dist:\n",
      "[ 4.08166633  4.19642705  4.08166633  3.95727179  3.99499687  3.84967531\n",
      "  3.84317577  4.00624512  4.04598566  4.13279566  4.11582313  3.84707681\n",
      "  4.19642705  4.20832508  4.46318272  4.05709256  4.10121933  4.0385641\n",
      "  4.11217704  3.87169214  4.10487515  3.86134692  4.0938979   3.85227206\n",
      "  3.66742416  4.12310563  3.8574603   4.07185461  4.17133072  3.88973007\n",
      "  3.98120585  4.13884042  3.93827373  4.10974452  4.13279566  4.28018691\n",
      "  4.36233882  4.13279566  4.0607881   4.05709256  4.05339364  4.44072066\n",
      "  3.9661064   3.73764632  3.58050276  4.10974452  3.85356977  3.97492138\n",
      "  4.05832478  4.10974452  4.48218697  3.91152144  4.45869936  3.74566416\n",
      "  4.20713679  3.58747822  3.79868398  3.44383507  4.26848919  3.24037035\n",
      "  3.77491722  3.56370594  4.22374242  3.8561639   3.43802269  4.22137418\n",
      "  3.35559235  3.76031914  4.31045241  3.7188708   3.51140997  3.86522962\n",
      "  4.2661458   3.94715087  4.06816912  4.18090899  4.5033321   4.33358974\n",
      "  3.72961124  3.78153408  3.72290209  3.75499667  3.71214224  3.95727179\n",
      "  3.20312348  3.45976878  4.24735212  4.33935479  3.35559235  3.60416426\n",
      "  3.57910603  3.78549865  3.77359245  3.57491259  3.54682957  3.45976878\n",
      "  3.49714169  3.90256326  3.53128872  3.55387113  4.24617475  3.78813938\n",
      "  4.94267134  4.23083916  4.41927596  5.65066368  3.19374388  5.31319113\n",
      "  4.81871352  4.92544414  4.08656335  4.30697109  4.54972527  3.81313519\n",
      "  3.74833296  4.07185461  4.30581003  5.55517776  6.02909612  4.25323406\n",
      "  4.6292548   3.52278299  5.84978632  4.12674206  4.4136153   4.99199359\n",
      "  3.96988665  3.80263067  4.35545635  5.0039984   5.34976635  5.58659109\n",
      "  4.35889894  4.14608249  4.27668096  5.53082272  4.02119385  4.17851648\n",
      "  3.6986484   4.55960525  4.47437146  4.4855323   3.78813938  4.62385121\n",
      "  4.44072066  4.38406204  4.26028168  4.20594817  3.85356977  3.69594372]\n",
      "indexes of sorted shorted distances:\n",
      "[106  84  59  66  88  64  57  85  95  96  70 121  98  94  99  61  93  90\n",
      "  44  55  89  24 149 138  82  69  80  78  43  53 114  81  67  92  60  79\n",
      "  91 101 142  56 127 113   6  11   5  23  46 148  63  26  21  71  19  29\n",
      "  97  51  32  73   3  83  42 126  47  30   4   7 136  17   8  40  15  39\n",
      "  48  38  74  27 115   0   2 110  22  16  20  33  45  49  18  10  25 123\n",
      "  37   9  34  31 133  28 137  75  12   1 147  54  13  65  62 103 100  86\n",
      " 119 146  72  58 134  35 116 111  68  77  87 128 132  36 145 124 104  41\n",
      " 144  52  14 140  50 141  76 112 139 143 120 108 109 102 125 129 107 130\n",
      " 135 117 131 105 122 118]\n",
      "k nearest indexes:\n",
      "[106  84  59  66  88  64  57]\n",
      "classes of these k nearest indexes:\n",
      "[2 1 1 1 1 1 1]\n",
      "most common class:\n",
      "1\n",
      "current i:\n",
      "[5 4 3 2]\n",
      "current dist:\n",
      "[ 2.46170673  2.60959767  2.61916017  2.54165301  2.44131112  2.1023796\n",
      "  2.44335834  2.41867732  2.71477439  2.5845696   2.39582971  2.36643191\n",
      "  2.68514432  2.95127091  2.66833281  2.33666429  2.37065392  2.38956063\n",
      "  2.26053091  2.27815715  2.33452351  2.21585198  2.74954542  2.10713075\n",
      "  2.20227155  2.48997992  2.2090722   2.40416306  2.48997992  2.43515913\n",
      "  2.45967478  2.30867928  2.43104916  2.46779254  2.5845696   2.66833281\n",
      "  2.57487864  2.5845696   2.73678644  2.42074369  2.45560583  2.9866369\n",
      "  2.67020598  2.04205779  1.95448203  2.54754784  2.29128785  2.56904652\n",
      "  2.38117618  2.50798724  2.80891438  2.25831796  2.87749891  2.15174348\n",
      "  2.54950976  2.16101828  2.28691933  1.91311265  2.61151297  1.70293864\n",
      "  2.29128785  1.87082869  2.4979992   2.38117618  1.55563492  2.45356883\n",
      "  1.96468827  2.13072758  2.6795522   2.05669638  2.17485632  2.03469899\n",
      "  2.79284801  2.48596058  2.3130067   2.42487113  2.87749891  2.82488938\n",
      "  2.17025344  1.92353841  2.06397674  2.07364414  1.94422221  2.69443872\n",
      "  1.91311265  1.94164878  2.61533937  2.65141472  1.74928557  1.99749844\n",
      "  2.19317122  2.26495033  2.05912603  1.99499373  1.99499373  1.88944436\n",
      "  1.90525589  2.1977261   1.75214155  1.90525589  3.3808283   2.59807621\n",
      "  3.7188708   3.1144823   3.33616546  4.55302098  2.14476106  4.17492515\n",
      "  3.60832371  3.85486705  2.70185122  2.99165506  3.24037035  2.596151\n",
      "  2.57875939  2.82488938  3.08868904  4.58911756  4.95479566  2.91376046\n",
      "  3.41027858  2.32594067  4.73497624  2.65141472  3.26802693  3.81051178\n",
      "  2.48193473  2.42074369  3.18904374  3.72021505  4.10121933  4.47325385\n",
      "  3.19374388  2.79105715  3.20780299  4.24146201  2.99499583  3.00998339\n",
      "  2.29782506  3.19217794  3.25883415  2.9866369   2.59807621  3.51852242\n",
      "  3.30454233  2.96984848  2.81957444  2.84429253  2.76586334  2.5019992 ]\n",
      "indexes of sorted shorted distances:\n",
      "[ 64  59  88  98  61  95  99  96  57  84  79  85  82  44  66  94  93  89\n",
      "  71  43  69  92  80  81   5  23  67 106  53  55  78  70  90  97  24  26\n",
      "  21  51  18  91  19  56  60  46 138  31  74 121  20  15  11  16  48  63\n",
      "  17  10  27   7  39 127  75  32  29   4   6  65  40  30   0  33 126  73\n",
      "  25  28  62 149  49   3  45  54  47  36 114   9  34  37 113 142 101   1\n",
      "  58  86   2 123  87  14  35  42  68  12  83 110   8  38  22 148 133  72\n",
      "  50 146  77 115 147  76  52 119  13 145 141  41 111 136 137 116 103 128\n",
      " 139 132 134 112 140 124 144 104 100 120 143 108 102 129 125 109 130 107\n",
      " 135 131 105 117 122 118]\n",
      "k nearest indexes:\n",
      "[64 59 88 98 61 95 99]\n",
      "classes of these k nearest indexes:\n",
      "[1 1 1 1 1 1 1]\n",
      "most common class:\n",
      "1\n"
     ]
    },
    {
     "data": {
      "text/plain": [
       "[1, 1]"
      ]
     },
     "execution_count": 12,
     "metadata": {},
     "output_type": "execute_result"
    }
   ],
   "source": [
    "clf2.predict(new_iris_values)"
   ]
  },
  {
   "cell_type": "markdown",
   "metadata": {},
   "source": [
    "# Testing SciKit Features\n",
    "\n",
    "##  train_test_split"
   ]
  },
  {
   "cell_type": "code",
   "execution_count": 13,
   "metadata": {
    "collapsed": true
   },
   "outputs": [],
   "source": [
    "# compute classification accuracy for MyKNN implementation\n",
    "# split X and y into training and testing sets\n",
    "from sklearn import metrics\n",
    "from sklearn.model_selection import train_test_split\n",
    "from sklearn import metrics, model_selection\n",
    "from sklearn.neighbors import KNeighborsClassifier\n",
    "# import RandomForest & GradientBoost\n",
    "from sklearn.ensemble import RandomForestClassifier, GradientBoostingClassifier\n",
    "import pandas as pd\n",
    "\n",
    "X_train, X_test, y_train, y_test = train_test_split(X, y, test_size=0.4, random_state=4)"
   ]
  },
  {
   "cell_type": "code",
   "execution_count": 14,
   "metadata": {},
   "outputs": [
    {
     "name": "stdout",
     "output_type": "stream",
     "text": [
      "0.966666666667\n"
     ]
    }
   ],
   "source": [
    "# predict using MyKNN\n",
    "clf = MyKNN(n_neighbors=5)\n",
    "clf.fit(X_train, y_train)\n",
    "y_pred = clf.predict(X_test)\n",
    "\n",
    "# compare actual response values (y_test) with predicted response values (y_pred)\n",
    "print(metrics.accuracy_score(y_test, y_pred))"
   ]
  },
  {
   "cell_type": "markdown",
   "metadata": {},
   "source": [
    "## GridSearchCV"
   ]
  },
  {
   "cell_type": "code",
   "execution_count": 15,
   "metadata": {},
   "outputs": [
    {
     "name": "stdout",
     "output_type": "stream",
     "text": [
      "0.98\n",
      "{'n_neighbors': 13}\n",
      "MyKNN(debug=False, n_neighbors=13)\n"
     ]
    }
   ],
   "source": [
    "# define the parameter values that should be searched\n",
    "k_range = list(range(1, 31))\n",
    "# create a parameter grid: map the parameter names to the values that should be searched\n",
    "param_grid = dict(n_neighbors=k_range)\n",
    "# instantiate the grid\n",
    "grid = model_selection.GridSearchCV(MyKNN(), param_grid, cv=10, scoring='accuracy')\n",
    "# fit the grid with data\n",
    "grid.fit(X, y)\n",
    "# examine the best model\n",
    "print(grid.best_score_)\n",
    "print(grid.best_params_)\n",
    "print(grid.best_estimator_)"
   ]
  },
  {
   "cell_type": "markdown",
   "metadata": {},
   "source": [
    "# Comparison with other SciKit classifiers"
   ]
  },
  {
   "cell_type": "code",
   "execution_count": 16,
   "metadata": {
    "collapsed": true
   },
   "outputs": [],
   "source": [
    "classifiers = {\n",
    "    \"MyKNN\": MyKNN(13),\n",
    "    \"SciKit-KNN\": KNeighborsClassifier(13),\n",
    "    \"Gradient Boosting Classifier\": GradientBoostingClassifier(n_estimators=100, learning_rate=0.1, max_depth=3, random_state=0),\n",
    "    \"Random Forest\": RandomForestClassifier(max_depth=5, n_estimators=10, max_features=1)\n",
    "}"
   ]
  },
  {
   "cell_type": "code",
   "execution_count": 17,
   "metadata": {},
   "outputs": [
    {
     "name": "stdout",
     "output_type": "stream",
     "text": [
      "training clf: MyKNN\n",
      "training clf: SciKit-KNN\n",
      "training clf: Gradient Boosting Classifier\n",
      "training clf: Random Forest\n",
      "                       clf_name  mean_score       std\n",
      "0                         MyKNN    0.973333  0.024944\n",
      "1                    SciKit-KNN    0.973333  0.024944\n",
      "2  Gradient Boosting Classifier    0.960000  0.024944\n",
      "3                 Random Forest    0.960000  0.024944\n"
     ]
    }
   ],
   "source": [
    "# iterate over classifiers\n",
    "# calculate accuracy\n",
    "results = []\n",
    "for key, clf in classifiers.items():\n",
    "    print(\"training clf: {}\".format(key))\n",
    "    scores = model_selection.cross_val_score(clf, X, y, cv=5, scoring='accuracy', n_jobs=4)\n",
    "    results.append([key, scores.mean(), scores.std()])\n",
    "df_results = pd.DataFrame(data=results, columns=['clf_name', 'mean_score', 'std'])\n",
    "print(df_results)"
   ]
  },
  {
   "cell_type": "code",
   "execution_count": null,
   "metadata": {
    "collapsed": true
   },
   "outputs": [],
   "source": []
  }
 ],
 "metadata": {
  "kernelspec": {
   "display_name": "Python 3",
   "language": "python",
   "name": "python3"
  },
  "language_info": {
   "codemirror_mode": {
    "name": "ipython",
    "version": 3
   },
   "file_extension": ".py",
   "mimetype": "text/x-python",
   "name": "python",
   "nbconvert_exporter": "python",
   "pygments_lexer": "ipython3",
   "version": "3.6.2"
  }
 },
 "nbformat": 4,
 "nbformat_minor": 2
}
