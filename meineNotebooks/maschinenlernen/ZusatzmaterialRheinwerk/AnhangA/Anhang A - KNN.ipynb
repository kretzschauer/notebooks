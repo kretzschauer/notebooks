{
 "cells": [
  {
   "cell_type": "markdown",
   "metadata": {},
   "source": [
    "___"
   ]
  },
  {
   "cell_type": "code",
   "execution_count": 16,
   "metadata": {},
   "outputs": [],
   "source": [
    "import numpy as np   # Funktionen zum sortieren der Distanzen\n",
    "import numpy.linalg as nl   # Funktionen zur Distanzberechnung\n",
    "from collections import Counter # Zählen und bestimmen der häufigsten Klassen\n",
    "\n",
    "# unsere kNN-Klassifikator Klasse\n",
    "class myKNN:\n",
    "   \"\"\"k-Nächste-Nachbarn-Klassifikator\"\"\"\n",
    "\n",
    "   def __init__(self, k_neighbours=3):\n",
    "      \"\"\"\n",
    "      Wird zur Initialisierung des Klassifikators aufgerufen\n",
    "      Standardwert für k_neighbours = 3\n",
    "      \"\"\"\n",
    "      self.k_neighbours = k_neighbours\n",
    "      \n",
    "   # Trainingsphase des Klassifikators\n",
    "   # Der kNN-Klassifikator braucht eigentlich kein Training, da\n",
    "   # da Klassenzugehörigkeit aufgrund der nächsten Nachbarn bestimmt wird\n",
    "   # wir übernehmen nur die Liste Xb der bekannten Objekte in die Klasse\n",
    "   def fit(self, Xb, y=None):\n",
    "      \"\"\"\n",
    "      Training des Klassifikators mit List der bekannten Objekte Xb\n",
    "      \"\"\"\n",
    "      self.Xb = Xb\n",
    "      self.y = y\n",
    "      \n",
    "      return self\n",
    "\n",
    "   def predict(self, Xu, y=None):\n",
    "      \"\"\"\n",
    "      Klassifizierung der Liste der unbekannten Objekte Xu\n",
    "      \"\"\"\n",
    "      # zuerst bereiten wir den Resultatsvektor vor\n",
    "      self.classindices = []\n",
    "      \n",
    "      for i in Xu:\n",
    "         # diese Anweisung bestimmt die Distanzen des unbekannten Objekts\n",
    "         # zu allen bekannten Objekten unserer Liste\n",
    "         distances = nl.norm(np.transpose(i - self.Xb), axis=0)\n",
    "\n",
    "         # Sortierung der Distanzen und Liste der ersten k_neighbours Indizes\n",
    "         indicesSortedDistances = np.argsort(distances)[:self.k_neighbours]\n",
    "\n",
    "         # Bestimme die Häufigkeiten der Klassen und gib die häufigste zurück\n",
    "         mostfrequentClass = Counter(self.y[indicesSortedDistances]).most_common(1)[0][0]\n",
    "         \n",
    "         # Füge das Ergebnis dem Resultatsvektor hinzu\n",
    "         self.classindices.append(mostfrequentClass)\n",
    "      return self.classindices\n"
   ]
  },
  {
   "cell_type": "code",
   "execution_count": 17,
   "metadata": {},
   "outputs": [],
   "source": [
    "classificator1 = myKNN(k_neighbours=3)\n",
    "classificator2 = myKNN(k_neighbours=5)\n"
   ]
  },
  {
   "cell_type": "code",
   "execution_count": 18,
   "metadata": {},
   "outputs": [
    {
     "data": {
      "text/plain": [
       "<__main__.myKNN at 0x59b70b8>"
      ]
     },
     "execution_count": 18,
     "metadata": {},
     "output_type": "execute_result"
    }
   ],
   "source": [
    "# Hier nun unsere x-y Koordinaten unserer roten und blauen Objekte\n",
    "# und die dazugehörige Klasse\n",
    "Xb = np.array([[1, 8.8], [1, 11], [1.2, 15.9], [3.7, 11], [6.1, 8.8], [9.8, 14.5], [7, 17], [10, 8.1], [11, 10.5], [11.8, 17.5], [16.4, 15.8]])\n",
    "y = np.array([1, 1, 1, 1, 1, 1, 0, 0, 0, 0, 0])\n",
    "\n",
    "# dann das trainieren\n",
    "classificator1.fit(Xb,y)\n",
    "classificator2.fit(Xb,y)\n"
   ]
  },
  {
   "cell_type": "code",
   "execution_count": 19,
   "metadata": {},
   "outputs": [],
   "source": [
    "Xu = np.array([[9, 9]])"
   ]
  },
  {
   "cell_type": "code",
   "execution_count": 20,
   "metadata": {},
   "outputs": [
    {
     "data": {
      "text/plain": [
       "[0]"
      ]
     },
     "execution_count": 20,
     "metadata": {},
     "output_type": "execute_result"
    }
   ],
   "source": [
    "classificator1.predict(Xu)"
   ]
  },
  {
   "cell_type": "code",
   "execution_count": 21,
   "metadata": {},
   "outputs": [
    {
     "data": {
      "text/plain": [
       "[1]"
      ]
     },
     "execution_count": 21,
     "metadata": {},
     "output_type": "execute_result"
    }
   ],
   "source": [
    "classificator2.predict(Xu)"
   ]
  },
  {
   "cell_type": "code",
   "execution_count": null,
   "metadata": {},
   "outputs": [],
   "source": []
  }
 ],
 "metadata": {
  "kernelspec": {
   "display_name": "Python 3",
   "language": "python",
   "name": "python3"
  },
  "language_info": {
   "codemirror_mode": {
    "name": "ipython",
    "version": 3
   },
   "file_extension": ".py",
   "mimetype": "text/x-python",
   "name": "python",
   "nbconvert_exporter": "python",
   "pygments_lexer": "ipython3",
   "version": "3.6.2"
  }
 },
 "nbformat": 4,
 "nbformat_minor": 2
}
