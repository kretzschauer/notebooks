{
 "cells": [
  {
   "cell_type": "code",
   "execution_count": 1,
   "metadata": {},
   "outputs": [
    {
     "name": "stdout",
     "output_type": "stream",
     "text": [
      "1 .  Ada\n",
      "2 .  C\n",
      "3 .  C#\n",
      "4 .  Pascal\n",
      "5 .  Modula\n",
      "6 .  PYTHON\n"
     ]
    }
   ],
   "source": [
    "# das geht natürlich auch mit anderen Objekten\n",
    "ProgrammierSprachen = ['Ada','C','C#','Pascal','Modula','PYTHON']\n",
    "reihe = 0\n",
    "for x in ProgrammierSprachen:\n",
    "    reihe = reihe + 1\n",
    "    print(reihe,\". \",x)"
   ]
  },
  {
   "cell_type": "code",
   "execution_count": 2,
   "metadata": {},
   "outputs": [
    {
     "name": "stdout",
     "output_type": "stream",
     "text": [
      "Wert: Text, Datentyp: <class 'str'>\n",
      "Wert: 1, Datentyp: <class 'int'>\n",
      "Wert: 4.2, Datentyp: <class 'float'>\n",
      "Wert: noch ein Text, Datentyp: <class 'str'>\n"
     ]
    }
   ],
   "source": [
    "# sogar mit gemischten Objekten und kombiniert mit if-Anweisung\n",
    "# die Funktion type() gibt den Datentyp aus\n",
    "mixedObjekte = [\"Text\", 1, 4.2, \"noch ein Text\"]\n",
    "for x in mixedObjekte:\n",
    "    print(\"Wert: {}, Datentyp: {}\".format(x, type(x)))"
   ]
  },
  {
   "cell_type": "markdown",
   "metadata": {},
   "source": [
    "___"
   ]
  },
  {
   "cell_type": "code",
   "execution_count": null,
   "metadata": {
    "collapsed": true
   },
   "outputs": [],
   "source": []
  }
 ],
 "metadata": {
  "kernelspec": {
   "display_name": "Python 3",
   "language": "python",
   "name": "python3"
  },
  "language_info": {
   "codemirror_mode": {
    "name": "ipython",
    "version": 3
   },
   "file_extension": ".py",
   "mimetype": "text/x-python",
   "name": "python",
   "nbconvert_exporter": "python",
   "pygments_lexer": "ipython3",
   "version": "3.6.2"
  }
 },
 "nbformat": 4,
 "nbformat_minor": 2
}
