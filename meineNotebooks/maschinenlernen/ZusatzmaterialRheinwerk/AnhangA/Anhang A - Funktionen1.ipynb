{
 "cells": [
  {
   "cell_type": "code",
   "execution_count": 1,
   "metadata": {},
   "outputs": [
    {
     "name": "stdout",
     "output_type": "stream",
     "text": [
      "Hallo Welt!\n"
     ]
    }
   ],
   "source": [
    "# Funktionsdefinitionen werden mit dem Schlüsselwort def eingeleitet\n",
    "# Funktione können aber müssen keine Argumente enthalten\n",
    "def gruesseDieWelt():\n",
    "    print(\"Hallo Welt!\")\n",
    "\n",
    "# der Aufruf der Funktion erfolgt wie bekannt\n",
    "gruesseDieWelt()"
   ]
  },
  {
   "cell_type": "code",
   "execution_count": 2,
   "metadata": {},
   "outputs": [
    {
     "name": "stdout",
     "output_type": "stream",
     "text": [
      "Hallo Brunhilde !\n",
      "Hallo Otto !\n",
      "Hi Janine!\n",
      "Hi zusammen!\n"
     ]
    }
   ],
   "source": [
    "# ... nun grüssen wir jemanden mit Namen, \n",
    "# das heisst wir übergeben ein Argument \n",
    "def gruesse(name):\n",
    "    print(\"Hallo\",name,\"!\")\n",
    "\n",
    "gruesse(\"Brunhilde\")\n",
    "gruesse(\"Otto\")\n",
    "\n",
    "# wir können für das Argument name auch einen Standardwert vergeben\n",
    "# das nennt man auch default-wert\n",
    "def gruesseMitDefault(name=\"zusammen\"):\n",
    "    print(\"Hi \"+ name + \"!\")\n",
    "    \n",
    "gruesseMitDefault(\"Janine\")\n",
    "gruesseMitDefault()"
   ]
  },
  {
   "cell_type": "code",
   "execution_count": 3,
   "metadata": {},
   "outputs": [
    {
     "name": "stdout",
     "output_type": "stream",
     "text": [
      "°C: 0.0  : °F: 32.0\n",
      "°C: 36.0  : °F: 96.8\n",
      "°C: 100.0  : °F: 212.0\n",
      "°C: -274  : °F: -461.2\n"
     ]
    }
   ],
   "source": [
    "# jetzt eine Funktion mit Zahlen, die einen Wert zurückgibt\n",
    "def rechneFahrenheitInCelsius(Temp_in_Celsius):\n",
    "    return (Temp_in_Celsius *9 / 5) + 32\n",
    "\n",
    "for temp in (0.0, 36.0, 100.0, -274):\n",
    "    print(\"°C: {}  : °F: {}\".format(temp,rechneFahrenheitInCelsius(temp)))"
   ]
  },
  {
   "cell_type": "markdown",
   "metadata": {},
   "source": [
    "___"
   ]
  },
  {
   "cell_type": "code",
   "execution_count": null,
   "metadata": {
    "collapsed": true
   },
   "outputs": [],
   "source": []
  }
 ],
 "metadata": {
  "kernelspec": {
   "display_name": "Python 3",
   "language": "python",
   "name": "python3"
  },
  "language_info": {
   "codemirror_mode": {
    "name": "ipython",
    "version": 3
   },
   "file_extension": ".py",
   "mimetype": "text/x-python",
   "name": "python",
   "nbconvert_exporter": "python",
   "pygments_lexer": "ipython3",
   "version": "3.6.2"
  }
 },
 "nbformat": 4,
 "nbformat_minor": 2
}
