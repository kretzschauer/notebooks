{
 "cells": [
  {
   "cell_type": "code",
   "execution_count": 1,
   "metadata": {
    "collapsed": true
   },
   "outputs": [],
   "source": [
    "# jetzt eine Funktion mit Zahlen, die einen Wert zurückgibt\n",
    "# und eine Kurzbeschreibung (auch genannt Docstring) enthält\n",
    "def rechneFahrenheitInCelsius(Temp_in_Celsius):\n",
    "    \"\"\" diese Funktion gibt die Temperatur in Grad Fahrenheit zurück\"\"\"\n",
    "    return (Temp_in_Celsius *9 / 5) + 32"
   ]
  },
  {
   "cell_type": "code",
   "execution_count": 5,
   "metadata": {},
   "outputs": [
    {
     "name": "stdout",
     "output_type": "stream",
     "text": [
      "rechneFahrenheitInCelsius:   diese Funktion gibt die Temperatur in Grad Fahrenheit zurück\n"
     ]
    }
   ],
   "source": [
    "# diese Kurzbeschreibung kann ausgegeben werden mit __doc__\n",
    "print(\"rechneFahrenheitInCelsius: \", rechneFahrenheitInCelsius.__doc__)"
   ]
  },
  {
   "cell_type": "markdown",
   "metadata": {},
   "source": [
    "___"
   ]
  },
  {
   "cell_type": "code",
   "execution_count": null,
   "metadata": {
    "collapsed": true
   },
   "outputs": [],
   "source": []
  }
 ],
 "metadata": {
  "kernelspec": {
   "display_name": "Python 3",
   "language": "python",
   "name": "python3"
  },
  "language_info": {
   "codemirror_mode": {
    "name": "ipython",
    "version": 3
   },
   "file_extension": ".py",
   "mimetype": "text/x-python",
   "name": "python",
   "nbconvert_exporter": "python",
   "pygments_lexer": "ipython3",
   "version": "3.6.2"
  }
 },
 "nbformat": 4,
 "nbformat_minor": 2
}
