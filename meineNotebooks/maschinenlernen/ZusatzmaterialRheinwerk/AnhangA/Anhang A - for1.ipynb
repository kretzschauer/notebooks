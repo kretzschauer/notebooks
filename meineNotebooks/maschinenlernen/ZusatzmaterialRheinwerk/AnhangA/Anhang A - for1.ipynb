{
 "cells": [
  {
   "cell_type": "code",
   "execution_count": 1,
   "metadata": {},
   "outputs": [
    {
     "name": "stdout",
     "output_type": "stream",
     "text": [
      "Zahl: 0 und Quadratzahl: 0\n",
      "Zahl: 1 und Quadratzahl: 1\n",
      "Zahl: 2 und Quadratzahl: 4\n",
      "Zahl: 3 und Quadratzahl: 9\n"
     ]
    }
   ],
   "source": [
    "# eine einfache for-Schleife\n",
    "meineListe = [0,1,2,3]  # eine Folge/Sequenz von Objekten\n",
    "for x in meineListe:\n",
    "    print(\"Zahl: {} und Quadratzahl: {}\".format(x,x*x))"
   ]
  },
  {
   "cell_type": "code",
   "execution_count": 2,
   "metadata": {},
   "outputs": [
    {
     "name": "stdout",
     "output_type": "stream",
     "text": [
      "Zahl: 0 und Quadratzahl: 0\n",
      "Zahl: 1 und Quadratzahl: 1\n",
      "Zahl: 2 und Quadratzahl: 4\n",
      "Zahl: 3 und Quadratzahl: 9\n"
     ]
    }
   ],
   "source": [
    "# meineListe lässt sich auch mit der Funktion range() erzeugen\n",
    "meineListe = range(0,4)  # wie beim Slicing: inklusive 0, exklusive 6\n",
    "for x in meineListe:\n",
    "    print(\"Zahl: {} und Quadratzahl: {}\".format(x,x*x))"
   ]
  },
  {
   "cell_type": "code",
   "execution_count": 3,
   "metadata": {},
   "outputs": [
    {
     "name": "stdout",
     "output_type": "stream",
     "text": [
      "0 , 2 , 4 , 6 , 8 , "
     ]
    }
   ],
   "source": [
    "# range() ist noch mächtiger, man kann auch ein Intervall eingeben\n",
    "# range(start, stop, intervall)\n",
    "# print() fügt am Ende einen Zeilenumbruch ein \n",
    "# - mit end='' kann man das verhindern\n",
    "meineListe = range(0, 10, 2)\n",
    "for x in meineListe:\n",
    "    print(x, \", \", end='')"
   ]
  },
  {
   "cell_type": "code",
   "execution_count": 4,
   "metadata": {},
   "outputs": [
    {
     "name": "stdout",
     "output_type": "stream",
     "text": [
      "500 , 400 , 300 , 200 , 100 , "
     ]
    }
   ],
   "source": [
    "# oder rückwärts, und diesmal ohne den Umweg über die Variable meineListe\n",
    "for x in range(500,0,-100):\n",
    "    print(x,\", \", end='')"
   ]
  },
  {
   "cell_type": "code",
   "execution_count": 5,
   "metadata": {},
   "outputs": [
    {
     "name": "stdout",
     "output_type": "stream",
     "text": [
      "1 .  Ada\n",
      "2 .  C\n",
      "3 .  C#\n",
      "4 .  Pascal\n",
      "5 .  Modula\n",
      "6 .  PYTHON\n"
     ]
    }
   ],
   "source": [
    "# das geht natürlich auch mit anderen Objekten\n",
    "ProgrammierSprachen = ['Ada','C','C#','Pascal','Modula','PYTHON']\n",
    "reihe = 0\n",
    "for x in ProgrammierSprachen:\n",
    "    reihe = reihe + 1\n",
    "    print(reihe,\". \",x)"
   ]
  },
  {
   "cell_type": "markdown",
   "metadata": {},
   "source": [
    "___"
   ]
  },
  {
   "cell_type": "code",
   "execution_count": null,
   "metadata": {
    "collapsed": true
   },
   "outputs": [],
   "source": []
  }
 ],
 "metadata": {
  "kernelspec": {
   "display_name": "Python 3",
   "language": "python",
   "name": "python3"
  },
  "language_info": {
   "codemirror_mode": {
    "name": "ipython",
    "version": 3
   },
   "file_extension": ".py",
   "mimetype": "text/x-python",
   "name": "python",
   "nbconvert_exporter": "python",
   "pygments_lexer": "ipython3",
   "version": "3.6.2"
  }
 },
 "nbformat": 4,
 "nbformat_minor": 2
}
