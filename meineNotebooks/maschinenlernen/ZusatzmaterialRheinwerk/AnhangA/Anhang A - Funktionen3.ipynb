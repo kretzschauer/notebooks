{
 "cells": [
  {
   "cell_type": "code",
   "execution_count": 1,
   "metadata": {},
   "outputs": [
    {
     "name": "stdout",
     "output_type": "stream",
     "text": [
      "4.0\n",
      "51.1075\n"
     ]
    }
   ],
   "source": [
    "# berechne den Mittelwert von einer beliebigen Anzahl an Werten\n",
    "def berechneMittelwert(*argumente):\n",
    "    summe = 0\n",
    "    anzahl = len(argumente)\n",
    "    for x in argumente:\n",
    "        summe = summe + x\n",
    "    return summe/anzahl\n",
    "\n",
    "print(berechneMittelwert(3.0,5.0))\n",
    "print(berechneMittelwert(50.0,43.75,10.33,100.35))"
   ]
  },
  {
   "cell_type": "markdown",
   "metadata": {},
   "source": [
    "___"
   ]
  },
  {
   "cell_type": "code",
   "execution_count": null,
   "metadata": {
    "collapsed": true
   },
   "outputs": [],
   "source": []
  }
 ],
 "metadata": {
  "kernelspec": {
   "display_name": "Python 3",
   "language": "python",
   "name": "python3"
  },
  "language_info": {
   "codemirror_mode": {
    "name": "ipython",
    "version": 3
   },
   "file_extension": ".py",
   "mimetype": "text/x-python",
   "name": "python",
   "nbconvert_exporter": "python",
   "pygments_lexer": "ipython3",
   "version": "3.6.2"
  }
 },
 "nbformat": 4,
 "nbformat_minor": 2
}
