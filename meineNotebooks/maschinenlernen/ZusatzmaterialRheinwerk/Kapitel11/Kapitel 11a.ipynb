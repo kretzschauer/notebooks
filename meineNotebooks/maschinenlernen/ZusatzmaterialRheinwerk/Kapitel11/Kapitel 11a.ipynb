{
 "cells": [
  {
   "cell_type": "code",
   "execution_count": 17,
   "metadata": {},
   "outputs": [],
   "source": [
    "import pandas as pd\n",
    "import numpy as np"
   ]
  },
  {
   "cell_type": "code",
   "execution_count": 18,
   "metadata": {},
   "outputs": [],
   "source": [
    "zaehler = np.random.randint(0,100,150)"
   ]
  },
  {
   "cell_type": "code",
   "execution_count": 19,
   "metadata": {},
   "outputs": [
    {
     "data": {
      "text/plain": [
       "array([ 7, 52, 55, 65, 47, 33, 59, 58, 78, 58, 93, 64, 89, 88, 82, 71, 49,\n",
       "       17, 49, 81, 17, 76, 56, 94, 95, 64,  4, 93, 52, 69, 99, 28, 97, 22,\n",
       "        5, 22, 95,  4,  4, 50, 14, 28, 31, 69, 87, 21, 62, 95, 28, 22, 22,\n",
       "       42, 98, 70, 10, 86, 94, 35, 35, 40, 85, 13, 24, 52, 76, 19,  7, 13,\n",
       "        5, 28, 71,  5, 69, 28, 90, 82, 49, 68, 60, 75, 36, 90, 28,  2, 26,\n",
       "       87, 54, 38, 78, 46, 14, 49, 53, 20, 21, 43, 74, 92, 37, 67, 58, 53,\n",
       "       21, 30, 91, 53, 46, 96, 62, 30, 58, 14, 69,  2, 67, 48, 11, 56, 47,\n",
       "       39, 43, 86, 42, 65, 32, 70, 36, 64, 92, 31, 27, 46, 56, 79, 77, 80,\n",
       "       61, 69, 44, 33, 95, 56, 17, 38, 56, 68, 48, 20, 66, 90])"
      ]
     },
     "execution_count": 19,
     "metadata": {},
     "output_type": "execute_result"
    }
   ],
   "source": [
    "zaehler"
   ]
  },
  {
   "cell_type": "code",
   "execution_count": 23,
   "metadata": {},
   "outputs": [
    {
     "name": "stdout",
     "output_type": "stream",
     "text": [
      "[ 7 52 55 65 47 33 59 58 78 58]\n"
     ]
    }
   ],
   "source": [
    "print(zaehler[:10])"
   ]
  },
  {
   "cell_type": "code",
   "execution_count": 24,
   "metadata": {},
   "outputs": [
    {
     "data": {
      "text/plain": [
       "array([0, 5, 5, 6, 4, 3, 5, 5, 7, 5, 9, 6, 8, 8, 8, 7, 4, 1, 4, 8, 1, 7,\n",
       "       5, 9, 9, 6, 0, 9, 5, 6, 9, 2, 9, 2, 0, 2, 9, 0, 0, 5, 1, 2, 3, 6,\n",
       "       8, 2, 6, 9, 2, 2, 2, 4, 9, 7, 1, 8, 9, 3, 3, 4, 8, 1, 2, 5, 7, 1,\n",
       "       0, 1, 0, 2, 7, 0, 6, 2, 9, 8, 4, 6, 6, 7, 3, 9, 2, 0, 2, 8, 5, 3,\n",
       "       7, 4, 1, 4, 5, 2, 2, 4, 7, 9, 3, 6, 5, 5, 2, 3, 9, 5, 4, 9, 6, 3,\n",
       "       5, 1, 6, 0, 6, 4, 1, 5, 4, 3, 4, 8, 4, 6, 3, 7, 3, 6, 9, 3, 2, 4,\n",
       "       5, 7, 7, 8, 6, 6, 4, 3, 9, 5, 1, 3, 5, 6, 4, 2, 6, 9], dtype=int32)"
      ]
     },
     "execution_count": 24,
     "metadata": {},
     "output_type": "execute_result"
    }
   ],
   "source": [
    "np.floor_divide(zaehler,10)"
   ]
  },
  {
   "cell_type": "code",
   "execution_count": 27,
   "metadata": {},
   "outputs": [],
   "source": [
    "import matplotlib.pyplot as plt"
   ]
  },
  {
   "cell_type": "code",
   "execution_count": 33,
   "metadata": {},
   "outputs": [
    {
     "data": {
      "image/png": "[encoded data removed]",
      "text/plain": [
       "<matplotlib.figure.Figure at 0x8fe43c8>"
      ]
     },
     "metadata": {},
     "output_type": "display_data"
    }
   ],
   "source": [
    "\n",
    "plt.hist(zaehler, bins=10)\n",
    "plt.ylabel('Frequenz')\n",
    "plt.xlabel('Altersbereiche')\n",
    "plt.show()"
   ]
  },
  {
   "cell_type": "code",
   "execution_count": 39,
   "metadata": {},
   "outputs": [],
   "source": [
    "webzugriffe = np.random.randint(0,10000000,150)"
   ]
  },
  {
   "cell_type": "code",
   "execution_count": 40,
   "metadata": {},
   "outputs": [
    {
     "name": "stdout",
     "output_type": "stream",
     "text": [
      "[3671012 2205678 9276288 3960628 8983584 4708590 7067269 9354739 6834788\n",
      " 6917483]\n"
     ]
    }
   ],
   "source": [
    "print(webzugriffe[0:10])"
   ]
  },
  {
   "cell_type": "code",
   "execution_count": 60,
   "metadata": {},
   "outputs": [
    {
     "data": {
      "image/png": "[encoded data removed]",
      "text/plain": [
       "<matplotlib.figure.Figure at 0x9cdd278>"
      ]
     },
     "metadata": {},
     "output_type": "display_data"
    }
   ],
   "source": [
    "plt.hist(g_zaehler,bins=np.logspace(np.log10(1),np.log10(1000000.0),50))\n",
    "plt.gca().set_xscale(\"log\")\n",
    "plt.ylabel('Frequenz')\n",
    "plt.xlabel('Webzugriffe')\n",
    "plt.show()"
   ]
  },
  {
   "cell_type": "code",
   "execution_count": 62,
   "metadata": {},
   "outputs": [],
   "source": [
    "bewertungen = np.random.randint(0,10000,100)"
   ]
  },
  {
   "cell_type": "code",
   "execution_count": 63,
   "metadata": {},
   "outputs": [
    {
     "data": {
      "text/plain": [
       "array([6607, 1022, 7696, 1748, 6187, 2716, 4826, 8089, 9358, 7205, 8274,\n",
       "       1450, 4305, 6480,  910, 4494, 9169, 3658, 7057, 3338, 5652, 5385,\n",
       "       8407,  494, 3546, 2884, 8176, 8529, 6718, 7273, 7809, 5835, 4243,\n",
       "       8922, 4329, 6454, 9104, 2047, 5835, 8545, 4187, 3657,  964, 6443,\n",
       "       4568, 4679, 8618, 2317,  525, 4012, 8814, 5439, 5022,  849, 4191,\n",
       "       2710, 5621, 1956, 5194, 8818, 4727, 1299, 3778,  538,  950, 6347,\n",
       "       7937, 2490, 2307, 7598, 8502, 8386, 7474, 9036, 5582, 4721, 5176,\n",
       "       3163, 8418, 6954, 3090, 4129,  892, 2756, 3922, 1002,    1, 2224,\n",
       "       3584, 8494, 3069,  481, 5576, 6194, 7340, 6763, 7999, 2195, 8684,\n",
       "       5558])"
      ]
     },
     "execution_count": 63,
     "metadata": {},
     "output_type": "execute_result"
    }
   ],
   "source": [
    "bewertungen"
   ]
  },
  {
   "cell_type": "code",
   "execution_count": 69,
   "metadata": {},
   "outputs": [],
   "source": [
    "perz_grenzen = pd.qcut(bewertungen,10)"
   ]
  },
  {
   "cell_type": "code",
   "execution_count": 70,
   "metadata": {},
   "outputs": [
    {
     "data": {
      "text/plain": [
       "[(5835.0, 6820.3], (998.2, 2315.0], (6820.3, 7949.4], (998.2, 2315.0], (5835.0, 6820.3], ..., (5835.0, 6820.3], (7949.4, 8530.6], (998.2, 2315.0], (8530.6, 9358.0], (5099.0, 5835.0]]\n",
       "Length: 100\n",
       "Categories (10, interval[float64]): [(0.999, 998.2] < (998.2, 2315.0] < (2315.0, 3483.6] < (3483.6, 4222.2] ... (5835.0, 6820.3] < (6820.3, 7949.4] < (7949.4, 8530.6] < (8530.6, 9358.0]]"
      ]
     },
     "execution_count": 70,
     "metadata": {},
     "output_type": "execute_result"
    }
   ],
   "source": [
    "perz_grenzen"
   ]
  },
  {
   "cell_type": "code",
   "execution_count": null,
   "metadata": {},
   "outputs": [],
   "source": [
    "pd.qcut"
   ]
  },
  {
   "cell_type": "code",
   "execution_count": 92,
   "metadata": {},
   "outputs": [],
   "source": [
    "mu, sigma = 3.5,1\n",
    "s = np.random.lognormal(mu, sigma,150)"
   ]
  },
  {
   "cell_type": "code",
   "execution_count": 93,
   "metadata": {},
   "outputs": [
    {
     "data": {
      "image/png": "[encoded data removed]",
      "text/plain": [
       "<matplotlib.figure.Figure at 0x91672b0>"
      ]
     },
     "metadata": {},
     "output_type": "display_data"
    }
   ],
   "source": [
    "count, bins, ignored = plt.hist(s,150,density=True, align='mid', color='blue')\n",
    "plt.show()"
   ]
  },
  {
   "cell_type": "code",
   "execution_count": 94,
   "metadata": {},
   "outputs": [],
   "source": [
    "log_s = np.log10(s)"
   ]
  },
  {
   "cell_type": "code",
   "execution_count": 95,
   "metadata": {},
   "outputs": [
    {
     "data": {
      "image/png": "[encoded data removed]",
      "text/plain": [
       "<matplotlib.figure.Figure at 0xb56bb00>"
      ]
     },
     "metadata": {},
     "output_type": "display_data"
    }
   ],
   "source": [
    "count, bins, ignored = plt.hist(log_s,150,density=True, align='mid', color='red')\n",
    "plt.show()"
   ]
  },
  {
   "cell_type": "code",
   "execution_count": 111,
   "metadata": {},
   "outputs": [],
   "source": [
    "from geopy.geocoders import Nominatim\n"
   ]
  },
  {
   "cell_type": "code",
   "execution_count": 112,
   "metadata": {},
   "outputs": [],
   "source": [
    "geolocator = Nominatim(user_agent=\"MyApp1\")"
   ]
  },
  {
   "cell_type": "code",
   "execution_count": 116,
   "metadata": {},
   "outputs": [],
   "source": [
    "location = geolocator.geocode(\"Rheinwerkallee 4, 53227 Bonn\")"
   ]
  },
  {
   "cell_type": "code",
   "execution_count": 119,
   "metadata": {},
   "outputs": [
    {
     "name": "stdout",
     "output_type": "stream",
     "text": [
      "Adresse:  Rheinwerk Verlag, 4, Rheinwerkallee, Ramersdorf, Bonn-Beuel, Bonn, Regierungsbezirk Köln, Nordrhein-Westfalen, 53227, Deutschland\n",
      "Höhen- u. Breitengrad:  50.7172803 7.1538127\n"
     ]
    }
   ],
   "source": [
    "print(\"Adresse: \", location.address)\n",
    "print(\"Höhen- u. Breitengrad: \", location.latitude, location.longitude)"
   ]
  },
  {
   "cell_type": "code",
   "execution_count": 118,
   "metadata": {},
   "outputs": [
    {
     "name": "stdout",
     "output_type": "stream",
     "text": [
      "50.7172803 7.1538127\n"
     ]
    }
   ],
   "source": [
    "print(location.latitude, location.longitude)"
   ]
  },
  {
   "cell_type": "code",
   "execution_count": null,
   "metadata": {},
   "outputs": [],
   "source": []
  }
 ],
 "metadata": {
  "kernelspec": {
   "display_name": "Python 3",
   "language": "python",
   "name": "python3"
  },
  "language_info": {
   "codemirror_mode": {
    "name": "ipython",
    "version": 3
   },
   "file_extension": ".py",
   "mimetype": "text/x-python",
   "name": "python",
   "nbconvert_exporter": "python",
   "pygments_lexer": "ipython3",
   "version": "3.6.2"
  }
 },
 "nbformat": 4,
 "nbformat_minor": 2
}
