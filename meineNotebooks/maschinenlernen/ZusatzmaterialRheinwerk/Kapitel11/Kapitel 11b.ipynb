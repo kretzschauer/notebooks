{
 "cells": [
  {
   "cell_type": "code",
   "execution_count": 13,
   "metadata": {},
   "outputs": [],
   "source": [
    "import nltk\n",
    "sentence = \"\"\"Um acht Uhr, am Donnerstag morgen, fühlte sich Otto nicht sehr wohl.\"\"\""
   ]
  },
  {
   "cell_type": "code",
   "execution_count": 20,
   "metadata": {},
   "outputs": [],
   "source": [
    "from nltk.tokenize import word_tokenize\n",
    "meinText = \"\"\"Albert hat heute zwar gefrühstückt, allerdings hat er schon wieder einen Riesenhunger. Möglicherweise ist schon wieder Mittag!\"\"\""
   ]
  },
  {
   "cell_type": "code",
   "execution_count": 23,
   "metadata": {},
   "outputs": [],
   "source": [
    "tokens = nltk.word_tokenize(meinText,'german')"
   ]
  },
  {
   "cell_type": "code",
   "execution_count": 25,
   "metadata": {
    "scrolled": true
   },
   "outputs": [
    {
     "name": "stdout",
     "output_type": "stream",
     "text": [
      "['Albert', 'hat', 'heute', 'zwar', 'gefrühstückt', ',', 'allerdings', 'hat', 'er', 'schon', 'wieder', 'einen', 'Riesenhunger', '.', 'Möglicherweise', 'ist', 'schon', 'wieder', 'Mittag', '!']\n"
     ]
    }
   ],
   "source": [
    "print(tokens)"
   ]
  },
  {
   "cell_type": "code",
   "execution_count": 26,
   "metadata": {},
   "outputs": [
    {
     "name": "stdout",
     "output_type": "stream",
     "text": [
      "['albert', 'hat', 'heute', 'zwar', 'gefrühstückt', 'allerdings', 'hat', 'er', 'schon', 'wieder', 'einen', 'riesenhunger', 'möglicherweise', 'ist', 'schon', 'wieder', 'mittag']\n"
     ]
    }
   ],
   "source": [
    "tokens = [w.lower() for w in tokens]\n",
    "worte = [w for w in tokens if w.isalpha()]\n",
    "print(worte)"
   ]
  },
  {
   "cell_type": "code",
   "execution_count": 42,
   "metadata": {},
   "outputs": [
    {
     "name": "stdout",
     "output_type": "stream",
     "text": [
      "['aber', 'alle', 'allem', 'allen', 'aller', 'alles', 'als', 'also', 'am', 'an']\n",
      "['welches', 'eurem', 'dein', 'sollte', 'unseren', 'in', 'selbst', 'solcher', 'jeder', 'daß']\n"
     ]
    }
   ],
   "source": [
    "from random import shuffle\n",
    "from nltk.corpus import stopwords\n",
    "stoppwoerter = stopwords.words('german')\n",
    "geschuettelt = stopwords.words('german')\n",
    "shuffle(geschuettelt)\n",
    "print(stoppwoerter[:10])\n",
    "print(geschuettelt[:10])\n"
   ]
  },
  {
   "cell_type": "code",
   "execution_count": 44,
   "metadata": {},
   "outputs": [
    {
     "name": "stdout",
     "output_type": "stream",
     "text": [
      "['albert', 'heute', 'gefrühstückt', 'allerdings', 'schon', 'riesenhunger', 'möglicherweise', 'schon', 'mittag']\n"
     ]
    }
   ],
   "source": [
    "worte_ohne_stopp = [w for w in worte if not w in stoppwoerter]\n",
    "print(worte_ohne_stopp)"
   ]
  },
  {
   "cell_type": "code",
   "execution_count": 46,
   "metadata": {},
   "outputs": [
    {
     "name": "stdout",
     "output_type": "stream",
     "text": [
      "['albert', 'hat', 'heut', 'zwar', 'gefruhstuckt', 'allerding', 'hat', 'er', 'schon', 'wied', 'ein', 'riesenh', 'moglicherweis', 'ist', 'schon', 'wied', 'mittag']\n"
     ]
    }
   ],
   "source": [
    "from nltk.stem.snowball import SnowballStemmer\n",
    "snow = SnowballStemmer(\"german\")\n",
    "stemmed = [snow.stem(w) for w in worte]\n",
    "print(stemmed)\n"
   ]
  },
  {
   "cell_type": "code",
   "execution_count": 17,
   "metadata": {},
   "outputs": [],
   "source": [
    "from nltk.corpus import stopwords\n",
    "stop_words = stopwords.words('german')"
   ]
  },
  {
   "cell_type": "code",
   "execution_count": 18,
   "metadata": {},
   "outputs": [
    {
     "name": "stdout",
     "output_type": "stream",
     "text": [
      "['aber', 'alle', 'allem', 'allen', 'aller', 'alles', 'als', 'also', 'am', 'an', 'ander', 'andere', 'anderem', 'anderen', 'anderer', 'anderes', 'anderm', 'andern', 'anderr', 'anders', 'auch', 'auf', 'aus', 'bei', 'bin', 'bis', 'bist', 'da', 'damit', 'dann', 'der', 'den', 'des', 'dem', 'die', 'das', 'daß', 'derselbe', 'derselben', 'denselben', 'desselben', 'demselben', 'dieselbe', 'dieselben', 'dasselbe', 'dazu', 'dein', 'deine', 'deinem', 'deinen', 'deiner', 'deines', 'denn', 'derer', 'dessen', 'dich', 'dir', 'du', 'dies', 'diese', 'diesem', 'diesen', 'dieser', 'dieses', 'doch', 'dort', 'durch', 'ein', 'eine', 'einem', 'einen', 'einer', 'eines', 'einig', 'einige', 'einigem', 'einigen', 'einiger', 'einiges', 'einmal', 'er', 'ihn', 'ihm', 'es', 'etwas', 'euer', 'eure', 'eurem', 'euren', 'eurer', 'eures', 'für', 'gegen', 'gewesen', 'hab', 'habe', 'haben', 'hat', 'hatte', 'hatten']\n"
     ]
    }
   ],
   "source": [
    "print(stop_words[:100])"
   ]
  },
  {
   "cell_type": "code",
   "execution_count": 3,
   "metadata": {},
   "outputs": [],
   "source": [
    "from sklearn.datasets import load_iris\n",
    "iris_daten = load_iris()\n",
    "iris_X, iris_y = iris_daten.data, iris_daten.target"
   ]
  },
  {
   "cell_type": "code",
   "execution_count": 5,
   "metadata": {},
   "outputs": [
    {
     "data": {
      "text/plain": [
       "array([[ 0.36158968, -0.08226889,  0.85657211,  0.35884393],\n",
       "       [ 0.65653988,  0.72971237, -0.1757674 , -0.07470647]])"
      ]
     },
     "execution_count": 5,
     "metadata": {},
     "output_type": "execute_result"
    }
   ],
   "source": [
    "from sklearn.decomposition import PCA\n",
    "iris_pca = PCA(n_components=2)\n",
    "iris_pca.fit(iris_X)\n",
    "iris_pca.transform(iris_X)\n",
    "\n",
    "iris_pca.components_"
   ]
  },
  {
   "cell_type": "code",
   "execution_count": 34,
   "metadata": {},
   "outputs": [
    {
     "data": {
      "text/plain": [
       "<matplotlib.text.Text at 0xc4fe3c8>"
      ]
     },
     "execution_count": 34,
     "metadata": {},
     "output_type": "execute_result"
    },
    {
     "data": {
      "image/png": "[encoded data removed]",
      "text/plain": [
       "<matplotlib.figure.Figure at 0xc4e7b38>"
      ]
     },
     "metadata": {},
     "output_type": "display_data"
    }
   ],
   "source": [
    "import matplotlib.pyplot as plt\n",
    "%matplotlib inline\n",
    "bezeichnung_dict = {i: k for i, k in enumerate(iris_daten.target_names)}\n",
    "\n",
    "for lab, mark, col in zip(range(3), ('^','s','o'),('green','red','blue')):\n",
    "    plt.scatter(x=iris_X[:,0].real[iris_y==lab],\n",
    "                y=iris_X[:,1].real[iris_y==lab],\n",
    "                color=col\n",
    "               )\n",
    "plt.title(\"Original IRIS daten\")\n",
    "plt.xlabel(\"Sepal Länge (cm)\")\n",
    "plt.ylabel(\"Sepal Breite (cm)\")\n"
   ]
  },
  {
   "cell_type": "code",
   "execution_count": 32,
   "metadata": {},
   "outputs": [
    {
     "data": {
      "text/plain": [
       "{0: 'setosa', 1: 'versicolor', 2: 'virginica'}"
      ]
     },
     "execution_count": 32,
     "metadata": {},
     "output_type": "execute_result"
    }
   ],
   "source": [
    "bezeichnung_dict"
   ]
  },
  {
   "cell_type": "code",
   "execution_count": 38,
   "metadata": {},
   "outputs": [
    {
     "data": {
      "text/plain": [
       "<matplotlib.text.Text at 0xc772f60>"
      ]
     },
     "execution_count": 38,
     "metadata": {},
     "output_type": "execute_result"
    },
    {
     "data": {
      "image/png": "[encoded data removed]",
      "text/plain": [
       "<matplotlib.figure.Figure at 0xc76c668>"
      ]
     },
     "metadata": {},
     "output_type": "display_data"
    }
   ],
   "source": [
    "import matplotlib.pyplot as plt\n",
    "%matplotlib inline\n",
    "for lab, mark, col in zip(range(3), ('^','s','o'),('green','red','blue')):\n",
    "    plt.scatter(x=iris_pca.transform(iris_X)[:,0].real[iris_y==lab],\n",
    "                y=iris_pca.transform(iris_X)[:,1].real[iris_y==lab],\n",
    "                color=col\n",
    "               )\n",
    "plt.title(\"PCA-transformierte IRIS Daten\")\n",
    "plt.xlabel(\"PCA 1\")\n",
    "plt.ylabel(\"PCA2\")"
   ]
  },
  {
   "cell_type": "code",
   "execution_count": null,
   "metadata": {},
   "outputs": [],
   "source": []
  }
 ],
 "metadata": {
  "kernelspec": {
   "display_name": "Python 3",
   "language": "python",
   "name": "python3"
  },
  "language_info": {
   "codemirror_mode": {
    "name": "ipython",
    "version": 3
   },
   "file_extension": ".py",
   "mimetype": "text/x-python",
   "name": "python",
   "nbconvert_exporter": "python",
   "pygments_lexer": "ipython3",
   "version": "3.6.2"
  }
 },
 "nbformat": 4,
 "nbformat_minor": 2
}
