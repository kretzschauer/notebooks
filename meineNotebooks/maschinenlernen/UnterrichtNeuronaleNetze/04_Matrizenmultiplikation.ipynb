{
 "cells": [
  {
   "cell_type": "markdown",
   "metadata": {},
   "source": [
    "# Übung Vektoroperationen und Matrizenmultiplikation\n",
    "\n",
    "Mit der Bibliothek numpy und den darin verfügbaren numpy-Arrays kann man die Operationen mit Vektoren und Matrizen einfach und übersichtlich darstellen. Dazu muss man eine Python-Liste in ein Array umwandeln. Eine eindimensionale Liste wird zu einem Vektor, eine zweidimensionale Liste zu einer Matrix.   \n",
    "Siehe auch https://www.python-kurs.eu/matrix_arithmetik.php\n",
    "## 1. Vektoroperationen:\n"
   ]
  },
  {
   "cell_type": "code",
   "execution_count": 9,
   "metadata": {},
   "outputs": [
    {
     "name": "stdout",
     "output_type": "stream",
     "text": [
      "v1+v2:\n",
      " [1 5 5]\n",
      "v1-v2:\n",
      " [ 1 -1  1]\n",
      "v1*v2:\n",
      " [0 6 6]\n",
      "12\n",
      "12\n",
      "[-5 -2  3]\n",
      "[ 5  2 -3]\n"
     ]
    }
   ],
   "source": [
    "import numpy\n",
    "v1=numpy.array([1,2,3])\n",
    "v2=numpy.array([0,3,2])\n",
    "print(\"v1+v2:\\n\",v1+v2)\n",
    "print(\"v1-v2:\\n\",v1-v2)\n",
    "print(\"v1*v2:\\n\",v1*v2)\n",
    "print(numpy.dot(v1,v2))   #Skalarprodukt\n",
    "print(numpy.dot(v2,v1))\n",
    "print(numpy.cross(v1,v2)) #Kreuzprodukt, nur für zwei- bzw. dreidimensionale Vektoren\n",
    "print(numpy.cross(v2,v1))"
   ]
  },
  {
   "cell_type": "markdown",
   "metadata": {},
   "source": [
    "## 2.Definition der Matrixelemente\n",
    "In der Mathematik versteht man unter einer Matrix (Plural Matrizen) eine rechteckige Anordnung (Tabelle) von Elementen (meist mathematischer Objekte, etwa Zahlen). Mit diesen Objekten lässt sich dann in bestimmter Weise rechnen, indem man Matrizen addiert oder miteinander multipliziert.  \n",
    "Quelle: https://de.wikipedia.org/wiki/Matrix_(Mathematik)  \n",
    "In der Informatik fängt man anders als in Mathe bei Null an zu zählen.  \n",
    "Video: https://www.youtube.com/watch?v=1sCwtISsyqc&feature=youtu.be&list=PLb0zKSynM2PBYzz6l37rWH3B_n_7P40QP in der gesamten Playlist werden alle Operationen ausführlich erklärt.\n",
    "\n",
    "### Bezeichnungen\n",
    "\n",
    "Eine Matrix $A_{mn}$ hat m Zeilen und n Spalten, die Bezeichnungen der einzelnen Elemente sieht man im Beispiel:  \n",
    "$A = \\begin{pmatrix} a_{00} & a_{01} & a_{02} \\\\ a_{10} & a_{11} & a_{12} \\end{pmatrix}$\n",
    "\n",
    "\n",
    "\n",
    "## 3. Matrixoperationen\n",
    "Die Regel ist immer die gleiche: \n",
    "Man definiert eine Matrix, indem man alle Elemente einer Zeile als Liste, die Listen zeilenweise als Liste von Listen definiert.   \n",
    "Quelle: https://de.wikipedia.org/wiki/Matrizenmultiplikation  \n",
    "Gegeben seien die beiden reellen Matrizen  \n",
    "$A = \\begin{pmatrix} 3 & 2 & 1 \\\\ 1 & 0 & 2 \\end{pmatrix}$ und \n",
    "    $B = \\begin{pmatrix} 1 & 2 \\\\ 0 & 1 \\\\ 4 & 0 \\end{pmatrix}$   \n",
    "Da die Matrix <math>A</math> ebenso viele Spalten wie die Matrix <math>B</math> Zeilen besitzt, ist die Matrizenmultiplikation <math>A * B</math> durchführbar. Weil <math>A</math> zwei Zeilen und <math>B</math> zwei Spalten hat, wird das Matrizenprodukt ebenfalls zwei Zeilen und Spalten aufweisen. Zur Berechnung des ersten Matrixelements der Ergebnismatrix werden die Produkte der entsprechenden Einträge der ersten Zeile von <math>A</math> und der ersten Spalte von <math>B</math> aufsummiert (die Sternchen stehen für noch nicht berechnete Elemente):\n",
    "$$\\begin{pmatrix} 3 &  2 &  1 \\\\ 1 & 0 & 2 \\end{pmatrix} \\cdot \\begin{pmatrix} 1 & 2 \\\\ 0 & 1 \\\\  4 & 0 \\end{pmatrix} = \\begin{pmatrix}  3 \\cdot 1 +  2 \\cdot 0 + 1 \\cdot 4  & \\ast \\\\ \\ast & \\ast \\end{pmatrix} = \\begin{pmatrix} 7 & \\ast \\\\ \\ast & \\ast \\end{pmatrix}$$\n",
    "\n",
    "### Das Ganze wird so programmiert:"
   ]
  },
  {
   "cell_type": "code",
   "execution_count": 23,
   "metadata": {},
   "outputs": [
    {
     "name": "stdout",
     "output_type": "stream",
     "text": [
      "m1= \n",
      " [[ 1 -2  3  4]]\n",
      "m2= \n",
      " [[ 2]\n",
      " [ 3]\n",
      " [ 0]\n",
      " [-2]]\n",
      "m3= dot(m1,m2)\n",
      " [[-12]]\n",
      "m4= dot(m2,m1)\n",
      " [[ 2 -4  6  8]\n",
      " [ 3 -6  9 12]\n",
      " [ 0  0  0  0]\n",
      " [-2  4 -6 -8]]\n",
      "5+m4=\n",
      " [[ 7  1 11 13]\n",
      " [ 8 -1 14 17]\n",
      " [ 5  5  5  5]\n",
      " [ 3  9 -1 -3]]\n",
      "2*m4=\n",
      " [[  4  -8  12  16]\n",
      " [  6 -12  18  24]\n",
      " [  0   0   0   0]\n",
      " [ -4   8 -12 -16]]\n",
      "m2+m4=\n",
      " [[  4  -2   8  10]\n",
      " [  6  -3  12  15]\n",
      " [  0   0   0   0]\n",
      " [ -4   2  -8 -10]]\n",
      "m1+m4=\n",
      " [[ 3 -6  9 12]\n",
      " [ 4 -8 12 16]\n",
      " [ 1 -2  3  4]\n",
      " [-1  2 -3 -4]]\n",
      "m2*m4=\n",
      " [[  4  -8  12  16]\n",
      " [  9 -18  27  36]\n",
      " [  0   0   0   0]\n",
      " [  4  -8  12  16]]\n",
      "m1*m4=\n",
      " [[  2   8  18  32]\n",
      " [  3  12  27  48]\n",
      " [  0   0   0   0]\n",
      " [ -2  -8 -18 -32]]\n"
     ]
    }
   ],
   "source": [
    "import numpy                         # diese Bibliothek ist für die Funktionen zuständig\n",
    "m1 = numpy.array([[1,-2,3,4]])        #eine Zeile, vier Spalte\n",
    "m2 = numpy.array([[2],[3],[0],[-2]])  #vier Zeilen, eine Spalte\n",
    "m3 = numpy.dot(m1,m2)                # dot ist die Funktion zur Matrizenmultiplikation\n",
    "m4 = numpy.dot(m2,m1)\n",
    "print(\"m1= \\n\",m1)\n",
    "print(\"m2= \\n\",m2)\n",
    "print(\"m3= dot(m1,m2)\\n\",m3)\n",
    "print(\"m4= dot(m2,m1)\\n\",m4)\n",
    "print(\"5+m4=\\n\",5+m4)\n",
    "print(\"2*m4=\\n\",2*m4)\n",
    "print(\"m2+m4=\\n\",m2+m4)\n",
    "print(\"m1+m4=\\n\",m1+m4)\n",
    "print(\"m2*m4=\\n\",m2*m4)\n",
    "print(\"m1*m4=\\n\",m1*m4)"
   ]
  },
  {
   "cell_type": "raw",
   "metadata": {},
   "source": [
    "Aufgabe: Berechne das Produkt der oben angegebenen Matrizen A*B sowie B*A und teste dein Ergebnis, indem du die Multiplikation programmierst."
   ]
  },
  {
   "cell_type": "markdown",
   "metadata": {},
   "source": [
    "## 5. Die transponierte Matrix\n",
    "https://de.wikipedia.org/wiki/Transponierte_Matrix  \n",
    "Die transponierte Matrix, gespiegelte Matrix oder gestürzte Matrix ist in der Mathematik diejenige Matrix, die durch Vertauschen der Rollen von Zeilen und Spalten einer gegebenen Matrix entsteht. Die erste Zeile der transponierten Matrix entspricht der ersten Spalte der Ausgangsmatrix, die zweite Zeile der zweiten Spalte und so weiter. Anschaulich entsteht die transponierte Matrix durch Spiegelung der Ausgangsmatrix an ihrer Hauptdiagonale. Die Umwandlung einer Matrix in ihre transponierte Matrix wird Transponierung, Transposition oder Stürzen der Matrix genannt. "
   ]
  },
  {
   "cell_type": "code",
   "execution_count": 28,
   "metadata": {},
   "outputs": [
    {
     "name": "stdout",
     "output_type": "stream",
     "text": [
      "m4= \n",
      " [[ 2 -4  6  8]\n",
      " [ 3 -6  9 12]\n",
      " [ 0  0  0  0]\n",
      " [-2  4 -6 -8]]\n",
      "m4 transponiert \n",
      " [[ 2  3  0 -2]\n",
      " [-4 -6  0  4]\n",
      " [ 6  9  0 -6]\n",
      " [ 8 12  0 -8]]\n",
      "m1= \n",
      " [[ 1 -2  3  4]]\n",
      "m1 transponiert \n",
      " [[ 1]\n",
      " [-2]\n",
      " [ 3]\n",
      " [ 4]]\n"
     ]
    }
   ],
   "source": [
    "print(\"m4= \\n\",m4)\n",
    "print(\"m4 transponiert \\n\",m4.T)\n",
    "print(\"m1= \\n\",m1)\n",
    "print(\"m1 transponiert \\n\",m1.T)"
   ]
  },
  {
   "cell_type": "markdown",
   "metadata": {},
   "source": [
    "## Berechnung der Abbildungsmatrix aus den Koordinaten von Original und Bild\n",
    "Beispiel: Gegeben ist das Dreieck ABC die Punkte A(1|2), B(3|0) und C(2|2). Bestimmen Sie die Matrix für die Abbildung, die das Dreieck ABC auf das Dreieck A’B’C‘ mit den Punkten A‘(3|5), B‘(-1|1) und C‘(3|3) transformiert. Zeigen Sie, dass diese Transformation aus einer zentrischen Streckung am Ursprung und einer Drehung um E(-4|3) um 90° zusammengesetzt ist.\n",
    "#### Ansatz\n",
    "Die Transformation lässt sich durch die Multiplikation einer noch unbekannten Abildungsmatrix $M = \\begin{pmatrix} m_{00} & m_{01} & m_{02} \\\\ m_{10} & m_{11} & m_{12}\\\\ m_{20} & m_{21} & m_{22} \\end{pmatrix} $ mit den Punktvektoren darstellen, deren Ergebnis die Vektoren der Bildpunkte sind. Die Koordinaten der Punkte des Dreiecks ABC sind dabei die Spalten der zweiten Matrix, die letze Komponente ist wegen der homogenen Koordianten immer 1. Das Ergebnis ist eine Matrix, deren Spaltenvektoren die Koordinaten der Bildpunkte sind.\n",
    "$$M = A \\cdot A'$$\n",
    "$$\\begin{pmatrix} m_{00} & m_{01} & m_{02} \\\\ m_{10} & m_{11} & m_{12}\\\\ m_{20} & m_{21} & m_{22} \\end{pmatrix} \\cdot \\begin{pmatrix} 1&3&2\\\\2&0&2\\\\1&1&1\\end{pmatrix}= \\begin{pmatrix} 3&-1&3\\\\5&1&3\\\\1&1&1\\end{pmatrix}$$\n",
    "Nun müssen die Komponenten der Matrix M berechnet werden. Die letzte Zeile ist klar, dort stehen wegen der homogenen Koordinaten stets die Zahlen 0, 0, 1.  \n",
    "Die anderen Komponenten ergeben sich als Lösungen von linearen Gleichungssystemen, die sich durch die Regeln der Matrizenmultiplikation ergeben. Die Zahl 3 in der Ergebnismatrix ist das Produkt der ersten Zeile von M mit der ersten Spalte von A. Damit ergibt sich Gleichung I, die anderen beiden entsprechend:  \n",
    "\n",
    "\\begin{equation}\n",
    "\\rlap{\\hspace{-2.4cm}(I)} 1\\cdot m_{00} + 2 \\cdot m_{01} + 1\\cdot m_{02}=3 \n",
    "\\end{equation}\n",
    "\\begin{equation}\n",
    "\\rlap{\\hspace{-2.5cm}(II)} 3\\cdot m_{00} + 0 \\cdot m_{01} + 1\\cdot m_{02}=-1 \n",
    "\\end{equation}\n",
    "\\begin{equation}\n",
    "\\rlap{\\hspace{-2.8cm}(III)} 2\\cdot m_{00} + 2 \\cdot m_{01} + 1\\cdot m_{02}=3\n",
    "\\end{equation}\n",
    "Die Lösung dieses Gleichungssystems ist dann die erste Zeile der Abbildungsmatrix, in diesem Fall erhält man $m_{00}=0$, $m_{01}=2$ und $m_{02}=-1$. Analog erhält man für die zweite Zeile der Matrix $m_{10}=-2$, $m_{11}=0$ und $m_{12}=7$ (nachrechnen!!).  \n",
    "In der Abbildung sieht man zur Kontrolle die einzelnen Transformationen, aus denen die gesamte zusammengesetzt ist. Diese erhält man durch die Multiplikation der einzelnen Matrizen, aus denen die gesamte Abbildung zusammengesetzt ist.\n",
    "\n",
    "|Verschiebung um (-4,3) |Drehung um 90°| Verschiebung um (4,-3)| Streckung um -2|\n",
    "| :---: | :---: | :---: | :---: |\n",
    "|$\\begin{pmatrix} 1 & 0 & -4 \\\\ 0 & 1 & 3\\\\ 0 & 0 & 1 \\end{pmatrix}$ |$\\begin{pmatrix} 0& -1&0 \\\\1&0&0\\\\ 0 & 0 & 1 \\end{pmatrix}$|$\\begin{pmatrix} 1 & 0 & 4 \\\\ 0 & 1 & -3\\\\ 0 & 0 & 1 \\end{pmatrix}$|$\\begin{pmatrix} -2 & 0 & 0 \\\\ 0 & -2 & 0\\\\ 0 & 0 & 1 \\end{pmatrix}$ |\n",
    "\n",
    "\n",
    "Diese Tabelle ist von rechts nach links zu lesen, also wird das Dreieck ABC zuerst um -2 gestreckt:\n",
    "$$\\begin{pmatrix} -2 & 0 & 0 \\\\ 0 & -2 & 0\\\\ 0 & 0 & 1 \\end{pmatrix}\\cdot\n",
    "\\begin{pmatrix} 1 & 3 & 2 \\\\ 2 & 0 & 2\\\\ 1 & 1& 1 \\end{pmatrix} =\n",
    "\\begin{pmatrix} -2 & -6 & -4 \\\\ -4 & 0 & -4\\\\ 1 & 1& 1 \\end{pmatrix}$$\n",
    "\n",
    "Danach erfolgt die Verschiebung, dann die Drehung und abschließend wieder die Verschiebung.  \n",
    "**Auch diese Berechnungen kann man nur verstehen, wenn man nachrechnet.**\n",
    "Zur Kontrolle kann man die Koordinaten der Abbildung unten entnehmen.\n",
    "\n",
    "![Transformationen](bilder/transformationenBeispiel.png \"Beispiel\")"
   ]
  }
 ],
 "metadata": {
  "kernelspec": {
   "display_name": "Python 3",
   "language": "python",
   "name": "python3"
  },
  "language_info": {
   "codemirror_mode": {
    "name": "ipython",
    "version": 3
   },
   "file_extension": ".py",
   "mimetype": "text/x-python",
   "name": "python",
   "nbconvert_exporter": "python",
   "pygments_lexer": "ipython3",
   "version": "3.8.2"
  }
 },
 "nbformat": 4,
 "nbformat_minor": 2
}
