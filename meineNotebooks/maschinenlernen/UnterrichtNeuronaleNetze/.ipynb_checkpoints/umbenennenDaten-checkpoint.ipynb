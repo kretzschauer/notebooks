{
 "cells": [
  {
   "cell_type": "code",
   "execution_count": 8,
   "metadata": {},
   "outputs": [
    {
     "name": "stdout",
     "output_type": "stream",
     "text": [
      "X=\n",
      " [[619 'France' 'Female' 42 2 0.0 1 1 1 101348.88]\n",
      " [608 'Spain' 'Female' 41 1 83807.86 1 0 1 112542.58]\n",
      " [502 'France' 'Female' 42 8 159660.8 3 1 0 113931.57]\n",
      " [699 'France' 'Female' 39 1 0.0 2 0 0 93826.63]\n",
      " [850 'Spain' 'Female' 43 2 125510.82 1 1 1 79084.1]\n",
      " [645 'Spain' 'Male' 44 8 113755.78 2 1 0 149756.71]\n",
      " [822 'France' 'Male' 50 7 0.0 2 1 1 10062.8]\n",
      " [376 'Germany' 'Female' 29 4 115046.74 4 1 0 119346.88]]\n",
      "Z=\n",
      " [[1.0 0.0 0.0 619 'Female' 42 2 0.0 1 1 1 101348.88]\n",
      " [0.0 0.0 1.0 608 'Female' 41 1 83807.86 1 0 1 112542.58]\n",
      " [1.0 0.0 0.0 502 'Female' 42 8 159660.8 3 1 0 113931.57]\n",
      " [1.0 0.0 0.0 699 'Female' 39 1 0.0 2 0 0 93826.63]\n",
      " [0.0 0.0 1.0 850 'Female' 43 2 125510.82 1 1 1 79084.1]\n",
      " [0.0 0.0 1.0 645 'Male' 44 8 113755.78 2 1 0 149756.71]\n",
      " [1.0 0.0 0.0 822 'Male' 50 7 0.0 2 1 1 10062.8]\n",
      " [0.0 1.0 0.0 376 'Female' 29 4 115046.74 4 1 0 119346.88]]\n",
      "Z1=\n",
      " [[1.0 0.0 1.0 0.0 0.0 619 42 2 0.0 1 1 1 101348.88]\n",
      " [1.0 0.0 0.0 0.0 1.0 608 41 1 83807.86 1 0 1 112542.58]\n",
      " [1.0 0.0 1.0 0.0 0.0 502 42 8 159660.8 3 1 0 113931.57]\n",
      " [1.0 0.0 1.0 0.0 0.0 699 39 1 0.0 2 0 0 93826.63]\n",
      " [1.0 0.0 0.0 0.0 1.0 850 43 2 125510.82 1 1 1 79084.1]\n",
      " [0.0 1.0 0.0 0.0 1.0 645 44 8 113755.78 2 1 0 149756.71]\n",
      " [0.0 1.0 1.0 0.0 0.0 822 50 7 0.0 2 1 1 10062.8]\n",
      " [1.0 0.0 0.0 1.0 0.0 376 29 4 115046.74 4 1 0 119346.88]]\n"
     ]
    }
   ],
   "source": [
    "import numpy as np\n",
    "import pandas as pd\n",
    "import matplotlib.pyplot as plt\n",
    "\n",
    "from sklearn.preprocessing import OneHotEncoder\n",
    "from sklearn.compose import ColumnTransformer\n",
    "\n",
    "\n",
    "# Importing the dataset\n",
    "dataset = pd.read_csv('Churn_Modelling.csv')\n",
    "X = dataset.iloc[:, 3:13].values\n",
    "y = dataset.iloc[:, 13].values\n",
    "print(\"X=\\n\",X[0:8])\n",
    "cT1 = ColumnTransformer([('enc1', OneHotEncoder(), [1])], \\\n",
    "                                      remainder='passthrough')\n",
    "Z = np.array(cT1.fit_transform(X))\n",
    "print(\"Z=\\n\",Z[0:8])\n",
    "cT2 = ColumnTransformer([('enc2', OneHotEncoder(), [4])], \\\n",
    "                                      remainder='passthrough')\n",
    "Z1 = np.array(cT2.fit_transform(Z))\n",
    "print(\"Z1=\\n\",Z1[0:8])"
   ]
  },
  {
   "cell_type": "markdown",
   "metadata": {},
   "source": [
    "https://ichi.pro/de/kategoriale-codierung-mit-label-codierung-und-one-hot-encoder-159562187388349\n",
    "https://towardsdatascience.com/columntransformer-in-scikit-for-labelencoding-and-onehotencoding-in-machine-learning-c6255952731b\n"
   ]
  }
 ],
 "metadata": {
  "kernelspec": {
   "display_name": "Python 3",
   "language": "python",
   "name": "python3"
  },
  "language_info": {
   "codemirror_mode": {
    "name": "ipython",
    "version": 3
   },
   "file_extension": ".py",
   "mimetype": "text/x-python",
   "name": "python",
   "nbconvert_exporter": "python",
   "pygments_lexer": "ipython3",
   "version": "3.8.2"
  }
 },
 "nbformat": 4,
 "nbformat_minor": 4
}
