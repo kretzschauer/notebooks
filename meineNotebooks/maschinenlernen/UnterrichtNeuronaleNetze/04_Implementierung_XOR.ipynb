{
 "cells": [
  {
   "cell_type": "markdown",
   "metadata": {},
   "source": [
    "# Implementierung eines mehrschichtigen Netzes für XOR\n",
    "Ziel ist eine einfache Implementierung zum Nachvollziehen aller Rechenschritte. Wenn die Anzahl der Durchläufe gering ist, wird das Ergebnis jedes Rechenschrittes ausgegeben.\n",
    "Außerdem soll der Zufall für die Berechnungen beschränkt werden."
   ]
  },
  {
   "cell_type": "code",
   "execution_count": 2,
   "metadata": {},
   "outputs": [
    {
     "name": "stdout",
     "output_type": "stream",
     "text": [
      "wHI\n",
      " [[ 0.   0.2  0.1]\n",
      " [ 0.  -0.2  0.1]\n",
      " [ 0.   0.1  0.1]]\n",
      "wHO\n",
      " [[0.2]\n",
      " [0.1]\n",
      " [0.1]]\n",
      "Ausgabe\n",
      " [[0.24739353]\n",
      " [0.94732566]\n",
      " [0.9474892 ]\n",
      " [0.43090039]]\n",
      "Fehler\n",
      " [[-0.24739353]\n",
      " [ 0.05267434]\n",
      " [ 0.0525108 ]\n",
      " [-0.43090039]]\n",
      "Gewichte IH\n",
      " [[ 0.          1.65868198  3.93754153]\n",
      " [ 0.         -5.61736727 -2.83473565]\n",
      " [ 0.         -5.61991587 -2.83822844]]\n",
      "Gewichte HO\n",
      " [[-2.19719075]\n",
      " [-6.41080727]\n",
      " [ 5.47622561]]\n"
     ]
    },
    {
     "data": {
      "image/png": "[encoded data removed]",
      "text/plain": [
       "<Figure size 432x288 with 1 Axes>"
      ]
     },
     "metadata": {
      "needs_background": "light"
     },
     "output_type": "display_data"
    }
   ],
   "source": [
    "import numpy as np\n",
    "def sigmoid(x, deriv = False):\n",
    "    if deriv == True:\n",
    "        return x*(1-x)\n",
    "    return 1/(1+np.exp(-x))\n",
    "np.random.seed(1)\n",
    "X = np.array([[1, 0, 0],[1, 0, 1],[1, 1, 0],[1, 1, 1]])#x0 ist BIAS \n",
    "X0=X.reshape(4,1,3)    #damit die einzelnen Eingaben als Matrix und nicht als Vektor behandelt werden!!\n",
    "y = np.array([[0], [1], [1], [0]])\n",
    "#Anzahl der Neuronen\n",
    "anz_In=2\n",
    "anz_H=3\n",
    "anz_Out=1\n",
    "#leicht zu berechnende Anfangsgewichte mit etwas Asymmetrie\n",
    "wIH=np.ones((anz_In+1,anz_H),float)/10\n",
    "wIH[0][1]=0.2   \n",
    "wIH[1][1]=-0.2\n",
    "wIH[:,0]=0\n",
    "wHO=np.ones((anz_H,anz_Out),float)/10\n",
    "wHO[0][0]=0.2\n",
    "# diese sind die normalen Gewichte\n",
    "#wIH = 1+np.random.random((anz_In+1,anz_H)) -1\n",
    "#wHO = 1+np.random.random((anz_H,anz_Out)) -1\n",
    "print(\"wHI\\n\",wIH)\n",
    "print(\"wHO\\n\",wHO)\n",
    "\n",
    "debug= True\n",
    "anzahl=1000\n",
    "a= [1]#welche Eingabe zum Nachrechnen\n",
    "if anzahl >5:\n",
    "    debug=False\n",
    "    a=np.array([0,1,2,3])#alle Eingaben\n",
    "\n",
    "daten=np.zeros((anzahl//10,9),\"float\")\n",
    "for i in range(anzahl):    \n",
    "    if not debug: np.random.shuffle(a)\n",
    "    for j in a:        \n",
    "        IN = X0[j]        \n",
    "        HI = (np.dot(IN, wIH))         \n",
    "        HO=sigmoid(HI)\n",
    "        HO[0][0]=1# Da H0 ein Bias-Neron ist, geht sicher eleganter\n",
    "        FI = (np.dot(HO,wHO))\n",
    "        FO=sigmoid(FI)\n",
    "        F_error = y[j] - FO \n",
    "        F_delta = F_error*sigmoid(FO, deriv=True)  \n",
    "        H_error = F_delta.dot(wHO.T)\n",
    "        H_delta = H_error * sigmoid(HO, deriv=True)  \n",
    "        wHO_korr=np.dot(HO.T,F_delta)\n",
    "        wHO += wHO_korr        \n",
    "        wIH_korr=np.dot(IN.T,H_delta)\n",
    "        wIH += wIH_korr\n",
    "        if debug:\n",
    "            print(\"IN\\n\",IN)\n",
    "            print(\"HI\\n\",HI)\n",
    "            print(\"HO\\n\",HO,HO.shape)\n",
    "            print(\"FI\\n\",FI)\n",
    "            print(\"FO\\n\",FO)\n",
    "            print(\"Fehler\\n\",F_error)\n",
    "            print(\"F_delta\\n\",F_delta)\n",
    "            print(\"H_error\\n\",H_error)\n",
    "            print(\"H_delta\\n\",H_delta)\n",
    "            print(\"who_korr\\n\",wHO_korr)\n",
    "            print(\"wHI_korr\\n\",wIH_korr)\n",
    "        if i%10==0 and anzahl >50:\n",
    "            daten[i//10]=wIH.reshape((9,))\n",
    "        \n",
    "l1 = sigmoid(np.dot(X, wIH))    \n",
    "l2 = sigmoid(np.dot(l1,wHO))\n",
    "l2_error = y - l2\n",
    "print(\"Ausgabe\\n\",l2)\n",
    "print(\"Fehler\\n\",l2_error)\n",
    "print(\"Gewichte IH\\n\",wIH)\n",
    "print(\"Gewichte HO\\n\",wHO)\n",
    "if anzahl >50:\n",
    "    import matplotlib.pyplot as plt\n",
    "    xs=range(anzahl//10)\n",
    "    labels=[\"w00\",\"w01\",\"w02\",\"w10\",\"w11\",\"w12\",\"w20\",\"w21\",\"w22\"]\n",
    "    for i in range(9):    \n",
    "        plt.plot(xs,daten[:,i],label=labels[i])\n",
    "    plt.title(\"Anpassung wIH\")\n",
    "    plt.legend()\n",
    "    plt.show()\n"
   ]
  },
  {
   "cell_type": "code",
   "execution_count": null,
   "metadata": {},
   "outputs": [],
   "source": []
  }
 ],
 "metadata": {
  "kernelspec": {
   "display_name": "Python 3",
   "language": "python",
   "name": "python3"
  },
  "language_info": {
   "codemirror_mode": {
    "name": "ipython",
    "version": 3
   },
   "file_extension": ".py",
   "mimetype": "text/x-python",
   "name": "python",
   "nbconvert_exporter": "python",
   "pygments_lexer": "ipython3",
   "version": "3.8.2"
  }
 },
 "nbformat": 4,
 "nbformat_minor": 4
}
