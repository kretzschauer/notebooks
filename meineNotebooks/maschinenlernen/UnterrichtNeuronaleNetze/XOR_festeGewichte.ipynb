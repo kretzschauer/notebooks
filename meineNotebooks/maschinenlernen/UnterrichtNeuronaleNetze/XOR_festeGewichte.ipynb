{
 "cells": [
  {
   "cell_type": "code",
   "execution_count": 6,
   "id": "earlier-librarian",
   "metadata": {
    "scrolled": true
   },
   "outputs": [
    {
     "name": "stdout",
     "output_type": "stream",
     "text": [
      "wHI\n",
      " [[0.1 0.2 0.1]\n",
      " [0.1 0.1 0.1]\n",
      " [0.1 0.1 0.1]]\n",
      "wHO\n",
      " [[0.2 0.1]\n",
      " [0.1 0.1]\n",
      " [0.1 0.1]]\n",
      "Ausgabe\n",
      " [[0.03118303 0.96880992]\n",
      " [0.96589586 0.03411517]\n",
      " [0.9658065  0.03420454]\n",
      " [0.04525685 0.95472355]]\n",
      "Fehler\n",
      " [[-0.03118303  0.03119008]\n",
      " [ 0.03410414 -0.03411517]\n",
      " [ 0.0341935  -0.03420454]\n",
      " [-0.04525685  0.04527645]]\n",
      "Gewichte IH\n",
      " [[ 8.36777081  2.84981823  1.04508887]\n",
      " [-5.66428716 -7.05616581  0.80274339]\n",
      " [-5.66849882 -7.05669617  0.79250439]]\n",
      "Gewichte HO\n",
      " [[ 7.0457153  -7.04485735]\n",
      " [-8.24049428  8.23975572]\n",
      " [-3.63659593  3.63606484]]\n"
     ]
    }
   ],
   "source": [
    "import numpy as np\n",
    "def sigmoid(x, deriv = False):\n",
    "    if deriv == True:\n",
    "        return x*(1-x)\n",
    "    return 1/(1+np.exp(-x))\n",
    "np.random.seed(1)\n",
    "X = np.array([[1, 0, 0],[1, 0, 1],[1, 1, 0],[1, 1, 1]])#x0 ist BIAS \n",
    "X0=X.reshape(4,1,3)    #damit die einzelnen Eingaben als Matrix und nicht als Vektor behandelt werden!!\n",
    "y = np.array([[0,1], [1,0], [1,0], [0,1]])\n",
    "#Anzahl der Neuronen\n",
    "anz_In=2\n",
    "anz_H=3\n",
    "anz_Out=2\n",
    "wIH=np.ones((anz_In+1,anz_H),float)/10\n",
    "wIH[0][1]=0.2\n",
    "print(\"wHI\\n\",wIH)\n",
    "wHO=np.ones((anz_H,anz_Out),float)/10\n",
    "wHO[0][0]=0.2  #etwas Asymmetrie\n",
    "print(\"wHO\\n\",wHO)\n",
    "syn0=wIH#np.array([[0.1,0.1,0.1],[0.1,0.1,0.1],[0.1,0.1,0.1]])\n",
    "syn1=wHO#np.array([[0.2],[0.1],[0.1]])\n",
    "#print(syn0)\n",
    "#print(syn1)\n",
    "#For loop iterate over the training set\n",
    "debug= False\n",
    "a=np.array([0,1,2,3])\n",
    "for i in range(2000):    \n",
    "    np.random.shuffle(a)\n",
    "    for j in a:        \n",
    "        l0 = X0[j]\n",
    "        if debug:  print(\"l0\\n\",l0)\n",
    "        l1 = (np.dot(l0, syn0)) \n",
    "        if debug:  print(\"l1\\n\",l1)\n",
    "        l1=sigmoid(l1)\n",
    "        l2 = (np.dot(l1,syn1))\n",
    "        if debug:  print(\"l2\\n\",l2)\n",
    "        l2=sigmoid(l2)\n",
    "        l2_error = y[j] - l2\n",
    "        if debug:  print(\"Fehler\\n\",l2_error)\n",
    "        l2_delta = l2_error*sigmoid(l2, deriv=True)  \n",
    "        if debug:  print(\"l2_delta\\n\",l2_delta)\n",
    "        l1_error = l2_delta.dot(syn1.T)\n",
    "        if debug:  print(\"l1_error\\n\",l1_error)\n",
    "        l1_delta = l1_error * sigmoid(l1, deriv=True)  \n",
    "        if debug:  print(\"l1_delta\\n\",l1_delta)\n",
    "        syn1_korr=np.dot(l1.T,l2_delta)\n",
    "        if debug:  print(\"syn1_korr\\n\",syn1_korr)\n",
    "        syn1 += syn1_korr        \n",
    "        syn0_korr=np.dot(l0.T,l1_delta)\n",
    "        syn0 += syn0_korr\n",
    "        if debug:  print(\"syn0_korr\\n\",syn0_korr)\n",
    "        \n",
    "l1 = sigmoid(np.dot(X, syn0))    \n",
    "l2 = sigmoid(np.dot(l1,syn1))\n",
    "l2_error = y - l2\n",
    "print(\"Ausgabe\\n\",l2)\n",
    "print(\"Fehler\\n\",l2_error)\n",
    "print(\"Gewichte IH\\n\",syn0)\n",
    "print(\"Gewichte HO\\n\",syn1)"
   ]
  },
  {
   "cell_type": "code",
   "execution_count": null,
   "id": "unlimited-newspaper",
   "metadata": {},
   "outputs": [],
   "source": []
  },
  {
   "cell_type": "code",
   "execution_count": null,
   "id": "registered-scheme",
   "metadata": {},
   "outputs": [],
   "source": []
  }
 ],
 "metadata": {
  "kernelspec": {
   "display_name": "Python 3",
   "language": "python",
   "name": "python3"
  },
  "language_info": {
   "codemirror_mode": {
    "name": "ipython",
    "version": 3
   },
   "file_extension": ".py",
   "mimetype": "text/x-python",
   "name": "python",
   "nbconvert_exporter": "python",
   "pygments_lexer": "ipython3",
   "version": "3.8.6"
  }
 },
 "nbformat": 4,
 "nbformat_minor": 5
}
