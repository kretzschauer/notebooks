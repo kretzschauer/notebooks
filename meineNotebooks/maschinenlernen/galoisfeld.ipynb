{
 "cells": [
  {
   "cell_type": "markdown",
   "metadata": {},
   "source": [
    "Quelle: http://weitz.de/KMFI/\n",
    "auf youtube: https://www.youtube.com/watch?v=uOLW43OIZJ0"
   ]
  },
  {
   "cell_type": "code",
   "execution_count": 11,
   "metadata": {},
   "outputs": [],
   "source": [
    "from sympy import *\n",
    "from matrices import Matrix\n",
    "from vectors import Vector"
   ]
  },
  {
   "cell_type": "markdown",
   "metadata": {},
   "source": [
    "Die Bibliotheken von Weitz befinden sich im gleichen Ordner."
   ]
  },
  {
   "cell_type": "code",
   "execution_count": 13,
   "metadata": {},
   "outputs": [
    {
     "data": {
      "text/plain": [
       "v(3, 1, 4, -6, -5, 1, 2, -5, 5, 6, 3, 2)"
      ]
     },
     "execution_count": 13,
     "metadata": {},
     "output_type": "execute_result"
    }
   ],
   "source": [
    "x= symbols(\"x\")\n",
    "m=Poly(6*x**5+9*x**4+12*x**3+11*x**2+2*x+2,modulus=13)\n",
    "alpha=6\n",
    "v=Vector([m(alpha**k) for k in range(12)])\n",
    "v"
   ]
  },
  {
   "cell_type": "code",
   "execution_count": 3,
   "metadata": {},
   "outputs": [
    {
     "data": {
      "text/plain": [
       "[['0', '0', '0', '0', '0', '0', '0', '0'],\n",
       " ['0', '1', '10', '11', '100', '101', '110', '111'],\n",
       " ['0', '10', '100', '110', '11', '1', '111', '101'],\n",
       " ['0', '11', '110', '101', '111', '100', '1', '10'],\n",
       " ['0', '100', '11', '111', '110', '10', '101', '1'],\n",
       " ['0', '101', '1', '100', '10', '111', '11', '110'],\n",
       " ['0', '110', '111', '1', '101', '11', '10', '100'],\n",
       " ['0', '111', '101', '10', '1', '110', '100', '11']]"
      ]
     },
     "execution_count": 3,
     "metadata": {},
     "output_type": "execute_result"
    }
   ],
   "source": [
    "x= symbols(\"x\")\n",
    "g=Poly(x**3+x+1,modulus=2)\n",
    "\n",
    "g.is_irreducible\n",
    "GF=[Poly(k*x**2+m*x+n,x,modulus=2) for k in [0,1] for m in [0,1]for n in [0,1]]\n",
    "T=[[rem(p*q,g) for p  in GF]for q in GF]\n",
    "[[\"\".join(map(str,p.all_coeffs()))for p in r]for r in T]\n"
   ]
  },
  {
   "cell_type": "code",
   "execution_count": 4,
   "metadata": {},
   "outputs": [
    {
     "data": {
      "text/plain": [
       "[['0', '1', '10', '11', '100', '101', '110', '111'],\n",
       " ['1', '0', '11', '10', '101', '100', '111', '110'],\n",
       " ['10', '11', '0', '1', '110', '111', '100', '101'],\n",
       " ['11', '10', '1', '0', '111', '110', '101', '100'],\n",
       " ['100', '101', '110', '111', '0', '1', '10', '11'],\n",
       " ['101', '100', '111', '110', '1', '0', '11', '10'],\n",
       " ['110', '111', '100', '101', '10', '11', '0', '1'],\n",
       " ['111', '110', '101', '100', '11', '10', '1', '0']]"
      ]
     },
     "execution_count": 4,
     "metadata": {},
     "output_type": "execute_result"
    }
   ],
   "source": [
    "GF=[Poly(k*x**2+m*x+n,x,modulus=2) for k in [0,1] for m in [0,1]for n in [0,1]]\n",
    "T=[[rem(p+q,g) for p  in GF]for q in GF]\n",
    "[[\"\".join(map(str,p.all_coeffs()))for p in r]for r in T]\n"
   ]
  },
  {
   "cell_type": "code",
   "execution_count": 9,
   "metadata": {},
   "outputs": [
    {
     "name": "stdout",
     "output_type": "stream",
     "text": [
      "C:\\Users\\jan\\meineNotebooks\\maschinenlernen\n"
     ]
    }
   ],
   "source": [
    "!cd\n"
   ]
  },
  {
   "cell_type": "code",
   "execution_count": null,
   "metadata": {},
   "outputs": [],
   "source": []
  }
 ],
 "metadata": {
  "kernelspec": {
   "display_name": "Python 3",
   "language": "python",
   "name": "python3"
  },
  "language_info": {
   "codemirror_mode": {
    "name": "ipython",
    "version": 3
   },
   "file_extension": ".py",
   "mimetype": "text/x-python",
   "name": "python",
   "nbconvert_exporter": "python",
   "pygments_lexer": "ipython3",
   "version": "3.7.0"
  }
 },
 "nbformat": 4,
 "nbformat_minor": 2
}
