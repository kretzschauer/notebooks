{
 "cells": [
  {
   "cell_type": "code",
   "execution_count": 1,
   "metadata": {},
   "outputs": [],
   "source": [
    "from sympy import *"
   ]
  },
  {
   "cell_type": "code",
   "execution_count": 3,
   "metadata": {},
   "outputs": [
    {
     "data": {
      "text/plain": [
       "[['0', '0', '0', '0', '0', '0', '0', '0'],\n",
       " ['0', '1', '10', '11', '100', '101', '110', '111'],\n",
       " ['0', '10', '100', '110', '11', '1', '111', '101'],\n",
       " ['0', '11', '110', '101', '111', '100', '1', '10'],\n",
       " ['0', '100', '11', '111', '110', '10', '101', '1'],\n",
       " ['0', '101', '1', '100', '10', '111', '11', '110'],\n",
       " ['0', '110', '111', '1', '101', '11', '10', '100'],\n",
       " ['0', '111', '101', '10', '1', '110', '100', '11']]"
      ]
     },
     "execution_count": 3,
     "metadata": {},
     "output_type": "execute_result"
    }
   ],
   "source": [
    "x= symbols(\"x\")\n",
    "g=Poly(x**3+x+1,modulus=2)\n",
    "\n",
    "g.is_irreducible\n",
    "GF=[Poly(k*x**2+m*x+n,x,modulus=2) for k in [0,1] for m in [0,1]for n in [0,1]]\n",
    "T=[[rem(p*q,g) for p  in GF]for q in GF]\n",
    "[[\"\".join(map(str,p.all_coeffs()))for p in r]for r in T]\n"
   ]
  },
  {
   "cell_type": "code",
   "execution_count": 4,
   "metadata": {},
   "outputs": [
    {
     "data": {
      "text/plain": [
       "[['0', '1', '10', '11', '100', '101', '110', '111'],\n",
       " ['1', '0', '11', '10', '101', '100', '111', '110'],\n",
       " ['10', '11', '0', '1', '110', '111', '100', '101'],\n",
       " ['11', '10', '1', '0', '111', '110', '101', '100'],\n",
       " ['100', '101', '110', '111', '0', '1', '10', '11'],\n",
       " ['101', '100', '111', '110', '1', '0', '11', '10'],\n",
       " ['110', '111', '100', '101', '10', '11', '0', '1'],\n",
       " ['111', '110', '101', '100', '11', '10', '1', '0']]"
      ]
     },
     "execution_count": 4,
     "metadata": {},
     "output_type": "execute_result"
    }
   ],
   "source": [
    "GF=[Poly(k*x**2+m*x+n,x,modulus=2) for k in [0,1] for m in [0,1]for n in [0,1]]\n",
    "T=[[rem(p+q,g) for p  in GF]for q in GF]\n",
    "[[\"\".join(map(str,p.all_coeffs()))for p in r]for r in T]\n"
   ]
  },
  {
   "cell_type": "code",
   "execution_count": null,
   "metadata": {},
   "outputs": [],
   "source": []
  }
 ],
 "metadata": {
  "kernelspec": {
   "display_name": "Python 3",
   "language": "python",
   "name": "python3"
  },
  "language_info": {
   "codemirror_mode": {
    "name": "ipython",
    "version": 3
   },
   "file_extension": ".py",
   "mimetype": "text/x-python",
   "name": "python",
   "nbconvert_exporter": "python",
   "pygments_lexer": "ipython3",
   "version": "3.7.0"
  }
 },
 "nbformat": 4,
 "nbformat_minor": 2
}
