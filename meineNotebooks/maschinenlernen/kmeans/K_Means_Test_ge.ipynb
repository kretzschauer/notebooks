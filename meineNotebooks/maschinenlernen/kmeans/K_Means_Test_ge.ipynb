{
 "cells": [
  {
   "cell_type": "markdown",
   "metadata": {},
   "source": [
    "# Klasse für den K-Means-Algorithmus\n",
    "## Quellen\n",
    "\n",
    "https://github.com/gkabbe/Python-Kurs2015/wiki/5---Numpy\n",
    "Berechnet den Massenmittelpunkt\n",
    "https://mubaris.com/posts/kmeans-clustering/"
   ]
  },
  {
   "cell_type": "code",
   "execution_count": 5,
   "metadata": {},
   "outputs": [],
   "source": [
    "import numpy as np\n",
    "import random\n",
    "import matplotlib.pyplot as plt\n",
    "%matplotlib inline\n",
    "class k_Means():\n",
    "    \"\"\"\n",
    "        Erhaelt eine Punkt-Liste als Array\n",
    "        die Anzahl der Clusterpunkte\n",
    "        eventuell die Cluster-Liste, wenn nicht,\n",
    "        werden die Cluster-Punkte zufaellig aus den\n",
    "        Punkten der PL bestimmt\n",
    "    \"\"\"\n",
    "    def __init__(self, punkte, anzahl, clLi=None):        \n",
    "        #print(self.clLi)\n",
    "        self.puLi = punkte\n",
    "        self.anzahlCluster = anzahl\n",
    "        self.laengePuLi, self.dimPunkte =self.puLi.shape\n",
    "        if clLi:\n",
    "            self.clLi=clLi\n",
    "        else:\n",
    "            self.bestimmeCL()\n",
    "        print(\"StartCluster: \\n\", self.clLi)\n",
    "        self.cluster= np.zeros((self.laengePuLi,),dtype=int)\n",
    "        self.error=20\n",
    "        self.cls=[]\n",
    "    def bestimmeCL(self):\n",
    "        #zufaellige Auswahl der Clusterpunkte aus den gegebenen\n",
    "        self.clLi=np.zeros((self.anzahlCluster,self.dimPunkte))#,dtype=int)\n",
    "        clListe=[]\n",
    "        i=0\n",
    "        while len(clListe) < self.anzahlCluster:\n",
    "            index= random.randint(0,self.laengePuLi-1)\n",
    "            cl=self.puLi[index]\n",
    "            if not self.istEnthalten(clListe,cl): #vermeide Doppelte\n",
    "                clListe.append(cl)\n",
    "                self.clLi[i]=self.puLi[index]\n",
    "                i+=1\n",
    "                \n",
    "    def istEnthalten(self,array,el):\n",
    "        for e in array:\n",
    "            if (e==el).all():\n",
    "                return True\n",
    "        return False\n",
    "        \n",
    "    def einteilRunde(self):        \n",
    "        for i in range(self.laengePuLi):\n",
    "            #print(\"Abstaende: \",self.clLi,self.puLi[i])\n",
    "            abstand=np.linalg.norm(self.clLi-self.puLi[i],axis=1)\n",
    "            #print(abstand)\n",
    "            cluster = np.argmin(abstand)\n",
    "            #print(cluster)\n",
    "            self.cluster[i]=cluster        \n",
    "        self.clLi_old=np.copy(self.clLi)\n",
    "        self.cls.append(self.clLi_old)\n",
    "        for i in range(self.anzahlCluster):            \n",
    "            punkte= [self.puLi[j] for j in range(self.laengePuLi) if self.cluster[j]==i]                 \n",
    "            self.clLi[i]=np.mean(punkte,axis =0)\n",
    "        print(\"Neue Cluster: \\n\", self.clLi)\n",
    "        self.error = np.linalg.norm(self.clLi-self.clLi_old)\n",
    "        print(self.error)\n",
    "        \n",
    "    def einteilen(self,bis=0):           \n",
    "        self.einteilRunde()\n",
    "        while self.error> bis:            \n",
    "            self.einteilRunde()            \n",
    "        self.gibZahlen()\n",
    "            \n",
    "    def gibZahlen(self):\n",
    "        print(\"Verteilung der Punkte auf die Cluster\")\n",
    "        #liefert die Anzahlen der Punkte je Cluster\n",
    "        for i in range(self.anzahlCluster):            \n",
    "            punkte= [self.puLi[j] for j in range(self.laengePuLi) if self.cluster[j]==i]\n",
    "            print(i,len(punkte))\n",
    "        \n",
    "    def zeigen(self):\n",
    "        fig = plt.figure()\n",
    "        fig.suptitle(\"Einteilung in Cluster\")\n",
    "        ax = fig.add_subplot(111)        \n",
    "        farben=[\"red\",\"yellow\",\"blue\",\"green\",\"lightblue\",\"grey\"]*2\n",
    "        m=[\"+\",\"x\",\"*\",\"o\",\"v\"]*20\n",
    "        for i in range(self.anzahlCluster):\n",
    "            xs= [self.puLi[j][0] for j in range(self.laengePuLi) if self.cluster[j]==i]\n",
    "            ys= [self.puLi[j][1] for j in range(self.laengePuLi) if self.cluster[j]==i]\n",
    "            #print(\"xs: \",xs,\" ys: \",ys)            \n",
    "            ax.scatter(xs,ys, c=farben[i],label=i)        \n",
    "        si=-1#Markerzaehler\n",
    "        for c in self.cls:            \n",
    "            si+=1\n",
    "            for i in range(self.anzahlCluster):\n",
    "                ax.scatter(c[i][0],c[i][1], c=\"black\",marker=m[si])                      \n",
    "        #for c in self.clLi:\n",
    "            #ax.scatter(c[0],c[1], c=\"black\",marker=m[0])\n",
    "        maxis=np.amax(self.puLi,0)\n",
    "        minis=np.amin(self.puLi,0)\n",
    "        zusatz = (maxis - minis)//20 +1\n",
    "        #print(\"Maxis \",maxis, \" Minis: \",minis,\"Zusatz:\", zusatz)\n",
    "        plt.axis([int(minis[0])-zusatz[0],int(maxis[0])+zusatz[0],\n",
    "                  int(minis[1])-zusatz[1],int(maxis[1])+zusatz[1]])\n",
    "        fig.legend(loc=2)\n",
    "        plt.show()\n",
    "        #fig.savefig(\"cluster.png\", dpi=200)"
   ]
  },
  {
   "cell_type": "markdown",
   "metadata": {},
   "source": [
    "Testdurchlauf mit den Daten aus dem [xclara.csv-Datenset](https://vincentarelbundock.github.io/Rdatasets/csv/cluster/xclara.csv). \n",
    "\n",
    "Die schwarzen Punkte im Graph markieren die \"Wanderung\" der Clusterzentren vom Zufallswert zu den echten Mittelpunkten."
   ]
  },
  {
   "cell_type": "code",
   "execution_count": 7,
   "metadata": {},
   "outputs": [
    {
     "name": "stdout",
     "output_type": "stream",
     "text": [
      "Array der eingelesenen Datenpunkte:\n",
      " [[  2.072345  -3.241693]\n",
      " [ 17.93671   15.78481 ]\n",
      " [  1.083576   7.319176]\n",
      " ...\n",
      " [ 64.46532  -10.50136 ]\n",
      " [ 90.72282  -12.25584 ]\n",
      " [ 64.87976  -24.87731 ]]\n",
      "StartCluster: \n",
      " [[ 16.6546    -1.519889]\n",
      " [ 69.38057  -12.99076 ]\n",
      " [ 43.37792   60.65264 ]]\n",
      "Neue Cluster: \n",
      " [[  9.61807825  10.43847413]\n",
      " [ 70.11445215 -10.11294352]\n",
      " [ 40.62438425  59.62550084]]\n",
      "14.490426903746522\n",
      "Neue Cluster: \n",
      " [[  9.4780459   10.686052  ]\n",
      " [ 69.92418447 -10.11964119]\n",
      " [ 40.68362784  59.71589274]]\n",
      "0.3589303634622165\n",
      "Neue Cluster: \n",
      " [[  9.4780459   10.686052  ]\n",
      " [ 69.92418447 -10.11964119]\n",
      " [ 40.68362784  59.71589274]]\n",
      "0.0\n",
      "Verteilung der Punkte auf die Cluster\n",
      "0 899\n",
      "1 952\n",
      "2 1149\n"
     ]
    },
    {
     "data": {
      "image/png": "[encoded data removed]",
      "text/plain": [
       "<Figure size 432x288 with 1 Axes>"
      ]
     },
     "metadata": {
      "needs_background": "light"
     },
     "output_type": "display_data"
    }
   ],
   "source": [
    "def csv2array(datei):\n",
    "    # liest eine csv-Datei ein und liefert ein PunktArray\n",
    "    arr=np.loadtxt(datei,delimiter=\",\",\n",
    "                   skiprows=1,\n",
    "                   usecols=(1,2))\n",
    "    #erste Zeile ueberspringen und nur die Spalten 1 und 2 verwenden\n",
    "    return arr                    \n",
    "\n",
    "punktliste= [[2,12],[3,11],[3,8],[5,4],[7,5],[7,3],[10,8],[13,8]]\n",
    "puAr=np.array(punktliste,dtype=int)    \n",
    "puAr=csv2array(\"xclara.csv\")\n",
    "print(\"Array der eingelesenen Datenpunkte:\\n\",puAr)\n",
    "k=k_Means(puAr,3)\n",
    "k.einteilen()\n",
    "k.zeigen()\n"
   ]
  },
  {
   "cell_type": "markdown",
   "metadata": {},
   "source": [
    "Beispiel mit dem Iris-Datenset, bei dem sich die 3 Arten nicht klar trennen lassen. Abhängig von den Startwerten lässt sich aber zumindest eine Art abtrennen."
   ]
  },
  {
   "cell_type": "code",
   "execution_count": 9,
   "metadata": {},
   "outputs": [
    {
     "ename": "IndexError",
     "evalue": "list index out of range",
     "output_type": "error",
     "traceback": [
      "\u001b[1;31m---------------------------------------------------------------------------\u001b[0m",
      "\u001b[1;31mIndexError\u001b[0m                                Traceback (most recent call last)",
      "\u001b[1;32m<ipython-input-9-2bd7dd503d06>\u001b[0m in \u001b[0;36m<module>\u001b[1;34m()\u001b[0m\n\u001b[0;32m      7\u001b[0m     \u001b[1;32mreturn\u001b[0m \u001b[0marr\u001b[0m\u001b[1;33m\u001b[0m\u001b[0m\n\u001b[0;32m      8\u001b[0m \u001b[1;33m\u001b[0m\u001b[0m\n\u001b[1;32m----> 9\u001b[1;33m \u001b[0mpuAr\u001b[0m\u001b[1;33m=\u001b[0m\u001b[0mcsv2array\u001b[0m\u001b[1;33m(\u001b[0m\u001b[1;34m\"iris.csv\"\u001b[0m\u001b[1;33m)\u001b[0m\u001b[1;33m\u001b[0m\u001b[0m\n\u001b[0m\u001b[0;32m     10\u001b[0m \u001b[1;31m#print(\"Array der eingelesenen Datenpunkte:\\n\",puAr)\u001b[0m\u001b[1;33m\u001b[0m\u001b[1;33m\u001b[0m\u001b[0m\n\u001b[0;32m     11\u001b[0m \u001b[0mk\u001b[0m\u001b[1;33m=\u001b[0m\u001b[0mk_Means\u001b[0m\u001b[1;33m(\u001b[0m\u001b[0mpuAr\u001b[0m\u001b[1;33m,\u001b[0m\u001b[1;36m3\u001b[0m\u001b[1;33m)\u001b[0m\u001b[1;33m\u001b[0m\u001b[0m\n",
      "\u001b[1;32m<ipython-input-9-2bd7dd503d06>\u001b[0m in \u001b[0;36mcsv2array\u001b[1;34m(datei)\u001b[0m\n\u001b[0;32m      3\u001b[0m     arr=np.loadtxt(datei,delimiter=\";\",\n\u001b[0;32m      4\u001b[0m                    \u001b[0mskiprows\u001b[0m\u001b[1;33m=\u001b[0m\u001b[1;36m1\u001b[0m\u001b[1;33m,\u001b[0m\u001b[1;33m\u001b[0m\u001b[0m\n\u001b[1;32m----> 5\u001b[1;33m                    usecols=(1,2,3,4))\n\u001b[0m\u001b[0;32m      6\u001b[0m     \u001b[1;31m#erste Zeile ueberspringen und nur die Spalten 1 bis 4 verwenden\u001b[0m\u001b[1;33m\u001b[0m\u001b[1;33m\u001b[0m\u001b[0m\n\u001b[0;32m      7\u001b[0m     \u001b[1;32mreturn\u001b[0m \u001b[0marr\u001b[0m\u001b[1;33m\u001b[0m\u001b[0m\n",
      "\u001b[1;32m~\\Anaconda3\\lib\\site-packages\\numpy\\lib\\npyio.py\u001b[0m in \u001b[0;36mloadtxt\u001b[1;34m(fname, dtype, comments, delimiter, converters, skiprows, usecols, unpack, ndmin, encoding)\u001b[0m\n\u001b[0;32m   1099\u001b[0m         \u001b[1;31m# converting the data\u001b[0m\u001b[1;33m\u001b[0m\u001b[1;33m\u001b[0m\u001b[0m\n\u001b[0;32m   1100\u001b[0m         \u001b[0mX\u001b[0m \u001b[1;33m=\u001b[0m \u001b[1;32mNone\u001b[0m\u001b[1;33m\u001b[0m\u001b[0m\n\u001b[1;32m-> 1101\u001b[1;33m         \u001b[1;32mfor\u001b[0m \u001b[0mx\u001b[0m \u001b[1;32min\u001b[0m \u001b[0mread_data\u001b[0m\u001b[1;33m(\u001b[0m\u001b[0m_loadtxt_chunksize\u001b[0m\u001b[1;33m)\u001b[0m\u001b[1;33m:\u001b[0m\u001b[1;33m\u001b[0m\u001b[0m\n\u001b[0m\u001b[0;32m   1102\u001b[0m             \u001b[1;32mif\u001b[0m \u001b[0mX\u001b[0m \u001b[1;32mis\u001b[0m \u001b[1;32mNone\u001b[0m\u001b[1;33m:\u001b[0m\u001b[1;33m\u001b[0m\u001b[0m\n\u001b[0;32m   1103\u001b[0m                 \u001b[0mX\u001b[0m \u001b[1;33m=\u001b[0m \u001b[0mnp\u001b[0m\u001b[1;33m.\u001b[0m\u001b[0marray\u001b[0m\u001b[1;33m(\u001b[0m\u001b[0mx\u001b[0m\u001b[1;33m,\u001b[0m \u001b[0mdtype\u001b[0m\u001b[1;33m)\u001b[0m\u001b[1;33m\u001b[0m\u001b[0m\n",
      "\u001b[1;32m~\\Anaconda3\\lib\\site-packages\\numpy\\lib\\npyio.py\u001b[0m in \u001b[0;36mread_data\u001b[1;34m(chunk_size)\u001b[0m\n\u001b[0;32m   1019\u001b[0m                 \u001b[1;32mcontinue\u001b[0m\u001b[1;33m\u001b[0m\u001b[0m\n\u001b[0;32m   1020\u001b[0m             \u001b[1;32mif\u001b[0m \u001b[0musecols\u001b[0m\u001b[1;33m:\u001b[0m\u001b[1;33m\u001b[0m\u001b[0m\n\u001b[1;32m-> 1021\u001b[1;33m                 \u001b[0mvals\u001b[0m \u001b[1;33m=\u001b[0m \u001b[1;33m[\u001b[0m\u001b[0mvals\u001b[0m\u001b[1;33m[\u001b[0m\u001b[0mj\u001b[0m\u001b[1;33m]\u001b[0m \u001b[1;32mfor\u001b[0m \u001b[0mj\u001b[0m \u001b[1;32min\u001b[0m \u001b[0musecols\u001b[0m\u001b[1;33m]\u001b[0m\u001b[1;33m\u001b[0m\u001b[0m\n\u001b[0m\u001b[0;32m   1022\u001b[0m             \u001b[1;32mif\u001b[0m \u001b[0mlen\u001b[0m\u001b[1;33m(\u001b[0m\u001b[0mvals\u001b[0m\u001b[1;33m)\u001b[0m \u001b[1;33m!=\u001b[0m \u001b[0mN\u001b[0m\u001b[1;33m:\u001b[0m\u001b[1;33m\u001b[0m\u001b[0m\n\u001b[0;32m   1023\u001b[0m                 \u001b[0mline_num\u001b[0m \u001b[1;33m=\u001b[0m \u001b[0mi\u001b[0m \u001b[1;33m+\u001b[0m \u001b[0mskiprows\u001b[0m \u001b[1;33m+\u001b[0m \u001b[1;36m1\u001b[0m\u001b[1;33m\u001b[0m\u001b[0m\n",
      "\u001b[1;32m~\\Anaconda3\\lib\\site-packages\\numpy\\lib\\npyio.py\u001b[0m in \u001b[0;36m<listcomp>\u001b[1;34m(.0)\u001b[0m\n\u001b[0;32m   1019\u001b[0m                 \u001b[1;32mcontinue\u001b[0m\u001b[1;33m\u001b[0m\u001b[0m\n\u001b[0;32m   1020\u001b[0m             \u001b[1;32mif\u001b[0m \u001b[0musecols\u001b[0m\u001b[1;33m:\u001b[0m\u001b[1;33m\u001b[0m\u001b[0m\n\u001b[1;32m-> 1021\u001b[1;33m                 \u001b[0mvals\u001b[0m \u001b[1;33m=\u001b[0m \u001b[1;33m[\u001b[0m\u001b[0mvals\u001b[0m\u001b[1;33m[\u001b[0m\u001b[0mj\u001b[0m\u001b[1;33m]\u001b[0m \u001b[1;32mfor\u001b[0m \u001b[0mj\u001b[0m \u001b[1;32min\u001b[0m \u001b[0musecols\u001b[0m\u001b[1;33m]\u001b[0m\u001b[1;33m\u001b[0m\u001b[0m\n\u001b[0m\u001b[0;32m   1022\u001b[0m             \u001b[1;32mif\u001b[0m \u001b[0mlen\u001b[0m\u001b[1;33m(\u001b[0m\u001b[0mvals\u001b[0m\u001b[1;33m)\u001b[0m \u001b[1;33m!=\u001b[0m \u001b[0mN\u001b[0m\u001b[1;33m:\u001b[0m\u001b[1;33m\u001b[0m\u001b[0m\n\u001b[0;32m   1023\u001b[0m                 \u001b[0mline_num\u001b[0m \u001b[1;33m=\u001b[0m \u001b[0mi\u001b[0m \u001b[1;33m+\u001b[0m \u001b[0mskiprows\u001b[0m \u001b[1;33m+\u001b[0m \u001b[1;36m1\u001b[0m\u001b[1;33m\u001b[0m\u001b[0m\n",
      "\u001b[1;31mIndexError\u001b[0m: list index out of range"
     ]
    }
   ],
   "source": [
    "def csv2array(datei):\n",
    "    # liest eine csv-Datei ein und liefert ein PunktArray\n",
    "    arr=np.loadtxt(datei,delimiter=\";\",\n",
    "                   skiprows=1,\n",
    "                   usecols=(1,2,3,4))\n",
    "    #erste Zeile ueberspringen und nur die Spalten 1 bis 4 verwenden\n",
    "    return arr                    \n",
    "  \n",
    "puAr=csv2array(\"iris.csv\")\n",
    "#print(\"Array der eingelesenen Datenpunkte:\\n\",puAr)\n",
    "k=k_Means(puAr,3)\n",
    "k.einteilen()\n",
    "k.zeigen()"
   ]
  },
  {
   "cell_type": "code",
   "execution_count": null,
   "metadata": {},
   "outputs": [],
   "source": []
  },
  {
   "cell_type": "code",
   "execution_count": null,
   "metadata": {},
   "outputs": [],
   "source": []
  }
 ],
 "metadata": {
  "kernelspec": {
   "display_name": "Python 3",
   "language": "python",
   "name": "python3"
  },
  "language_info": {
   "codemirror_mode": {
    "name": "ipython",
    "version": 3
   },
   "file_extension": ".py",
   "mimetype": "text/x-python",
   "name": "python",
   "nbconvert_exporter": "python",
   "pygments_lexer": "ipython3",
   "version": "3.7.0"
  }
 },
 "nbformat": 4,
 "nbformat_minor": 2
}
