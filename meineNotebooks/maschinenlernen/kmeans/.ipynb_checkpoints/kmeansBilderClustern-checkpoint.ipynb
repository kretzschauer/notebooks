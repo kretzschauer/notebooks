{
 "cells": [
  {
   "cell_type": "markdown",
   "metadata": {},
   "source": [
    "# KMeans- Demo zum Clustern von Bildern\n",
    "## Quellen:\n",
    "https://github.com/gkabbe/Python-Kurs2015/wiki/5---Numpy Grundlagen Numpy\n",
    "\n",
    "https://mubaris.com/posts/kmeans-clustering/  Berechnet den Massenmittelpunkt "
   ]
  },
  {
   "cell_type": "code",
   "execution_count": 26,
   "metadata": {},
   "outputs": [],
   "source": [
    "import numpy as np\n",
    "import matplotlib.pyplot as plt\n",
    "from mpl_toolkits.mplot3d import Axes3D\n",
    "import random\n",
    "\n",
    "\n",
    "class k_Means():\n",
    "    def __init__(self,puLi=[],clLi=[]):\n",
    "        self.puLi=np.array(puLi) # die zu clusternden Punkte       \n",
    "        self.clLi=np.array(clLi) # die Clusterpunkte\n",
    "        self.anzahl=len(self.puLi) \n",
    "        self.k = len(self.clLi)\n",
    "        self.cluster= np.zeros((len(puLi),),dtype=int) \n",
    "        self.abstaende = np.zeros((len(clLi),))\n",
    "        self.error = 20\n",
    "        self.cls=[]\n",
    "        \n",
    "    def einteilen(self):        \n",
    "        for i in range(self.anzahl):\n",
    "            #print(\"Abstaende: \",self.clLi,self.puLi[i])\n",
    "            abstand=np.linalg.norm(self.clLi-self.puLi[i],axis=1)\n",
    "            #print(abstand)\n",
    "            cluster = np.argmin(abstand)\n",
    "            #print(cluster)\n",
    "            self.cluster[i]=cluster\n",
    "        #print(self.cluster)\n",
    "        self.clLi_old=np.copy(self.clLi)\n",
    "        self.cls.append(self.clLi_old)\n",
    "        for i in range(self.k):            \n",
    "            punkte= [self.puLi[j] for j in range(self.anzahl) if self.cluster[j]==i]            \n",
    "            if len(punkte)>0:    #bei Zufallspunkten eventuell sinnvoll            \n",
    "                self.clLi[i]=np.mean(punkte,axis =0)\n",
    "        print(\"Neue Cluster: \\n\", self.clLi)\n",
    "        self.error = np.linalg.norm(self.clLi-self.clLi_old)\n",
    "        print(\"Fehler: \",self.error)\n",
    "        \n",
    "    def cluster2Bild(self):\n",
    "        #liefert ein Bild mit den Farben der Clusterzentren\n",
    "        bLi=''\n",
    "        for c in self.cluster:\n",
    "            for f in self.clLi[c]:\n",
    "                bLi=bLi+str(f)+' '\n",
    "        return bLi\n",
    "    \n",
    "    def cluster2Bild2(self,name):\n",
    "        #liefert ein Bild mit den Farben der Clusterzentren\n",
    "        bAr=np.copy(self.puLi)\n",
    "        for i in range(self.anzahl):\n",
    "            bAr[i]=self.clLi[self.cluster[i]]\n",
    "        np.savetxt(name, bAr, fmt=\"%3d\" ,delimiter=\" \")\n",
    "                             \n",
    "    def runden(self):           \n",
    "        self.einteilen()\n",
    "        while self.error> 10:            \n",
    "            self.einteilen()      \n",
    "            \n",
    "    def zeigen(self):\n",
    "        fig = plt.figure()        \n",
    "        ax = fig.add_subplot(111)        \n",
    "        farben=[\"red\",\"yellow\"]\n",
    "        m=[\"+\",\"x\",\"*\",\"#\"]\n",
    "        for i in range(self.k):\n",
    "            xs= [self.puLi[j][0] for j in range(self.anzahl) if self.cluster[j]==i]\n",
    "            ys= [self.puLi[j][1] for j in range(self.anzahl) if self.cluster[j]==i]\n",
    "            #print(\"xs: \",xs,\" ys: \",ys)            \n",
    "            ax.scatter(xs,ys, c=farben[i])\n",
    "        print(\"CLS: \",self.cls)\n",
    "        si=-1#Markerzaehler\n",
    "        for c in self.cls:\n",
    "            si+=1\n",
    "            for i in range(self.k):\n",
    "                ax.scatter(c[i][0],c[i][1], c=\"black\",marker=m[si])                      \n",
    "        #for c in self.clLi:\n",
    "            #ax.scatter(c[0],c[1], c=\"black\",marker=m[0])\n",
    "        plt.axis([0, 15, 0, 15])\n",
    "        plt.show()\n",
    "               \n",
    "\n",
    "def erstelleZufallsCluster(anz,dim,mini,maxi):\n",
    "    cl=[]\n",
    "    for i in range(anz):\n",
    "        c=[]\n",
    "        for j in range(dim):\n",
    "            x=random.randint(mini,maxi)\n",
    "            c.append(x)\n",
    "        cl.append(c)\n",
    "    return cl\n"
   ]
  },
  {
   "cell_type": "code",
   "execution_count": 25,
   "metadata": {},
   "outputs": [
    {
     "name": "stdout",
     "output_type": "stream",
     "text": [
      "[[11, 2], [7, 3]]\n",
      "Neue Cluster: \n",
      " [[13  8]\n",
      " [ 5  7]]\n",
      "Fehler:  7.745966692414834\n",
      "CLS:  [array([[11,  2],\n",
      "       [ 7,  3]])]\n"
     ]
    },
    {
     "data": {
      "image/png": "[encoded data removed]",
      "text/plain": [
       "<Figure size 432x288 with 1 Axes>"
      ]
     },
     "metadata": {},
     "output_type": "display_data"
    },
    {
     "name": "stdout",
     "output_type": "stream",
     "text": [
      "Neue Cluster: \n",
      " [[11  8]\n",
      " [ 4  7]]\n",
      "Fehler:  2.23606797749979\n",
      "CLS:  [array([[11,  2],\n",
      "       [ 7,  3]]), array([[13,  8],\n",
      "       [ 5,  7]])]\n"
     ]
    },
    {
     "data": {
      "image/png": "[encoded data removed]",
      "text/plain": [
       "<Figure size 432x288 with 1 Axes>"
      ]
     },
     "metadata": {},
     "output_type": "display_data"
    },
    {
     "name": "stdout",
     "output_type": "stream",
     "text": [
      "Neue Cluster: \n",
      " [[11  8]\n",
      " [ 4  7]]\n",
      "Fehler:  0.0\n",
      "CLS:  [array([[11,  2],\n",
      "       [ 7,  3]]), array([[13,  8],\n",
      "       [ 5,  7]]), array([[11,  8],\n",
      "       [ 4,  7]])]\n"
     ]
    },
    {
     "data": {
      "image/png": "[encoded data removed]",
      "text/plain": [
       "<Figure size 432x288 with 1 Axes>"
      ]
     },
     "metadata": {},
     "output_type": "display_data"
    }
   ],
   "source": [
    "punktliste= [[2,12],[3,11],[3,8],[5,4],[7,5],[7,3],[10,8],[13,8]]\n",
    "#Beispielwerte zum Testen\n",
    "def test():\n",
    "    cl=erstelleZufallsCluster(2,2,1,12)\n",
    "    print (cl)\n",
    "    k=k_Means(punktliste,cl)#listeClusterPunkte)\n",
    "    while k.error>0:\n",
    "        k.einteilen()\n",
    "        k.zeigen()\n",
    "\n",
    "test()"
   ]
  },
  {
   "cell_type": "code",
   "execution_count": 27,
   "metadata": {},
   "outputs": [
    {
     "name": "stdout",
     "output_type": "stream",
     "text": [
      "[[117 194  72]\n",
      " [ 81 235  37]\n",
      " [240 133 222]\n",
      " [127 143 234]\n",
      " [108 222  54]] 2 (5, 3)\n",
      "Neue Cluster: \n",
      " [[ 92  71  48]\n",
      " [ 53 194  45]\n",
      " [231  13 108]\n",
      " [  7  54 191]\n",
      " [161 231  57]]\n",
      "Fehler:  270.9335711941213\n",
      "Neue Cluster: \n",
      " [[ 47  25  27]\n",
      " [ 71 206  98]\n",
      " [218  19  80]\n",
      " [  6  53 189]\n",
      " [161 226  81]]\n",
      "Fehler:  97.23682430026189\n",
      "Neue Cluster: \n",
      " [[ 29  22  25]\n",
      " [ 92 225 119]\n",
      " [209  23  73]\n",
      " [  6  53 190]\n",
      " [221 210  26]]\n",
      "Fehler:  92.77930803794561\n",
      "Neue Cluster: \n",
      " [[ 25  22  25]\n",
      " [ 95 227 121]\n",
      " [204  22  73]\n",
      " [  6  54 191]\n",
      " [236 201   9]]\n",
      "Fehler:  25.612496949731394\n",
      "Neue Cluster: \n",
      " [[ 24  22  25]\n",
      " [ 95 227 121]\n",
      " [203  21  73]\n",
      " [  6  54 191]\n",
      " [237 199   8]]\n",
      "Fehler:  3.0\n"
     ]
    }
   ],
   "source": [
    "datei=\"cover.ppm\"\n",
    "\n",
    "f = open (datei,\"r\")\n",
    "inhalt= f.readlines()\n",
    "kopf=inhalt[:4]\n",
    "bild=inhalt[4:]\n",
    "bli=[]\n",
    "for z in bild:\n",
    "    pl = z.strip().split(\" \")\n",
    "    bli+=pl\n",
    "pili=[]\n",
    "for i  in range(0,len( bli),3):\n",
    "    r= int(bli[i])\n",
    "    g= int(bli[i+1])\n",
    "    b= int(bli[i+2])\n",
    "    pili.append([r,g,b])\n",
    "#print(pili[:3])\n",
    "piArray=np.array(pili)#Startwerte des Bildes speichern\n",
    "\n",
    "\n",
    "def erstelleZufallsZentren(anz,dim=3,zmin=1,zmax=255):\n",
    "    #liefert eine Liste aus anz Liste mit je dim Elementen\n",
    "    li=[]\n",
    "    for i in range(anz):\n",
    "        z=[]\n",
    "        for j in range(dim):\n",
    "            z.append(random.randint(zmin,zmax))\n",
    "        li.append(z)\n",
    "    return li\n",
    "\n",
    "\n",
    "\n",
    "anzahlFarben= 5\n",
    "clLi=erstelleZufallsZentren(anzahlFarben)\n",
    "clAr= np.array(clLi)\n",
    "print(clAr,clAr.ndim,clAr.shape)\n",
    "\n",
    "\n",
    "\n",
    "\n",
    "\n",
    "#Clustern\n",
    "k=k_Means(pili,clLi)\n",
    "#k.einteilen()\n",
    "#print( k.clLi)\n",
    "ausgabe=datei[:-4]+\"_ausgabe.ppm\"\n",
    "k.runden()\n",
    "k.cluster2Bild2(ausgabe)\n",
    "\n",
    "f=open(ausgabe,\"r\")\n",
    "txt=f.read()\n",
    "\n",
    "k=\"\"\n",
    "for z in kopf:\n",
    "    k+=z\n",
    "txt=k+txt\n",
    "f=open(ausgabe,\"w\")\n",
    "f.write(txt)\n",
    "f.close()\n",
    "\n"
   ]
  },
  {
   "cell_type": "code",
   "execution_count": null,
   "metadata": {},
   "outputs": [],
   "source": []
  }
 ],
 "metadata": {
  "kernelspec": {
   "display_name": "Python 3",
   "language": "python",
   "name": "python3"
  },
  "language_info": {
   "codemirror_mode": {
    "name": "ipython",
    "version": 3
   },
   "file_extension": ".py",
   "mimetype": "text/x-python",
   "name": "python",
   "nbconvert_exporter": "python",
   "pygments_lexer": "ipython3",
   "version": "3.6.5"
  }
 },
 "nbformat": 4,
 "nbformat_minor": 2
}
