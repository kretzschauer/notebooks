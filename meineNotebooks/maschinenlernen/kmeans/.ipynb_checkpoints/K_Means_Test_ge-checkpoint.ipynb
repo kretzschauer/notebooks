{
 "cells": [
  {
   "cell_type": "markdown",
   "metadata": {},
   "source": [
    "# Klasse für den K-Means-Algorithmus\n",
    "## Quellen\n",
    "\n",
    "https://github.com/gkabbe/Python-Kurs2015/wiki/5---Numpy\n",
    "Berechnet den Massenmittelpunkt\n",
    "https://mubaris.com/posts/kmeans-clustering/"
   ]
  },
  {
   "cell_type": "code",
   "execution_count": 5,
   "metadata": {},
   "outputs": [],
   "source": [
    "import numpy as np\n",
    "import random\n",
    "import matplotlib.pyplot as plt\n",
    "%matplotlib inline\n",
    "class k_Means():\n",
    "    \"\"\"\n",
    "        Erhaelt eine Punkt-Liste als Array\n",
    "        die Anzahl der Clusterpunkte\n",
    "        eventuell die Cluster-Liste, wenn nicht,\n",
    "        werden die Cluster-Punkte zufaellig aus den\n",
    "        Punkten der PL bestimmt\n",
    "    \"\"\"\n",
    "    def __init__(self, punkte, anzahl, clLi=None):        \n",
    "        #print(self.clLi)\n",
    "        self.puLi = punkte\n",
    "        self.anzahlCluster = anzahl\n",
    "        self.laengePuLi, self.dimPunkte =self.puLi.shape\n",
    "        if clLi:\n",
    "            self.clLi=clLi\n",
    "        else:\n",
    "            self.bestimmeCL()\n",
    "        print(\"StartCluster: \\n\", self.clLi)\n",
    "        self.cluster= np.zeros((self.laengePuLi,),dtype=int)\n",
    "        self.error=20\n",
    "        self.cls=[]\n",
    "    def bestimmeCL(self):\n",
    "        #zufaellige Auswahl der Clusterpunkte aus den gegebenen\n",
    "        self.clLi=np.zeros((self.anzahlCluster,self.dimPunkte))#,dtype=int)\n",
    "        clListe=[]\n",
    "        i=0\n",
    "        while len(clListe) < self.anzahlCluster:\n",
    "            index= random.randint(0,self.laengePuLi-1)\n",
    "            cl=self.puLi[index]\n",
    "            if not self.istEnthalten(clListe,cl): #vermeide Doppelte\n",
    "                clListe.append(cl)\n",
    "                self.clLi[i]=self.puLi[index]\n",
    "                i+=1\n",
    "                \n",
    "    def istEnthalten(self,array,el):\n",
    "        for e in array:\n",
    "            if (e==el).all():\n",
    "                return True\n",
    "        return False\n",
    "        \n",
    "    def einteilRunde(self):        \n",
    "        for i in range(self.laengePuLi):\n",
    "            #print(\"Abstaende: \",self.clLi,self.puLi[i])\n",
    "            abstand=np.linalg.norm(self.clLi-self.puLi[i],axis=1)\n",
    "            #print(abstand)\n",
    "            cluster = np.argmin(abstand)\n",
    "            #print(cluster)\n",
    "            self.cluster[i]=cluster        \n",
    "        self.clLi_old=np.copy(self.clLi)\n",
    "        self.cls.append(self.clLi_old)\n",
    "        for i in range(self.anzahlCluster):            \n",
    "            punkte= [self.puLi[j] for j in range(self.laengePuLi) if self.cluster[j]==i]                 \n",
    "            self.clLi[i]=np.mean(punkte,axis =0)\n",
    "        print(\"Neue Cluster: \\n\", self.clLi)\n",
    "        self.error = np.linalg.norm(self.clLi-self.clLi_old)\n",
    "        print(self.error)\n",
    "        \n",
    "    def einteilen(self,bis=0):           \n",
    "        self.einteilRunde()\n",
    "        while self.error> bis:            \n",
    "            self.einteilRunde()            \n",
    "        self.gibZahlen()\n",
    "            \n",
    "    def gibZahlen(self):\n",
    "        print(\"Verteilung der Punkte auf die Cluster\")\n",
    "        #liefert die Anzahlen der Punkte je Cluster\n",
    "        for i in range(self.anzahlCluster):            \n",
    "            punkte= [self.puLi[j] for j in range(self.laengePuLi) if self.cluster[j]==i]\n",
    "            print(i,len(punkte))\n",
    "        \n",
    "    def zeigen(self):\n",
    "        fig = plt.figure()\n",
    "        fig.suptitle(\"Einteilung in Cluster\")\n",
    "        ax = fig.add_subplot(111)        \n",
    "        farben=[\"red\",\"yellow\",\"blue\",\"green\",\"lightblue\",\"grey\"]*2\n",
    "        m=[\"+\",\"x\",\"*\",\"o\",\"v\"]*20\n",
    "        for i in range(self.anzahlCluster):\n",
    "            xs= [self.puLi[j][0] for j in range(self.laengePuLi) if self.cluster[j]==i]\n",
    "            ys= [self.puLi[j][1] for j in range(self.laengePuLi) if self.cluster[j]==i]\n",
    "            #print(\"xs: \",xs,\" ys: \",ys)            \n",
    "            ax.scatter(xs,ys, c=farben[i],label=i)        \n",
    "        si=-1#Markerzaehler\n",
    "        for c in self.cls:            \n",
    "            si+=1\n",
    "            for i in range(self.anzahlCluster):\n",
    "                ax.scatter(c[i][0],c[i][1], c=\"black\",marker=m[si])                      \n",
    "        #for c in self.clLi:\n",
    "            #ax.scatter(c[0],c[1], c=\"black\",marker=m[0])\n",
    "        maxis=np.amax(self.puLi,0)\n",
    "        minis=np.amin(self.puLi,0)\n",
    "        zusatz = (maxis - minis)//20 +1\n",
    "        #print(\"Maxis \",maxis, \" Minis: \",minis,\"Zusatz:\", zusatz)\n",
    "        plt.axis([int(minis[0])-zusatz[0],int(maxis[0])+zusatz[0],\n",
    "                  int(minis[1])-zusatz[1],int(maxis[1])+zusatz[1]])\n",
    "        fig.legend(loc=2)\n",
    "        plt.show()\n",
    "        #fig.savefig(\"cluster.png\", dpi=200)"
   ]
  },
  {
   "cell_type": "markdown",
   "metadata": {},
   "source": [
    "Testdurchlauf mit den Daten aus dem [xclara.csv-Datenset](https://vincentarelbundock.github.io/Rdatasets/csv/cluster/xclara.csv). \n",
    "\n",
    "Die schwarzen Punkte im Graph markieren die \"Wanderung\" der Clusterzentren vom Zufallswert zu den echten Mittelpunkten."
   ]
  },
  {
   "cell_type": "code",
   "execution_count": 6,
   "metadata": {},
   "outputs": [
    {
     "ename": "OSError",
     "evalue": "xclara.csv not found.",
     "output_type": "error",
     "traceback": [
      "\u001b[1;31m---------------------------------------------------------------------------\u001b[0m",
      "\u001b[1;31mOSError\u001b[0m                                   Traceback (most recent call last)",
      "\u001b[1;32m<ipython-input-6-03194c0acf69>\u001b[0m in \u001b[0;36m<module>\u001b[1;34m()\u001b[0m\n\u001b[0;32m      9\u001b[0m \u001b[0mpunktliste\u001b[0m\u001b[1;33m=\u001b[0m \u001b[1;33m[\u001b[0m\u001b[1;33m[\u001b[0m\u001b[1;36m2\u001b[0m\u001b[1;33m,\u001b[0m\u001b[1;36m12\u001b[0m\u001b[1;33m]\u001b[0m\u001b[1;33m,\u001b[0m\u001b[1;33m[\u001b[0m\u001b[1;36m3\u001b[0m\u001b[1;33m,\u001b[0m\u001b[1;36m11\u001b[0m\u001b[1;33m]\u001b[0m\u001b[1;33m,\u001b[0m\u001b[1;33m[\u001b[0m\u001b[1;36m3\u001b[0m\u001b[1;33m,\u001b[0m\u001b[1;36m8\u001b[0m\u001b[1;33m]\u001b[0m\u001b[1;33m,\u001b[0m\u001b[1;33m[\u001b[0m\u001b[1;36m5\u001b[0m\u001b[1;33m,\u001b[0m\u001b[1;36m4\u001b[0m\u001b[1;33m]\u001b[0m\u001b[1;33m,\u001b[0m\u001b[1;33m[\u001b[0m\u001b[1;36m7\u001b[0m\u001b[1;33m,\u001b[0m\u001b[1;36m5\u001b[0m\u001b[1;33m]\u001b[0m\u001b[1;33m,\u001b[0m\u001b[1;33m[\u001b[0m\u001b[1;36m7\u001b[0m\u001b[1;33m,\u001b[0m\u001b[1;36m3\u001b[0m\u001b[1;33m]\u001b[0m\u001b[1;33m,\u001b[0m\u001b[1;33m[\u001b[0m\u001b[1;36m10\u001b[0m\u001b[1;33m,\u001b[0m\u001b[1;36m8\u001b[0m\u001b[1;33m]\u001b[0m\u001b[1;33m,\u001b[0m\u001b[1;33m[\u001b[0m\u001b[1;36m13\u001b[0m\u001b[1;33m,\u001b[0m\u001b[1;36m8\u001b[0m\u001b[1;33m]\u001b[0m\u001b[1;33m]\u001b[0m\u001b[1;33m\u001b[0m\u001b[0m\n\u001b[0;32m     10\u001b[0m \u001b[0mpuAr\u001b[0m\u001b[1;33m=\u001b[0m\u001b[0mnp\u001b[0m\u001b[1;33m.\u001b[0m\u001b[0marray\u001b[0m\u001b[1;33m(\u001b[0m\u001b[0mpunktliste\u001b[0m\u001b[1;33m,\u001b[0m\u001b[0mdtype\u001b[0m\u001b[1;33m=\u001b[0m\u001b[0mint\u001b[0m\u001b[1;33m)\u001b[0m\u001b[1;33m\u001b[0m\u001b[0m\n\u001b[1;32m---> 11\u001b[1;33m \u001b[0mpuAr\u001b[0m\u001b[1;33m=\u001b[0m\u001b[0mcsv2array\u001b[0m\u001b[1;33m(\u001b[0m\u001b[1;34m\"xclara.csv\"\u001b[0m\u001b[1;33m)\u001b[0m\u001b[1;33m\u001b[0m\u001b[0m\n\u001b[0m\u001b[0;32m     12\u001b[0m \u001b[0mprint\u001b[0m\u001b[1;33m(\u001b[0m\u001b[1;34m\"Array der eingelesenen Datenpunkte:\\n\"\u001b[0m\u001b[1;33m,\u001b[0m\u001b[0mpuAr\u001b[0m\u001b[1;33m)\u001b[0m\u001b[1;33m\u001b[0m\u001b[0m\n\u001b[0;32m     13\u001b[0m \u001b[0mk\u001b[0m\u001b[1;33m=\u001b[0m\u001b[0mk_Means\u001b[0m\u001b[1;33m(\u001b[0m\u001b[0mpuAr\u001b[0m\u001b[1;33m,\u001b[0m\u001b[1;36m3\u001b[0m\u001b[1;33m)\u001b[0m\u001b[1;33m\u001b[0m\u001b[0m\n",
      "\u001b[1;32m<ipython-input-6-03194c0acf69>\u001b[0m in \u001b[0;36mcsv2array\u001b[1;34m(datei)\u001b[0m\n\u001b[0;32m      3\u001b[0m     arr=np.loadtxt(datei,delimiter=\",\",\n\u001b[0;32m      4\u001b[0m                    \u001b[0mskiprows\u001b[0m\u001b[1;33m=\u001b[0m\u001b[1;36m1\u001b[0m\u001b[1;33m,\u001b[0m\u001b[1;33m\u001b[0m\u001b[0m\n\u001b[1;32m----> 5\u001b[1;33m                    usecols=(1,2))\n\u001b[0m\u001b[0;32m      6\u001b[0m     \u001b[1;31m#erste Zeile ueberspringen und nur die Spalten 1 und 2 verwenden\u001b[0m\u001b[1;33m\u001b[0m\u001b[1;33m\u001b[0m\u001b[0m\n\u001b[0;32m      7\u001b[0m     \u001b[1;32mreturn\u001b[0m \u001b[0marr\u001b[0m\u001b[1;33m\u001b[0m\u001b[0m\n",
      "\u001b[1;32m~\\Anaconda3\\lib\\site-packages\\numpy\\lib\\npyio.py\u001b[0m in \u001b[0;36mloadtxt\u001b[1;34m(fname, dtype, comments, delimiter, converters, skiprows, usecols, unpack, ndmin, encoding)\u001b[0m\n\u001b[0;32m    924\u001b[0m             \u001b[0mfname\u001b[0m \u001b[1;33m=\u001b[0m \u001b[0mstr\u001b[0m\u001b[1;33m(\u001b[0m\u001b[0mfname\u001b[0m\u001b[1;33m)\u001b[0m\u001b[1;33m\u001b[0m\u001b[0m\n\u001b[0;32m    925\u001b[0m         \u001b[1;32mif\u001b[0m \u001b[0m_is_string_like\u001b[0m\u001b[1;33m(\u001b[0m\u001b[0mfname\u001b[0m\u001b[1;33m)\u001b[0m\u001b[1;33m:\u001b[0m\u001b[1;33m\u001b[0m\u001b[0m\n\u001b[1;32m--> 926\u001b[1;33m             \u001b[0mfh\u001b[0m \u001b[1;33m=\u001b[0m \u001b[0mnp\u001b[0m\u001b[1;33m.\u001b[0m\u001b[0mlib\u001b[0m\u001b[1;33m.\u001b[0m\u001b[0m_datasource\u001b[0m\u001b[1;33m.\u001b[0m\u001b[0mopen\u001b[0m\u001b[1;33m(\u001b[0m\u001b[0mfname\u001b[0m\u001b[1;33m,\u001b[0m \u001b[1;34m'rt'\u001b[0m\u001b[1;33m,\u001b[0m \u001b[0mencoding\u001b[0m\u001b[1;33m=\u001b[0m\u001b[0mencoding\u001b[0m\u001b[1;33m)\u001b[0m\u001b[1;33m\u001b[0m\u001b[0m\n\u001b[0m\u001b[0;32m    927\u001b[0m             \u001b[0mfencoding\u001b[0m \u001b[1;33m=\u001b[0m \u001b[0mgetattr\u001b[0m\u001b[1;33m(\u001b[0m\u001b[0mfh\u001b[0m\u001b[1;33m,\u001b[0m \u001b[1;34m'encoding'\u001b[0m\u001b[1;33m,\u001b[0m \u001b[1;34m'latin1'\u001b[0m\u001b[1;33m)\u001b[0m\u001b[1;33m\u001b[0m\u001b[0m\n\u001b[0;32m    928\u001b[0m             \u001b[0mfh\u001b[0m \u001b[1;33m=\u001b[0m \u001b[0miter\u001b[0m\u001b[1;33m(\u001b[0m\u001b[0mfh\u001b[0m\u001b[1;33m)\u001b[0m\u001b[1;33m\u001b[0m\u001b[0m\n",
      "\u001b[1;32m~\\Anaconda3\\lib\\site-packages\\numpy\\lib\\_datasource.py\u001b[0m in \u001b[0;36mopen\u001b[1;34m(path, mode, destpath, encoding, newline)\u001b[0m\n\u001b[0;32m    260\u001b[0m \u001b[1;33m\u001b[0m\u001b[0m\n\u001b[0;32m    261\u001b[0m     \u001b[0mds\u001b[0m \u001b[1;33m=\u001b[0m \u001b[0mDataSource\u001b[0m\u001b[1;33m(\u001b[0m\u001b[0mdestpath\u001b[0m\u001b[1;33m)\u001b[0m\u001b[1;33m\u001b[0m\u001b[0m\n\u001b[1;32m--> 262\u001b[1;33m     \u001b[1;32mreturn\u001b[0m \u001b[0mds\u001b[0m\u001b[1;33m.\u001b[0m\u001b[0mopen\u001b[0m\u001b[1;33m(\u001b[0m\u001b[0mpath\u001b[0m\u001b[1;33m,\u001b[0m \u001b[0mmode\u001b[0m\u001b[1;33m,\u001b[0m \u001b[0mencoding\u001b[0m\u001b[1;33m=\u001b[0m\u001b[0mencoding\u001b[0m\u001b[1;33m,\u001b[0m \u001b[0mnewline\u001b[0m\u001b[1;33m=\u001b[0m\u001b[0mnewline\u001b[0m\u001b[1;33m)\u001b[0m\u001b[1;33m\u001b[0m\u001b[0m\n\u001b[0m\u001b[0;32m    263\u001b[0m \u001b[1;33m\u001b[0m\u001b[0m\n\u001b[0;32m    264\u001b[0m \u001b[1;33m\u001b[0m\u001b[0m\n",
      "\u001b[1;32m~\\Anaconda3\\lib\\site-packages\\numpy\\lib\\_datasource.py\u001b[0m in \u001b[0;36mopen\u001b[1;34m(self, path, mode, encoding, newline)\u001b[0m\n\u001b[0;32m    616\u001b[0m                                       encoding=encoding, newline=newline)\n\u001b[0;32m    617\u001b[0m         \u001b[1;32melse\u001b[0m\u001b[1;33m:\u001b[0m\u001b[1;33m\u001b[0m\u001b[0m\n\u001b[1;32m--> 618\u001b[1;33m             \u001b[1;32mraise\u001b[0m \u001b[0mIOError\u001b[0m\u001b[1;33m(\u001b[0m\u001b[1;34m\"%s not found.\"\u001b[0m \u001b[1;33m%\u001b[0m \u001b[0mpath\u001b[0m\u001b[1;33m)\u001b[0m\u001b[1;33m\u001b[0m\u001b[0m\n\u001b[0m\u001b[0;32m    619\u001b[0m \u001b[1;33m\u001b[0m\u001b[0m\n\u001b[0;32m    620\u001b[0m \u001b[1;33m\u001b[0m\u001b[0m\n",
      "\u001b[1;31mOSError\u001b[0m: xclara.csv not found."
     ]
    }
   ],
   "source": [
    "def csv2array(datei):\n",
    "    # liest eine csv-Datei ein und liefert ein PunktArray\n",
    "    arr=np.loadtxt(datei,delimiter=\",\",\n",
    "                   skiprows=1,\n",
    "                   usecols=(1,2))\n",
    "    #erste Zeile ueberspringen und nur die Spalten 1 und 2 verwenden\n",
    "    return arr                    \n",
    "\n",
    "punktliste= [[2,12],[3,11],[3,8],[5,4],[7,5],[7,3],[10,8],[13,8]]\n",
    "puAr=np.array(punktliste,dtype=int)    \n",
    "puAr=csv2array(\"xclara.csv\")\n",
    "print(\"Array der eingelesenen Datenpunkte:\\n\",puAr)\n",
    "k=k_Means(puAr,3)\n",
    "k.einteilen()\n",
    "k.zeigen()\n"
   ]
  },
  {
   "cell_type": "markdown",
   "metadata": {},
   "source": [
    "Beispiel mit dem Iris-Datenset, bei dem sich die 3 Arten nicht klar trennen lassen. Abhängig von den Startwerten lässt sich aber zumindest eine Art abtrennen."
   ]
  },
  {
   "cell_type": "code",
   "execution_count": 4,
   "metadata": {},
   "outputs": [
    {
     "ename": "NameError",
     "evalue": "name 'np' is not defined",
     "output_type": "error",
     "traceback": [
      "\u001b[1;31m---------------------------------------------------------------------------\u001b[0m",
      "\u001b[1;31mNameError\u001b[0m                                 Traceback (most recent call last)",
      "\u001b[1;32m<ipython-input-4-2bd7dd503d06>\u001b[0m in \u001b[0;36m<module>\u001b[1;34m()\u001b[0m\n\u001b[0;32m      7\u001b[0m     \u001b[1;32mreturn\u001b[0m \u001b[0marr\u001b[0m\u001b[1;33m\u001b[0m\u001b[0m\n\u001b[0;32m      8\u001b[0m \u001b[1;33m\u001b[0m\u001b[0m\n\u001b[1;32m----> 9\u001b[1;33m \u001b[0mpuAr\u001b[0m\u001b[1;33m=\u001b[0m\u001b[0mcsv2array\u001b[0m\u001b[1;33m(\u001b[0m\u001b[1;34m\"iris.csv\"\u001b[0m\u001b[1;33m)\u001b[0m\u001b[1;33m\u001b[0m\u001b[0m\n\u001b[0m\u001b[0;32m     10\u001b[0m \u001b[1;31m#print(\"Array der eingelesenen Datenpunkte:\\n\",puAr)\u001b[0m\u001b[1;33m\u001b[0m\u001b[1;33m\u001b[0m\u001b[0m\n\u001b[0;32m     11\u001b[0m \u001b[0mk\u001b[0m\u001b[1;33m=\u001b[0m\u001b[0mk_Means\u001b[0m\u001b[1;33m(\u001b[0m\u001b[0mpuAr\u001b[0m\u001b[1;33m,\u001b[0m\u001b[1;36m3\u001b[0m\u001b[1;33m)\u001b[0m\u001b[1;33m\u001b[0m\u001b[0m\n",
      "\u001b[1;32m<ipython-input-4-2bd7dd503d06>\u001b[0m in \u001b[0;36mcsv2array\u001b[1;34m(datei)\u001b[0m\n\u001b[0;32m      1\u001b[0m \u001b[1;32mdef\u001b[0m \u001b[0mcsv2array\u001b[0m\u001b[1;33m(\u001b[0m\u001b[0mdatei\u001b[0m\u001b[1;33m)\u001b[0m\u001b[1;33m:\u001b[0m\u001b[1;33m\u001b[0m\u001b[0m\n\u001b[0;32m      2\u001b[0m     \u001b[1;31m# liest eine csv-Datei ein und liefert ein PunktArray\u001b[0m\u001b[1;33m\u001b[0m\u001b[1;33m\u001b[0m\u001b[0m\n\u001b[1;32m----> 3\u001b[1;33m     arr=np.loadtxt(datei,delimiter=\";\",\n\u001b[0m\u001b[0;32m      4\u001b[0m                    \u001b[0mskiprows\u001b[0m\u001b[1;33m=\u001b[0m\u001b[1;36m1\u001b[0m\u001b[1;33m,\u001b[0m\u001b[1;33m\u001b[0m\u001b[0m\n\u001b[0;32m      5\u001b[0m                    usecols=(1,2,3,4))\n",
      "\u001b[1;31mNameError\u001b[0m: name 'np' is not defined"
     ]
    }
   ],
   "source": [
    "def csv2array(datei):\n",
    "    # liest eine csv-Datei ein und liefert ein PunktArray\n",
    "    arr=np.loadtxt(datei,delimiter=\";\",\n",
    "                   skiprows=1,\n",
    "                   usecols=(1,2,3,4))\n",
    "    #erste Zeile ueberspringen und nur die Spalten 1 bis 4 verwenden\n",
    "    return arr                    \n",
    "  \n",
    "puAr=csv2array(\"iris.csv\")\n",
    "#print(\"Array der eingelesenen Datenpunkte:\\n\",puAr)\n",
    "k=k_Means(puAr,3)\n",
    "k.einteilen()\n",
    "k.zeigen()"
   ]
  },
  {
   "cell_type": "code",
   "execution_count": null,
   "metadata": {},
   "outputs": [],
   "source": []
  },
  {
   "cell_type": "code",
   "execution_count": null,
   "metadata": {},
   "outputs": [],
   "source": []
  }
 ],
 "metadata": {
  "kernelspec": {
   "display_name": "Python 3",
   "language": "python",
   "name": "python3"
  },
  "language_info": {
   "codemirror_mode": {
    "name": "ipython",
    "version": 3
   },
   "file_extension": ".py",
   "mimetype": "text/x-python",
   "name": "python",
   "nbconvert_exporter": "python",
   "pygments_lexer": "ipython3",
   "version": "3.7.0"
  }
 },
 "nbformat": 4,
 "nbformat_minor": 2
}
