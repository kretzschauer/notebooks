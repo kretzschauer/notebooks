{
 "cells": [
  {
   "cell_type": "code",
   "execution_count": 3,
   "metadata": {
    "collapsed": true
   },
   "outputs": [],
   "source": [
    "import torch\n",
    "import torch.nn as nn"
   ]
  },
  {
   "cell_type": "markdown",
   "metadata": {},
   "source": [
    "### Relu operation \n",
    "\\begin{equation*}\n",
    "relu = max(0, x) \n",
    "\\end{equation*}\n",
    "\n",
    "\\begin{equation*}\n",
    "\\left[ \\begin{array}{cccc}\n",
    "h1_{out1} & h1_{out2} &  h1_{out3} \\\\\\end{array} \\right] = \\left[ \\begin{array}{cccc}\n",
    "max(0, h1_{in1}) & max(0, h1_{in2}) & max(0, h1_{in3}) \\\\\\end{array} \\right]\n",
    "\\end{equation*}"
   ]
  },
  {
   "cell_type": "markdown",
   "metadata": {},
   "source": [
    "### Relu operation \n",
    "\\begin{equation*}\n",
    "relu = max(0, x) \n",
    "\\end{equation*}\n",
    "\n",
    "\\begin{equation*}\n",
    "\\left[ \\begin{array}{cccc}\n",
    "h1_{out1} & h1_{out2} &  h1_{out3} \\\\\\end{array} \\right] = \\left[ \\begin{array}{cccc}\n",
    "max(0, h1_{in1}) & max(0, h1_{in2}) & max(0, h1_{in3}) \\\\\\end{array} \\right]\n",
    "\\end{equation*}"
   ]
  },
  {
   "cell_type": "markdown",
   "metadata": {},
   "source": [
    "\\begin{equation*}\n",
    "y = F(x, {W_{i}}) + x \n",
    "\\end{equation*}"
   ]
  },
  {
   "cell_type": "markdown",
   "metadata": {},
   "source": [
    "\\begin{equation*}\n",
    "y = F(x, {W_{i}}) + W_{s}*x \n",
    "\\end{equation*}"
   ]
  },
  {
   "cell_type": "markdown",
   "metadata": {},
   "source": [
    "\\begin{equation*}\n",
    "\\frac{\\partial E_{total}}{\\partial O_{out1}} = \\frac{\\partial (-1 * ((y_{1} * \\log(O_{out1}) + (1-y_{1}) * \\log((1-O_{out1}))}{\\partial O_{out1}}\n",
    "\\end{equation*}"
   ]
  },
  {
   "cell_type": "code",
   "execution_count": null,
   "metadata": {
    "collapsed": true
   },
   "outputs": [],
   "source": [
    "\\begin{equation*}\n",
    "\\frac{\\partial E_{total}}{\\partial O_{out1}} = \\frac{\\partial (-1 * ((y_{1} * \\log(O_{out1}) + (1-y_{1}) * \\log((1-O_{out1}))}{\\partial O_{out1}}\n",
    "\\end{equation*}"
   ]
  },
  {
   "cell_type": "markdown",
   "metadata": {},
   "source": [
    "\\begin{equation*}\n",
    "y = (w_{2}+ \\lambda_{2})* (w_{1}+ \\lambda_{1}) * (w_{0}+\\lambda_{0}) * x \n",
    "\\end{equation*}\n",
    "\n",
    "\n",
    "\\begin{equation*}\n",
    "\\frac{\\partial E}{\\partial x_{o}} = \\frac{\\partial E}{\\partial x_{3}} * \\frac{\\partial x_{3}}{\\partial x_{2}} * \\frac{\\partial x_{2}}{\\partial x_{1}} * \\frac{\\partial x_{1}}{\\partial x_{0}}\n",
    "\\end{equation*}\n",
    "\n",
    "\n",
    "\\begin{equation*}\n",
    "\\frac{\\partial E}{\\partial x_{o}} = \\frac{\\partial E}{\\partial x_{3}} * (w_{2} + \\lambda_{2}) * (w_{1} + \\lambda_{1}) * (w_{0} + \\lambda_{0})\n",
    "\\end{equation*}\n",
    "\n"
   ]
  },
  {
   "cell_type": "code",
   "execution_count": 5,
   "metadata": {
    "collapsed": true
   },
   "outputs": [],
   "source": [
    "def conv3x3(in_planes, out_planes, stride=1):\n",
    "    \"\"\"3x3 convolution with padding\"\"\"\n",
    "    return nn.Conv2d(in_planes, out_planes, kernel_size=3, stride=stride,\n",
    "                     padding=1, bias=False)"
   ]
  },
  {
   "cell_type": "code",
   "execution_count": 6,
   "metadata": {
    "collapsed": true
   },
   "outputs": [],
   "source": [
    "class BasicBlock(nn.Module):\n",
    "    expansion = 1\n",
    "\n",
    "    def __init__(self, inplanes, planes, stride=1, downsample=None):\n",
    "        super(BasicBlock, self).__init__()\n",
    "        self.conv1 = conv3x3(inplanes, planes, stride)\n",
    "        self.bn1 = nn.BatchNorm2d(planes)\n",
    "        self.relu = nn.ReLU(inplace=True)\n",
    "        self.conv2 = conv3x3(planes, planes)\n",
    "        self.bn2 = nn.BatchNorm2d(planes)\n",
    "        self.downsample = downsample\n",
    "        self.stride = stride\n",
    "\n",
    "    def forward(self, x):\n",
    "        residual = x\n",
    "\n",
    "        out = self.conv1(x)\n",
    "        out = self.bn1(out)\n",
    "        out = self.relu(out)\n",
    "\n",
    "        out = self.conv2(out)\n",
    "        out = self.bn2(out)\n",
    "\n",
    "        if self.downsample is not None:\n",
    "            residual = self.downsample(x)\n",
    "\n",
    "        out += residual\n",
    "        out = self.relu(out)\n",
    "        return out"
   ]
  },
  {
   "cell_type": "markdown",
   "metadata": {},
   "source": [
    "\\begin{equation*}\n",
    "if y = 1\n",
    "\\end{equation*}\n",
    "\\begin{equation*}\n",
    "CE(p, y) = - \\log(p)   \n",
    "\\end{equation*}\n",
    "\n",
    "\\begin{equation*}\n",
    "otherwise\n",
    "\\end{equation*}\n",
    "\\begin{equation*}\n",
    "CE(p, y) = - \\log(1-p)  \n",
    "\\end{equation*}"
   ]
  },
  {
   "cell_type": "markdown",
   "metadata": {},
   "source": [
    "\\begin{equation*}\n",
    "if y = 1\n",
    "\\end{equation*}\n",
    "\\begin{equation*}\n",
    "pt = p   \n",
    "\\end{equation*}\n",
    "\n",
    "\\begin{equation*}\n",
    "otherwise\n",
    "\\end{equation*}\n",
    "\\begin{equation*}\n",
    "pt = 1-p  \n",
    "\\end{equation*}\n",
    "\n",
    "\\begin{equation*}\n",
    "CE(pt) = -\\log(pt)\n",
    "\\end{equation*}"
   ]
  },
  {
   "cell_type": "markdown",
   "metadata": {},
   "source": [
    "\\begin{equation*}\n",
    "CE(pt) = -\\alpha_{t} * \\log(pt)\n",
    "\\end{equation*}"
   ]
  },
  {
   "cell_type": "markdown",
   "metadata": {},
   "source": [
    "\\begin{equation*}\n",
    "FL(pt) = -(1-p_{t})^\\gamma * \\alpha_{t} * \\log(pt)\n",
    "\\end{equation*}"
   ]
  },
  {
   "cell_type": "code",
   "execution_count": null,
   "metadata": {
    "collapsed": true
   },
   "outputs": [],
   "source": []
  }
 ],
 "metadata": {
  "kernelspec": {
   "display_name": "Python (torch)",
   "language": "python",
   "name": "torch"
  },
  "language_info": {
   "codemirror_mode": {
    "name": "ipython",
    "version": 3
   },
   "file_extension": ".py",
   "mimetype": "text/x-python",
   "name": "python",
   "nbconvert_exporter": "python",
   "pygments_lexer": "ipython3",
   "version": "3.5.4"
  }
 },
 "nbformat": 4,
 "nbformat_minor": 2
}
