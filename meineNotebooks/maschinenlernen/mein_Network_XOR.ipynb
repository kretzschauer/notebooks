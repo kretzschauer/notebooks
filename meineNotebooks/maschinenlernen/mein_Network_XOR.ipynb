{
 "cells": [
  {
   "cell_type": "markdown",
   "metadata": {
    "collapsed": true
   },
   "source": [
    "# XOR neuronales Netz zu Testen\n",
    "die Gewichte werden zufällig bestimmt "
   ]
  },
  {
   "cell_type": "code",
   "execution_count": 1,
   "metadata": {},
   "outputs": [],
   "source": [
    "import numpy as np\n",
    "\n",
    "def tanh(x):\n",
    "    return np.tanh(x)\n",
    "\n",
    "def tanh_abl(x):\n",
    "    return 1.0 - np.tanh(x)**2\n",
    "\n",
    "def sig(x):\n",
    "    return 1/(1 + np.exp(-x))\n",
    "\n",
    "def sig_abl(x):\n",
    "    return sig(x)*(1-sig(x))"
   ]
  },
  {
   "cell_type": "code",
   "execution_count": 2,
   "metadata": {},
   "outputs": [],
   "source": [
    "class NeuralNetwork:\n",
    "    def __init__(self, inp,hidd,out, act='tanh',bias=True):\n",
    "        self.bias=bias\n",
    "        self.actf=act\n",
    "        self.inp=inp\n",
    "        self.hidd=hidd\n",
    "        self.out=out\n",
    "        if bias:\n",
    "            add=1\n",
    "        else:\n",
    "            add=0\n",
    "        if act == 'sig':\n",
    "            self.act = sig\n",
    "            self.act_abl = sig_abl\n",
    "        elif act == 'tanh':\n",
    "            self.act = tanh\n",
    "            self.act_abl = tanh_abl\n",
    "        self.wih=2*np.random.random((hidd+add,inp+add))-1        \n",
    "        self.who=2*np.random.random((out,hidd+add))-1\n",
    "        self.fehler=0\n",
    "        \n",
    "           \n",
    "    def prepareInput(self,inListe):\n",
    "        #fuegt Bias zur einListe\n",
    "        eingabe=np.array(inListe)\n",
    "        if not self.bias:return eingabe\n",
    "        X        = np.ones((len(eingabe),len(eingabe[0])+1))\n",
    "        X[:,1:] = eingabe        \n",
    "        return X\n",
    "    \n",
    "    def predict(self, x):\n",
    "        hidden_inputs = np.dot(self.wih,x)\n",
    "        hidden_outputs = self.act(hidden_inputs)\n",
    "        final_inputs = np.dot(self.who, hidden_outputs)\n",
    "        final_outputs = self.act(final_inputs)\n",
    "        return final_outputs\n",
    "        \n",
    "    def fit(self,X,y,epochen,lernrate=0.1):\n",
    "        for n in range(epochen):\n",
    "            i=np.random.randint(0,X.shape[0])\n",
    "            #Zufaellige Auswahl aus den Trainingsdaten\n",
    "            #Festlegen der Shapes, die sind sonst nicht eindeutig\n",
    "            xin=np.reshape(X[i],(X.shape[1],1))            \n",
    "            targets=np.reshape(y[i],(y[i].shape[0],1))        \n",
    "            hidden_inputs = np.dot(self.wih,xin)            \n",
    "            hidden_outputs = self.act(hidden_inputs)            \n",
    "            # calculate signals into final output layer\n",
    "            final_inputs = np.dot(self.who, hidden_outputs)            \n",
    "            final_outputs = self.act(final_inputs)            \n",
    "            output_errors = targets - final_outputs\n",
    "            self.fehler+=np.sum(output_errors**2)            \n",
    "            hidden_errors = np.dot(self.who.T, output_errors)             \n",
    "            if self.actf==\"tanh\":\n",
    "                self.who += lernrate * output_errors *np.dot((1.0 - final_outputs**2),hidden_outputs.T  )  \n",
    "                self.wih += lernrate * hidden_errors *np.dot((1.0 - hidden_outputs**2),xin.T)           \n",
    "            else:                \n",
    "                self.who += lernrate * np.dot( output_errors * final_outputs * (1.0 - final_outputs),hidden_outputs.T  )  \n",
    "                self.wih += lernrate * np.dot(( hidden_outputs * (1.0 - hidden_outputs)),xin.T)\n",
    "        print(\"Gewichte nach Runde:\",n+1,\"\\nWHI\\n\",self.wih,\"\\nWHO\\n\",self.who)\n",
    "\n",
    " "
   ]
  },
  {
   "cell_type": "code",
   "execution_count": 5,
   "metadata": {},
   "outputs": [
    {
     "name": "stdout",
     "output_type": "stream",
     "text": [
      "Gewichte nach Runde: 10000 \n",
      "WHI\n",
      " [[-0.80315708  3.2882235   2.31398481]\n",
      " [-0.3763033  -1.13783929  0.94524941]\n",
      " [ 2.91800865 -0.89635555 -2.53099566]] \n",
      "WHO\n",
      " [[1.87740393 1.85226722 1.93494814]]\n",
      "[0. 0.] [0.00783044] [0]\n",
      "[0. 1.] [0.99763604] [1]\n",
      "[1. 0.] [0.96664966] [1]\n",
      "[1. 1.] [0.01574311] [0]\n",
      "Fehler:  128.97793862514519\n"
     ]
    }
   ],
   "source": [
    "\n",
    "#np.random.seed(0)#l\n",
    "inListe=[[0, 0], [0, 1], [1, 0], [1, 1]]\n",
    "ausListe=[0, 1, 1, 0]\n",
    "for i in range(len(ausListe)):\n",
    "    ausListe[i]=[ausListe[i]]\n",
    "#inListe=[[0,0,0],[0,0,1],[0,1,0],[0,1,1],[1,0,0],[1,0,1],[1,1,0],[1,1,1]]\n",
    "#ausListe=[0, 1, 1, 0,1,0,0,1]\n",
    "y = np.array(ausListe)\n",
    "inp=len(inListe[0])   \n",
    "nn = NeuralNetwork(inp,2,1,\"tanh\",True)\n",
    "X=nn.prepareInput(inListe)\n",
    "#print(\"X\\n\",X,\"\\ny\\n\",y)\n",
    "#print(\"WIH\\n\",nn.wih)\n",
    "#print(\"WHO\\n\",nn.who)\n",
    "nn.fit(X,y,10000,0.1)\n",
    "for i in range(len(X)):\n",
    "    print(X[i][1:],nn.predict(X[i]),y[i])\n",
    "print(\"Fehler: \",nn.fehler)\n"
   ]
  },
  {
   "cell_type": "code",
   "execution_count": null,
   "metadata": {},
   "outputs": [],
   "source": []
  },
  {
   "cell_type": "code",
   "execution_count": null,
   "metadata": {},
   "outputs": [],
   "source": []
  },
  {
   "cell_type": "code",
   "execution_count": null,
   "metadata": {},
   "outputs": [],
   "source": []
  }
 ],
 "metadata": {
  "kernelspec": {
   "display_name": "Python 3",
   "language": "python",
   "name": "python3"
  },
  "language_info": {
   "codemirror_mode": {
    "name": "ipython",
    "version": 3
   },
   "file_extension": ".py",
   "mimetype": "text/x-python",
   "name": "python",
   "nbconvert_exporter": "python",
   "pygments_lexer": "ipython3",
   "version": "3.7.0"
  }
 },
 "nbformat": 4,
 "nbformat_minor": 1
}
