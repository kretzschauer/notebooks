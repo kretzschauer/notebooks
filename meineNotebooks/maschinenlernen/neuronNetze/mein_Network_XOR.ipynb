{
 "cells": [
  {
   "cell_type": "markdown",
   "metadata": {
    "collapsed": true
   },
   "source": [
    "# XOR neuronales Netz zu Testen\n",
    "die Gewichte werden zufällig bestimmt "
   ]
  },
  {
   "cell_type": "code",
   "execution_count": 1,
   "metadata": {},
   "outputs": [],
   "source": [
    "import numpy\n",
    "import math,random\n",
    "import matplotlib.pyplot as plt\n",
    "%matplotlib inline"
   ]
  },
  {
   "cell_type": "code",
   "execution_count": 2,
   "metadata": {},
   "outputs": [],
   "source": [
    "# Klassendefinition\n",
    "class neuralNetwork:    \n",
    "    # Netzwerk initialisieren\n",
    "    def __init__(self, inputnodes, hiddennodes, outputnodes, learningrate):\n",
    "        # setze Anzahl der Knoten in den Schichten\n",
    "        self.inodes = inputnodes\n",
    "        self.hnodes = hiddennodes\n",
    "        self.onodes = outputnodes\n",
    "        self.trainingslaeufe=0 #zu Zählen der Durchläufe\n",
    "        self.fehlerzahl=0\n",
    "        self.trainingsAuswertung=[]\n",
    "        # Gewichtsmatrizen, wih and who       \n",
    "        self.wih = numpy.random.normal(0.0, pow(20, -0.5), (self.hnodes, self.inodes))        \n",
    "        self.who = numpy.random.normal(0.0, pow(20, -0.5), (self.onodes, self.hnodes))\n",
    "        print(\"whi\",self.wih)\n",
    "        print(\"who\",self.who)\n",
    "        # Lernrate\n",
    "        self.lr = learningrate\n",
    "        \n",
    "        \n",
    "    def activation_function(self,y_array):\n",
    "        lx=len(y_array)  \n",
    "        ly=len(y_array[0])\n",
    "        aus=[]\n",
    "        for i in range(lx):\n",
    "            zeile=[]\n",
    "            for j in range(ly):\n",
    "                zeile.append(1/(1+math.exp(-y_array[i][j])))\n",
    "            aus.append(zeile)\n",
    "        aus=numpy.array(aus)\n",
    "        return aus\n",
    "    \n",
    "    # train the neural network\n",
    "    def train(self, inputs_list, targets_list):        \n",
    "        self.trainingslaeufe+=1\n",
    "        # wandelt Eingabeliste in ein 2d Array um\n",
    "        inputs = numpy.array(inputs_list, ndmin=2).T       \n",
    "        targets = numpy.array(targets_list, ndmin=2).T        \n",
    "        hidden_inputs = numpy.dot(self.wih, inputs)\n",
    "        # calculate the signals emerging from hidden layer\n",
    "        #print(\"HiddenInputs: \\n\",hidden_inputs)\n",
    "        hidden_outputs = self.activation_function(hidden_inputs)\n",
    "        #print(\"Hidden Outputs: \\n\",hidden_outputs)\n",
    "        # calculate signals into final output layer\n",
    "        final_inputs = numpy.dot(self.who, hidden_outputs)\n",
    "        #print(\"FinalInputs: \\n\",final_inputs)\n",
    "        # calculate the signals emerging from final output layer\n",
    "        final_outputs = self.activation_function(final_inputs)\n",
    "        #print(\"FINAL OUT: \\n\",final_outputs,\"\\nTargets:\\n\",targets)\n",
    "        # output layer error is the (target - actual)\n",
    "        output_errors = targets - final_outputs\n",
    "        if abs(output_errors[0])>0.49:\n",
    "            self.fehlerzahl+=1\n",
    "        if self.trainingslaeufe%100==0:\n",
    "            self.trainingsAuswertung.append(self.fehlerzahl/100)\n",
    "            self.fehlerzahl=0\n",
    "        #print(\"Out_Errors:\\n\",output_errors)\n",
    "        # hidden layer error is the output_errors, split by weights, recombined at hidden nodes\n",
    "        hidden_errors = numpy.dot(self.who.T, output_errors) \n",
    "        #print(\"Hidden_Errors:\\n\",hidden_errors)\n",
    "        # update the weights for the links between the hidden and output layers\n",
    "        self.who += self.lr * numpy.dot((output_errors * final_outputs * (1.0 - final_outputs)), numpy.transpose(hidden_outputs))\n",
    "        # update the weights for the links between the input and hidden layers\n",
    "        self.wih += self.lr * numpy.dot((hidden_errors * hidden_outputs * (1.0 - hidden_outputs)), numpy.transpose(inputs))\n",
    "        #print(\"Gewichte nach Runde:\",self.trainingslaeufe,\"\\n\",self.wih,\"\\n\",self.who)\n",
    "        pass\n",
    "\n",
    "    \n",
    "    # Testfunktion fuer das Netzwerk\n",
    "    def query(self, inputs_list):        \n",
    "        inputs = numpy.array(inputs_list, ndmin=2).T        \n",
    "        hidden_inputs = numpy.dot(self.wih, inputs)        \n",
    "        hidden_outputs = self.activation_function(hidden_inputs)      \n",
    "        final_inputs = numpy.dot(self.who, hidden_outputs)        \n",
    "        final_outputs = self.activation_function(final_inputs)        \n",
    "        return final_outputs\n",
    "    \n",
    "    def test(self,eingabe):        \n",
    "        aus=self.query(eingabe)\n",
    "        print(aus)\n",
    "        text=\"Eingaben: \"\n",
    "        for e in eingabe:\n",
    "            text+=str(e)\n",
    "            text+=\", \"\n",
    "        #print(text)\n",
    "        austext=\"  Ausgaben: \"\n",
    "        for a in aus:\n",
    "            austext+=str(a[0])\n",
    "            austext+=\", \"\n",
    "        print(text+austext)"
   ]
  },
  {
   "cell_type": "code",
   "execution_count": 3,
   "metadata": {},
   "outputs": [
    {
     "name": "stdout",
     "output_type": "stream",
     "text": [
      "whi [[ 0.04847665  0.12894352]\n",
      " [-0.07819172  0.43442791]\n",
      " [ 0.3881606   0.14077731]\n",
      " [-0.21554862 -0.27181599]\n",
      " [-0.06546474 -0.10627882]]\n",
      "who [[-0.00679332 -0.20216997 -0.13888269  0.06580141  0.37744388]\n",
      " [ 0.00551334 -0.36945893  0.1088869   0.12185905  0.08930473]]\n",
      "[[0.03471563]\n",
      " [0.96526481]]\n",
      "Eingaben: 0.01, 0.01,   Ausgaben: 0.034715633514138186, 0.965264812915981, \n",
      "[[0.97194343]\n",
      " [0.02807987]]\n",
      "Eingaben: 0.01, 0.99,   Ausgaben: 0.9719434294629214, 0.028079865525602415, \n",
      "[[0.97174505]\n",
      " [0.02827156]]\n",
      "Eingaben: 0.99, 0.01,   Ausgaben: 0.971745051507542, 0.028271561955275797, \n",
      "[[0.01817994]\n",
      " [0.98178042]]\n",
      "Eingaben: 0.99, 0.99,   Ausgaben: 0.018179944039368845, 0.9817804169153651, \n",
      "Anzahl der Trainingsläufe  40000\n",
      "Gewichte am Ende\n",
      "[[ -5.66533919  13.20223188]\n",
      " [-14.82545884   5.80231146]\n",
      " [  5.66337687 -13.19582197]\n",
      " [ -5.68525952  -5.67554644]\n",
      " [-11.88335448   5.42987958]]\n",
      "[[ -3.99903495   4.55802697   3.61728483 -14.10275851   3.06701371]\n",
      " [  3.99607808  -5.02971626  -3.6166356   14.09300927  -2.59075555]]\n"
     ]
    },
    {
     "data": {
      "image/png": "[encoded data removed]",
      "text/plain": [
       "<Figure size 432x288 with 1 Axes>"
      ]
     },
     "metadata": {
      "needs_background": "light"
     },
     "output_type": "display_data"
    }
   ],
   "source": [
    "# Anzahl der Knoten in den Schichten\n",
    "input_nodes = 2\n",
    "hidden_nodes = 5\n",
    "output_nodes = 2\n",
    "learning_rate = 0.5\n",
    "\n",
    "# Netzwerk aufbauen\n",
    "n = neuralNetwork(input_nodes,hidden_nodes,output_nodes, learning_rate)\n",
    "anzLaeufe=10000\n",
    "trainingsDaten=[[0.99,0.01,0.99,0.01],\\\n",
    "                [0.01,0.99,0.99,0.01],\\\n",
    "                [0.01,0.01,0.01,0.99],\\\n",
    "                [0.99,0.99,0.01,0.99]]*anzLaeufe\n",
    "\n",
    "for liste in trainingsDaten:\n",
    "    inListe=numpy.array(liste[:2])\n",
    "    tarListe=numpy.array(liste[-2:])    \n",
    "    n.train(inListe,tarListe) #Training \n",
    "\n",
    "   \n",
    "# Testen des Netzes\n",
    "n.test([0.01,0.01])\n",
    "n.test([0.01,0.99])\n",
    "n.test([0.99,0.01])\n",
    "n.test([0.99,0.99])\n",
    "print(\"Anzahl der Trainingsläufe \",n.trainingslaeufe)\n",
    "print(\"Gewichte am Ende\")\n",
    "print(n.wih)\n",
    "print(n.who)\n",
    "\n",
    " #Anzeige der Trainingsauswertung\n",
    "anzahl=list(range(0,anzLaeufe*4,100))\n",
    "plt.plot(anzahl, n.trainingsAuswertung)\n",
    "plt.xlabel('Anzahl')\n",
    "plt.ylabel('relativer Fehleranteil')\n",
    "plt.axis([0, anzLaeufe*4, 0, 1])\n",
    "plt.show()\n"
   ]
  },
  {
   "cell_type": "code",
   "execution_count": null,
   "metadata": {},
   "outputs": [],
   "source": []
  },
  {
   "cell_type": "code",
   "execution_count": null,
   "metadata": {},
   "outputs": [],
   "source": []
  },
  {
   "cell_type": "code",
   "execution_count": null,
   "metadata": {},
   "outputs": [],
   "source": []
  }
 ],
 "metadata": {
  "kernelspec": {
   "display_name": "Python 3",
   "language": "python",
   "name": "python3"
  },
  "language_info": {
   "codemirror_mode": {
    "name": "ipython",
    "version": 3
   },
   "file_extension": ".py",
   "mimetype": "text/x-python",
   "name": "python",
   "nbconvert_exporter": "python",
   "pygments_lexer": "ipython3",
   "version": "3.7.0"
  }
 },
 "nbformat": 4,
 "nbformat_minor": 1
}
