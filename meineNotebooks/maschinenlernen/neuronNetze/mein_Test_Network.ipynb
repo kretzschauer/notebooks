{
 "cells": [
  {
   "cell_type": "markdown",
   "metadata": {
    "collapsed": true
   },
   "source": [
    "# Probenetz zum Durchrechnen per Hand\n",
    "\n",
    "Quelle: Tariq Rashid  Frank Langenau (Übersetzung) Neuronale Netze selbst programmieren O’Reilly:  \n",
    "https://www.oreilly.de/buecher/12892/9783960090434-neuronale-netze-selbst-programmieren.html  \n",
    "Die Gewichte sind fest vorgegeben, um nachvollziehbare Ergebnisse zu bekommen."
   ]
  },
  {
   "cell_type": "code",
   "execution_count": 1,
   "metadata": {},
   "outputs": [],
   "source": [
    "import numpy\n",
    "import math,random"
   ]
  },
  {
   "cell_type": "code",
   "execution_count": 25,
   "metadata": {},
   "outputs": [],
   "source": [
    "# Klassendefinition\n",
    "class neuralNetwork:    \n",
    "    # initialise the neural network\n",
    "    def __init__(self, inputnodes, hiddennodes, outputnodes, learningrate):\n",
    "        # Anzahl der Knoten in jeder Schicht: input, hidden, output layer\n",
    "        self.inodes = inputnodes\n",
    "        self.hnodes = hiddennodes\n",
    "        self.onodes = outputnodes      \n",
    "        self.wih =numpy.array([[0.2,0.3],[0.4,0.3],[0.1,0.4]])# Gewichte W IH\n",
    "        self.who =numpy.array([[0.2,0.3,0.4],[0.1,0.2,0.6]]) # Gewichte W HO\n",
    "        print(\"whi\",self.wih)\n",
    "        print(\"who\",self.who)\n",
    "        self.lr=learningrate\n",
    "       \n",
    "        \n",
    "    def activation_function(self,y_array):\n",
    "        # wendet auf jedem Element eines Vektors die Sigmoid-Funktion an\n",
    "        # und liefert einen Vektor zurück\n",
    "        lx=len(y_array)  \n",
    "        ly=len(y_array[0])\n",
    "        aus=[]\n",
    "        for i in range(lx):\n",
    "            zeile=[]\n",
    "            for j in range(ly):\n",
    "                zeile.append(round(1/(1+math.exp(-y_array[i][j])),3))\n",
    "            aus.append(zeile)\n",
    "        aus=numpy.array(aus)\n",
    "        return aus\n",
    "    \n",
    "    # train the neural network\n",
    "    def train(self, inputs_list, targets_list):        \n",
    "        # convert inputs list to 2d array\n",
    "        inputs = numpy.array(inputs_list, ndmin=2).T\n",
    "        #print(\"Inputs_train: \\n\",inputs_list,inputs)\n",
    "        targets = numpy.array(targets_list, ndmin=2).T\n",
    "        #print(\"Targets_train: \\n\",targets_list,targets)\n",
    "        # calculate signals into hidden layer\n",
    "        hidden_inputs = numpy.dot(self.wih, inputs)\n",
    "        # calculate the signals emerging from hidden layer\n",
    "        print(\"HiddenInputs: \\n\",hidden_inputs)\n",
    "        hidden_outputs = self.activation_function(hidden_inputs)\n",
    "        print(\"Hidden Outputs: \\n\",hidden_outputs)\n",
    "        # calculate signals into final output layer\n",
    "        final_inputs = numpy.dot(self.who, hidden_outputs)\n",
    "        print(\"FinalInputs: \\n\",final_inputs)\n",
    "        # calculate the signals emerging from final output layer\n",
    "        final_outputs = self.activation_function(final_inputs)\n",
    "        print(\"FINAL OUT: \\n\",final_outputs,\"\\nTargets:\\n\",targets)\n",
    "        # output layer error is the (target - actual)\n",
    "        output_errors = targets - final_outputs\n",
    "        print(\"Out_Errors:\\n\",output_errors)\n",
    "        # hidden layer error is the output_errors, split by weights, recombined at hidden nodes\n",
    "        hidden_errors = numpy.dot(self.who.T, output_errors) \n",
    "        print(\"Hidden_Errors:\\n\",hidden_errors)\n",
    "        # update the weights for the links between the hidden and output layers\n",
    "        self.who += self.lr * numpy.dot((output_errors * final_outputs * (1.0 - final_outputs)), numpy.transpose(hidden_outputs))\n",
    "        # update the weights for the links between the input and hidden layers\n",
    "        self.wih += self.lr * numpy.dot((hidden_errors * hidden_outputs * (1.0 - hidden_outputs)), numpy.transpose(inputs))\n",
    "        print(\"korrigierte Gewichte who:\\n\",self.who)\n",
    "        print(\"korrigierte Gewichte wih:\\n\",self.wih)\n",
    "        \n",
    "        \n",
    "    # zum Testen nach dem Training\n",
    "    def query(self, inputs_list):\n",
    "        # convert inputs list to 2d array\n",
    "        inputs = numpy.array(inputs_list, ndmin=2).T\n",
    "        #print(\"Inputs\",inputs)\n",
    "        # calculate signals into hidden layer\n",
    "        hidden_inputs = numpy.dot(self.wih, inputs)\n",
    "        #print(\"hidden\",hidden_inputs)\n",
    "        # calculate the signals emerging from hidden layer\n",
    "        hidden_outputs = self.activation_function(hidden_inputs)\n",
    "        \n",
    "        # calculate signals into final output layer\n",
    "        final_inputs = numpy.dot(self.who, hidden_outputs)\n",
    "        #print(\"final_in\",final_inputs)\n",
    "        # calculate the signals emerging from final output layer\n",
    "        final_outputs = self.activation_function(final_inputs)        \n",
    "        return final_outputs\n",
    "    \n",
    "    def test(self,eingabe):        \n",
    "        aus=self.query(eingabe)\n",
    "        text=\"Eingaben: \"\n",
    "        for e in eingabe:\n",
    "            text+=str(e)\n",
    "            text+=\", \"\n",
    "        #print(text)\n",
    "        austext=\"  Ausgaben: \"\n",
    "        for a in aus:\n",
    "            austext+=str(a[0])\n",
    "            austext+=\", \"\n",
    "        print(text+austext)"
   ]
  },
  {
   "cell_type": "markdown",
   "metadata": {},
   "source": [
    "### Training des Netzes (eine Runde)"
   ]
  },
  {
   "cell_type": "code",
   "execution_count": 26,
   "metadata": {},
   "outputs": [
    {
     "name": "stdout",
     "output_type": "stream",
     "text": [
      "whi [[0.2 0.3]\n",
      " [0.4 0.3]\n",
      " [0.1 0.4]]\n",
      "who [[0.2 0.3 0.4]\n",
      " [0.1 0.2 0.6]]\n",
      "Eingabe:\n",
      " [0 1]\n",
      "Targets:\n",
      " [1 0]\n",
      "HiddenInputs: \n",
      " [[0.3]\n",
      " [0.3]\n",
      " [0.4]]\n",
      "Hidden Outputs: \n",
      " [[0.574]\n",
      " [0.574]\n",
      " [0.599]]\n",
      "FinalInputs: \n",
      " [[0.5266]\n",
      " [0.5316]]\n",
      "FINAL OUT: \n",
      " [[0.629]\n",
      " [0.63 ]] \n",
      "Targets:\n",
      " [[1]\n",
      " [0]]\n",
      "Out_Errors:\n",
      " [[ 0.371]\n",
      " [-0.63 ]]\n",
      "Hidden_Errors:\n",
      " [[ 0.0112]\n",
      " [-0.0147]\n",
      " [-0.2296]]\n",
      "korrigierte Gewichte who:\n",
      " [[0.22484737 0.32484737 0.42592957]\n",
      " [0.05785319 0.15785319 0.55601753]]\n",
      "korrigierte Gewichte wih:\n",
      " [[0.2        0.30136933]\n",
      " [0.4        0.29820275]\n",
      " [0.1        0.37242515]]\n"
     ]
    }
   ],
   "source": [
    "# number of input, hidden and output nodes\n",
    "input_nodes = 2\n",
    "hidden_nodes = 3\n",
    "output_nodes = 2\n",
    "\n",
    "# learning rate is 0.3\n",
    "learning_rate = 0.5\n",
    "\n",
    "# create instance of neural network\n",
    "n = neuralNetwork(input_nodes,hidden_nodes,output_nodes, learning_rate)\n",
    "trainingsDaten=[[0,1,1,0]]#,[1,0,1,0],[0,1,1,0],[1,1,0,1]]\n",
    "#trainingsDaten=[[0,1,1,0],[1,0,1,0],[0,1,1,0],[1,1,0,1]]\n",
    "for liste in trainingsDaten:\n",
    "    inListe  = numpy.array(liste[:2])\n",
    "    tarListe = numpy.array(liste[-2:])\n",
    "    print(\"Eingabe:\\n\",inListe)\n",
    "    print(\"Targets:\\n\",  tarListe)\n",
    "    n.train(inListe,tarListe) #Training \n"
   ]
  },
  {
   "cell_type": "markdown",
   "metadata": {},
   "source": [
    "### Test des (trainierten) Netzes"
   ]
  },
  {
   "cell_type": "code",
   "execution_count": 22,
   "metadata": {},
   "outputs": [
    {
     "name": "stdout",
     "output_type": "stream",
     "text": [
      "Eingaben: 0, 0,   Ausgaben: 0.62, 0.595, \n",
      "Eingaben: 0, 1,   Ausgaben: 0.638, 0.611, \n",
      "Eingaben: 1, 0,   Ausgaben: 0.632, 0.603, \n",
      "Eingaben: 1, 1,   Ausgaben: 0.65, 0.619, \n",
      "Gewichte am Ende\n",
      "[[0.2        0.30136933]\n",
      " [0.4        0.29820275]\n",
      " [0.1        0.37242515]]\n",
      "[[0.22484737 0.32484737 0.42592957]\n",
      " [0.05785319 0.15785319 0.55601753]]\n"
     ]
    }
   ],
   "source": [
    "n.test([0,0])\n",
    "n.test([0,1])\n",
    "n.test([1,0])\n",
    "n.test([1,1])\n",
    "print(\"Gewichte am Ende\")\n",
    "print(n.wih)\n",
    "print(n.who)"
   ]
  }
 ],
 "metadata": {
  "kernelspec": {
   "display_name": "Python 3",
   "language": "python",
   "name": "python3"
  },
  "language_info": {
   "codemirror_mode": {
    "name": "ipython",
    "version": 3
   },
   "file_extension": ".py",
   "mimetype": "text/x-python",
   "name": "python",
   "nbconvert_exporter": "python",
   "pygments_lexer": "ipython3",
   "version": "3.6.5"
  }
 },
 "nbformat": 4,
 "nbformat_minor": 1
}
