{
 "cells": [
  {
   "cell_type": "code",
   "execution_count": 1,
   "metadata": {},
   "outputs": [
    {
     "name": "stdout",
     "output_type": "stream",
     "text": [
      "\u001b[34mConnecting to --port=COM6 --baud=115200 \u001b[0m\n",
      "MicroPython v1.14 on 2021-02-02; ESP32 module with ESP32\n",
      "Type \"help()\" for more information.\n",
      ">>>[reboot detected 0]repl is in normal command mode\n",
      "[\\r\\x03\\x03] b'\\r\\n>>> '\n",
      "[\\r\\x01] b'\\r\\n>>> \\r\\nraw REPL; CTRL-B to exit\\r\\n>' \u001b[34mReady.\n",
      "\u001b[0m"
     ]
    }
   ],
   "source": [
    "%serialconnect to --port=COM6 --baud=115200"
   ]
  },
  {
   "cell_type": "code",
   "execution_count": 2,
   "metadata": {},
   "outputs": [],
   "source": [
    "from machine import Pin\n",
    "led = Pin(2, Pin.OUT)\n",
    "led.value(0)"
   ]
  },
  {
   "cell_type": "code",
   "execution_count": 3,
   "metadata": {},
   "outputs": [],
   "source": [
    "led.value(1)"
   ]
  },
  {
   "cell_type": "code",
   "execution_count": 4,
   "metadata": {},
   "outputs": [
    {
     "name": "stderr",
     "output_type": "stream",
     "text": [
      "Traceback (most recent call last):\n",
      "  File \"<stdin>\", line 4, in <module>\n",
      "ImportError: no module named 'umqttsimple'\n"
     ]
    }
   ],
   "source": [
    "# Complete project details at https://RandomNerdTutorials.com\n",
    "\n",
    "import time\n",
    "from umqttsimple import MQTTClient\n",
    "import ubinascii\n",
    "import machine\n",
    "import micropython\n",
    "import network\n",
    "import esp\n",
    "esp.osdebug(None)\n",
    "import gc\n",
    "gc.collect()\n",
    "\n",
    "ssid = 'Paul!Box'\n",
    "password = '64klahel69'\n",
    "#mqtt_server = 'REPLACE_WITH_YOUR_MQTT_BROKER_IP'\n",
    "#EXAMPLE IP ADDRESS\n",
    "#mqtt_server = '192.168.1.144'\n",
    "client_id = ubinascii.hexlify(machine.unique_id())\n",
    "topic_sub = b'notification'\n",
    "topic_pub = b'hello'\n",
    "\n",
    "last_message = 0\n",
    "message_interval = 5\n",
    "counter = 0\n",
    "\n",
    "station = network.WLAN(network.STA_IF)\n",
    "\n",
    "station.active(True)\n",
    "station.connect(ssid, password)\n",
    "\n",
    "while station.isconnected() == False:\n",
    "  pass\n",
    "\n",
    "print('Connection successful')\n",
    "print(station.ifconfig())\n"
   ]
  },
  {
   "cell_type": "code",
   "execution_count": 9,
   "metadata": {},
   "outputs": [],
   "source": [
    "led.value(1)"
   ]
  },
  {
   "cell_type": "code",
   "execution_count": null,
   "metadata": {},
   "outputs": [],
   "source": []
  }
 ],
 "metadata": {
  "kernelspec": {
   "display_name": "MicroPython - USB",
   "language": "micropython",
   "name": "micropython"
  },
  "language_info": {
   "codemirror_mode": "python",
   "file_extension": ".py",
   "mimetype": "text/python",
   "name": "micropython"
  }
 },
 "nbformat": 4,
 "nbformat_minor": 4
}
