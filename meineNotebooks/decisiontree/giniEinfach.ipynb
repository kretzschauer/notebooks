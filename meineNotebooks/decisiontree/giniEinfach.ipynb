{
 "cells": [
  {
   "cell_type": "markdown",
   "metadata": {},
   "source": [
    "# Notebook für einen Entscheidungsbaum für Affen"
   ]
  },
  {
   "cell_type": "markdown",
   "metadata": {},
   "source": [
    "Das Notebook arbeitet nur auf Listen, mit numpy wäre es sicher schneller. \n",
    "\n",
    "ToDo: Berechnen der Entropie.\n",
    "\n",
    "Daten einlesen und eine Liste erstellen."
   ]
  },
  {
   "cell_type": "code",
   "execution_count": 3,
   "metadata": {},
   "outputs": [
    {
     "data": {
      "text/plain": [
       "([['1', '1', '1', '0', 'C'],\n",
       "  ['1', '1', '0', '1', 'C'],\n",
       "  ['1', '0', '1', '1', 'C'],\n",
       "  ['0', '1', '1', '0', 'C'],\n",
       "  ['0', '0', '0', '0', 'N'],\n",
       "  ['0', '1', '0', '0', 'N'],\n",
       "  ['1', '1', '0', '0', 'N']],\n",
       " 7,\n",
       " ['M2', 'M3', 'M4', 'P'])"
      ]
     },
     "execution_count": 3,
     "metadata": {},
     "output_type": "execute_result"
    }
   ],
   "source": [
    "#datTrain=\"data/affen1trainingsdaten.csv\"\n",
    "#datTest =\"data/affen1testdaten.csv\"\n",
    "\n",
    "datTrain=\"data/ginitest.csv\"\n",
    "datTest =\"data/affen0_test.csv\"\n",
    "\n",
    "f=open(datTrain,\"r\", encoding=\"UTF-8\")\n",
    "txt=f.readlines()\n",
    "daten=[]\n",
    "for zei in txt[1:]:\n",
    "    zei=zei.strip().split(\";\")\n",
    "    daten.append(zei[0:])\n",
    "\n",
    "label=txt[0].strip().split(\";\")[1:]\n",
    "training_data = daten\n",
    "header = label #die Bezeichnungen\n",
    "daten, len(daten), label"
   ]
  },
  {
   "cell_type": "code",
   "execution_count": 2,
   "metadata": {},
   "outputs": [
    {
     "data": {
      "text/plain": [
       "[['x', 'x', 'auf', 'Zahn', 'beißt'],\n",
       " ['offen', 'offen', 'zu', 'Grinsen', 'beißt'],\n",
       " ['offen', 'zu', 'zu', 'grimmig', 'beißt nicht'],\n",
       " ['offen', 'offen', 'auf', 'geöffnet', 'beißt nicht'],\n",
       " ['zu', 'zu', 'auf', 'weit geöffnet', 'beißt nicht'],\n",
       " ['x', 'x', 'auf', 'Zunge', 'beißt']]"
      ]
     },
     "execution_count": 2,
     "metadata": {},
     "output_type": "execute_result"
    }
   ],
   "source": [
    "f=open(datTest,\"r\", encoding=\"UTF-8\")\n",
    "txt=f.readlines()\n",
    "affenTest=[]\n",
    "for zei in txt[1:]:\n",
    "    zei=zei.strip().split(\";\")\n",
    "    affenTest.append(zei[1:])\n",
    "affenTest"
   ]
  },
  {
   "cell_type": "code",
   "execution_count": 72,
   "metadata": {},
   "outputs": [],
   "source": [
    "def unique_vals(rows, col):\n",
    "    #erstellt eine Menge aus Merkmalen\n",
    "    return set([row[col] for row in rows])"
   ]
  },
  {
   "cell_type": "code",
   "execution_count": 73,
   "metadata": {},
   "outputs": [
    {
     "data": {
      "text/plain": [
       "{'0', '1'}"
      ]
     },
     "execution_count": 73,
     "metadata": {},
     "output_type": "execute_result"
    }
   ],
   "source": [
    "#######\n",
    "# Demo:\n",
    "#unique_vals(training_data, 0)\n",
    "unique_vals(training_data, 3)\n",
    "#######"
   ]
  },
  {
   "cell_type": "code",
   "execution_count": 74,
   "metadata": {},
   "outputs": [],
   "source": [
    "def class_counts(rows):\n",
    "    # zaehlt die verschiedenen Label\n",
    "    counts = {}  # a dictionary of label -> count.\n",
    "    for row in rows:\n",
    "        # Label immer in der letzten Spalte\n",
    "        label = row[-1]\n",
    "        if label not in counts:\n",
    "            counts[label] = 0\n",
    "        counts[label] += 1\n",
    "    return counts"
   ]
  },
  {
   "cell_type": "code",
   "execution_count": 75,
   "metadata": {},
   "outputs": [
    {
     "data": {
      "text/plain": [
       "{'C': 4, 'N': 3}"
      ]
     },
     "execution_count": 75,
     "metadata": {},
     "output_type": "execute_result"
    }
   ],
   "source": [
    "#######\n",
    "# Demo:\n",
    "class_counts(training_data)\n",
    "#######"
   ]
  },
  {
   "cell_type": "code",
   "execution_count": 76,
   "metadata": {},
   "outputs": [],
   "source": [
    "def is_numeric(value):\n",
    "    \"\"\"Test if a value is numeric.\"\"\"\n",
    "    return isinstance(value, int) or isinstance(value, float)"
   ]
  },
  {
   "cell_type": "code",
   "execution_count": 77,
   "metadata": {},
   "outputs": [
    {
     "data": {
      "text/plain": [
       "True"
      ]
     },
     "execution_count": 77,
     "metadata": {},
     "output_type": "execute_result"
    }
   ],
   "source": [
    "#######\n",
    "# Demo:\n",
    "is_numeric(7)\n",
    "# is_numeric(\"zu\")\n",
    "#######"
   ]
  },
  {
   "cell_type": "code",
   "execution_count": 78,
   "metadata": {},
   "outputs": [],
   "source": [
    "class Question:\n",
    "    \"\"\"\n",
    "    Danach werden die Daten geteilt\n",
    "    Besteht aus Spalten-Namen und Wert\n",
    "    match vergleicht einen Beispielwert mit dem der Frage\n",
    "    \"\"\"\n",
    "\n",
    "    def __init__(self, column, value):\n",
    "        self.column = column\n",
    "        self.value = value\n",
    "\n",
    "    def match(self, example):\n",
    "        # Compare the feature value in an example to the\n",
    "        # feature value in this question.\n",
    "        val = example[self.column]\n",
    "        if is_numeric(val):\n",
    "            return val >= self.value\n",
    "        else:\n",
    "            return val == self.value\n",
    "\n",
    "    def __repr__(self):\n",
    "        # This is just a helper method to print\n",
    "        # the question in a readable format.\n",
    "        condition = \"==\"\n",
    "        if is_numeric(self.value):\n",
    "            condition = \">=\"\n",
    "        return \"Is %s %s %s?\" % (\n",
    "            header[self.column], condition, str(self.value))"
   ]
  },
  {
   "cell_type": "code",
   "execution_count": 79,
   "metadata": {},
   "outputs": [
    {
     "data": {
      "text/plain": [
       "Is M3 >= 3?"
      ]
     },
     "execution_count": 79,
     "metadata": {},
     "output_type": "execute_result"
    }
   ],
   "source": [
    "#######\n",
    "# Demo:\n",
    "# Let's write a question for a numeric attribute\n",
    "Question(1, 3)"
   ]
  },
  {
   "cell_type": "code",
   "execution_count": 80,
   "metadata": {},
   "outputs": [
    {
     "data": {
      "text/plain": [
       "Is M2 == zu?"
      ]
     },
     "execution_count": 80,
     "metadata": {},
     "output_type": "execute_result"
    }
   ],
   "source": [
    "# How about one for a categorical attribute\n",
    "q = Question(0, 'zu')\n",
    "q"
   ]
  },
  {
   "cell_type": "code",
   "execution_count": 81,
   "metadata": {},
   "outputs": [
    {
     "data": {
      "text/plain": [
       "False"
      ]
     },
     "execution_count": 81,
     "metadata": {},
     "output_type": "execute_result"
    }
   ],
   "source": [
    "# Let's pick an example from the training set...\n",
    "example = training_data[2]#Zeile 2 \n",
    "# ... and see if it matches the question\n",
    "q.match(example) # Vergleich der Spalte 0\n",
    "#######"
   ]
  },
  {
   "cell_type": "code",
   "execution_count": 82,
   "metadata": {},
   "outputs": [],
   "source": [
    "def partition(rows, question):\n",
    "    \"\"\"Partitions a dataset.\n",
    "\n",
    "    For each row in the dataset, check if it matches the question. If\n",
    "    so, add it to 'true rows', otherwise, add it to 'false rows'.\n",
    "    \"\"\"\n",
    "    true_rows, false_rows = [], []\n",
    "    for row in rows:\n",
    "        if question.match(row):\n",
    "            true_rows.append(row)\n",
    "        else:\n",
    "            false_rows.append(row)\n",
    "    return true_rows, false_rows"
   ]
  },
  {
   "cell_type": "code",
   "execution_count": 83,
   "metadata": {},
   "outputs": [
    {
     "data": {
      "text/plain": [
       "[['1', '1', '1', '0', 'C'],\n",
       " ['1', '1', '0', '1', 'C'],\n",
       " ['0', '1', '1', '0', 'C'],\n",
       " ['0', '1', '0', '0', 'N'],\n",
       " ['1', '1', '0', '0', 'N']]"
      ]
     },
     "execution_count": 83,
     "metadata": {},
     "output_type": "execute_result"
    }
   ],
   "source": [
    "#######\n",
    "# Demo:\n",
    "# Let's partition the training data based on whether rows are Red.\n",
    "true_rows, false_rows = partition(training_data, Question(1, '1'))\n",
    "# This will contain all the 'Red' rows.\n",
    "true_rows"
   ]
  },
  {
   "cell_type": "code",
   "execution_count": 84,
   "metadata": {},
   "outputs": [
    {
     "data": {
      "text/plain": [
       "[['1', '0', '1', '1', 'C'], ['0', '0', '0', '0', 'N']]"
      ]
     },
     "execution_count": 84,
     "metadata": {},
     "output_type": "execute_result"
    }
   ],
   "source": [
    "# This will contain everything else.\n",
    "false_rows\n",
    "#######"
   ]
  },
  {
   "cell_type": "code",
   "execution_count": 85,
   "metadata": {},
   "outputs": [],
   "source": [
    "def gini(rows):\n",
    "    \"\"\"\n",
    "    Gini Index für eine Liste aus Zeilen\n",
    "    There are a few different ways to do this, I thought this one was\n",
    "    the most concise. See:\n",
    "    https://en.wikipedia.org/wiki/Decision_tree_learning#Gini_impurity\n",
    "    \"\"\"\n",
    "    counts = class_counts(rows)\n",
    "    print(counts)\n",
    "    impurity = 1\n",
    "    for lbl in counts:\n",
    "        print(lbl)\n",
    "        prob_of_lbl = counts[lbl] / float(len(rows))\n",
    "        print(lbl,prob_of_lbl,prob_of_lbl**2)\n",
    "        impurity -= prob_of_lbl**2\n",
    "    return impurity"
   ]
  },
  {
   "cell_type": "code",
   "execution_count": 86,
   "metadata": {},
   "outputs": [
    {
     "name": "stdout",
     "output_type": "stream",
     "text": [
      "{'C': 1, 'N': 1}\n",
      "C\n",
      "C 0.5 0.25\n",
      "N\n",
      "N 0.5 0.25\n"
     ]
    },
    {
     "data": {
      "text/plain": [
       "0.5"
      ]
     },
     "execution_count": 86,
     "metadata": {},
     "output_type": "execute_result"
    }
   ],
   "source": [
    "#######\n",
    "# Demo:\n",
    "# Let's look at some example to understand how Gini Impurity works.\n",
    "#\n",
    "# First, we'll look at a dataset with no mixing.\n",
    "no_mixing = [['auf'],\n",
    "              ['auf']]\n",
    "# this will return 0\n",
    "#gini(no_mixing)\n",
    "gini(false_rows)"
   ]
  },
  {
   "cell_type": "code",
   "execution_count": 87,
   "metadata": {},
   "outputs": [
    {
     "name": "stdout",
     "output_type": "stream",
     "text": [
      "{'auf': 1, 'zu': 1}\n",
      "auf\n",
      "auf 0.5 0.25\n",
      "zu\n",
      "zu 0.5 0.25\n"
     ]
    },
    {
     "data": {
      "text/plain": [
       "0.5"
      ]
     },
     "execution_count": 87,
     "metadata": {},
     "output_type": "execute_result"
    }
   ],
   "source": [
    "# Now, we'll look at dataset with a 50:50 apples:oranges ratio\n",
    "some_mixing = [['auf'],\n",
    "               ['zu']]\n",
    "# this will return 0.5 - meaning, there's a 50% chance of misclassifying\n",
    "# a random example we draw from the dataset.\n",
    "gini(some_mixing)"
   ]
  },
  {
   "cell_type": "code",
   "execution_count": 88,
   "metadata": {},
   "outputs": [
    {
     "name": "stdout",
     "output_type": "stream",
     "text": [
      "{'c': 4, 'x': 3}\n",
      "c\n",
      "c 0.5714285714285714 0.32653061224489793\n",
      "x\n",
      "x 0.42857142857142855 0.18367346938775508\n"
     ]
    },
    {
     "data": {
      "text/plain": [
       "0.48979591836734704"
      ]
     },
     "execution_count": 88,
     "metadata": {},
     "output_type": "execute_result"
    }
   ],
   "source": [
    "# Now, we'll look at a dataset with many different labels\n",
    "lots_of_mixing = [['c'],['c'],['c'],['c'],['x'],['x'],['x']]\n",
    "                  \n",
    "# This will return 0.64\n",
    "gini(lots_of_mixing)\n",
    "#######"
   ]
  },
  {
   "cell_type": "code",
   "execution_count": 103,
   "metadata": {},
   "outputs": [],
   "source": [
    "def info_gain(left, right, current_uncertainty):\n",
    "    \"\"\"Information Gain.\n",
    "\n",
    "    The uncertainty of the starting node, minus the weighted impurity of\n",
    "    two child nodes.\n",
    "    \"\"\"\n",
    "    p = float(len(left)) / (len(left) + len(right))\n",
    "    print (\"p:\",p,len(left))\n",
    "    return current_uncertainty - p * gini(left) - (1 - p) * gini(right)"
   ]
  },
  {
   "cell_type": "code",
   "execution_count": 104,
   "metadata": {},
   "outputs": [
    {
     "name": "stdout",
     "output_type": "stream",
     "text": [
      "{'C': 4, 'N': 3}\n",
      "C\n",
      "C 0.5714285714285714 0.32653061224489793\n",
      "N\n",
      "N 0.42857142857142855 0.18367346938775508\n"
     ]
    },
    {
     "data": {
      "text/plain": [
       "([['1', '1', '1', '0', 'C'],\n",
       "  ['1', '1', '0', '1', 'C'],\n",
       "  ['1', '0', '1', '1', 'C'],\n",
       "  ['0', '1', '1', '0', 'C'],\n",
       "  ['0', '0', '0', '0', 'N'],\n",
       "  ['0', '1', '0', '0', 'N'],\n",
       "  ['1', '1', '0', '0', 'N']],\n",
       " 0.48979591836734704)"
      ]
     },
     "execution_count": 104,
     "metadata": {},
     "output_type": "execute_result"
    }
   ],
   "source": [
    "#######\n",
    "# Demo:\n",
    "# Calculate the uncertainy of our training data.\n",
    "current_uncertainty = gini(training_data)\n",
    "training_data,current_uncertainty"
   ]
  },
  {
   "cell_type": "code",
   "execution_count": 105,
   "metadata": {},
   "outputs": [
    {
     "name": "stdout",
     "output_type": "stream",
     "text": [
      "p: 0.2857142857142857 2\n",
      "{'C': 2}\n",
      "C\n",
      "C 1.0 1.0\n",
      "{'C': 2, 'N': 3}\n",
      "C\n",
      "C 0.4 0.16000000000000003\n",
      "N\n",
      "N 0.6 0.36\n"
     ]
    },
    {
     "data": {
      "text/plain": [
       "0.14693877551020418"
      ]
     },
     "execution_count": 105,
     "metadata": {},
     "output_type": "execute_result"
    }
   ],
   "source": [
    "# How much information do we gain by partioning on 'offen'?\n",
    "true_rows, false_rows = partition(training_data, Question(3, '1'))\n",
    "info_gain(true_rows, false_rows, current_uncertainty)"
   ]
  },
  {
   "cell_type": "code",
   "execution_count": 107,
   "metadata": {},
   "outputs": [
    {
     "name": "stdout",
     "output_type": "stream",
     "text": [
      "p: 0.42857142857142855 3\n",
      "{'C': 3}\n",
      "C\n",
      "C 1.0 1.0\n",
      "{'C': 1, 'N': 3}\n",
      "C\n",
      "C 0.25 0.0625\n",
      "N\n",
      "N 0.75 0.5625\n"
     ]
    },
    {
     "data": {
      "text/plain": [
       "(0.27551020408163274, 0.48979591836734704)"
      ]
     },
     "execution_count": 107,
     "metadata": {},
     "output_type": "execute_result"
    }
   ],
   "source": [
    "true_rows, false_rows = partition(training_data, Question(2, '1'))\n",
    "info_gain(true_rows, false_rows, current_uncertainty),current_uncertainty"
   ]
  },
  {
   "cell_type": "code",
   "execution_count": 97,
   "metadata": {},
   "outputs": [
    {
     "name": "stdout",
     "output_type": "stream",
     "text": [
      "{'C': 3, 'N': 1}\n",
      "C\n",
      "C 0.75 0.5625\n",
      "N\n",
      "N 0.25 0.0625\n",
      "{'C': 1, 'N': 2}\n",
      "C\n",
      "C 0.3333333333333333 0.1111111111111111\n",
      "N\n",
      "N 0.6666666666666666 0.4444444444444444\n"
     ]
    },
    {
     "data": {
      "text/plain": [
       "(0.08503401360544224, 0.48979591836734704)"
      ]
     },
     "execution_count": 97,
     "metadata": {},
     "output_type": "execute_result"
    }
   ],
   "source": [
    "# What about if we partioned on 'Red' instead?\n",
    "true_rows, false_rows = partition(training_data, Question(0,'1'))\n",
    "info_gain(true_rows, false_rows, current_uncertainty),current_uncertainty"
   ]
  },
  {
   "cell_type": "code",
   "execution_count": 24,
   "metadata": {},
   "outputs": [
    {
     "data": {
      "text/plain": [
       "[['auf', 'auf', 'auf', 'Zahn', 'beißt nicht'],\n",
       " ['auf', 'zu', 'auf', 'Zahn', 'beißt nicht'],\n",
       " ['auf', 'zu', 'zu', 'Grinsen', 'beißt'],\n",
       " ['auf', 'auf', 'zu', 'grimmig', 'beißt nicht'],\n",
       " ['auf', 'zu', 'auf', 'weit geöffnet', 'beißt nicht'],\n",
       " ['auf', 'auf', 'auf', 'Zunge', 'beißt nicht'],\n",
       " ['auf', 'zu', 'auf', 'Zunge', 'beißt nicht']]"
      ]
     },
     "execution_count": 24,
     "metadata": {},
     "output_type": "execute_result"
    }
   ],
   "source": [
    "# It looks like we learned more using 'Red' (0.37), than 'Green' (0.14).\n",
    "# Why? Look at the different splits that result, and see which one\n",
    "# looks more 'unmixed' to you.\n",
    "true_rows, false_rows = partition(training_data, Question(0,'auf'))\n",
    "\n",
    "# Here, the true_rows contain only 'Grapes'.\n",
    "true_rows"
   ]
  },
  {
   "cell_type": "code",
   "execution_count": 25,
   "metadata": {},
   "outputs": [
    {
     "data": {
      "text/plain": [
       "[['zu', 'zu', 'auf', 'Zahn', 'beißt nicht'],\n",
       " ['x', 'x', 'zu', 'Grinsen', 'beißt'],\n",
       " ['zu', 'zu', 'zu', 'Grinsen', 'beißt'],\n",
       " ['zu', 'zu', 'zu', 'grimmig', 'beißt nicht'],\n",
       " ['x', 'x', 'auf', 'weit geöffnet', 'beißt']]"
      ]
     },
     "execution_count": 25,
     "metadata": {},
     "output_type": "execute_result"
    }
   ],
   "source": [
    "# And the false rows contain two types of fruit. Not too bad.\n",
    "false_rows"
   ]
  },
  {
   "cell_type": "code",
   "execution_count": 26,
   "metadata": {},
   "outputs": [
    {
     "data": {
      "text/plain": [
       "[['auf', 'auf', 'auf', 'Zahn', 'beißt nicht'],\n",
       " ['auf', 'zu', 'auf', 'Zahn', 'beißt nicht'],\n",
       " ['auf', 'zu', 'zu', 'Grinsen', 'beißt'],\n",
       " ['auf', 'auf', 'zu', 'grimmig', 'beißt nicht'],\n",
       " ['auf', 'zu', 'auf', 'weit geöffnet', 'beißt nicht'],\n",
       " ['auf', 'auf', 'auf', 'Zunge', 'beißt nicht'],\n",
       " ['auf', 'zu', 'auf', 'Zunge', 'beißt nicht']]"
      ]
     },
     "execution_count": 26,
     "metadata": {},
     "output_type": "execute_result"
    }
   ],
   "source": [
    "# On the other hand, partitioning by Green doesn't help so much.\n",
    "true_rows, false_rows = partition(training_data, Question(0,'auf'))\n",
    "\n",
    "# We've isolated one apple in the true rows.\n",
    "true_rows"
   ]
  },
  {
   "cell_type": "code",
   "execution_count": 27,
   "metadata": {},
   "outputs": [
    {
     "data": {
      "text/plain": [
       "[['zu', 'zu', 'auf', 'Zahn', 'beißt nicht'],\n",
       " ['x', 'x', 'zu', 'Grinsen', 'beißt'],\n",
       " ['zu', 'zu', 'zu', 'Grinsen', 'beißt'],\n",
       " ['zu', 'zu', 'zu', 'grimmig', 'beißt nicht'],\n",
       " ['x', 'x', 'auf', 'weit geöffnet', 'beißt']]"
      ]
     },
     "execution_count": 27,
     "metadata": {},
     "output_type": "execute_result"
    }
   ],
   "source": [
    "# But, the false-rows are badly mixed up.\n",
    "false_rows\n",
    "#######"
   ]
  },
  {
   "cell_type": "code",
   "execution_count": 28,
   "metadata": {},
   "outputs": [],
   "source": [
    "def find_best_split(rows):\n",
    "    \"\"\"Find the best question to ask by iterating over every feature / value\n",
    "    and calculating the information gain.\"\"\"\n",
    "    best_gain = 0  # keep track of the best information gain\n",
    "    best_question = None  # keep train of the feature / value that produced it\n",
    "    current_uncertainty = gini(rows)\n",
    "    n_features = len(rows[0]) - 1  # number of columns\n",
    "\n",
    "    for col in range(n_features):  # for each feature\n",
    "\n",
    "        values = set([row[col] for row in rows])  # unique values in the column\n",
    "\n",
    "        for val in values:  # for each value\n",
    "\n",
    "            question = Question(col, val)\n",
    "\n",
    "            # try splitting the dataset\n",
    "            true_rows, false_rows = partition(rows, question)\n",
    "\n",
    "            # Skip this split if it doesn't divide the\n",
    "            # dataset.\n",
    "            if len(true_rows) == 0 or len(false_rows) == 0:\n",
    "                continue\n",
    "\n",
    "            # Calculate the information gain from this split\n",
    "            gain = info_gain(true_rows, false_rows, current_uncertainty)\n",
    "\n",
    "            # You actually can use '>' instead of '>=' here\n",
    "            # but I wanted the tree to look a certain way for our\n",
    "            # toy dataset.\n",
    "            if gain >= best_gain:\n",
    "                best_gain, best_question = gain, question\n",
    "                print(best_gain, best_question)\n",
    "\n",
    "    return best_gain, best_question"
   ]
  },
  {
   "cell_type": "code",
   "execution_count": 29,
   "metadata": {},
   "outputs": [
    {
     "name": "stdout",
     "output_type": "stream",
     "text": [
      "0.0 Is Auge_links == zu?\n",
      "0.10158730158730159 Is Auge_links == auf?\n",
      "0.17777777777777792 Is Auge_links == x?\n",
      "0.17777777777777792 Is Auge_rechts == x?\n",
      "0.2962962962962963 Is Mund == Grinsen?\n"
     ]
    },
    {
     "data": {
      "text/plain": [
       "Is Mund == Grinsen?"
      ]
     },
     "execution_count": 29,
     "metadata": {},
     "output_type": "execute_result"
    }
   ],
   "source": [
    "#######\n",
    "# Demo:\n",
    "# Find the best question to ask first for our toy dataset.\n",
    "best_gain, best_question = find_best_split(training_data)\n",
    "best_question\n",
    "# FYI: is color == Red is just as good. See the note in the code above\n",
    "# where I used '>='.\n",
    "#######"
   ]
  },
  {
   "cell_type": "code",
   "execution_count": 30,
   "metadata": {},
   "outputs": [],
   "source": [
    "class Leaf:\n",
    "    \"\"\"A Leaf node classifies data.\n",
    "\n",
    "    This holds a dictionary of class (e.g., \"Apple\") -> number of times\n",
    "    it appears in the rows from the training data that reach this leaf.\n",
    "    \"\"\"\n",
    "\n",
    "    def __init__(self, rows):\n",
    "        self.predictions = class_counts(rows)"
   ]
  },
  {
   "cell_type": "code",
   "execution_count": 31,
   "metadata": {},
   "outputs": [],
   "source": [
    "class Decision_Node:\n",
    "    \"\"\"A Decision Node asks a question.\n",
    "\n",
    "    This holds a reference to the question, and to the two child nodes.\n",
    "    \"\"\"\n",
    "\n",
    "    def __init__(self,\n",
    "                 question,\n",
    "                 true_branch,\n",
    "                 false_branch):\n",
    "        self.question = question\n",
    "        self.true_branch = true_branch\n",
    "        self.false_branch = false_branch"
   ]
  },
  {
   "cell_type": "code",
   "execution_count": 32,
   "metadata": {},
   "outputs": [],
   "source": [
    "def build_tree(rows):\n",
    "    \"\"\"Builds the tree.\n",
    "\n",
    "    Rules of recursion: 1) Believe that it works. 2) Start by checking\n",
    "    for the base case (no further information gain). 3) Prepare for\n",
    "    giant stack traces.\n",
    "    \"\"\"\n",
    "\n",
    "    # Try partitioing the dataset on each of the unique attribute,\n",
    "    # calculate the information gain,\n",
    "    # and return the question that produces the highest gain.\n",
    "    gain, question = find_best_split(rows)\n",
    "\n",
    "    # Base case: no further info gain\n",
    "    # Since we can ask no further questions,\n",
    "    # we'll return a leaf.\n",
    "    if gain == 0:\n",
    "        return Leaf(rows)\n",
    "\n",
    "    # If we reach here, we have found a useful feature / value\n",
    "    # to partition on.\n",
    "    true_rows, false_rows = partition(rows, question)\n",
    "\n",
    "    # Recursively build the true branch.\n",
    "    true_branch = build_tree(true_rows)\n",
    "\n",
    "    # Recursively build the false branch.\n",
    "    false_branch = build_tree(false_rows)\n",
    "\n",
    "    # Return a Question node.\n",
    "    # This records the best feature / value to ask at this point,\n",
    "    # as well as the branches to follow\n",
    "    # dependingo on the answer.\n",
    "    return Decision_Node(question, true_branch, false_branch)"
   ]
  },
  {
   "cell_type": "code",
   "execution_count": 33,
   "metadata": {},
   "outputs": [],
   "source": [
    "def print_tree(node, spacing=\"\"):\n",
    "    \"\"\"World's most elegant tree printing function.\"\"\"\n",
    "\n",
    "    # Base case: we've reached a leaf\n",
    "    if isinstance(node, Leaf):\n",
    "        print (spacing + \"Predict\", node.predictions)\n",
    "        return\n",
    "\n",
    "    # Print the question at this node\n",
    "    print (spacing + str(node.question))\n",
    "\n",
    "    # Call this function recursively on the true branch\n",
    "    print (spacing + '--> True:')\n",
    "    print_tree(node.true_branch, spacing + \"  \")\n",
    "\n",
    "    # Call this function recursively on the false branch\n",
    "    print (spacing + '--> False:')\n",
    "    print_tree(node.false_branch, spacing + \"  \")"
   ]
  },
  {
   "cell_type": "code",
   "execution_count": 34,
   "metadata": {},
   "outputs": [
    {
     "name": "stdout",
     "output_type": "stream",
     "text": [
      "0.0 Is Auge_links == zu?\n",
      "0.10158730158730159 Is Auge_links == auf?\n",
      "0.17777777777777792 Is Auge_links == x?\n",
      "0.17777777777777792 Is Auge_rechts == x?\n",
      "0.2962962962962963 Is Mund == Grinsen?\n",
      "0.0 Is Auge_links == zu?\n",
      "0.0 Is Auge_links == auf?\n",
      "0.0 Is Auge_links == x?\n",
      "0.0 Is Auge_rechts == zu?\n",
      "0.0 Is Auge_rechts == x?\n",
      "0.00705467372134036 Is Auge_links == zu?\n",
      "0.04938271604938274 Is Auge_links == auf?\n",
      "0.1975308641975309 Is Auge_links == x?\n",
      "0.1975308641975309 Is Auge_rechts == x?\n",
      "0.0 Is Auge_links == zu?\n",
      "0.0 Is Auge_links == auf?\n",
      "0.0 Is Auge_rechts == zu?\n",
      "0.0 Is Auge_rechts == auf?\n",
      "0.0 Is Mund_auf_zu == zu?\n",
      "0.0 Is Mund_auf_zu == auf?\n",
      "0.0 Is Mund == Zahn?\n",
      "0.0 Is Mund == Zunge?\n",
      "0.0 Is Mund == grimmig?\n",
      "0.0 Is Mund == weit geöffnet?\n"
     ]
    }
   ],
   "source": [
    "my_tree = build_tree(training_data)"
   ]
  },
  {
   "cell_type": "code",
   "execution_count": 35,
   "metadata": {},
   "outputs": [
    {
     "name": "stdout",
     "output_type": "stream",
     "text": [
      "Is Mund == Grinsen?\n",
      "--> True:\n",
      "  Predict {'beißt': 3}\n",
      "--> False:\n",
      "  Is Auge_rechts == x?\n",
      "  --> True:\n",
      "    Predict {'beißt': 1}\n",
      "  --> False:\n",
      "    Predict {'beißt nicht': 8}\n"
     ]
    }
   ],
   "source": [
    "print_tree(my_tree)"
   ]
  },
  {
   "cell_type": "code",
   "execution_count": 36,
   "metadata": {},
   "outputs": [],
   "source": [
    "def classify(row, node):\n",
    "    \"\"\"See the 'rules of recursion' above.\"\"\"\n",
    "\n",
    "    # Base case: we've reached a leaf\n",
    "    if isinstance(node, Leaf):\n",
    "        return node.predictions\n",
    "\n",
    "    # Decide whether to follow the true-branch or the false-branch.\n",
    "    # Compare the feature / value stored in the node,\n",
    "    # to the example we're considering.\n",
    "    if node.question.match(row):\n",
    "        return classify(row, node.true_branch)\n",
    "    else:\n",
    "        return classify(row, node.false_branch)"
   ]
  },
  {
   "cell_type": "code",
   "execution_count": 37,
   "metadata": {},
   "outputs": [
    {
     "data": {
      "text/plain": [
       "{'beißt nicht': 8}"
      ]
     },
     "execution_count": 37,
     "metadata": {},
     "output_type": "execute_result"
    }
   ],
   "source": [
    "#######\n",
    "# Demo:\n",
    "# The tree predicts the 1st row of our\n",
    "# training data is an apple with confidence 1.\n",
    "classify(training_data[0], my_tree)\n",
    "#######"
   ]
  },
  {
   "cell_type": "code",
   "execution_count": 38,
   "metadata": {},
   "outputs": [],
   "source": [
    "def print_leaf(counts):\n",
    "    \"\"\"A nicer way to print the predictions at a leaf.\"\"\"\n",
    "    total = sum(counts.values()) * 1.0\n",
    "    probs = {}\n",
    "    for lbl in counts.keys():\n",
    "        probs[lbl] = str(int(counts[lbl] / total * 100)) + \"%\"\n",
    "    return probs"
   ]
  },
  {
   "cell_type": "code",
   "execution_count": 39,
   "metadata": {},
   "outputs": [
    {
     "data": {
      "text/plain": [
       "{'beißt nicht': '100%'}"
      ]
     },
     "execution_count": 39,
     "metadata": {},
     "output_type": "execute_result"
    }
   ],
   "source": [
    "#######\n",
    "# Demo:\n",
    "# Printing that a bit nicer\n",
    "print_leaf(classify(training_data[0], my_tree))\n",
    "#######"
   ]
  },
  {
   "cell_type": "code",
   "execution_count": 40,
   "metadata": {},
   "outputs": [
    {
     "data": {
      "text/plain": [
       "{'beißt nicht': '100%'}"
      ]
     },
     "execution_count": 40,
     "metadata": {},
     "output_type": "execute_result"
    }
   ],
   "source": [
    "#######\n",
    "# Demo:\n",
    "# On the second example, the confidence is lower\n",
    "print_leaf(classify(training_data[1], my_tree))\n",
    "#######"
   ]
  },
  {
   "cell_type": "code",
   "execution_count": 41,
   "metadata": {},
   "outputs": [
    {
     "data": {
      "text/plain": [
       "[['x', 'x', 'auf', 'Zahn', 'beißt'],\n",
       " ['offen', 'offen', 'zu', 'Grinsen', 'beißt'],\n",
       " ['offen', 'zu', 'zu', 'grimmig', 'beißt nicht'],\n",
       " ['offen', 'offen', 'auf', 'geöffnet', 'beißt nicht'],\n",
       " ['zu', 'zu', 'auf', 'weit geöffnet', 'beißt nicht'],\n",
       " ['x', 'x', 'auf', 'Zunge', 'beißt']]"
      ]
     },
     "execution_count": 41,
     "metadata": {},
     "output_type": "execute_result"
    }
   ],
   "source": [
    "# Evaluate\n",
    "testing_data = affenTest\n",
    "affenTest"
   ]
  },
  {
   "cell_type": "code",
   "execution_count": 42,
   "metadata": {},
   "outputs": [
    {
     "name": "stdout",
     "output_type": "stream",
     "text": [
      "Actual: beißt. Predicted: {'beißt': '100%'}\n",
      "Actual: beißt. Predicted: {'beißt': '100%'}\n",
      "Actual: beißt nicht. Predicted: {'beißt nicht': '100%'}\n",
      "Actual: beißt nicht. Predicted: {'beißt nicht': '100%'}\n",
      "Actual: beißt nicht. Predicted: {'beißt nicht': '100%'}\n",
      "Actual: beißt. Predicted: {'beißt': '100%'}\n"
     ]
    }
   ],
   "source": [
    "for row in testing_data:\n",
    "    print (\"Actual: %s. Predicted: %s\" %\n",
    "           (row[-1], print_leaf(classify(row, my_tree))))"
   ]
  },
  {
   "cell_type": "code",
   "execution_count": null,
   "metadata": {},
   "outputs": [],
   "source": []
  },
  {
   "cell_type": "code",
   "execution_count": null,
   "metadata": {},
   "outputs": [],
   "source": []
  }
 ],
 "metadata": {
  "kernelspec": {
   "display_name": "Python 3",
   "language": "python",
   "name": "python3"
  },
  "language_info": {
   "codemirror_mode": {
    "name": "ipython",
    "version": 3
   },
   "file_extension": ".py",
   "mimetype": "text/x-python",
   "name": "python",
   "nbconvert_exporter": "python",
   "pygments_lexer": "ipython3",
   "version": "3.9.5"
  }
 },
 "nbformat": 4,
 "nbformat_minor": 2
}
