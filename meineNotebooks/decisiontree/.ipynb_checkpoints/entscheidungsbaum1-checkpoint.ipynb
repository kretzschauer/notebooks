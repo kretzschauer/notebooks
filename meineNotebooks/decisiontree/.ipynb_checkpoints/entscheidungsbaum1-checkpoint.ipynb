{
 "cells": [
  {
   "cell_type": "markdown",
   "metadata": {},
   "source": [
    "# Entscheidungsbaum \n",
    "#Quelle: https://www.sebastian-mantey.com/code-blog/coding-a-decision-tree-from-scratch-python-p1-introduction\n"
   ]
  },
  {
   "cell_type": "code",
   "execution_count": 1,
   "metadata": {},
   "outputs": [],
   "source": [
    "import numpy as np\n",
    "import pandas as pd\n",
    "import matplotlib.pyplot as plt\n",
    "#import seaborn as sns\n",
    "import random\n",
    "from pprint import pprint"
   ]
  },
  {
   "cell_type": "code",
   "execution_count": 14,
   "metadata": {
    "scrolled": true
   },
   "outputs": [
    {
     "data": {
      "text/plain": [
       "0              Zahn\n",
       "1              Zahn\n",
       "2              Zahn\n",
       "3           Grinsen\n",
       "4           Grinsen\n",
       "5           Grinsen\n",
       "6           grimmig\n",
       "7           grimmig\n",
       "8     weit geöffnet\n",
       "9     weit geöffnet\n",
       "10            Zunge\n",
       "11            Zunge\n",
       "Name: D#Mund, dtype: object"
      ]
     },
     "execution_count": 14,
     "metadata": {},
     "output_type": "execute_result"
    }
   ],
   "source": [
    "df = pd.read_csv(\"data/affen0_train.csv\")\n",
    "df = df.drop(\"mD#Nummer\", axis=1)\n",
    "train_df = df.rename(columns={\"cD#Beschriftung\": \"label\"})\n",
    "#train_df[\"D#Mund\"]#, axis=1)\n"
   ]
  },
  {
   "cell_type": "code",
   "execution_count": 20,
   "metadata": {},
   "outputs": [
    {
     "data": {
      "text/plain": [
       "array([['auf', 'auf', 'auf', 'Zahn', 'beißt nicht'],\n",
       "       ['auf', 'zu', 'auf', 'Zahn', 'beißt nicht'],\n",
       "       ['zu', 'zu', 'auf', 'Zahn', 'beißt nicht'],\n",
       "       ['auf', 'zu', 'zu', 'Grinsen', 'beißt'],\n",
       "       ['x', 'x', 'zu', 'Grinsen', 'beißt'],\n",
       "       ['zu', 'zu', 'zu', 'Grinsen', 'beißt '],\n",
       "       ['auf', 'auf', 'zu', 'grimmig', 'beißt nicht'],\n",
       "       ['zu', 'zu', 'zu', 'grimmig', 'beißt nicht'],\n",
       "       ['auf', 'zu', 'auf', 'weit geöffnet', 'beißt nicht'],\n",
       "       ['x', 'x', 'auf', 'weit geöffnet', 'beißt'],\n",
       "       ['auf', 'auf', 'auf', 'Zunge', 'beißt nicht'],\n",
       "       ['auf', 'zu', 'auf', 'Zunge', 'beißt nicht']], dtype=object)"
      ]
     },
     "execution_count": 20,
     "metadata": {},
     "output_type": "execute_result"
    }
   ],
   "source": [
    "data = train_df.values\n",
    "data"
   ]
  },
  {
   "cell_type": "code",
   "execution_count": 17,
   "metadata": {},
   "outputs": [
    {
     "data": {
      "text/html": [
       "<div>\n",
       "<style scoped>\n",
       "    .dataframe tbody tr th:only-of-type {\n",
       "        vertical-align: middle;\n",
       "    }\n",
       "\n",
       "    .dataframe tbody tr th {\n",
       "        vertical-align: top;\n",
       "    }\n",
       "\n",
       "    .dataframe thead th {\n",
       "        text-align: right;\n",
       "    }\n",
       "</style>\n",
       "<table border=\"1\" class=\"dataframe\">\n",
       "  <thead>\n",
       "    <tr style=\"text-align: right;\">\n",
       "      <th></th>\n",
       "      <th>D#Auge links</th>\n",
       "      <th>D#Auge rechts</th>\n",
       "      <th>Mund auf/zu</th>\n",
       "      <th>D#Mund</th>\n",
       "      <th>label</th>\n",
       "    </tr>\n",
       "  </thead>\n",
       "  <tbody>\n",
       "    <tr>\n",
       "      <th>0</th>\n",
       "      <td>x</td>\n",
       "      <td>x</td>\n",
       "      <td>auf</td>\n",
       "      <td>Zahn</td>\n",
       "      <td>beißt</td>\n",
       "    </tr>\n",
       "    <tr>\n",
       "      <th>1</th>\n",
       "      <td>offen</td>\n",
       "      <td>offen</td>\n",
       "      <td>zu</td>\n",
       "      <td>Grinsen</td>\n",
       "      <td>beißt</td>\n",
       "    </tr>\n",
       "    <tr>\n",
       "      <th>2</th>\n",
       "      <td>offen</td>\n",
       "      <td>zu</td>\n",
       "      <td>zu</td>\n",
       "      <td>grimmig</td>\n",
       "      <td>beißt nicht</td>\n",
       "    </tr>\n",
       "    <tr>\n",
       "      <th>3</th>\n",
       "      <td>offen</td>\n",
       "      <td>offen</td>\n",
       "      <td>auf</td>\n",
       "      <td>geöffnet</td>\n",
       "      <td>beißt nicht</td>\n",
       "    </tr>\n",
       "    <tr>\n",
       "      <th>4</th>\n",
       "      <td>zu</td>\n",
       "      <td>zu</td>\n",
       "      <td>auf</td>\n",
       "      <td>weit geöffnet</td>\n",
       "      <td>beißt nicht</td>\n",
       "    </tr>\n",
       "    <tr>\n",
       "      <th>5</th>\n",
       "      <td>x</td>\n",
       "      <td>x</td>\n",
       "      <td>auf</td>\n",
       "      <td>Zunge</td>\n",
       "      <td>beißt</td>\n",
       "    </tr>\n",
       "  </tbody>\n",
       "</table>\n",
       "</div>"
      ],
      "text/plain": [
       "  D#Auge links D#Auge rechts Mund auf/zu         D#Mund        label\n",
       "0            x             x         auf           Zahn       beißt \n",
       "1        offen         offen          zu        Grinsen        beißt\n",
       "2        offen            zu          zu        grimmig  beißt nicht\n",
       "3        offen         offen         auf       geöffnet  beißt nicht\n",
       "4           zu            zu         auf  weit geöffnet  beißt nicht\n",
       "5            x             x         auf          Zunge        beißt"
      ]
     },
     "execution_count": 17,
     "metadata": {},
     "output_type": "execute_result"
    }
   ],
   "source": [
    "df = pd.read_csv(\"data/affen0_test.csv\")\n",
    "df = df.drop(\"mD#Nummer\", axis=1)\n",
    "test_df = df.rename(columns={\"cD#Beschriftung\": \"label\"})\n",
    "test_df\n"
   ]
  },
  {
   "cell_type": "code",
   "execution_count": 22,
   "metadata": {},
   "outputs": [
    {
     "data": {
      "text/plain": [
       "'beißt nicht'"
      ]
     },
     "execution_count": 22,
     "metadata": {},
     "output_type": "execute_result"
    }
   ],
   "source": [
    "def check_purity(data):    \n",
    "    label_column = data[:, -1]\n",
    "    unique_classes = np.unique(label_column)\n",
    "    if len(unique_classes) == 1:\n",
    "        return True\n",
    "    else:\n",
    "        return False\n",
    "\n",
    "def classify_data(data):    \n",
    "    #gibt die Mehrheits-Antwort bei einem reinen Datensatz\n",
    "    label_column = data[:, -1]\n",
    "    unique_classes, counts_unique_classes = np.unique(label_column, return_counts=True)\n",
    "\n",
    "    index = counts_unique_classes.argmax()\n",
    "    classification = unique_classes[index]    \n",
    "    return classification\n",
    "\n",
    "classify_data(data)"
   ]
  },
  {
   "cell_type": "code",
   "execution_count": 23,
   "metadata": {},
   "outputs": [],
   "source": [
    "def get_potential_splits(data):\n",
    "    \n",
    "    potential_splits = {}\n",
    "    _, n_columns = data.shape\n",
    "    for column_index in range(n_columns - 1):        # excluding the last column which is the label\n",
    "        potential_splits[column_index] = []\n",
    "        values = data[:, column_index]\n",
    "        unique_values = np.unique(values)\n",
    "\n",
    "        for index in range(len(unique_values)):\n",
    "            if index != 0:\n",
    "                current_value = unique_values[index]\n",
    "                previous_value = unique_values[index - 1]\n",
    "                potential_split = (current_value + previous_value) / 2\n",
    "                \n",
    "                potential_splits[column_index].append(potential_split)\n",
    "    \n",
    "    return potential_splits"
   ]
  },
  {
   "cell_type": "code",
   "execution_count": 24,
   "metadata": {},
   "outputs": [
    {
     "ename": "TypeError",
     "evalue": "unsupported operand type(s) for /: 'str' and 'int'",
     "output_type": "error",
     "traceback": [
      "\u001b[1;31m---------------------------------------------------------------------------\u001b[0m",
      "\u001b[1;31mTypeError\u001b[0m                                 Traceback (most recent call last)",
      "\u001b[1;32m<ipython-input-24-52212c478e70>\u001b[0m in \u001b[0;36m<module>\u001b[1;34m\u001b[0m\n\u001b[1;32m----> 1\u001b[1;33m \u001b[0mget_potential_splits\u001b[0m\u001b[1;33m(\u001b[0m\u001b[0mdata\u001b[0m\u001b[1;33m)\u001b[0m\u001b[1;33m\u001b[0m\u001b[1;33m\u001b[0m\u001b[0m\n\u001b[0m",
      "\u001b[1;32m<ipython-input-23-aafb73d34843>\u001b[0m in \u001b[0;36mget_potential_splits\u001b[1;34m(data)\u001b[0m\n\u001b[0;32m     12\u001b[0m                 \u001b[0mcurrent_value\u001b[0m \u001b[1;33m=\u001b[0m \u001b[0munique_values\u001b[0m\u001b[1;33m[\u001b[0m\u001b[0mindex\u001b[0m\u001b[1;33m]\u001b[0m\u001b[1;33m\u001b[0m\u001b[1;33m\u001b[0m\u001b[0m\n\u001b[0;32m     13\u001b[0m                 \u001b[0mprevious_value\u001b[0m \u001b[1;33m=\u001b[0m \u001b[0munique_values\u001b[0m\u001b[1;33m[\u001b[0m\u001b[0mindex\u001b[0m \u001b[1;33m-\u001b[0m \u001b[1;36m1\u001b[0m\u001b[1;33m]\u001b[0m\u001b[1;33m\u001b[0m\u001b[1;33m\u001b[0m\u001b[0m\n\u001b[1;32m---> 14\u001b[1;33m                 \u001b[0mpotential_split\u001b[0m \u001b[1;33m=\u001b[0m \u001b[1;33m(\u001b[0m\u001b[0mcurrent_value\u001b[0m \u001b[1;33m+\u001b[0m \u001b[0mprevious_value\u001b[0m\u001b[1;33m)\u001b[0m \u001b[1;33m/\u001b[0m \u001b[1;36m2\u001b[0m\u001b[1;33m\u001b[0m\u001b[1;33m\u001b[0m\u001b[0m\n\u001b[0m\u001b[0;32m     15\u001b[0m \u001b[1;33m\u001b[0m\u001b[0m\n\u001b[0;32m     16\u001b[0m                 \u001b[0mpotential_splits\u001b[0m\u001b[1;33m[\u001b[0m\u001b[0mcolumn_index\u001b[0m\u001b[1;33m]\u001b[0m\u001b[1;33m.\u001b[0m\u001b[0mappend\u001b[0m\u001b[1;33m(\u001b[0m\u001b[0mpotential_split\u001b[0m\u001b[1;33m)\u001b[0m\u001b[1;33m\u001b[0m\u001b[1;33m\u001b[0m\u001b[0m\n",
      "\u001b[1;31mTypeError\u001b[0m: unsupported operand type(s) for /: 'str' and 'int'"
     ]
    }
   ],
   "source": [
    "get_potential_splits(data)\n"
   ]
  },
  {
   "cell_type": "code",
   "execution_count": null,
   "metadata": {},
   "outputs": [],
   "source": []
  }
 ],
 "metadata": {
  "kernelspec": {
   "display_name": "Python 3",
   "language": "python",
   "name": "python3"
  },
  "language_info": {
   "codemirror_mode": {
    "name": "ipython",
    "version": 3
   },
   "file_extension": ".py",
   "mimetype": "text/x-python",
   "name": "python",
   "nbconvert_exporter": "python",
   "pygments_lexer": "ipython3",
   "version": "3.9.5"
  }
 },
 "nbformat": 4,
 "nbformat_minor": 4
}
