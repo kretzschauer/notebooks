{
 "cells": [
  {
   "cell_type": "code",
   "execution_count": 3,
   "metadata": {},
   "outputs": [],
   "source": [
    "import numpy as np\n",
    "import random\n",
    "import matplotlib.pyplot as plt\n",
    "#https://github.com/gkabbe/Python-Kurs2015/wiki/5---Numpy\n",
    "#Berechnet den Massenmittelpunkt\n",
    "#https://mubaris.com/posts/kmeans-clustering/\n",
    "%matplotlib inline\n",
    "\n",
    "class k_Means():\n",
    "    \"\"\"\n",
    "        Erhaelt eine Punkt-Liste als Array\n",
    "        die Anzahl der Clusterpunkte\n",
    "        eventuell die Cluster-Liste, wenn nicht,\n",
    "        werden die Cluster-Punkte zufaellig aus den\n",
    "        Punkten der PL bestimmt\n",
    "    \"\"\"\n",
    "    def __init__(self, punkte, anzahl, cetroiden=None):        \n",
    "        #print(self.cetroiden)\n",
    "        self.puLi = punkte\n",
    "        self.anzahlCluster = anzahl\n",
    "        self.laengePuLi, self.dimPunkte =self.puLi.shape\n",
    "        if cetroiden:\n",
    "            self.cetroiden=np.array(cetroiden)\n",
    "        else:\n",
    "            self.bestimmeCentroiden()\n",
    "        print(\"StartCluster: \\n\", self.cetroiden)\n",
    "        self.cluster= np.zeros((self.laengePuLi,),dtype=int)\n",
    "        self.berechneFehler()\n",
    "        self.error=20\n",
    "        self.cls=[]#Liste der Cetroiden \n",
    "        c=np.copy(self.cetroiden)#als echte Kopie einfuegen\n",
    "        self.cls.append(c)#das sind die ersten\n",
    "        \n",
    "        \n",
    "    def bestimmeCentroiden(self):\n",
    "        #zufaellige Auswahl der Clusterpunkte aus den gegebenen\n",
    "        self.cetroiden=np.zeros((self.anzahlCluster,self.dimPunkte),dtype=int)\n",
    "        cetroidenste=[]\n",
    "        i=0\n",
    "        while len(cetroidenste) < self.anzahlCluster:\n",
    "            index= random.randint(0,self.laengePuLi-1)\n",
    "            cl=self.puLi[index]\n",
    "            if not self.istEnthalten(cetroidenste,cl): #vermeide Doppelte\n",
    "                cetroidenste.append(cl)\n",
    "                self.cetroiden[i]=self.puLi[index]\n",
    "                i+=1\n",
    "                \n",
    "    def istEnthalten(self,array,el):\n",
    "        for e in array:\n",
    "            if (e==el).all():\n",
    "                return True\n",
    "        return False\n",
    "        \n",
    "    def einteilRunde(self):   \n",
    "        \"\"\"\n",
    "        ordnet die Punkte den Centroiden zu\n",
    "        \"\"\"\n",
    "        for i in range(self.laengePuLi):\n",
    "            #print(\"Abstaende: \",self.puLi[i])\n",
    "            abstand=np.linalg.norm(self.cetroiden-self.puLi[i],axis=1)\n",
    "            #euklid. Abstand zur Centroide\n",
    "            #print(abstand)\n",
    "            self.cluster[i]=np.argmin(abstand) #Bestimme Index des Minimums\n",
    "        print(\"ClusterListe: \",self.cluster)\n",
    "        self.cetroiden_old=np.copy(self.cetroiden)        \n",
    "        for i in range(self.anzahlCluster):            \n",
    "            punkte= [self.puLi[j] for j in range(self.laengePuLi) if self.cluster[j]==i]                 \n",
    "            self.cetroiden[i]=np.mean(punkte,axis =0)        \n",
    "        print(\"Neue Cluster: \\n\", self.cetroiden)        \n",
    "        c=np.copy(self.cetroiden)\n",
    "        self.cls.append(c)        \n",
    "        self.diff = np.linalg.norm(self.cetroiden-self.cetroiden_old)\n",
    "        #Aenderung zur letzten Runde\n",
    "        print(\"Differenz zur letzten Runde: \",self.diff)\n",
    "        self.berechneFehler()\n",
    "        self.zeigen()\n",
    "\n",
    "    def berechneFehler(self):\n",
    "        \"\"\"\n",
    "        bestimmt jeweils den euklidischen Abstand der Centroiden\n",
    "        zu den einzelnen Clusterpunkten\n",
    "        \"\"\"\n",
    "        error=0\n",
    "        for i in range(self.anzahlCluster): \n",
    "            diff = np.array([self.puLi[j] -self.cetroiden[i] for j in range(self.laengePuLi) if self.cluster[j]==i])\n",
    "            d= np.linalg.norm(diff)\n",
    "            #print(diff,d)\n",
    "            error+=d\n",
    "        print(\"Fehler: \",error)\n",
    "\n",
    "\n",
    "    \n",
    "    def einteilen(self,bis=0): \n",
    "        \"\"\"\n",
    "        bis legt fest, wie groß der Abstand der Centroiden \n",
    "        zu denen der letzten Runde ist\n",
    "        \"\"\"\n",
    "        self.zeigen()\n",
    "        self.einteilRunde()\n",
    "        while self.diff> bis:    \n",
    "            self.einteilRunde()            \n",
    "            \n",
    "            \n",
    "    def gibZahlen(self):\n",
    "        print(\"Verteilung der Punkte auf die Cluster\")\n",
    "        #liefert die Anzahlen der Punkte je Cluster\n",
    "        for i in range(self.anzahlCluster):            \n",
    "            punkte= [self.puLi[j] for j in range(self.laengePuLi) if self.cluster[j]==i]\n",
    "            print(i,len(punkte))\n",
    "\n",
    "    def zeigeCentroiden(self):\n",
    "        print(\"Centroiden\")\n",
    "        for c in self.cls:\n",
    "            print(c)\n",
    "            \n",
    "    def zeigen(self):\n",
    "        fig = plt.figure()\n",
    "        fig.suptitle(\"Einteilung in Cluster\")\n",
    "        ax = fig.add_subplot(111)        \n",
    "        farben=[\"red\",\"yellow\",\"blue\",\"green\",\"lightblue\",\"grey\"]*2\n",
    "        m=[\"+\",\"x\",\"*\",\"o\",\"v\"]*20\n",
    "        for i in range(self.anzahlCluster):\n",
    "            xs= [self.puLi[j][0] for j in range(self.laengePuLi) if self.cluster[j]==i]\n",
    "            ys= [self.puLi[j][1] for j in range(self.laengePuLi) if self.cluster[j]==i]                      \n",
    "            ax.scatter(xs,ys, c=farben[i])        \n",
    "        si=0#Markerzaehler\n",
    "        self.zeigeCentroiden()        \n",
    "        for c in self.cls:            \n",
    "            ax.scatter(c[0][0],c[0][1], c=\"black\",marker=m[si],label=si)#damit das Label nur einmal kommt\n",
    "            for i in range(1,self.anzahlCluster):\n",
    "                ax.scatter(c[i][0],c[i][1], c=\"black\",marker=m[si])#der Rest ohne Label\n",
    "            si+=1\n",
    "\n",
    "        maxis=np.amax(self.puLi,0)\n",
    "        minis=np.amin(self.puLi,0)\n",
    "        print(\"Maxis \",maxis, \" Minis: \",minis)\n",
    "        plt.axis([int(minis[0])-2,int(maxis[0])+2,\n",
    "                  int(minis[1])-2,int(maxis[1])+2])\n",
    "        plt.legend()\n",
    "        plt.show()"
   ]
  },
  {
   "cell_type": "code",
   "execution_count": 9,
   "metadata": {},
   "outputs": [
    {
     "name": "stdout",
     "output_type": "stream",
     "text": [
      "StartCluster: \n",
      " [[ 3 11]\n",
      " [ 5  4]]\n",
      "Fehler:  19.05255888325765\n",
      "Centroiden\n",
      "[[ 3 11]\n",
      " [ 5  4]]\n",
      "Maxis  [13 12]  Minis:  [2 3]\n"
     ]
    },
    {
     "data": {
      "image/png": "[encoded data removed]",
      "text/plain": [
       "<Figure size 432x288 with 1 Axes>"
      ]
     },
     "metadata": {
      "needs_background": "light"
     },
     "output_type": "display_data"
    },
    {
     "name": "stdout",
     "output_type": "stream",
     "text": [
      "ClusterListe:  [0 0 0 1 1 1 1 1]\n",
      "Neue Cluster: \n",
      " [[ 2 10]\n",
      " [ 8  5]]\n",
      "Differenz zur letzten Runde:  3.4641016151377544\n",
      "Fehler:  11.253878723549171\n",
      "Centroiden\n",
      "[[ 3 11]\n",
      " [ 5  4]]\n",
      "[[ 2 10]\n",
      " [ 8  5]]\n",
      "Maxis  [13 12]  Minis:  [2 3]\n"
     ]
    },
    {
     "data": {
      "image/png": "[encoded data removed]",
      "text/plain": [
       "<Figure size 432x288 with 1 Axes>"
      ]
     },
     "metadata": {
      "needs_background": "light"
     },
     "output_type": "display_data"
    },
    {
     "name": "stdout",
     "output_type": "stream",
     "text": [
      "ClusterListe:  [0 0 0 1 1 1 1 1]\n",
      "Neue Cluster: \n",
      " [[ 2 10]\n",
      " [ 8  5]]\n",
      "Differenz zur letzten Runde:  0.0\n",
      "Fehler:  11.253878723549171\n",
      "Centroiden\n",
      "[[ 3 11]\n",
      " [ 5  4]]\n",
      "[[ 2 10]\n",
      " [ 8  5]]\n",
      "[[ 2 10]\n",
      " [ 8  5]]\n",
      "Maxis  [13 12]  Minis:  [2 3]\n"
     ]
    },
    {
     "data": {
      "image/png": "[encoded data removed]",
      "text/plain": [
       "<Figure size 432x288 with 1 Axes>"
      ]
     },
     "metadata": {
      "needs_background": "light"
     },
     "output_type": "display_data"
    }
   ],
   "source": [
    "if __name__==\"__main__\":\n",
    "    punktliste= [[2,12],[3,11],[3,8],[5,4],[7,5],[7,3],[10,8],[13,8]]\n",
    "    puAr=np.array(punktliste,dtype=int)\n",
    "    start= [[ 2 , 3], [ 8, 8], [ 9, 12]]\n",
    "    #puAr=csv2array(\"xclara.csv\")\n",
    "    #print(puAr)\n",
    "    k=k_Means(puAr,2)#listeClusterPunkte)\n",
    "    k.einteilen()\n",
    "    \n"
   ]
  },
  {
   "cell_type": "code",
   "execution_count": null,
   "metadata": {},
   "outputs": [],
   "source": []
  }
 ],
 "metadata": {
  "kernelspec": {
   "display_name": "Python 3.8.2 64-bit",
   "language": "python",
   "name": "python38264bit8c2c1c5e373245cab0df0d186c4bdbb5"
  },
  "language_info": {
   "codemirror_mode": {
    "name": "ipython",
    "version": 3
   },
   "file_extension": ".py",
   "mimetype": "text/x-python",
   "name": "python",
   "nbconvert_exporter": "python",
   "pygments_lexer": "ipython3",
   "version": "3.8.2"
  }
 },
 "nbformat": 4,
 "nbformat_minor": 4
}
