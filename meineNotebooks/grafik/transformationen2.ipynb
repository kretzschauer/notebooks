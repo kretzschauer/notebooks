{
 "cells": [
  {
   "cell_type": "code",
   "execution_count": 1,
   "metadata": {},
   "outputs": [
    {
     "data": {
      "text/plain": [
       "array([[20, 10],\n",
       "       [80, 10],\n",
       "       [70, 30]])"
      ]
     },
     "execution_count": 1,
     "metadata": {},
     "output_type": "execute_result"
    }
   ],
   "source": [
    "import numpy as np\n",
    "import matplotlib.pyplot as plt\n",
    "import matplotlib.cm as cm\n",
    "A=[20,10]\n",
    "B=[80,10]\n",
    "C=[70,30]\n",
    "dreieck=np.array([A,B,C])\n",
    "dreieck"
   ]
  },
  {
   "cell_type": "code",
   "execution_count": 2,
   "metadata": {},
   "outputs": [
    {
     "data": {
      "text/plain": [
       "array([[20, 80, 70],\n",
       "       [10, 10, 30]])"
      ]
     },
     "execution_count": 2,
     "metadata": {},
     "output_type": "execute_result"
    }
   ],
   "source": [
    "d=dreieck.transpose()\n",
    "d"
   ]
  },
  {
   "cell_type": "code",
   "execution_count": 3,
   "metadata": {},
   "outputs": [],
   "source": [
    "skal=np.array([[2,0],[0,3]])"
   ]
  },
  {
   "cell_type": "code",
   "execution_count": 4,
   "metadata": {},
   "outputs": [],
   "source": [
    "def linie(arr,x1,y1,x2,y2,f=0): #arr ist ein NumpyArray als Bild\n",
    "    dx =  abs(x2 - x1)\n",
    "    dy = -abs(y2 - y1)\n",
    "    if x1 < x2: sx =  1\n",
    "    else:       sx = -1\n",
    "    if y1 < y2: sy =  1\n",
    "    else:       sy = -1\n",
    "    err = dx + dy #Fehler bei Diagonalschritt\n",
    "    while True:\n",
    "        arr[y1,x1]=0 # hier \n",
    "        #print (x1,y1,err)\n",
    "        if x1==x2 and y1 ==y2:   break\n",
    "        e2 = 2 * err\n",
    "        if e2 >= dy: \n",
    "            err += dy \n",
    "            x1  += sx\n",
    "        if e2 <= dx:\n",
    "            err += dx\n",
    "            y1  += sy\n"
   ]
  },
  {
   "cell_type": "code",
   "execution_count": 5,
   "metadata": {},
   "outputs": [
    {
     "data": {
      "text/plain": [
       "(3, 2)"
      ]
     },
     "execution_count": 5,
     "metadata": {},
     "output_type": "execute_result"
    }
   ],
   "source": [
    "dreieck.shape\n"
   ]
  },
  {
   "cell_type": "code",
   "execution_count": 6,
   "metadata": {},
   "outputs": [],
   "source": [
    "def zeichneDreieck(arr,li): #li ist eine Liste aus 3 Paaren\n",
    "    li=li.transpose()\n",
    "    linie(arr,*li[0],*li[1])\n",
    "    linie(arr,*li[1],*li[2])\n",
    "    linie(arr,*li[2],*li[0])\n",
    "def zeichneRechteck(arr,li): #li ist eine Liste aus 3 Paaren\n",
    "    dx,dy= li[0][0]+li[2][0]-li[1][0],li[0][1]+li[2][1]-li[1][1]\n",
    "    linie(arr,*li[0],*li[1])\n",
    "    linie(arr,*li[1],*li[2])\n",
    "    linie(arr,dx,dy,*li[2])\n",
    "    linie(arr,dx,dy,*li[0])\n",
    "    \n",
    "def zeichnePolygon(arr,p,f=0):\n",
    "    #p Liste aus Punkten werden der Reihe nach verbunden\n",
    "    for i in range(len(p)-1):\n",
    "        linie(arr,p[i][0],p[i][1],p[i+1][0],p[i+1][1],f)\n",
    "    e=len(p)-1\n",
    "    linie(arr,p[0][0],p[0][1],p[e][0],p[e][1],f)\n",
    "           "
   ]
  },
  {
   "cell_type": "code",
   "execution_count": 7,
   "metadata": {},
   "outputs": [
    {
     "data": {
      "text/plain": [
       "<matplotlib.image.AxesImage at 0x2101d3da2e0>"
      ]
     },
     "execution_count": 7,
     "metadata": {},
     "output_type": "execute_result"
    },
    {
     "data": {
      "image/png": "[encoded data removed]",
      "text/plain": [
       "<Figure size 288x288 with 1 Axes>"
      ]
     },
     "metadata": {
      "needs_background": "light"
     },
     "output_type": "display_data"
    }
   ],
   "source": [
    "a=np.full((200,200),255,'int')\n",
    "#eine Zeichenfläche aus 20x20 weissen Pixeln\n",
    "zeichneDreieck(a,d)\n",
    "#zeichneRechteck(a,dreieck)\n",
    "plt.matshow(a,cmap=cm.gray, origin=\"lower\")\n"
   ]
  },
  {
   "cell_type": "code",
   "execution_count": 8,
   "metadata": {},
   "outputs": [],
   "source": [
    "def homogenisiere(figur):\n",
    "    #macht aus der Liste der Koordinaten eine homogene Matrix\n",
    "    m=np.full((3,figur.shape[0]),1,'int')\n",
    "    m[:2,:]=np.transpose(figur)#\n",
    "    return m\n",
    "    \n",
    "    \n",
    "def verschiebe(figur,dx,dy):\n",
    "    m=np.array([[1,0,dx],[0,1,dy],[0,0,1]])\n",
    "    neu=np.dot(m,figur)\n",
    "    return neu\n",
    "\n",
    "def drehe(figur,w):\n",
    "    w=np.radians(w)\n",
    "    m=np.array([[np.cos(w),-np.sin(w),0],[np.sin(w),np.cos(w),0]\\\n",
    "                ,[0,0,1]])\n",
    "    neu=np.dot(m,figur)\n",
    "    return neu\n",
    "    \n",
    "def dreheUm(figur,p,w):\n",
    "    px,py=p[0],p[1]\n",
    "    m= verschiebe(figur,-px,-py)\n",
    "    m=drehe(m,w)\n",
    "    return verschiebe(m,px,py)\n",
    "    \n",
    "def strecke(figur,sx,sy=None):\n",
    "    if not sy: sy=sx\n",
    "    \n",
    "    m=np.array([[sx,0,0],[0,sy,0],[0,0,1]])\n",
    "    print(m)\n",
    "    return np.dot(m,figur)\n",
    "\n",
    "def streckeAn(figur,p,sx,sy=None):\n",
    "    if not sy: sy=sx\n",
    "    px,py=p[0],p[1]\n",
    "    m= verschiebe(figur,-px,-py)\n",
    "    m=strecke(m,sx,sy)\n",
    "    return verschiebe(m,px,py)\n",
    "\n",
    "def zumZeichnen(figur):\n",
    "    #macht aus der homogenen Matrix wieder eine Int_liste\n",
    "    a=np.rint(figur).astype(int)#runden und umwandeln\n",
    "    return np.transpose(a[:2,:])\n",
    "    "
   ]
  },
  {
   "cell_type": "code",
   "execution_count": 10,
   "metadata": {},
   "outputs": [
    {
     "name": "stdout",
     "output_type": "stream",
     "text": [
      "[[1 2]\n",
      " [3 0]\n",
      " [2 2]]\n",
      "[[1 3 2]\n",
      " [2 0 2]\n",
      " [1 1 1]]\n"
     ]
    },
    {
     "data": {
      "text/plain": [
       "<matplotlib.image.AxesImage at 0x2101d476a00>"
      ]
     },
     "execution_count": 10,
     "metadata": {},
     "output_type": "execute_result"
    },
    {
     "data": {
      "image/png": "[encoded data removed]",
      "text/plain": [
       "<Figure size 288x288 with 1 Axes>"
      ]
     },
     "metadata": {
      "needs_background": "light"
     },
     "output_type": "display_data"
    }
   ],
   "source": [
    "punkte = np.array([[20, 30], [60, 0], [120, 80]],\"int\")\n",
    "p2=np.array([[20,10],[80,10],[80,30]])\n",
    "p2=np.array([[1,2],[3,0],[2,2]])\n",
    "print(p2)\n",
    "m=homogenisiere(p2)\n",
    "print(m)\n",
    "r1=zumZeichnen(m)\n",
    "\n",
    "zeichnePolygon(a,r1)\n",
    "plt.matshow(a,cmap=cm.gray, origin=\"lower\")"
   ]
  },
  {
   "cell_type": "code",
   "execution_count": null,
   "metadata": {},
   "outputs": [],
   "source": []
  }
 ],
 "metadata": {
  "kernelspec": {
   "display_name": "Python 3",
   "language": "python",
   "name": "python3"
  },
  "language_info": {
   "codemirror_mode": {
    "name": "ipython",
    "version": 3
   },
   "file_extension": ".py",
   "mimetype": "text/x-python",
   "name": "python",
   "nbconvert_exporter": "python",
   "pygments_lexer": "ipython3",
   "version": "3.8.2"
  }
 },
 "nbformat": 4,
 "nbformat_minor": 4
}
