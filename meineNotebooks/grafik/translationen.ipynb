{
 "cells": [
  {
   "cell_type": "code",
   "execution_count": 1,
   "metadata": {},
   "outputs": [],
   "source": [
    "%matplotlib inline"
   ]
  },
  {
   "cell_type": "code",
   "execution_count": 6,
   "metadata": {},
   "outputs": [],
   "source": [
    "import numpy as np\n",
    "import matplotlib.pyplot as plt\n",
    "import matplotlib.cm as cm"
   ]
  },
  {
   "cell_type": "code",
   "execution_count": 71,
   "metadata": {},
   "outputs": [
    {
     "data": {
      "text/plain": [
       "[[20, 10], [80, 10], [70, 30]]"
      ]
     },
     "execution_count": 71,
     "metadata": {},
     "output_type": "execute_result"
    }
   ],
   "source": [
    "A=[20,10]\n",
    "B=[80,10]\n",
    "C=[70,30]\n",
    "dreieck=[A,B,C]\n",
    "dreieck"
   ]
  },
  {
   "cell_type": "code",
   "execution_count": 80,
   "metadata": {},
   "outputs": [],
   "source": [
    "def linie(arr,y1,x1,y2,x2): #arr ist ein NumpyArray als Bild\n",
    "    dx =  abs(x2 - x1)\n",
    "    dy = -abs(y2 - y1)\n",
    "    if x1 < x2: sx =  1\n",
    "    else:       sx = -1\n",
    "    if y1 < y2: sy =  1\n",
    "    else:       sy = -1\n",
    "    err = dx + dy #Fehler bei Diagonalschritt\n",
    "    while True:\n",
    "        arr[x1,y1]=0 # hier \n",
    "        #print (x1,y1,err)\n",
    "        if x1==x2 and y1 ==y2:   break\n",
    "        e2 = 2 * err\n",
    "        if e2 >= dy: \n",
    "            err += dy \n",
    "            x1  += sx\n",
    "        if e2 <= dx:\n",
    "            err += dx\n",
    "            y1  += sy"
   ]
  },
  {
   "cell_type": "code",
   "execution_count": 81,
   "metadata": {},
   "outputs": [
    {
     "data": {
      "text/plain": [
       "<matplotlib.image.AxesImage at 0x1a487c03460>"
      ]
     },
     "execution_count": 81,
     "metadata": {},
     "output_type": "execute_result"
    },
    {
     "data": {
      "image/png": "[encoded data removed]",
      "text/plain": [
       "<Figure size 288x288 with 1 Axes>"
      ]
     },
     "metadata": {
      "needs_background": "light"
     },
     "output_type": "display_data"
    }
   ],
   "source": [
    "a=np.full((20,20),255,'int')\n",
    "#eine Zeichenfläche aus 20x20 weissen Pixeln\n",
    "linie(a,2,1,9,6)\n",
    "plt.matshow(a,cmap=cm.gray, origin=\"lower\")"
   ]
  },
  {
   "cell_type": "code",
   "execution_count": 82,
   "metadata": {},
   "outputs": [],
   "source": [
    "def zeichneDreieck(arr,li): #li ist eine Liste aus Paaren\n",
    "    linie(arr,*li[0],*li[1])\n",
    "    linie(arr,*li[1],*li[2])\n",
    "    linie(arr,*li[2],*li[0])\n"
   ]
  },
  {
   "cell_type": "code",
   "execution_count": 95,
   "metadata": {},
   "outputs": [
    {
     "data": {
      "text/plain": [
       "<matplotlib.image.AxesImage at 0x1a487dc77f0>"
      ]
     },
     "execution_count": 95,
     "metadata": {},
     "output_type": "execute_result"
    },
    {
     "data": {
      "image/png": "[encoded data removed]",
      "text/plain": [
       "<Figure size 288x288 with 1 Axes>"
      ]
     },
     "metadata": {
      "needs_background": "light"
     },
     "output_type": "display_data"
    }
   ],
   "source": [
    "a=np.full((200,200),255,'int')\n",
    "zeichneDreieck(a,dreieck)\n",
    "plt.matshow(a,cmap=cm.gray, origin=\"lower\")"
   ]
  },
  {
   "cell_type": "code",
   "execution_count": 96,
   "metadata": {},
   "outputs": [],
   "source": [
    "def verschiebe(figur, vektor):\n",
    "    #geliefert ist eine um vektor verschobene Figur\n",
    "    neu =[]\n",
    "    for p in figur:\n",
    "        n0=p[0]+vektor[0]\n",
    "        n1=p[1]+vektor[1]\n",
    "        neu.append([n0,n1])\n",
    "    return neu\n"
   ]
  },
  {
   "cell_type": "code",
   "execution_count": 97,
   "metadata": {},
   "outputs": [
    {
     "data": {
      "text/plain": [
       "<matplotlib.image.AxesImage at 0x1a487e10df0>"
      ]
     },
     "execution_count": 97,
     "metadata": {},
     "output_type": "execute_result"
    },
    {
     "data": {
      "image/png": "[encoded data removed]",
      "text/plain": [
       "<Figure size 288x288 with 1 Axes>"
      ]
     },
     "metadata": {
      "needs_background": "light"
     },
     "output_type": "display_data"
    }
   ],
   "source": [
    "d2=verschiebe(dreieck,[40,30])\n",
    "zeichneDreieck(a,d2)\n",
    "plt.matshow(a,cmap=cm.gray, origin=\"lower\")"
   ]
  },
  {
   "cell_type": "code",
   "execution_count": 100,
   "metadata": {},
   "outputs": [],
   "source": [
    "def drehe(figur,w):\n",
    "    neu=[]\n",
    "    for p in figur:\n",
    "        n0=int(p[0]*np.cos(w)-p[1]*np.sin(w))\n",
    "        n1=int(p[0]*np.sin(w)+p[1]*np.cos(w))\n",
    "        neu.append([n0,n1])\n",
    "    return neu"
   ]
  },
  {
   "cell_type": "code",
   "execution_count": 101,
   "metadata": {},
   "outputs": [
    {
     "data": {
      "text/plain": [
       "<matplotlib.image.AxesImage at 0x1a487e66430>"
      ]
     },
     "execution_count": 101,
     "metadata": {},
     "output_type": "execute_result"
    },
    {
     "data": {
      "image/png": "[encoded data removed]",
      "text/plain": [
       "<Figure size 288x288 with 1 Axes>"
      ]
     },
     "metadata": {
      "needs_background": "light"
     },
     "output_type": "display_data"
    }
   ],
   "source": [
    "d3=drehe(dreieck,np.pi/4)\n",
    "zeichneDreieck(a,d3)\n",
    "plt.matshow(a,cmap=cm.gray, origin=\"lower\")"
   ]
  },
  {
   "cell_type": "code",
   "execution_count": 103,
   "metadata": {},
   "outputs": [],
   "source": [
    "def skaliere(figur,sx,sy=None):\n",
    "    if sy==None:\n",
    "        sy=sx\n",
    "    neu=[]\n",
    "    for p in figur:\n",
    "        n0=int(p[0]*sx)\n",
    "        n1=int(p[1]*sy)\n",
    "        neu.append([n0,n1])\n",
    "    return neu\n",
    "    "
   ]
  },
  {
   "cell_type": "code",
   "execution_count": 109,
   "metadata": {},
   "outputs": [
    {
     "data": {
      "text/plain": [
       "<matplotlib.image.AxesImage at 0x1a488f8e940>"
      ]
     },
     "execution_count": 109,
     "metadata": {},
     "output_type": "execute_result"
    },
    {
     "data": {
      "image/png": "[encoded data removed]",
      "text/plain": [
       "<Figure size 288x288 with 1 Axes>"
      ]
     },
     "metadata": {
      "needs_background": "light"
     },
     "output_type": "display_data"
    }
   ],
   "source": [
    "a=np.full((200,200),255,'int')\n",
    "zeichneDreieck(a,dreieck)\n",
    "d4=skaliere(dreieck,2)\n",
    "zeichneDreieck(a,d4)\n",
    "plt.matshow(a,cmap=cm.gray, origin=\"lower\")"
   ]
  },
  {
   "cell_type": "code",
   "execution_count": 108,
   "metadata": {},
   "outputs": [
    {
     "data": {
      "text/plain": [
       "([[20, 10], [80, 10], [70, 30]], [[10, 20], [40, 20], [35, 60]])"
      ]
     },
     "execution_count": 108,
     "metadata": {},
     "output_type": "execute_result"
    }
   ],
   "source": [
    "dreieck,d4"
   ]
  },
  {
   "cell_type": "code",
   "execution_count": null,
   "metadata": {},
   "outputs": [],
   "source": []
  }
 ],
 "metadata": {
  "kernelspec": {
   "display_name": "Python 3",
   "language": "python",
   "name": "python3"
  },
  "language_info": {
   "codemirror_mode": {
    "name": "ipython",
    "version": 3
   },
   "file_extension": ".py",
   "mimetype": "text/x-python",
   "name": "python",
   "nbconvert_exporter": "python",
   "pygments_lexer": "ipython3",
   "version": "3.8.2"
  }
 },
 "nbformat": 4,
 "nbformat_minor": 4
}
