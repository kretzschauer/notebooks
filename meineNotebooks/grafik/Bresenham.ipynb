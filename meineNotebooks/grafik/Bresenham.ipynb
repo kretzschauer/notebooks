{
 "cells": [
  {
   "cell_type": "markdown",
   "metadata": {},
   "source": [
    "## Bresenham-Algorithmus zum Zeichnen einer Geraden ##\n",
    "Quelle: https://www.youtube.com/watch?v=s9NKF9EuQOY&list=PLb0zKSynM2PCmp5J5LWM3PcZXBaCoQkXj&index=33\n"
   ]
  },
  {
   "cell_type": "code",
   "execution_count": 1,
   "metadata": {},
   "outputs": [],
   "source": [
    "%matplotlib inline"
   ]
  },
  {
   "cell_type": "code",
   "execution_count": 3,
   "metadata": {},
   "outputs": [],
   "source": [
    "import numpy as np\n",
    "import matplotlib.pyplot as plt\n",
    "import matplotlib.cm as cm"
   ]
  },
  {
   "cell_type": "code",
   "execution_count": 18,
   "metadata": {},
   "outputs": [],
   "source": [
    "def line1 (arr, xStart,yStart,xZiel,yZiel):\n",
    "    d= (yZiel-yStart)/(xZiel-xStart)\n",
    "    for x in range(xStart, xZiel+1):\n",
    "        arr[round(d*(x-xStart)+yStart),x]=0"
   ]
  },
  {
   "cell_type": "code",
   "execution_count": 19,
   "metadata": {},
   "outputs": [
    {
     "data": {
      "text/plain": [
       "<matplotlib.image.AxesImage at 0x29cf1c16a90>"
      ]
     },
     "execution_count": 19,
     "metadata": {},
     "output_type": "execute_result"
    },
    {
     "data": {
      "image/png": "[encoded data removed]",
      "text/plain": [
       "<Figure size 288x288 with 1 Axes>"
      ]
     },
     "metadata": {
      "needs_background": "light"
     },
     "output_type": "display_data"
    }
   ],
   "source": [
    "a=np.full((11,11),255,'int')\n",
    "line1(a,2,1,9,6)\n",
    "plt.matshow(a,cmap=cm.gray, origin=\"lower\")"
   ]
  },
  {
   "cell_type": "code",
   "execution_count": 20,
   "metadata": {},
   "outputs": [
    {
     "data": {
      "text/plain": [
       "<matplotlib.image.AxesImage at 0x29cf1c66970>"
      ]
     },
     "execution_count": 20,
     "metadata": {},
     "output_type": "execute_result"
    },
    {
     "data": {
      "image/png": "[encoded data removed]",
      "text/plain": [
       "<Figure size 288x288 with 1 Axes>"
      ]
     },
     "metadata": {
      "needs_background": "light"
     },
     "output_type": "display_data"
    }
   ],
   "source": [
    "a=np.full((11,11),255,'int')\n",
    "line1(a,1,2,6,9)\n",
    "plt.matshow(a,cmap=cm.gray, origin=\"lower\")"
   ]
  },
  {
   "cell_type": "markdown",
   "metadata": {},
   "source": [
    "Man erkennt, dass es hier Probleme gibt, wenn man eine Gerade mit anderer Steigung zeichnet."
   ]
  },
  {
   "cell_type": "code",
   "execution_count": 21,
   "metadata": {},
   "outputs": [],
   "source": [
    "def linie(arr,x1,y1,x2,y2):\n",
    "    \"\"\"\n",
    "    Vor: keine\n",
    "    Erg: gezeichnet ist eine Linie nach Alois Zingl\n",
    "    \"\"\"\n",
    "    dx =  abs(x2 - x1)\n",
    "    dy = -abs(y2 - y1)\n",
    "    if x1 < x2: sx =  1\n",
    "    else:       sx = -1\n",
    "    if y1 < y2: sy =  1\n",
    "    else:       sy = -1\n",
    "    err = dx + dy #Fehler bei Diagonalschritt\n",
    "    while True:\n",
    "        arr[y1,x1]=0\n",
    "        #print (x1,y1,err)\n",
    "        if x1==x2 and y1 ==y2:\n",
    "            break\n",
    "        e2 = 2 * err\n",
    "        #Diagonalschritt, falls beide Bedingungen\n",
    "        #wahr, sonst nur eine Richtung\n",
    "        if e2 >= dy: #obligatorisch, falls x die schnelle Richtung\n",
    "            err += dy \n",
    "            x1  += sx\n",
    "        if e2 <= dx:\n",
    "            err += dx\n",
    "            y1  += sy\n",
    "            "
   ]
  },
  {
   "cell_type": "code",
   "execution_count": 22,
   "metadata": {},
   "outputs": [
    {
     "data": {
      "text/plain": [
       "<matplotlib.image.AxesImage at 0x29cf1cbd8e0>"
      ]
     },
     "execution_count": 22,
     "metadata": {},
     "output_type": "execute_result"
    },
    {
     "data": {
      "image/png": "[encoded data removed]",
      "text/plain": [
       "<Figure size 288x288 with 1 Axes>"
      ]
     },
     "metadata": {
      "needs_background": "light"
     },
     "output_type": "display_data"
    }
   ],
   "source": [
    "a=np.full((11,11),255,'int')\n",
    "linie(a,2,1,9,6)\n",
    "plt.matshow(a,cmap=cm.gray, origin=\"lower\")"
   ]
  },
  {
   "cell_type": "code",
   "execution_count": 23,
   "metadata": {},
   "outputs": [],
   "source": [
    "def ellipse(arr,xm,ym,a,b):\n",
    "    aq=a*a\n",
    "    bq=b*b #Konstanten sparen Rechenzeit\n",
    "    err= aq -bq*(2*a-1)#Initialisierung\n",
    "    #berechnet wird der zweite Quadrant\n",
    "    x=-a\n",
    "    y= 0\n",
    "    while x <= 0:\n",
    "        #print(x,y,err)\n",
    "        arr[ym+y,xm+x]=0 #1. Quadrant\n",
    "        arr[ym-y,xm+x]=0\n",
    "        arr[ym+y,xm-x]=0\n",
    "        arr[ym-y,xm-x]=0\n",
    "        e2=2*err\n",
    "        if e2 >= (2*x+1)* bq:\n",
    "            x+=1\n",
    "            err+= (2*x+1)* bq\n",
    "        if e2 <=  (1+2*y)* aq:\n",
    "            y+=1\n",
    "            err += (1+2*y)* aq"
   ]
  },
  {
   "cell_type": "code",
   "execution_count": 25,
   "metadata": {},
   "outputs": [
    {
     "data": {
      "text/plain": [
       "<matplotlib.image.AxesImage at 0x29cf1d60af0>"
      ]
     },
     "execution_count": 25,
     "metadata": {},
     "output_type": "execute_result"
    },
    {
     "data": {
      "image/png": "[encoded data removed]",
      "text/plain": [
       "<Figure size 288x288 with 1 Axes>"
      ]
     },
     "metadata": {
      "needs_background": "light"
     },
     "output_type": "display_data"
    }
   ],
   "source": [
    "b=np.full((50,50),255,'int')\n",
    "#linie(b,1,2,6,9)\n",
    "ellipse(b,25,25,12,7)\n",
    "plt.matshow(b,cmap=cm.gray, origin=\"lower\")\n",
    "\n",
    "\n"
   ]
  },
  {
   "cell_type": "code",
   "execution_count": null,
   "metadata": {},
   "outputs": [],
   "source": []
  },
  {
   "cell_type": "code",
   "execution_count": null,
   "metadata": {},
   "outputs": [],
   "source": []
  }
 ],
 "metadata": {
  "kernelspec": {
   "display_name": "Python 3",
   "language": "python",
   "name": "python3"
  },
  "language_info": {
   "codemirror_mode": {
    "name": "ipython",
    "version": 3
   },
   "file_extension": ".py",
   "mimetype": "text/x-python",
   "name": "python",
   "nbconvert_exporter": "python",
   "pygments_lexer": "ipython3",
   "version": "3.8.2"
  }
 },
 "nbformat": 4,
 "nbformat_minor": 4
}
