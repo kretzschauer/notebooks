{
 "cells": [
  {
   "cell_type": "code",
   "execution_count": 5,
   "metadata": {},
   "outputs": [],
   "source": [
    "import numpy as np\n",
    "import matplotlib.pyplot as plt\n",
    "import matplotlib.cm as cm\n",
    "A=[20,10]\n",
    "B=[80,10]\n",
    "C=[70,30]\n",
    "dreieck=[A,B,C]\n",
    "dreieck\n",
    "rechteck=[[20,30],[60,0],[120,80]]"
   ]
  },
  {
   "cell_type": "code",
   "execution_count": 6,
   "metadata": {},
   "outputs": [],
   "source": [
    "def linie(arr,x1,y1,x2,y2): #arr ist ein NumpyArray als Bild\n",
    "    dx =  abs(x2 - x1)\n",
    "    dy = -abs(y2 - y1)\n",
    "    if x1 < x2: sx =  1\n",
    "    else:       sx = -1\n",
    "    if y1 < y2: sy =  1\n",
    "    else:       sy = -1\n",
    "    err = dx + dy #Fehler bei Diagonalschritt\n",
    "    while True:\n",
    "        arr[y1,x1]=0 # hier \n",
    "        #print (x1,y1,err)\n",
    "        if x1==x2 and y1 ==y2:   break\n",
    "        e2 = 2 * err\n",
    "        if e2 >= dy: \n",
    "            err += dy \n",
    "            x1  += sx\n",
    "        if e2 <= dx:\n",
    "            err += dx\n",
    "            y1  += sy"
   ]
  },
  {
   "cell_type": "code",
   "execution_count": 7,
   "metadata": {},
   "outputs": [
    {
     "data": {
      "text/plain": [
       "<matplotlib.image.AxesImage at 0x1db6a842b50>"
      ]
     },
     "execution_count": 7,
     "metadata": {},
     "output_type": "execute_result"
    },
    {
     "data": {
      "image/png": "[encoded data removed]",
      "text/plain": [
       "<Figure size 288x288 with 1 Axes>"
      ]
     },
     "metadata": {
      "needs_background": "light"
     },
     "output_type": "display_data"
    }
   ],
   "source": [
    "a=np.full((20,20),255,'int')\n",
    "#eine Zeichenfläche aus 20x20 weissen Pixeln\n",
    "linie(a,12,3,2,16)\n",
    "plt.matshow(a,cmap=cm.gray, origin=\"lower\")"
   ]
  },
  {
   "cell_type": "code",
   "execution_count": 8,
   "metadata": {},
   "outputs": [],
   "source": [
    "def zeichneDreieck(arr,li): #li ist eine Liste aus 3 Paaren\n",
    "    linie(arr,*li[0],*li[1])\n",
    "    linie(arr,*li[1],*li[2])\n",
    "    linie(arr,*li[2],*li[0])\n",
    "def zeichneRechteck(arr,li): #li ist eine Liste aus 3 Paaren\n",
    "    dx,dy= li[0][0]+li[2][0]-li[1][0],li[0][1]+li[2][1]-li[1][1]\n",
    "    linie(arr,*li[0],*li[1])\n",
    "    linie(arr,*li[1],*li[2])\n",
    "    linie(arr,dx,dy,*li[2])\n",
    "    linie(arr,dx,dy,*li[0])\n",
    "    \n",
    "   \n",
    "    "
   ]
  },
  {
   "cell_type": "code",
   "execution_count": 9,
   "metadata": {},
   "outputs": [
    {
     "data": {
      "text/plain": [
       "<matplotlib.image.AxesImage at 0x1db6a8e0df0>"
      ]
     },
     "execution_count": 9,
     "metadata": {},
     "output_type": "execute_result"
    },
    {
     "data": {
      "image/png": "[encoded data removed]",
      "text/plain": [
       "<Figure size 288x288 with 1 Axes>"
      ]
     },
     "metadata": {
      "needs_background": "light"
     },
     "output_type": "display_data"
    }
   ],
   "source": [
    "a=np.full((200,200),255,'int')\n",
    "#eine Zeichenfläche aus 20x20 weissen Pixeln\n",
    "zeichneDreieck(a,dreieck)\n",
    "zeichneRechteck(a,rechteck)\n",
    "plt.matshow(a,cmap=cm.gray, origin=\"lower\")\n"
   ]
  },
  {
   "cell_type": "code",
   "execution_count": 10,
   "metadata": {},
   "outputs": [],
   "source": [
    "def verschiebe(figur, vektor):\n",
    "    neu=[]\n",
    "    for p in figur:\n",
    "        nx=p[0]+vektor[0]\n",
    "        ny=p[1]+vektor[1]\n",
    "        neu.append([nx,ny])\n",
    "    return neu"
   ]
  },
  {
   "cell_type": "code",
   "execution_count": 11,
   "metadata": {},
   "outputs": [
    {
     "data": {
      "text/plain": [
       "<matplotlib.image.AxesImage at 0x1db75a869d0>"
      ]
     },
     "execution_count": 11,
     "metadata": {},
     "output_type": "execute_result"
    },
    {
     "data": {
      "image/png": "[encoded data removed]",
      "text/plain": [
       "<Figure size 288x288 with 1 Axes>"
      ]
     },
     "metadata": {
      "needs_background": "light"
     },
     "output_type": "display_data"
    }
   ],
   "source": [
    "d2=verschiebe(dreieck,[40,30])\n",
    "zeichneDreieck(a,d2)\n",
    "plt.matshow(a,cmap=cm.gray, origin=\"lower\")"
   ]
  },
  {
   "cell_type": "code",
   "execution_count": 16,
   "metadata": {},
   "outputs": [],
   "source": [
    "def drehe(figur,w):\n",
    "    neu=[]\n",
    "    for p in figur:\n",
    "        nx = int(p[0]*np.cos(w)-p[1]*np.sin(w))\n",
    "        ny = int(p[0]*np.sin(w)+p[1]*np.cos(w))\n",
    "        neu.append([nx,ny])\n",
    "    return neu\n",
    "def drehePunktWinkel(li,p,w):\n",
    "    p1=-1*np.array(p)\n",
    "    neu=verschiebe(li,p1)\n",
    "    print(neu)\n",
    "    w=np.radiant(w)\n",
    "    print(w)\n",
    "    "
   ]
  },
  {
   "cell_type": "code",
   "execution_count": 17,
   "metadata": {},
   "outputs": [
    {
     "data": {
      "text/plain": [
       "<matplotlib.image.AxesImage at 0x1db75b41dc0>"
      ]
     },
     "execution_count": 17,
     "metadata": {},
     "output_type": "execute_result"
    },
    {
     "data": {
      "image/png": "[encoded data removed]",
      "text/plain": [
       "<Figure size 288x288 with 1 Axes>"
      ]
     },
     "metadata": {
      "needs_background": "light"
     },
     "output_type": "display_data"
    }
   ],
   "source": [
    "d3=drehe(dreieck,np.pi/4)\n",
    "zeichneDreieck(a,d3)\n",
    "plt.matshow(a,cmap=cm.gray, origin=\"lower\")"
   ]
  },
  {
   "cell_type": "code",
   "execution_count": 18,
   "metadata": {},
   "outputs": [
    {
     "name": "stdout",
     "output_type": "stream",
     "text": [
      "[[-10, -30], [50, -30], [40, -10]]\n"
     ]
    },
    {
     "ename": "AttributeError",
     "evalue": "module 'numpy' has no attribute 'radiant'",
     "output_type": "error",
     "traceback": [
      "\u001b[1;31m---------------------------------------------------------------------------\u001b[0m",
      "\u001b[1;31mAttributeError\u001b[0m                            Traceback (most recent call last)",
      "\u001b[1;32m<ipython-input-18-337165930f23>\u001b[0m in \u001b[0;36m<module>\u001b[1;34m\u001b[0m\n\u001b[1;32m----> 1\u001b[1;33m \u001b[0mdrehePunktWinkel\u001b[0m\u001b[1;33m(\u001b[0m\u001b[0mdreieck\u001b[0m\u001b[1;33m,\u001b[0m\u001b[1;33m[\u001b[0m\u001b[1;36m30\u001b[0m\u001b[1;33m,\u001b[0m\u001b[1;36m40\u001b[0m\u001b[1;33m]\u001b[0m\u001b[1;33m,\u001b[0m\u001b[1;36m30\u001b[0m\u001b[1;33m)\u001b[0m\u001b[1;33m\u001b[0m\u001b[1;33m\u001b[0m\u001b[0m\n\u001b[0m",
      "\u001b[1;32m<ipython-input-16-f464c8d3e5ad>\u001b[0m in \u001b[0;36mdrehePunktWinkel\u001b[1;34m(li, p, w)\u001b[0m\n\u001b[0;32m     10\u001b[0m     \u001b[0mneu\u001b[0m\u001b[1;33m=\u001b[0m\u001b[0mverschiebe\u001b[0m\u001b[1;33m(\u001b[0m\u001b[0mli\u001b[0m\u001b[1;33m,\u001b[0m\u001b[0mp1\u001b[0m\u001b[1;33m)\u001b[0m\u001b[1;33m\u001b[0m\u001b[1;33m\u001b[0m\u001b[0m\n\u001b[0;32m     11\u001b[0m     \u001b[0mprint\u001b[0m\u001b[1;33m(\u001b[0m\u001b[0mneu\u001b[0m\u001b[1;33m)\u001b[0m\u001b[1;33m\u001b[0m\u001b[1;33m\u001b[0m\u001b[0m\n\u001b[1;32m---> 12\u001b[1;33m     \u001b[0mw\u001b[0m\u001b[1;33m=\u001b[0m\u001b[0mnp\u001b[0m\u001b[1;33m.\u001b[0m\u001b[0mradiant\u001b[0m\u001b[1;33m(\u001b[0m\u001b[0mw\u001b[0m\u001b[1;33m)\u001b[0m\u001b[1;33m\u001b[0m\u001b[1;33m\u001b[0m\u001b[0m\n\u001b[0m\u001b[0;32m     13\u001b[0m     \u001b[0mprint\u001b[0m\u001b[1;33m(\u001b[0m\u001b[0mw\u001b[0m\u001b[1;33m)\u001b[0m\u001b[1;33m\u001b[0m\u001b[1;33m\u001b[0m\u001b[0m\n\u001b[0;32m     14\u001b[0m \u001b[1;33m\u001b[0m\u001b[0m\n",
      "\u001b[1;32mc:\\program files\\python38\\lib\\site-packages\\numpy\\__init__.py\u001b[0m in \u001b[0;36m__getattr__\u001b[1;34m(attr)\u001b[0m\n\u001b[0;32m    217\u001b[0m                 \u001b[1;32mreturn\u001b[0m \u001b[0mTester\u001b[0m\u001b[1;33m\u001b[0m\u001b[1;33m\u001b[0m\u001b[0m\n\u001b[0;32m    218\u001b[0m             \u001b[1;32melse\u001b[0m\u001b[1;33m:\u001b[0m\u001b[1;33m\u001b[0m\u001b[1;33m\u001b[0m\u001b[0m\n\u001b[1;32m--> 219\u001b[1;33m                 raise AttributeError(\"module {!r} has no attribute \"\n\u001b[0m\u001b[0;32m    220\u001b[0m                                      \"{!r}\".format(__name__, attr))\n\u001b[0;32m    221\u001b[0m \u001b[1;33m\u001b[0m\u001b[0m\n",
      "\u001b[1;31mAttributeError\u001b[0m: module 'numpy' has no attribute 'radiant'"
     ]
    }
   ],
   "source": [
    "drehePunktWinkel(dreieck,[30,40],30)"
   ]
  },
  {
   "cell_type": "code",
   "execution_count": 18,
   "metadata": {},
   "outputs": [],
   "source": [
    "def skaliere(figur,sx,sy=None):\n",
    "    if sy==None:\n",
    "        sy=sx\n",
    "    neu=[]\n",
    "    for p in figur:\n",
    "        nx=int(p[0]*sx)\n",
    "        ny=int(p[1]*sy)\n",
    "        neu.append([nx,ny])\n",
    "    return neu\n",
    "    "
   ]
  },
  {
   "cell_type": "code",
   "execution_count": 19,
   "metadata": {},
   "outputs": [
    {
     "data": {
      "text/plain": [
       "<matplotlib.image.AxesImage at 0x1de85f60e20>"
      ]
     },
     "execution_count": 19,
     "metadata": {},
     "output_type": "execute_result"
    },
    {
     "data": {
      "image/png": "[encoded data removed]",
      "text/plain": [
       "<Figure size 288x288 with 1 Axes>"
      ]
     },
     "metadata": {
      "needs_background": "light"
     },
     "output_type": "display_data"
    }
   ],
   "source": [
    "d4=skaliere(dreieck,0.5,4)\n",
    "zeichneDreieck(a,d4)\n",
    "plt.matshow(a,cmap=cm.gray, origin=\"lower\")"
   ]
  },
  {
   "cell_type": "code",
   "execution_count": null,
   "metadata": {},
   "outputs": [],
   "source": []
  }
 ],
 "metadata": {
  "kernelspec": {
   "display_name": "Python 3",
   "language": "python",
   "name": "python3"
  },
  "language_info": {
   "codemirror_mode": {
    "name": "ipython",
    "version": 3
   },
   "file_extension": ".py",
   "mimetype": "text/x-python",
   "name": "python",
   "nbconvert_exporter": "python",
   "pygments_lexer": "ipython3",
   "version": "3.8.2"
  }
 },
 "nbformat": 4,
 "nbformat_minor": 4
}
