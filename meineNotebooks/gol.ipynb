{
 "cells": [
  {
   "cell_type": "code",
   "execution_count": 3,
   "metadata": {},
   "outputs": [
    {
     "data": {
      "image/png": "[encoded data removed]",
      "text/plain": [
       "<Figure size 432x288 with 1 Axes>"
      ]
     },
     "metadata": {
      "needs_background": "light"
     },
     "output_type": "display_data"
    }
   ],
   "source": [
    "import numpy as np\n",
    "import matplotlib.pyplot as plt\n",
    "from matplotlib.animation import FuncAnimation\n",
    "\n",
    "N = 100\n",
    "ON  = 1\n",
    "OFF = 0\n",
    "vals = [ON, OFF]\n",
    "\n",
    "def randomGrid(N):\n",
    "    return np.random.choice(vals, N*N, p = [0.2, 0.8]).reshape(N, N)\n",
    "\n",
    "def addGlider(i, j, grid):\n",
    "    glider = np.array([[0, 0, 1],\n",
    "                       [1, 0, 1],\n",
    "                       [0, 1, 1]])\n",
    "    grid[i:i + 3, j:j + 3] = glider\n",
    "\n",
    "def update(frameNum, img, grid, N):\n",
    "    newGrid = grid.copy()\n",
    "    for i in range(N):\n",
    "        for j in range(N):\n",
    "            total = (grid[i, (j - 1)%N] + grid[i, (j + 1)%N] +\n",
    "                     grid[(i - 1)%N, j] + grid[(i + 1)%N, j] +\n",
    "                     grid[(i - 1)%N, (j - 1)%N] + grid[(i - 1)%N, (j + 1)%N] +\n",
    "                     grid[(i + 1)%N, (j - 1)%N] + grid[(i + 1)%N, (j + 1)%N])\n",
    "            if grid[i, j] == ON:\n",
    "                if (total < 2) or (total > 3):\n",
    "                    newGrid[i, j] = OFF\n",
    "            else:\n",
    "                if total == 3:\n",
    "                    newGrid[i, j] = ON\n",
    "    img.set_data(newGrid)\n",
    "    grid[:] = newGrid[:]\n",
    "    return img, \n",
    "\n",
    "glider = False\n",
    "updateInterval = 50\n",
    "colormap = \"viridis\"\n",
    "\n",
    "grid = np.array([])\n",
    "if glider:\n",
    "    grid = np.zeros(N*N).reshape(N, N)\n",
    "    addGlider(1, 1, grid)\n",
    "else:\n",
    "    grid = randomGrid(N)\n",
    "\n",
    "fig, ax = plt.subplots()\n",
    "img = ax.imshow(grid, interpolation = \"nearest\", cmap = colormap)\n",
    "ani = FuncAnimation(fig, update, fargs = (img, grid, N, ),\n",
    "                    frames = 10, interval = updateInterval,\n",
    "                    save_count = 50)\n",
    "\n",
    "plt.show()"
   ]
  },
  {
   "cell_type": "code",
   "execution_count": null,
   "metadata": {},
   "outputs": [],
   "source": []
  },
  {
   "cell_type": "code",
   "execution_count": null,
   "metadata": {},
   "outputs": [],
   "source": []
  },
  {
   "cell_type": "code",
   "execution_count": null,
   "metadata": {},
   "outputs": [],
   "source": []
  },
  {
   "cell_type": "code",
   "execution_count": null,
   "metadata": {},
   "outputs": [],
   "source": []
  }
 ],
 "metadata": {
  "kernelspec": {
   "display_name": "Python 3",
   "language": "python",
   "name": "python3"
  },
  "language_info": {
   "codemirror_mode": {
    "name": "ipython",
    "version": 3
   },
   "file_extension": ".py",
   "mimetype": "text/x-python",
   "name": "python",
   "nbconvert_exporter": "python",
   "pygments_lexer": "ipython3",
   "version": "3.8.2"
  }
 },
 "nbformat": 4,
 "nbformat_minor": 4
}
