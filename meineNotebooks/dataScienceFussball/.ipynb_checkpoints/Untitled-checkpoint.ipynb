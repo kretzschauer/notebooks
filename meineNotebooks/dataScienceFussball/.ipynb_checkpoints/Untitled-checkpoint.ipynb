{
 "cells": [
  {
   "cell_type": "markdown",
   "id": "9b274dbc",
   "metadata": {},
   "source": [
    "##  Quellen\n",
    "\n",
    "https://www.football-data.co.uk/\n"
   ]
  },
  {
   "cell_type": "code",
   "execution_count": null,
   "id": "4c7fa46a",
   "metadata": {},
   "outputs": [],
   "source": []
  }
 ],
 "metadata": {
  "kernelspec": {
   "display_name": "Python 3",
   "language": "python",
   "name": "python3"
  },
  "language_info": {
   "codemirror_mode": {
    "name": "ipython",
    "version": 3
   },
   "file_extension": ".py",
   "mimetype": "text/x-python",
   "name": "python",
   "nbconvert_exporter": "python",
   "pygments_lexer": "ipython3",
   "version": "3.9.5"
  }
 },
 "nbformat": 4,
 "nbformat_minor": 5
}
