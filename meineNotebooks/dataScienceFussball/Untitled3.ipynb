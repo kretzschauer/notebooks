{
 "cells": [
  {
   "cell_type": "markdown",
   "id": "ad99fa33",
   "metadata": {},
   "source": [
    "## Übung zu Notebooks\n",
    "Erstelle ein Notebook mit dem Bild eines allgemeinen Dreiecks (richtig beschriftet) aus Geogebra und schreibe dann die folgenden Sätze in anständiger Formatierung dazu: Pythagoras, Höhensatz, Sinussatz und Cosinussatz."
   ]
  },
  {
   "cell_type": "code",
   "execution_count": null,
   "id": "01be6b40",
   "metadata": {},
   "outputs": [],
   "source": []
  }
 ],
 "metadata": {
  "kernelspec": {
   "display_name": "Python 3",
   "language": "python",
   "name": "python3"
  },
  "language_info": {
   "codemirror_mode": {
    "name": "ipython",
    "version": 3
   },
   "file_extension": ".py",
   "mimetype": "text/x-python",
   "name": "python",
   "nbconvert_exporter": "python",
   "pygments_lexer": "ipython3",
   "version": "3.9.5"
  }
 },
 "nbformat": 4,
 "nbformat_minor": 5
}
