{
 "cells": [
  {
   "cell_type": "code",
   "execution_count": 1,
   "id": "2c63f213",
   "metadata": {},
   "outputs": [],
   "source": [
    "import pandas as pd\n",
    "from bs4 import BeautifulSoup\n",
    "import requests"
   ]
  },
  {
   "cell_type": "markdown",
   "id": "c31f05e1",
   "metadata": {},
   "source": [
    "## Quellen\n",
    "https://frank-andrade.medium.com/list/web-scraping-with-python-d19defa033fd\n",
    "\n",
    "https://towardsdatascience.com/predicting-the-fifa-world-cup-2022-with-a-simple-model-using-python-6b34bdd4f2a5\n",
    "\n",
    "https://medium.com/geekculture/web-scraping-football-matches-from-the-world-cups-1930-to-2022-with-python-d2a1d578f034\n",
    "\n",
    "https://www.youtube.com/watch?v=anEoBZkZRHA eine Stunde Video\n",
    "\n",
    "https://github.com/ifrankandrade/fifa-world-cup-2022-prediction die Daten und Programme\n",
    "\n",
    "Die hier gespeicherten Daten sind noch unvollständig und müssen bereinigt werden."
   ]
  },
  {
   "cell_type": "code",
   "execution_count": 11,
   "id": "e9cc90ca",
   "metadata": {},
   "outputs": [
    {
     "name": "stdout",
     "output_type": "stream",
     "text": [
      "Brazil   Croatia 3–1\n",
      "Mexico   Cameroon 1–0\n",
      "Brazil   Mexico 0–0\n",
      "Cameroon   Croatia 0–4\n",
      "Cameroon   Brazil 1–4\n",
      "Croatia   Mexico 1–3\n",
      "Spain   Netherlands 1–5\n",
      "Chile   Australia 3–1\n",
      "Australia   Netherlands 2–3\n",
      "Spain   Chile 0–2\n",
      "Australia   Spain 0–3\n",
      "Netherlands   Chile 2–0\n",
      "Colombia   Greece 3–0\n",
      "Ivory Coast   Japan 2–1\n",
      "Colombia   Ivory Coast 2–1\n",
      "Japan   Greece 0–0\n",
      "Japan   Colombia 1–4\n",
      "Greece   Ivory Coast 2–1\n",
      "Uruguay   Costa Rica 1–3\n",
      "England   Italy 1–2\n",
      "Uruguay   England 2–1\n",
      "Italy   Costa Rica 0–1\n",
      "Italy   Uruguay 0–1\n",
      "Costa Rica   England 0–0\n",
      "Switzerland   Ecuador 2–1\n",
      "France   Honduras 3–0\n",
      "Switzerland   France 2–5\n",
      "Honduras   Ecuador 1–2\n",
      "Honduras   Switzerland 0–3\n",
      "Ecuador   France 0–0\n",
      "Argentina   Bosnia and Herzegovina 2–1\n",
      "Iran   Nigeria 0–0\n",
      "Argentina   Iran 1–0\n",
      "Nigeria   Bosnia and Herzegovina 1–0\n",
      "Nigeria   Argentina 2–3\n",
      "Bosnia and Herzegovina   Iran 3–1\n",
      "Germany   Portugal 4–0\n",
      "Ghana   United States 1–2\n",
      "Germany   Ghana 2–2\n",
      "United States   Portugal 2–2\n",
      "United States   Germany 0–1\n",
      "Portugal   Ghana 2–1\n",
      "Belgium   Algeria 2–1\n",
      "Russia   South Korea 1–1\n",
      "Belgium   Russia 1–0\n",
      "South Korea   Algeria 2–4\n",
      "South Korea   Belgium 0–1\n",
      "Algeria   Russia 1–1\n",
      "Brazil   Chile 1–1 (a.e.t.)\n",
      "Colombia   Uruguay 2–0\n",
      "Netherlands   Mexico 2–1\n",
      "Costa Rica   Greece 1–1 (a.e.t.)\n",
      "France   Nigeria 2–0\n",
      "Germany   Algeria 2–1 (a.e.t.)\n",
      "Argentina   Switzerland 1–0 (a.e.t.)\n",
      "Belgium   United States 2–1 (a.e.t.)\n",
      "France   Germany 0–1\n",
      "Brazil   Colombia 2–1\n",
      "Argentina   Belgium 1–0\n",
      "Netherlands   Costa Rica 0–0 (a.e.t.)\n",
      "Brazil   Germany 1–7\n",
      "Netherlands   Argentina 0–0 (a.e.t.)\n",
      "Brazil   Netherlands 0–3\n",
      "Germany   Argentina 1–0 (a.e.t.)\n"
     ]
    }
   ],
   "source": [
    "web = 'https://en.wikipedia.org/wiki/2014_FIFA_World_Cup'\n",
    "response = requests.get(web)\n",
    "content = response.text\n",
    "soup = BeautifulSoup(content, 'lxml')\n",
    "matches = soup.find_all('div', class_='footballbox')\n",
    "home = []\n",
    "score = []\n",
    "away = []\n",
    "\n",
    "for match in matches:\n",
    "    home.append(match.find('th', class_='fhome').get_text())\n",
    "    score.append(match.find('th', class_='fscore').get_text())\n",
    "    away.append(match.find('th', class_='faway').get_text())\n",
    "#for i in range(4):    print(home[i],away[i],score[i])\n",
    "#als Beispiel"
   ]
  },
  {
   "cell_type": "code",
   "execution_count": 13,
   "id": "fc4811ec",
   "metadata": {},
   "outputs": [],
   "source": [
    "def get_matches(year):\n",
    "    web = f'https://en.wikipedia.org/wiki/{year}_FIFA_World_Cup'\n",
    "    response = requests.get(web)\n",
    "    content = response.text\n",
    "    soup = BeautifulSoup(content, 'lxml')\n",
    "    matches = soup.find_all('div', class_='footballbox')\n",
    "\n",
    "    home = []\n",
    "    score = []\n",
    "    away = []\n",
    "\n",
    "    for match in matches:\n",
    "        home.append(match.find('th', class_='fhome').get_text())\n",
    "        score.append(match.find('th', class_='fscore').get_text())\n",
    "        away.append(match.find('th', class_='faway').get_text())\n",
    "\n",
    "    dict_football = {'home': home, 'score': score, 'away': away}\n",
    "    df_football = pd.DataFrame(dict_football)\n",
    "    df_football['year'] = year\n",
    "    return df_football\n",
    "years = [1930, 1934, 1938, 1950, 1954, 1958, 1962, 1966, 1970, 1974,\n",
    "         1978, 1982, 1986, 1990, 1994, 1998, 2002, 2006, 2010, 2014,\n",
    "         2018]\n",
    "\n",
    "# results: historical data\n",
    "fifa = [get_matches(year) for year in years]\n",
    "df_fifa = pd.concat(fifa, ignore_index=True)\n",
    "df_fifa.to_csv(\"fifa_worldcup_historical_data.csv\", index=False)"
   ]
  },
  {
   "cell_type": "code",
   "execution_count": 14,
   "id": "63dd4cdc",
   "metadata": {},
   "outputs": [],
   "source": [
    "df_fixture = get_matches(2022)\n",
    "df_fixture.to_csv('fifa_worldcup_fixture.csv', index=False)"
   ]
  },
  {
   "cell_type": "code",
   "execution_count": null,
   "id": "339f8969",
   "metadata": {},
   "outputs": [],
   "source": []
  }
 ],
 "metadata": {
  "kernelspec": {
   "display_name": "Python 3",
   "language": "python",
   "name": "python3"
  },
  "language_info": {
   "codemirror_mode": {
    "name": "ipython",
    "version": 3
   },
   "file_extension": ".py",
   "mimetype": "text/x-python",
   "name": "python",
   "nbconvert_exporter": "python",
   "pygments_lexer": "ipython3",
   "version": "3.9.5"
  }
 },
 "nbformat": 4,
 "nbformat_minor": 5
}
